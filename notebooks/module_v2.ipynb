{
 "cells": [
  {
   "cell_type": "code",
   "execution_count": 1,
   "metadata": {},
   "outputs": [],
   "source": [
    "import os\n",
    "\n",
    "import functools\n",
    "import jax.numpy as jnp\n",
    "\n",
    "os.environ[\"CUDA_VISIBLE_DEVICES\"] = \"7\"\n",
    "\n",
    "import haiku as hk\n",
    "import jax\n",
    "import numpy as np\n",
    "\n",
    "from deeprte.data.pipeline import DataPipeline\n",
    "from deeprte.model.tf.rte_dataset import np_to_tensor_dict, divide_batch_feat\n",
    "from deeprte.model.tf.rte_features import _BATCH_FEATURE_NAMES, _COLLOCATION_FEATURE_NAMES\n",
    "from deeprte.config import get_config"
   ]
  },
  {
   "cell_type": "code",
   "execution_count": 2,
   "metadata": {},
   "outputs": [
    {
     "data": {
      "text/plain": [
       "{'boundary': (8, 1968),\n",
       " 'boundary_coords': (1968, 4),\n",
       " 'boundary_weights': (1968,),\n",
       " 'phase_coords': (40344, 4),\n",
       " 'position_coords': (1681, 2),\n",
       " 'psi_label': (8, 40344),\n",
       " 'scattering_kernel': (8, 40344, 24),\n",
       " 'self_scattering_kernel': (8, 24, 24),\n",
       " 'sigma': (8, 1681, 2),\n",
       " 'velocity_coords': (24, 2),\n",
       " 'velocity_weights': (24,)}"
      ]
     },
     "execution_count": 2,
     "metadata": {},
     "output_type": "execute_result"
    }
   ],
   "source": [
    "data_path = \"/workspaces/deeprte/rte_data/rte_data/matlab/eval-data/test_shape.mat\"\n",
    "\n",
    "data_pipeline = DataPipeline(data_path)\n",
    "raw_features = data_pipeline.process(\n",
    "    pre_shuffle=True, is_split_test_samples=True, num_test_samples=2\n",
    ")\n",
    "\n",
    "tensor_dict = np_to_tensor_dict(raw_features)\n",
    "features = jax.tree_map(lambda x: np.asarray(x), tensor_dict)\n",
    "\n",
    "jax.tree_map(lambda x: x.shape, features)"
   ]
  },
  {
   "cell_type": "code",
   "execution_count": 3,
   "metadata": {},
   "outputs": [],
   "source": [
    "batched_feat, unbatched_feat = divide_batch_feat(tensor_dict)\n",
    "batched_feat = jax.tree_util.tree_map(lambda x: x[0], batched_feat)\n",
    "tf_dict = {**batched_feat, **unbatched_feat}"
   ]
  },
  {
   "cell_type": "code",
   "execution_count": 4,
   "metadata": {},
   "outputs": [],
   "source": [
    "def sample_colloctaion_points(indices: int, feat: dict):\n",
    "    ret = {}\n",
    "    for k in feat:\n",
    "        if k in _COLLOCATION_FEATURE_NAMES:\n",
    "            ret[k] = feat[k][indices]\n",
    "        else:\n",
    "            ret[k] = feat[k]\n",
    "            \n",
    "    return ret"
   ]
  },
  {
   "cell_type": "code",
   "execution_count": 5,
   "metadata": {},
   "outputs": [
    {
     "data": {
      "text/plain": [
       "{'boundary': (1968,),\n",
       " 'boundary_coords': (1968, 4),\n",
       " 'boundary_weights': (1968,),\n",
       " 'phase_coords': (4,),\n",
       " 'position_coords': (1681, 2),\n",
       " 'psi_label': (),\n",
       " 'scattering_kernel': (24,),\n",
       " 'self_scattering_kernel': (24, 24),\n",
       " 'sigma': (1681, 2),\n",
       " 'velocity_coords': (24, 2),\n",
       " 'velocity_weights': (24,)}"
      ]
     },
     "execution_count": 5,
     "metadata": {},
     "output_type": "execute_result"
    }
   ],
   "source": [
    "jnp_dict = sample_colloctaion_points(0,tf_dict)\n",
    "jnp_dict = jax.tree_map(lambda x: jnp.array(x), jnp_dict)\n",
    "jax.tree_map(lambda x: x.shape, jnp_dict)"
   ]
  },
  {
   "cell_type": "code",
   "execution_count": 6,
   "metadata": {},
   "outputs": [],
   "source": [
    "config = get_config()\n",
    "config = config.experiment_kwargs.config\n",
    "config.model.model_structure.green_function.scattering_module.res_block_depth = 2"
   ]
  },
  {
   "cell_type": "code",
   "execution_count": 7,
   "metadata": {},
   "outputs": [],
   "source": [
    "rng = hk.PRNGSequence(jax.random.PRNGKey(42))"
   ]
  },
  {
   "cell_type": "code",
   "execution_count": 8,
   "metadata": {},
   "outputs": [],
   "source": [
    "from deeprte.model.modules_v2 import AttenuationModule\n",
    "from deeprte.model.geometry.characteristics import Characteristics"
   ]
  },
  {
   "cell_type": "code",
   "execution_count": 9,
   "metadata": {},
   "outputs": [],
   "source": [
    "def forward_atte(*arg):\n",
    "    out = AttenuationModule(config.model.green_function.scattering_module.attenuation_module)(*arg)\n",
    "    return out\n",
    "\n",
    "forward_fn = hk.transform(forward_atte)"
   ]
  },
  {
   "cell_type": "code",
   "execution_count": 10,
   "metadata": {},
   "outputs": [],
   "source": [
    "_dummy_inputs = jnp_dict.copy()\n",
    "# _dummy_inputs[\"boundary_coords\"] = _dummy_inputs[\"boundary_coords\"][0]\n",
    "charc = Characteristics.from_tensor(_dummy_inputs[\"position_coords\"])\n",
    "dummy_inputs = (_dummy_inputs[\"phase_coords\"], _dummy_inputs[\"boundary_coords\"][0], _dummy_inputs[\"sigma\"], charc)"
   ]
  },
  {
   "cell_type": "code",
   "execution_count": 11,
   "metadata": {},
   "outputs": [],
   "source": [
    "from deeprte.model.modules_v2 import ScatteringLayer"
   ]
  },
  {
   "cell_type": "code",
   "execution_count": 12,
   "metadata": {},
   "outputs": [],
   "source": [
    "A = jax.random.uniform(next(rng),[24,64])\n",
    "B = jax.random.uniform(next(rng),[24,])\n",
    "C = jax.random.uniform(next(rng),[24,64])"
   ]
  },
  {
   "cell_type": "code",
   "execution_count": 13,
   "metadata": {},
   "outputs": [],
   "source": [
    "def forward(*arg):\n",
    "    out = ScatteringLayer(config.model.model_structure.green_function.scattering_module, config.model.global_config)(*arg)\n",
    "    return out\n",
    "\n",
    "forward_fn = hk.transform(forward)"
   ]
  },
  {
   "cell_type": "code",
   "execution_count": 14,
   "metadata": {},
   "outputs": [],
   "source": [
    "dummy_inputs = (A,B)"
   ]
  },
  {
   "cell_type": "code",
   "execution_count": 15,
   "metadata": {},
   "outputs": [
    {
     "data": {
      "text/plain": [
       "{'scattering_layer': {'scattering_bias': (64,),\n",
       "  'scattering_weights': (64, 64)}}"
      ]
     },
     "execution_count": 15,
     "metadata": {},
     "output_type": "execute_result"
    }
   ],
   "source": [
    "init_net = jax.jit(forward_fn.init)\n",
    "params = init_net(next(rng), *dummy_inputs)\n",
    "apply = jax.jit(forward_fn.apply)\n",
    "jax.tree_map(lambda x: x.shape, params)"
   ]
  },
  {
   "cell_type": "code",
   "execution_count": 16,
   "metadata": {},
   "outputs": [
    {
     "data": {
      "text/plain": [
       "(64,)"
      ]
     },
     "execution_count": 16,
     "metadata": {},
     "output_type": "execute_result"
    }
   ],
   "source": [
    "logits = apply(params, next(rng), *dummy_inputs)\n",
    "logits.shape"
   ]
  },
  {
   "cell_type": "code",
   "execution_count": 17,
   "metadata": {},
   "outputs": [],
   "source": [
    "from deeprte.model.modules_v2 import ScatteringModule"
   ]
  },
  {
   "cell_type": "code",
   "execution_count": 18,
   "metadata": {},
   "outputs": [],
   "source": [
    "config.model.global_config.deterministic = True"
   ]
  },
  {
   "cell_type": "code",
   "execution_count": 19,
   "metadata": {},
   "outputs": [],
   "source": [
    "def forward(*arg):\n",
    "    out = ScatteringModule(config.model.model_structure.green_function.scattering_module, config.model.global_config)(*arg)\n",
    "    return out\n",
    "\n",
    "forward_fn = hk.transform(forward)"
   ]
  },
  {
   "cell_type": "code",
   "execution_count": 20,
   "metadata": {},
   "outputs": [],
   "source": [
    "A = jax.random.uniform(next(rng),[64,])\n",
    "B = jax.random.uniform(next(rng),[24,64])\n",
    "C = jax.random.uniform(next(rng),[24,])\n",
    "D = jax.random.uniform(next(rng),[24,24])"
   ]
  },
  {
   "cell_type": "code",
   "execution_count": 21,
   "metadata": {},
   "outputs": [],
   "source": [
    "dummy_inputs = (A,B,C,D)"
   ]
  },
  {
   "cell_type": "code",
   "execution_count": 22,
   "metadata": {},
   "outputs": [
    {
     "data": {
      "text/plain": [
       "{'scattering_module/__layer_stack_no_per_layer/scattering_layer': {'scattering_bias': (2,\n",
       "   64),\n",
       "  'scattering_weights': (2, 64, 64)}}"
      ]
     },
     "execution_count": 22,
     "metadata": {},
     "output_type": "execute_result"
    }
   ],
   "source": [
    "init_net = jax.jit(forward_fn.init)\n",
    "params = init_net(next(rng), *dummy_inputs)\n",
    "apply = jax.jit(forward_fn.apply)\n",
    "jax.tree_map(lambda x: x.shape, params)"
   ]
  },
  {
   "cell_type": "code",
   "execution_count": 23,
   "metadata": {},
   "outputs": [
    {
     "data": {
      "text/plain": [
       "((64,), (24, 64))"
      ]
     },
     "execution_count": 23,
     "metadata": {},
     "output_type": "execute_result"
    }
   ],
   "source": [
    "logits = apply(params, next(rng), *dummy_inputs)\n",
    "jax.tree_util.tree_map(lambda x: x.shape, logits)"
   ]
  },
  {
   "cell_type": "code",
   "execution_count": 24,
   "metadata": {},
   "outputs": [],
   "source": [
    "from deeprte.model.modules_v2 import GreenFunction"
   ]
  },
  {
   "cell_type": "code",
   "execution_count": 25,
   "metadata": {},
   "outputs": [],
   "source": [
    "def forward(*arg):\n",
    "    out = GreenFunction(config.model.model_structure.green_function, config.model.global_config)(*arg)\n",
    "    return out\n",
    "\n",
    "forward_fn = hk.transform(forward)"
   ]
  },
  {
   "cell_type": "code",
   "execution_count": 26,
   "metadata": {},
   "outputs": [],
   "source": [
    "_dummy_inputs = jnp_dict.copy()\n",
    "dummy_inputs = (_dummy_inputs[\"phase_coords\"], _dummy_inputs[\"boundary_coords\"][0], jnp_dict)"
   ]
  },
  {
   "cell_type": "code",
   "execution_count": 27,
   "metadata": {},
   "outputs": [
    {
     "data": {
      "text/plain": [
       "{'green_function': {'proj_weights': (64,)},\n",
       " 'green_function/attenuation_module/attention': {'b': (64,),\n",
       "  'key_w': (2, 64),\n",
       "  'proj_w': (64,),\n",
       "  'query_w': (4, 64)},\n",
       " 'green_function/attenuation_module/attenuation_mlp/linear': {'bias': (128,),\n",
       "  'weights': (10, 128)},\n",
       " 'green_function/attenuation_module/attenuation_mlp/linear_1': {'bias': (128,),\n",
       "  'weights': (128, 128)},\n",
       " 'green_function/attenuation_module/attenuation_mlp/linear_2': {'bias': (128,),\n",
       "  'weights': (128, 128)},\n",
       " 'green_function/attenuation_module/attenuation_mlp/linear_3': {'bias': (64,),\n",
       "  'weights': (128, 64)},\n",
       " 'green_function/scattering_module/__layer_stack_no_per_layer/scattering_layer': {'scattering_bias': (2,\n",
       "   64),\n",
       "  'scattering_weights': (2, 64, 64)}}"
      ]
     },
     "execution_count": 27,
     "metadata": {},
     "output_type": "execute_result"
    }
   ],
   "source": [
    "init_net = jax.jit(forward_fn.init)\n",
    "params = init_net(next(rng), *dummy_inputs)\n",
    "apply = jax.jit(forward_fn.apply)\n",
    "jax.tree_map(lambda x: x.shape, params)"
   ]
  },
  {
   "cell_type": "code",
   "execution_count": 28,
   "metadata": {},
   "outputs": [],
   "source": [
    "from deeprte.model.modules_v2 import DeepRTE"
   ]
  },
  {
   "cell_type": "code",
   "execution_count": 29,
   "metadata": {},
   "outputs": [],
   "source": [
    "def forward(*arg):\n",
    "    out = DeepRTE(config.model.model_structure, config.model.global_config)(compute_metrics = True,compute_loss = True,is_training=True, *arg, )\n",
    "    return out\n",
    "\n",
    "forward_fn = hk.transform_with_state(forward)"
   ]
  },
  {
   "cell_type": "code",
   "execution_count": 30,
   "metadata": {},
   "outputs": [],
   "source": [
    "def slice_batch(i: int, feat: dict):\n",
    "    return {\n",
    "        k: feat[k][i : i + 2] if k in _BATCH_FEATURE_NAMES else feat[k] for k in feat\n",
    "    }\n",
    "\n",
    "\n",
    "def sample_colloctaion_points(indices: int, feat: dict):\n",
    "    ret = {}\n",
    "    for k in feat:\n",
    "        if k in _COLLOCATION_FEATURE_NAMES:\n",
    "            if k == \"phase_coords\":\n",
    "                ret[k] = feat[k][indices]\n",
    "            else:\n",
    "                ret[k] = feat[k][:, indices]\n",
    "        else:\n",
    "            ret[k] = feat[k]\n",
    "            \n",
    "    return ret"
   ]
  },
  {
   "cell_type": "code",
   "execution_count": 31,
   "metadata": {},
   "outputs": [
    {
     "data": {
      "text/plain": [
       "{'boundary': (2, 1968),\n",
       " 'boundary_coords': (1968, 4),\n",
       " 'boundary_weights': (1968,),\n",
       " 'phase_coords': (2, 4),\n",
       " 'position_coords': (1681, 2),\n",
       " 'psi_label': (2, 2),\n",
       " 'scattering_kernel': (2, 2, 24),\n",
       " 'self_scattering_kernel': (2, 24, 24),\n",
       " 'sigma': (2, 1681, 2),\n",
       " 'velocity_coords': (24, 2),\n",
       " 'velocity_weights': (24,)}"
      ]
     },
     "execution_count": 31,
     "metadata": {},
     "output_type": "execute_result"
    }
   ],
   "source": [
    "batch = slice_batch(2, features)\n",
    "dummy_inputs = sample_colloctaion_points(np.arange(2), batch)\n",
    "jax.tree_map(lambda x: x.shape, dummy_inputs)"
   ]
  },
  {
   "cell_type": "code",
   "execution_count": 32,
   "metadata": {},
   "outputs": [
    {
     "data": {
      "text/plain": [
       "{'deeprte/green_function': {'proj_weights': (64,)},\n",
       " 'deeprte/green_function/attenuation_module/attention': {'b': (64,),\n",
       "  'key_w': (2, 64),\n",
       "  'proj_w': (64,),\n",
       "  'query_w': (4, 64)},\n",
       " 'deeprte/green_function/attenuation_module/attenuation_mlp/linear': {'bias': (128,),\n",
       "  'weights': (10, 128)},\n",
       " 'deeprte/green_function/attenuation_module/attenuation_mlp/linear_1': {'bias': (128,),\n",
       "  'weights': (128, 128)},\n",
       " 'deeprte/green_function/attenuation_module/attenuation_mlp/linear_2': {'bias': (128,),\n",
       "  'weights': (128, 128)},\n",
       " 'deeprte/green_function/attenuation_module/attenuation_mlp/linear_3': {'bias': (64,),\n",
       "  'weights': (128, 64)},\n",
       " 'deeprte/green_function/scattering_module/__layer_stack_no_per_layer/scattering_layer': {'scattering_bias': (2,\n",
       "   64),\n",
       "  'scattering_weights': (2, 64, 64)}}"
      ]
     },
     "execution_count": 32,
     "metadata": {},
     "output_type": "execute_result"
    }
   ],
   "source": [
    "init_net = jax.jit(functools.partial(forward_fn.init,))\n",
    "\n",
    "init_net = jax.jit(forward_fn.init)\n",
    "params, states = init_net(next(rng), dummy_inputs)\n",
    "apply = jax.jit(forward_fn.apply)\n",
    "jax.tree_map(lambda x: x.shape, params)"
   ]
  },
  {
   "cell_type": "code",
   "execution_count": 33,
   "metadata": {},
   "outputs": [
    {
     "data": {
      "text/plain": [
       "(((),\n",
       "  {'loss': {'mse': (), 'rmspe': ()},\n",
       "   'metrics': {'mse': (2,), 'rmspe': (2,)},\n",
       "   'rte_predictions': (2, 2)}),\n",
       " {})"
      ]
     },
     "execution_count": 33,
     "metadata": {},
     "output_type": "execute_result"
    }
   ],
   "source": [
    "logits = apply(params, states, next(rng), dummy_inputs)\n",
    "jax.tree_util.tree_map(lambda x: x.shape, logits)"
   ]
  },
  {
   "cell_type": "code",
   "execution_count": null,
   "metadata": {},
   "outputs": [],
   "source": []
  }
 ],
 "metadata": {
  "kernelspec": {
   "display_name": "Python 3.10.8 64-bit",
   "language": "python",
   "name": "python3"
  },
  "language_info": {
   "codemirror_mode": {
    "name": "ipython",
    "version": 3
   },
   "file_extension": ".py",
   "mimetype": "text/x-python",
   "name": "python",
   "nbconvert_exporter": "python",
   "pygments_lexer": "ipython3",
   "version": "3.10.8"
  },
  "orig_nbformat": 4,
  "vscode": {
   "interpreter": {
    "hash": "949777d72b0d2535278d3dc13498b2535136f6dfe0678499012e853ee9abcab1"
   }
  }
 },
 "nbformat": 4,
 "nbformat_minor": 2
}

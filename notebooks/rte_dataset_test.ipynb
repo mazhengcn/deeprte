{
 "cells": [
  {
   "cell_type": "code",
   "execution_count": 2,
   "metadata": {},
   "outputs": [],
   "source": [
    "import os\n",
    "os.environ[\"CUDA_VISIBLE_DEVICES\"] = '7'"
   ]
  },
  {
   "cell_type": "code",
   "execution_count": 1,
   "metadata": {},
   "outputs": [],
   "source": [
    "import numpy as np\n",
    "import scipy.io as sio"
   ]
  },
  {
   "cell_type": "code",
   "execution_count": 2,
   "metadata": {},
   "outputs": [],
   "source": [
    "data_path = \"/workspaces/deeprte/rte_data/rte_data/matlab/eval-data/test_shape.mat\"\n",
    "# data_path_tpfm = \"/workspaces/deeprte/data/train/test_sin_1019.npz\""
   ]
  },
  {
   "cell_type": "code",
   "execution_count": 3,
   "metadata": {},
   "outputs": [],
   "source": [
    "data = sio.loadmat(data_path)"
   ]
  },
  {
   "cell_type": "code",
   "execution_count": 4,
   "metadata": {},
   "outputs": [
    {
     "name": "stdout",
     "output_type": "stream",
     "text": [
      "ct (24, 1)\n",
      "omega_prime (164, 12)\n",
      "phi (10, 41, 41)\n",
      "psi_bc (10, 164, 12)\n",
      "psi_label (10, 41, 41, 24)\n",
      "rv_prime (164, 12, 4)\n",
      "scattering_kernel (10, 24, 24)\n",
      "sigma_a (10, 41, 41)\n",
      "sigma_t (10, 41, 41)\n",
      "st (24, 1)\n",
      "w_angle (24, 1)\n",
      "x (1, 41)\n",
      "y (1, 41)\n"
     ]
    }
   ],
   "source": [
    "data.keys()\n",
    "for k,v in data.items():\n",
    "    if isinstance(v, np.ndarray):\n",
    "        print(k , v.shape)"
   ]
  },
  {
   "cell_type": "code",
   "execution_count": 5,
   "metadata": {},
   "outputs": [],
   "source": [
    "from deeprte.data.pipeline import DataPipeline\n",
    "data_pipeline = DataPipeline()\n",
    "data = data_pipeline.process(data_path)"
   ]
  },
  {
   "cell_type": "code",
   "execution_count": 6,
   "metadata": {},
   "outputs": [
    {
     "name": "stdout",
     "output_type": "stream",
     "text": [
      "sigma (10, 41, 41, 2)\n",
      "psi_label (10, 41, 41, 24)\n",
      "phi (10, 41, 41)\n",
      "boundary (10, 164, 12)\n",
      "position_coords (41, 41, 2)\n",
      "velocity_coords (24, 2)\n",
      "phase_coords (41, 41, 24, 4)\n",
      "scattering_kernel (10, 41, 41, 24, 24)\n",
      "boundary_coords (164, 12, 4)\n",
      "boundary_weights (164, 12)\n",
      "velocity_weights (24,)\n"
     ]
    }
   ],
   "source": [
    "for k,v in data.items():\n",
    "    if isinstance(v, np.ndarray):\n",
    "        print(k , v.shape)"
   ]
  },
  {
   "cell_type": "markdown",
   "metadata": {},
   "source": [
    "# batch\n",
    "- sigma [10, 41*41, 2]\n",
    "- boundary [10, 164*12]\n",
    "- scattering_kernel [10, 41\\*41\\*24, 24]\n",
    "\n",
    "# collocation\n",
    "- phase_coords [41\\*41\\*24, 4]\n",
    "- scattering_kernel [10, 41\\*41\\*24, 24]\n",
    "\n",
    "# grid\n",
    "- position_coords [41\\*41, 2]\n",
    "- velocity_coords [24, 2]\n",
    "- boundary_coords [164\\*12, 4]\n",
    "- boundary_weights [164\\*12]\n",
    "- velocity_weights [24]"
   ]
  },
  {
   "cell_type": "code",
   "execution_count": 7,
   "metadata": {},
   "outputs": [
    {
     "name": "stderr",
     "output_type": "stream",
     "text": [
      "2022-11-23 21:45:33.543959: I tensorflow/core/platform/cpu_feature_guard.cc:193] This TensorFlow binary is optimized with oneAPI Deep Neural Network Library (oneDNN) to use the following CPU instructions in performance-critical operations:  AVX2 AVX512F AVX512_VNNI FMA\n",
      "To enable them in other operations, rebuild TensorFlow with the appropriate compiler flags.\n",
      "2022-11-23 21:45:33.714867: I tensorflow/core/util/util.cc:169] oneDNN custom operations are on. You may see slightly different numerical results due to floating-point round-off errors from different computation orders. To turn them off, set the environment variable `TF_ENABLE_ONEDNN_OPTS=0`.\n"
     ]
    }
   ],
   "source": [
    "from deeprte.model.tf.rte_features import FEATURES, shape, _COLLOCATION_FEATURE_NAMES"
   ]
  },
  {
   "cell_type": "code",
   "execution_count": 8,
   "metadata": {},
   "outputs": [
    {
     "data": {
      "text/plain": [
       "{'sigma': (tf.float32,\n",
       "  ['num batch placeholder', 'num position coords placeholder', 2]),\n",
       " 'boundary': (tf.float32,\n",
       "  ['num batch placeholder', 'num boundary placeholder']),\n",
       " 'position_coords': (tf.float32, ['num position coords placeholder', 2]),\n",
       " 'velocity_coords': (tf.float32, ['num velocity placeholder', 2]),\n",
       " 'phase_coords': (tf.float32, ['num phase placeholder', 4]),\n",
       " 'scattering_kernel': (tf.float32,\n",
       "  ['num batch placeholder',\n",
       "   'num phase placeholder',\n",
       "   'num velocity placeholder']),\n",
       " 'boundary_coords': (tf.float32, ['num boundary placeholder', 4]),\n",
       " 'boundary_weights': (tf.float32, ['num boundary placeholder']),\n",
       " 'velocity_weights': (tf.float32, ['num velocity placeholder']),\n",
       " 'psi_label': (tf.float32, ['num batch placeholder', 'num phase placeholder'])}"
      ]
     },
     "execution_count": 8,
     "metadata": {},
     "output_type": "execute_result"
    }
   ],
   "source": [
    "FEATURES"
   ]
  },
  {
   "cell_type": "code",
   "execution_count": 9,
   "metadata": {},
   "outputs": [
    {
     "data": {
      "text/plain": [
       "['phase_coords', 'scattering_kernel', 'psi_label']"
      ]
     },
     "execution_count": 9,
     "metadata": {},
     "output_type": "execute_result"
    }
   ],
   "source": [
    "_COLLOCATION_FEATURE_NAMES"
   ]
  },
  {
   "cell_type": "code",
   "execution_count": 10,
   "metadata": {},
   "outputs": [],
   "source": [
    "from deeprte.model.tf.feature_transform import sample_phase_points\n",
    "from deeprte.model.tf.rte_dataset import np_to_tensor_dict,make_features_shape,make_collocation_axis\n",
    "import tensorflow as tf"
   ]
  },
  {
   "cell_type": "code",
   "execution_count": 11,
   "metadata": {},
   "outputs": [
    {
     "data": {
      "text/plain": [
       "{'num_samples': 10,\n",
       " 'num_position_coords': 1681,\n",
       " 'num_velocity_coords': 24,\n",
       " 'num_phase_coords': 40344,\n",
       " 'num_boundary_coords': 1968}"
      ]
     },
     "execution_count": 11,
     "metadata": {},
     "output_type": "execute_result"
    }
   ],
   "source": [
    "make_features_shape(data)"
   ]
  },
  {
   "cell_type": "code",
   "execution_count": 12,
   "metadata": {},
   "outputs": [
    {
     "name": "stderr",
     "output_type": "stream",
     "text": [
      "2022-11-23 21:45:37.221134: I tensorflow/core/platform/cpu_feature_guard.cc:193] This TensorFlow binary is optimized with oneAPI Deep Neural Network Library (oneDNN) to use the following CPU instructions in performance-critical operations:  AVX2 AVX512F AVX512_VNNI FMA\n",
      "To enable them in other operations, rebuild TensorFlow with the appropriate compiler flags.\n"
     ]
    },
    {
     "data": {
      "text/plain": [
       "{'sigma': TensorShape([10, 1681, 2]),\n",
       " 'psi_label': TensorShape([10, 40344]),\n",
       " 'boundary': TensorShape([10, 1968]),\n",
       " 'position_coords': TensorShape([1681, 2]),\n",
       " 'velocity_coords': TensorShape([24, 2]),\n",
       " 'phase_coords': TensorShape([40344, 4]),\n",
       " 'scattering_kernel': TensorShape([10, 40344, 24]),\n",
       " 'boundary_coords': TensorShape([1968, 4]),\n",
       " 'boundary_weights': TensorShape([1968]),\n",
       " 'velocity_weights': TensorShape([24])}"
      ]
     },
     "execution_count": 12,
     "metadata": {},
     "output_type": "execute_result"
    }
   ],
   "source": [
    "tf_data = np_to_tensor_dict(data)\n",
    "tf.nest.map_structure(lambda x: x.shape, tf_data)"
   ]
  }
 ],
 "metadata": {
  "kernelspec": {
   "display_name": "Python 3.10.7 64-bit",
   "language": "python",
   "name": "python3"
  },
  "language_info": {
   "codemirror_mode": {
    "name": "ipython",
    "version": 3
   },
   "file_extension": ".py",
   "mimetype": "text/x-python",
   "name": "python",
   "nbconvert_exporter": "python",
   "pygments_lexer": "ipython3",
   "version": "3.10.7"
  },
  "orig_nbformat": 4,
  "vscode": {
   "interpreter": {
    "hash": "949777d72b0d2535278d3dc13498b2535136f6dfe0678499012e853ee9abcab1"
   }
  }
 },
 "nbformat": 4,
 "nbformat_minor": 2
}

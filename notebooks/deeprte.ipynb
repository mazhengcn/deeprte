{
 "cells": [
  {
   "attachments": {},
   "cell_type": "markdown",
   "metadata": {},
   "source": [
    "## Setup\n",
    "\n",
    "The cell below downloads the code from Github and install necessary dependencies."
   ]
  },
  {
   "attachments": {},
   "cell_type": "markdown",
   "metadata": {},
   "source": [
    "### Import Packages"
   ]
  },
  {
   "cell_type": "code",
   "execution_count": 1,
   "metadata": {},
   "outputs": [],
   "source": [
    "%load_ext autoreload\n",
    "%autoreload 2\n",
    "\n",
    "import os\n",
    "\n",
    "# os.environ[\"CUDA_VISIBLE_DEVICES\"] = \"2\"\n"
   ]
  },
  {
   "cell_type": "code",
   "execution_count": 2,
   "metadata": {},
   "outputs": [
    {
     "data": {
      "text/plain": [
       "[CudaDevice(id=0), CudaDevice(id=1), CudaDevice(id=2), CudaDevice(id=3)]"
      ]
     },
     "execution_count": 2,
     "metadata": {},
     "output_type": "execute_result"
    }
   ],
   "source": [
    "import json\n",
    "import os\n",
    "import time\n",
    "from typing import Any\n",
    "\n",
    "import jax\n",
    "import jax.numpy as jnp\n",
    "import matplotlib\n",
    "import matplotlib.pyplot as plt\n",
    "import numpy as np\n",
    "from absl import logging\n",
    "from matplotlib.colors import ListedColormap\n",
    "from deeprte.model.engine import RteEngine\n",
    "\n",
    "from rte_dataset.builders import pipeline\n",
    "\n",
    "logging.set_verbosity(logging.INFO)\n",
    "\n",
    "jax.local_devices()"
   ]
  },
  {
   "attachments": {},
   "cell_type": "markdown",
   "metadata": {},
   "source": [
    "### Utility functions"
   ]
  },
  {
   "cell_type": "code",
   "execution_count": 3,
   "metadata": {},
   "outputs": [],
   "source": [
    "def rmse(pred, target):\n",
    "    return np.sqrt(np.mean((pred - target) ** 2) / np.mean(target**2))\n",
    "\n",
    "\n",
    "def get_normalization_ratio(psi_range, boundary_range):\n",
    "    psi_range = float(psi_range.split(\" \")[-1])\n",
    "    boundary_range = float(boundary_range.split(\" \")[-1])\n",
    "    return psi_range / boundary_range\n",
    "\n",
    "\n",
    "def jnp_to_np(output: dict[str, Any]) -> dict[str, Any]:\n",
    "    \"\"\"Recursively changes jax arrays to numpy arrays.\"\"\"\n",
    "    for k, v in output.items():\n",
    "        if isinstance(v, dict):\n",
    "            output[k] = jnp_to_np(v)\n",
    "        elif isinstance(v, jnp.ndarray):\n",
    "            output[k] = np.array(v)\n",
    "    return output\n",
    "\n",
    "\n",
    "def plot_phi(r, phi_pre, phi_label):\n",
    "    fig, _axs = plt.subplots(nrows=1, ncols=3, figsize=(20, 6))\n",
    "    fig.subplots_adjust(hspace=0.3)\n",
    "    axs = _axs.flatten()\n",
    "\n",
    "    viridis = matplotlib.colormaps[\"viridis\"](np.linspace(0, 1.2, 128))\n",
    "    cs_1 = axs[0].contourf(\n",
    "        r[..., 0], r[..., 1], phi_label, cmap=ListedColormap(viridis)\n",
    "    )\n",
    "    axs[0].set_title(r\"Exact $f(x,v)$\", fontsize=20)\n",
    "    axs[0].tick_params(axis=\"both\", labelsize=15)\n",
    "    cbar = fig.colorbar(cs_1)\n",
    "    cbar.ax.tick_params(labelsize=16)\n",
    "\n",
    "    cs_2 = axs[1].contourf(r[..., 0], r[..., 1], phi_pre, cmap=ListedColormap(viridis))\n",
    "    axs[1].set_title(r\"Predict $f(x,v)$\", fontsize=20)\n",
    "    axs[1].tick_params(axis=\"both\", labelsize=15)\n",
    "    cbar = fig.colorbar(cs_2)\n",
    "    cbar.ax.tick_params(labelsize=16)\n",
    "\n",
    "    cs_3 = axs[2].contourf(\n",
    "        r[..., 0],\n",
    "        r[..., 1],\n",
    "        abs(phi_pre - phi_label),\n",
    "        cmap=ListedColormap(viridis),\n",
    "    )\n",
    "    axs[2].set_title(r\"Absolute error\", fontsize=20)\n",
    "    axs[2].tick_params(axis=\"both\", labelsize=15)\n",
    "    cbar = fig.colorbar(cs_3)\n",
    "    cbar.ax.tick_params(labelsize=16)\n",
    "\n",
    "    plt.tight_layout()"
   ]
  },
  {
   "attachments": {},
   "cell_type": "markdown",
   "metadata": {},
   "source": [
    "## Load Dataset"
   ]
  },
  {
   "cell_type": "code",
   "execution_count": 4,
   "metadata": {},
   "outputs": [
    {
     "data": {
      "text/plain": [
       "{'boundary': (1000, 160, 12),\n",
       " 'boundary_scattering_kernel': (1000, 160, 12, 24),\n",
       " 'psi_label': (1000, 40, 40, 24),\n",
       " 'scattering_kernel': (1000, 40, 40, 24, 24),\n",
       " 'self_scattering_kernel': (1000, 24, 24),\n",
       " 'sigma': (1000, 40, 40, 2)}"
      ]
     },
     "execution_count": 4,
     "metadata": {},
     "output_type": "execute_result"
    }
   ],
   "source": [
    "# Path to the dataset\n",
    "DATA_DIR = \"/workspaces/deeprte/data/raw_data/train/g0.8-sigma_a3-sigma_t6\"\n",
    "DATA_NAME = [\"g0.8-sigma_a3-sigma_t6.mat\"]\n",
    "\n",
    "data_pipeline = pipeline.DataPipeline(DATA_DIR, DATA_NAME)\n",
    "raw_feature_dict = data_pipeline.process()\n",
    "num_examples = raw_feature_dict[\"shape\"][\"num_examples\"]\n",
    "\n",
    "del data_pipeline\n",
    "\n",
    "jax.tree.map(lambda x: x.shape, raw_feature_dict[\"functions\"])"
   ]
  },
  {
   "attachments": {},
   "cell_type": "markdown",
   "metadata": {},
   "source": [
    "## Import Pre-trained model"
   ]
  },
  {
   "attachments": {},
   "cell_type": "markdown",
   "metadata": {},
   "source": [
    "#### Load model config"
   ]
  },
  {
   "cell_type": "code",
   "execution_count": 5,
   "metadata": {},
   "outputs": [
    {
     "name": "stderr",
     "output_type": "stream",
     "text": [
      "/tmp/ipykernel_6534/736015114.py:1: DeprecationWarning: the imp module is deprecated in favour of importlib and slated for removal in Python 3.12; see the module's documentation for alternative uses\n",
      "  import imp\n"
     ]
    },
    {
     "data": {
      "text/plain": [
       "Config(seed=42, dataset_type='tfds', grain_worker_count=4, grain_worker_buffer_size=1, dataset_name='rte/g0.5-sigma_a3-sigma_t6', data_dir='/workspaces/deeprte/data/tfds', train_split='train[:80%]', eval_split='train[80%:]', enable_data_shuffling=True, data_shuffle_seed=42, per_device_batch_size=1, global_batch_size=8, collocation_size=128, repeat_batch=1, eval_batch_size=4, num_train_steps=500001, micro_steps=2, log_every_steps=1000, eval_every_steps=50000, optimizer='adam', learning_rate=0.001, schedule='cosine_decay', decay_steps=500001, save_checkpoints=True, checkpoint_every_steps=10000, async_checkpointing=True, enable_checkpoint_standard_logger=True, load_parameters_path='/workspaces/deeprte/ckpts/g0.8-infer/params', load_full_state_path='', enable_single_replica_ckpt_restoring=False, enable_emergency_checkpoint=False, local_checkpoint_dir='', local_checkpoint_every_steps=10000, position_coords_dim=2, velocity_coords_dim=2, coeffs_fn_dim=2, num_heads=2, qkv_dim=64, optical_depth_dim=2, num_mlp_layers=4, mlp_dim=128, num_scattering_layers=2, scattering_dim=16, subcollocation_size=128, mesh_axes=('data', 'fsdp', 'tensor'), data_sharding=(('data', 'fsdp', 'tensor'),), dcn_data_parallelism=-1, dcn_fsdp_parallelism=1, dcn_tensor_parallelism=1, ici_data_parallelism=1, ici_fsdp_parallelism=-1, ici_tensor_parallelism=1)"
      ]
     },
     "execution_count": 5,
     "metadata": {},
     "output_type": "execute_result"
    }
   ],
   "source": [
    "import imp\n",
    "\n",
    "MODEL_DIR = \"/workspaces/deeprte/ckpts/g0.8-infer/params\"\n",
    "CONFIG_PATH = \"/workspaces/deeprte/deeprte/configs/default.py\"\n",
    "\n",
    "config_module = imp.load_source(\"config_module\", CONFIG_PATH)\n",
    "config = config_module.get_config()\n",
    "config.load_parameters_path = MODEL_DIR\n",
    "\n",
    "config"
   ]
  },
  {
   "attachments": {},
   "cell_type": "markdown",
   "metadata": {},
   "source": [
    "#### Load model parameters"
   ]
  },
  {
   "cell_type": "code",
   "execution_count": 6,
   "metadata": {},
   "outputs": [
    {
     "name": "stderr",
     "output_type": "stream",
     "text": [
      "INFO:absl:Devices: [CudaDevice(id=0), CudaDevice(id=1), CudaDevice(id=2), CudaDevice(id=3)]\n",
      "INFO:absl:Number of devices: 4\n",
      "INFO:absl:Decided on mesh: [[[CudaDevice(id=0)]\n",
      "  [CudaDevice(id=1)]\n",
      "  [CudaDevice(id=2)]\n",
      "  [CudaDevice(id=3)]]]\n",
      "INFO:absl:Mesh shape: (1, 4, 1)\n",
      "INFO:absl:Loading decode params from /workspaces/deeprte/ckpts/g0.8-infer/params\n",
      "INFO:absl:restoring params from /workspaces/deeprte/ckpts/g0.8-infer/params\n",
      "INFO:absl:Restoring checkpoint from /workspaces/deeprte/ckpts/g0.8-infer/params.\n",
      "WARNING:absl:The transformations API will eventually be replaced by an upgraded design. The current API will not be removed until this point, but it will no longer be actively worked on.\n",
      "INFO:absl:Finished restoring checkpoint from /workspaces/deeprte/ckpts/g0.8-infer/params.\n",
      "INFO:absl:Skipping global process sync, barrier name: Checkpointer:restore.params\n",
      "INFO:absl:Number of model params=37954\n"
     ]
    }
   ],
   "source": [
    "rte_engine = RteEngine(config)"
   ]
  },
  {
   "attachments": {},
   "cell_type": "markdown",
   "metadata": {},
   "source": [
    "#### Construct model runner"
   ]
  },
  {
   "cell_type": "code",
   "execution_count": 7,
   "metadata": {},
   "outputs": [
    {
     "data": {
      "text/plain": [
       "0.81073660406395"
      ]
     },
     "execution_count": 7,
     "metadata": {},
     "output_type": "execute_result"
    }
   ],
   "source": [
    "\n",
    "def get_normalization_ratio(psi_range, boundary_range):\n",
    "    psi_range = float(psi_range.split(\" \")[-1])\n",
    "    boundary_range = float(boundary_range.split(\" \")[-1])\n",
    "    return psi_range / boundary_range\n",
    "\n",
    "normalization_dict = {\"psi_min\": \"2.955854e-25\", \"psi_range\": \"0.13107203\", \"boundary_min\": \"0.0\", \"boundary_range\": \"0.1616703\"}\n",
    "normalization_ratio = get_normalization_ratio(\n",
    "    normalization_dict[\"psi_range\"],\n",
    "    normalization_dict[\"boundary_range\"],\n",
    ")\n",
    "\n",
    "normalization_ratio"
   ]
  },
  {
   "attachments": {},
   "cell_type": "markdown",
   "metadata": {},
   "source": [
    "## Predict and Evaluate"
   ]
  },
  {
   "attachments": {},
   "cell_type": "markdown",
   "metadata": {},
   "source": [
    "#### Predict and Evaluate i-th example in the dataset"
   ]
  },
  {
   "attachments": {},
   "cell_type": "markdown",
   "metadata": {},
   "source": [
    "#### Run prediction"
   ]
  },
  {
   "cell_type": "code",
   "execution_count": 8,
   "metadata": {},
   "outputs": [
    {
     "name": "stderr",
     "output_type": "stream",
     "text": [
      "INFO:absl:Predicting example 7/1000\n",
      "INFO:absl:Running rte engine...\n",
      "INFO:absl:Running predict with shape(feat) = {'boundary': (1, 1920), 'boundary_coords': (1, 1920, 4), 'boundary_weights': (1, 1920), 'phase_coords': (1, 38400, 4), 'position_coords': (1, 1600, 2), 'scattering_kernel': (1, 38400, 24), 'self_scattering_kernel': (1, 24, 24), 'sigma': (1, 1600, 2), 'velocity_coords': (1, 24, 2), 'velocity_weights': (1, 24)}\n",
      "INFO:absl:Output shape was (1, 38400)\n",
      "INFO:absl:Running predict with shape(feat) = {'boundary': (1, 1920), 'boundary_coords': (1, 1920, 4), 'boundary_weights': (1, 1920), 'phase_coords': (1, 38400, 4), 'position_coords': (1, 1600, 2), 'scattering_kernel': (1, 38400, 24), 'self_scattering_kernel': (1, 24, 24), 'sigma': (1, 1600, 2), 'velocity_coords': (1, 24, 2), 'velocity_weights': (1, 24)}\n",
      "INFO:absl:Output shape was (1, 38400)\n",
      "INFO:absl:Total JAX model predict time (excludes compilation time): 2.535386s\n",
      "INFO:absl:RMSE of psi: 0.042864, RMSE of phi: 0.041453\n",
      "\n"
     ]
    }
   ],
   "source": [
    "i = np.random.randint(100)\n",
    "\n",
    "logging.info(\"Predicting example %d/%d\", i + 1, num_examples)\n",
    "\n",
    "benchmark = True\n",
    "\n",
    "feature_dict = {\n",
    "    \"functions\": jax.tree.map(lambda x: x[i : i + 1], raw_feature_dict[\"functions\"]),\n",
    "    \"grid\": raw_feature_dict[\"grid\"],\n",
    "    \"shape\": raw_feature_dict[\"shape\"],\n",
    "}\n",
    "\n",
    "# Run the model.\n",
    "logging.info(\"Running rte engine...\")\n",
    "processed_feature_dict = rte_engine.process_features(feature_dict)\n",
    "\n",
    "jax.tree.map(lambda x: x.shape, processed_feature_dict)\n",
    "\n",
    "\n",
    "t_0 = time.time()\n",
    "prediction = rte_engine.predict(processed_feature_dict)\n",
    "t_diff = time.time() - t_0\n",
    "\n",
    "if benchmark:\n",
    "    t_0 = time.time()\n",
    "    rte_engine.predict(processed_feature_dict)\n",
    "    t_diff = time.time() - t_0\n",
    "    logging.info(\n",
    "        \"Total JAX model predict time \" \"(excludes compilation time): %.6fs\",\n",
    "        t_diff,\n",
    "    )\n",
    "\n",
    "psi_shape = feature_dict[\"functions\"][\"psi_label\"].shape\n",
    "t_0 = time.time()\n",
    "predicted_psi = (\n",
    "    prediction\n",
    "    .reshape(1, -1)  # reshape multi_devices to single device\n",
    "    .reshape(psi_shape)\n",
    ")\n",
    "if normalization_ratio:\n",
    "    predicted_psi = predicted_psi * normalization_ratio\n",
    "\n",
    "predicted_phi = jnp.sum(\n",
    "    predicted_psi * feature_dict[\"grid\"][\"velocity_weights\"],\n",
    "    axis=-1,\n",
    ")\n",
    "t_diff = time.time() - t_0\n",
    "\n",
    "# Compute metrics.\n",
    "metrics = {}\n",
    "psi_label = feature_dict[\"functions\"][\"psi_label\"]\n",
    "phi_label = np.sum(psi_label * feature_dict[\"grid\"][\"velocity_weights\"], axis=-1)\n",
    "psi_rmse = rmse(predicted_psi, psi_label)\n",
    "phi_rmse = rmse(predicted_phi, phi_label)\n",
    "logging.info(\"RMSE of psi: %f, RMSE of phi: %f\\n\", psi_rmse, phi_rmse)"
   ]
  },
  {
   "attachments": {},
   "cell_type": "markdown",
   "metadata": {},
   "source": [
    "### Visualize result"
   ]
  },
  {
   "cell_type": "code",
   "execution_count": null,
   "metadata": {},
   "outputs": [],
   "source": [
    "plot_phi(\n",
    "    feature_dict[\"grid\"][\"position_coords\"].reshape(*psi_shape[1:-1], -1),\n",
    "    predicted_phi[0],\n",
    "    phi_label[0],\n",
    ")"
   ]
  }
 ],
 "metadata": {
  "kernelspec": {
   "display_name": "Python 3",
   "language": "python",
   "name": "python3"
  },
  "language_info": {
   "codemirror_mode": {
    "name": "ipython",
    "version": 3
   },
   "file_extension": ".py",
   "mimetype": "text/x-python",
   "name": "python",
   "nbconvert_exporter": "python",
   "pygments_lexer": "ipython3",
   "version": "3.10.14"
  },
  "orig_nbformat": 4,
  "vscode": {
   "interpreter": {
    "hash": "949777d72b0d2535278d3dc13498b2535136f6dfe0678499012e853ee9abcab1"
   }
  }
 },
 "nbformat": 4,
 "nbformat_minor": 2
}

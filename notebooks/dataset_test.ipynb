{
 "cells": [
  {
   "cell_type": "code",
   "execution_count": 1,
   "id": "265b5725",
   "metadata": {},
   "outputs": [],
   "source": [
    "import os\n",
    "from pathlib import Path\n",
    "\n",
    "os.environ[\"CUDA_VISIBLE_DEVICES\"] = \"0\"\n",
    "# os.environ[\"TF_FORCE_UNIFIED_MEMORY\"] = \"1\"\n",
    "# os.environ[\"XLA_PYTHON_CLIENT_MEM_FRACTION\"] = \"0.4\"\n",
    "\n",
    "DATA_DIR = Path.cwd().parent / \"data/rte\""
   ]
  },
  {
   "cell_type": "code",
   "execution_count": 2,
   "id": "0b22aa67",
   "metadata": {},
   "outputs": [],
   "source": [
    "import numpy as np\n",
    "import jax\n",
    "import jax.numpy as jnp\n",
    "import tensorflow as tf\n",
    "from deeprte.dataset import (\n",
    "    _load_and_split_dataset,\n",
    "    Split,\n",
    "    _shard,\n",
    "    load,\n",
    "    convert_dataset,\n",
    ")\n"
   ]
  },
  {
   "cell_type": "code",
   "execution_count": 3,
   "id": "5d61f788",
   "metadata": {},
   "outputs": [
    {
     "name": "stdout",
     "output_type": "stream",
     "text": [
      "Processing data, shapes are: {'sigma_t': (500, 40, 40), 'sigma_a': (500, 40, 40), 'psi_bc': (500, 40, 12), 'psi_label': (500, 40, 40, 24), 'phi': (500, 40, 40)}\n",
      "Processing grid, shapes are: {'w_angle': (24,), 'v': (24, 2), 'r': (40, 40, 2), 'rv_prime': (40, 12, 4), 'w_prime': (40, 12)}\n"
     ]
    }
   ],
   "source": [
    "ds = load(\n",
    "    Split.TRAIN_AND_VALID,\n",
    "    is_training=True,\n",
    "    batch_dims=[5, 10, 500],\n",
    "    data_dir=DATA_DIR / \"rte_2d_converted.npz\",\n",
    ")\n",
    "\n",
    "ds.element_spec\n"
   ]
  },
  {
   "cell_type": "code",
   "execution_count": 10,
   "id": "e70b4e91",
   "metadata": {},
   "outputs": [
    {
     "name": "stdout",
     "output_type": "stream",
     "text": [
      "{'interior': (TensorShape([5, 500, 2]), TensorShape([5, 500, 2]), F(x=TensorShape([5, 1600, 2]), y=TensorShape([5, 10, 1600, 2])), F(x=TensorShape([5, 480, 4]), y=TensorShape([5, 10, 480]))), 'label': TensorShape([5, 10, 500])}\n",
      "321.7138\n",
      "0.0\n"
     ]
    }
   ],
   "source": [
    "from deeprte.dataset import get_nest_dict_shape\n",
    "\n",
    "for d in ds.take(1):\n",
    "    print(get_nest_dict_shape(d))\n",
    "    r, v = d[\"interior\"][0], d[\"interior\"][1]\n",
    "    print(np.sum((r[1] - [0]) ** 2))\n",
    "    print(np.sum((v[1] - v[0]) ** 2))"
   ]
  }
 ],
 "metadata": {
  "interpreter": {
   "hash": "c3ecfbb2e518759e8150e3a4e02d9374d8d11351137435699613669ebcf0f527"
  },
  "kernelspec": {
   "display_name": "Python 3.9.7 64-bit",
   "name": "python3"
  },
  "language_info": {
   "codemirror_mode": {
    "name": "ipython",
    "version": 3
   },
   "file_extension": ".py",
   "mimetype": "text/x-python",
   "name": "python",
   "nbconvert_exporter": "python",
   "pygments_lexer": "ipython3",
   "version": "3.9.8"
  }
 },
 "nbformat": 4,
 "nbformat_minor": 5
}

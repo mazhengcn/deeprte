{
 "cells": [
  {
   "cell_type": "code",
   "execution_count": 1,
   "id": "265b5725",
   "metadata": {},
   "outputs": [],
   "source": [
    "from pathlib import Path\n",
    "from absl import logging\n",
    "\n",
    "import os\n",
    "\n",
    "# os.environ[\"CUDA_VISIBLE_DEVICES\"] = \"0,1,2,3,4\"\n",
    "\n",
    "logging.set_verbosity(\"info\")\n",
    "\n",
    "DATA_DIR = Path.cwd().parent / \"data/rte\"\n"
   ]
  },
  {
   "cell_type": "code",
   "execution_count": 2,
   "id": "0b22aa67",
   "metadata": {},
   "outputs": [
    {
     "name": "stderr",
     "output_type": "stream",
     "text": [
      "INFO:absl:Unable to initialize backend 'tpu_driver': NOT_FOUND: Unable to find driver in registry given worker: \n",
      "INFO:absl:Unable to initialize backend 'tpu': INVALID_ARGUMENT: TpuPlatform is not available.\n",
      "INFO:absl:Saved converted dataset /workspaces/deeprte/data/rte/rte_2d_bc_delta_funcs_converted.\n"
     ]
    }
   ],
   "source": [
    "import numpy as np\n",
    "import jax\n",
    "import jax.numpy as jnp\n",
    "import tensorflow as tf\n",
    "from deeprte.dataset import (\n",
    "    Split,\n",
    "    load,\n",
    "    convert_dataset,\n",
    "    get_nest_dict_shape,\n",
    "    preprocess_grid,\n",
    ")\n",
    "\n",
    "_ = convert_dataset(DATA_DIR / \"rte_2d_bc_delta_funcs.npy\")\n"
   ]
  },
  {
   "cell_type": "code",
   "execution_count": 3,
   "id": "28f9e5f9",
   "metadata": {},
   "outputs": [
    {
     "name": "stdout",
     "output_type": "stream",
     "text": [
      "{'data/sigma_t': (500, 40, 40), 'data/sigma_a': (500, 40, 40), 'data/psi_bc': (500, 40, 12), 'data/psi_label': (500, 40, 40, 24), 'data/phi': (500, 40, 40), 'grid/w_angle': (24,), 'grid/v': (24, 2), 'grid/r': (40, 40, 2), 'grid/rv_prime': (40, 12, 4), 'grid/w_prime': (40, 12)}\n"
     ]
    }
   ],
   "source": [
    "data1 = np.load(DATA_DIR / \"rte_2d_converted.npz\")\n",
    "\n",
    "print(tf.nest.map_structure(lambda x: x.shape, dict(data1)))\n"
   ]
  },
  {
   "cell_type": "code",
   "execution_count": 8,
   "id": "d49da191",
   "metadata": {},
   "outputs": [
    {
     "data": {
      "text/plain": [
       "0.12421012"
      ]
     },
     "execution_count": 8,
     "metadata": {},
     "output_type": "execute_result"
    }
   ],
   "source": [
    "np.mean(data1[\"data/psi_label\"])"
   ]
  },
  {
   "cell_type": "code",
   "execution_count": 5,
   "id": "c3dbc8b0",
   "metadata": {},
   "outputs": [
    {
     "name": "stdout",
     "output_type": "stream",
     "text": [
      "{'data/sigma_t': (500, 40, 40), 'data/sigma_a': (500, 40, 40), 'data/psi_bc': (500, 40, 12), 'data/psi_label': (500, 40, 40, 24), 'data/phi': (500, 40, 40), 'grid/w_angle': (24,), 'grid/v': (24, 2), 'grid/r': (40, 40, 2), 'grid/rv_prime': (40, 12, 4), 'grid/w_prime': (40, 12)}\n"
     ]
    }
   ],
   "source": [
    "data2 = np.load(DATA_DIR / \"rte_2d_bc_delta_funcs_converted.npz\")\n",
    "\n",
    "print(tf.nest.map_structure(lambda x: x.shape, dict(data2)))"
   ]
  },
  {
   "cell_type": "code",
   "execution_count": 12,
   "id": "8c35e4e3",
   "metadata": {},
   "outputs": [
    {
     "data": {
      "text/plain": [
       "0.5580785"
      ]
     },
     "execution_count": 12,
     "metadata": {},
     "output_type": "execute_result"
    }
   ],
   "source": [
    "np.sqrt(np.mean((data2[\"data/psi_label\"] - np.mean(data2[\"data/psi_label\"])) ** 2))"
   ]
  },
  {
   "cell_type": "code",
   "execution_count": 13,
   "id": "de0565cf",
   "metadata": {},
   "outputs": [],
   "source": [
    "del data2[\"__header__\"], data2[\"__version__\"], data2[\"__globals__\"]"
   ]
  },
  {
   "cell_type": "code",
   "execution_count": 40,
   "id": "5d61f788",
   "metadata": {},
   "outputs": [],
   "source": [
    "ds = load(\n",
    "    DATA_DIR / \"rte_2d_converted.npz\",\n",
    "    Split.VALID,\n",
    "    is_training=False,\n",
    "    batch_sizes=[jax.local_device_count(), 3],\n",
    "    collocation_sizes=None,\n",
    "    repeat=None,\n",
    ")\n",
    "\n",
    "# init_inputs = load_dummy_data(\n",
    "#     DATA_DIR / \"rte_2d_converted.npz\", Split.TRAIN_AND_VALID, device_count=5\n",
    "# )\n",
    "\n",
    "# get_nest_dict_shape(init_inputs)\n"
   ]
  },
  {
   "cell_type": "code",
   "execution_count": 41,
   "id": "caedb12f",
   "metadata": {},
   "outputs": [
    {
     "name": "stderr",
     "output_type": "stream",
     "text": [
      "INFO:absl:Data shapes, sigma_t: (500, 40, 40), sigma_a: (500, 40, 40), psi_bc: (500, 40, 12), psi_label: (500, 40, 40, 24), phi: (500, 40, 40)\n",
      "INFO:absl:Grid shapes, w_angle: (24,), v: (24, 2), r: (40, 40, 2), rv_prime: (40, 12, 4), w_prime: (40, 12)\n"
     ]
    },
    {
     "name": "stdout",
     "output_type": "stream",
     "text": [
      "{'inputs': ((8, 38400, 2), (8, 38400, 2), F(x=(8, 1600, 2), y=(8, 3, 1600, 2)), F(x=(8, 480, 4), y=(8, 3, 480))), 'labels': (8, 3, 38400)}\n",
      "{'inputs': ((8, 38400, 2), (8, 38400, 2), F(x=(8, 1600, 2), y=(8, 3, 1600, 2)), F(x=(8, 480, 4), y=(8, 3, 480))), 'labels': (8, 3, 38400)}\n",
      "{'inputs': ((8, 38400, 2), (8, 38400, 2), F(x=(8, 1600, 2), y=(8, 3, 1600, 2)), F(x=(8, 480, 4), y=(8, 3, 480))), 'labels': (8, 3, 38400)}\n",
      "{'inputs': ((8, 38400, 2), (8, 38400, 2), F(x=(8, 1600, 2), y=(8, 3, 1600, 2)), F(x=(8, 480, 4), y=(8, 3, 480))), 'labels': (8, 3, 38400)}\n"
     ]
    }
   ],
   "source": [
    "for i, d in enumerate(ds):\n",
    "    if i <= 5:\n",
    "        print(get_nest_dict_shape(d))\n",
    "    else:\n",
    "        break\n"
   ]
  },
  {
   "cell_type": "code",
   "execution_count": null,
   "id": "e70b4e91",
   "metadata": {},
   "outputs": [],
   "source": [
    "from deeprte.dataset import get_nest_dict_shape\n",
    "\n",
    "for d in ds.take(1):\n",
    "    print(get_nest_dict_shape(d))\n",
    "    r, v = d[\"interior\"][0], d[\"interior\"][1]\n",
    "    print(np.sum((r[1] - r[0]) ** 2))\n",
    "    print(np.sum((v[1] - v[0]) ** 2))\n"
   ]
  },
  {
   "cell_type": "code",
   "execution_count": null,
   "id": "4938a703",
   "metadata": {},
   "outputs": [],
   "source": [
    "from deeprte.utils import get_model_haiku_params, flat_dict_to_rte_data\n",
    "\n",
    "params = get_model_haiku_params(\"rte_2d_1\", DATA_DIR)\n",
    "\n",
    "with np.load(DATA_DIR / \"rte_2d_converted.npz\") as npzfile:\n",
    "    rte_data = flat_dict_to_rte_data(npzfile)\n",
    "\n",
    "grid, num_grid_points = preprocess_grid(rte_data[\"grid\"], is_training=False)\n",
    "data = rte_data[\"data\"]\n"
   ]
  },
  {
   "cell_type": "code",
   "execution_count": null,
   "id": "ad27fcfc",
   "metadata": {},
   "outputs": [],
   "source": [
    "get_nest_dict_shape(data), get_nest_dict_shape(grid)\n"
   ]
  },
  {
   "cell_type": "code",
   "execution_count": null,
   "id": "40c8afe2",
   "metadata": {},
   "outputs": [],
   "source": [
    "from deeprte.models.rte_op import RTEOperator\n",
    "from deeprte.modules import GreenFunction\n",
    "from deeprte.typing import F\n",
    "import ml_collections\n",
    "\n",
    "config = ml_collections.ConfigDict(\n",
    "    {\n",
    "        \"green_net\": [128, 128, 128, 128, 1],\n",
    "        \"coeffs_net\": {\"weights\": [64, 1], \"coeffs\": [64, 2]},\n",
    "    }\n",
    ")\n",
    "\n",
    "sol = RTEOperator(config, GreenFunction)\n"
   ]
  },
  {
   "cell_type": "code",
   "execution_count": null,
   "id": "962f3668",
   "metadata": {},
   "outputs": [],
   "source": [
    "import time\n",
    "\n",
    "i = np.random.randint(500)\n",
    "\n",
    "\n",
    "data_i = tf.nest.map_structure(lambda x: x[i : i + 1].reshape(1, -1), data)\n",
    "\n",
    "psi_bc = data_i[\"psi_bc\"]\n",
    "sigma = np.stack([data_i[\"sigma_t\"], data_i[\"sigma_a\"]], axis=-1)\n",
    "r, v, rv_prime, w_prime, w_angle = (\n",
    "    grid[\"r\"],\n",
    "    grid[\"v\"],\n",
    "    grid[\"rv_prime\"],\n",
    "    grid[\"w_prime\"],\n",
    "    grid[\"w_angle\"],\n",
    ")\n",
    "\n",
    "t_prev = time.time()\n",
    "pred_rho = sol.rho(\n",
    "    params, None, r, F(r, sigma), F(rv_prime, w_prime * psi_bc), (v, w_angle)\n",
    ")\n",
    "pred_rho.block_until_ready()\n",
    "dt = time.time() - t_prev\n",
    "\n",
    "print(dt)\n"
   ]
  },
  {
   "cell_type": "code",
   "execution_count": null,
   "id": "10cad8ff",
   "metadata": {},
   "outputs": [],
   "source": [
    "import matplotlib.pyplot as plt\n",
    "\n",
    "pred_rho = pred_rho.reshape(-1, 40, 40).squeeze()\n",
    "phi = data_i[\"phi\"].reshape(40, 40)\n",
    "\n",
    "\n",
    "fig, _axs = plt.subplots(nrows=1, ncols=2, figsize=(20, 8))\n",
    "fig.subplots_adjust(hspace=0.3)\n",
    "axs = _axs.flatten()\n",
    "\n",
    "cs = axs[0].contour(\n",
    "    r[..., 0].reshape(40, 40),\n",
    "    r[..., 1].reshape(40, 40),\n",
    "    np.abs(pred_rho - phi),\n",
    ")\n",
    "axs[0].clabel(cs, inline=True, fontsize=10)\n",
    "fig.colorbar(cs, ax=axs[0])\n",
    "\n",
    "axs[1].plot(\n",
    "    r[..., 0].reshape(40, 40)[:, 0],\n",
    "    phi[:, 0],\n",
    "    r[..., 0].reshape(40, 40)[:, 0],\n",
    "    pred_rho[:, 0],\n",
    "    \"*\",\n",
    ")\n",
    "\n",
    "plt.show()\n"
   ]
  }
 ],
 "metadata": {
  "interpreter": {
   "hash": "c3ecfbb2e518759e8150e3a4e02d9374d8d11351137435699613669ebcf0f527"
  },
  "kernelspec": {
   "display_name": "Python 3.9.7 64-bit",
   "name": "python3"
  },
  "language_info": {
   "codemirror_mode": {
    "name": "ipython",
    "version": 3
   },
   "file_extension": ".py",
   "mimetype": "text/x-python",
   "name": "python",
   "nbconvert_exporter": "python",
   "pygments_lexer": "ipython3",
   "version": "3.9.9"
  }
 },
 "nbformat": 4,
 "nbformat_minor": 5
}

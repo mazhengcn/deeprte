{
 "cells": [
  {
   "cell_type": "code",
   "execution_count": 1,
   "id": "265b5725",
   "metadata": {},
   "outputs": [],
   "source": [
    "from pathlib import Path\n",
    "\n",
    "DATA_DIR = Path.cwd().parent / \"data/train\"\n"
   ]
  },
  {
   "cell_type": "code",
   "execution_count": 2,
   "id": "0b22aa67",
   "metadata": {},
   "outputs": [],
   "source": [
    "import numpy as np\n",
    "import jax\n",
    "import jax.numpy as jnp\n",
    "import tensorflow as tf\n",
    "from deeprte.dataset import (\n",
    "    Split,\n",
    "    load,\n",
    "    get_nest_dict_shape,\n",
    "    preprocess_grid,\n",
    "    _load_and_split_dataset,\n",
    "    _shard\n",
    ")\n"
   ]
  },
  {
   "cell_type": "code",
   "execution_count": 8,
   "id": "28f9e5f9",
   "metadata": {},
   "outputs": [
    {
     "name": "stdout",
     "output_type": "stream",
     "text": [
      "{'data': {'sigma_t': (2000, 40, 40), 'sigma_a': (2000, 40, 40), 'psi_label': (2000, 40, 40, 24), 'phi': (2000, 40, 40), 'psi_bc': (2000, 160, 12)}, 'grid': {'r': (40, 40, 2), 'v': (24, 2), 'w_angle': (24,), 'rv_prime': (160, 12, 4), 'w_prime': (160, 12)}}\n"
     ]
    }
   ],
   "source": [
    "from deeprte.utils import flat_dict_to_rte_data\n",
    "\n",
    "dataset = np.load(DATA_DIR / \"square_full_1.npz\")\n",
    "\n",
    "dataset = flat_dict_to_rte_data(dataset)\n",
    "\n",
    "print(tf.nest.map_structure(lambda x: x.shape, dict(dataset)))\n"
   ]
  },
  {
   "cell_type": "code",
   "execution_count": 13,
   "id": "426320bc",
   "metadata": {},
   "outputs": [
    {
     "data": {
      "text/plain": [
       "dtype('float32')"
      ]
     },
     "execution_count": 13,
     "metadata": {},
     "output_type": "execute_result"
    }
   ],
   "source": [
    "dataset[\"data\"][\"psi_bc\"].dtype"
   ]
  },
  {
   "cell_type": "code",
   "execution_count": 14,
   "id": "82151f81",
   "metadata": {},
   "outputs": [
    {
     "data": {
      "text/plain": [
       "dtype('float32')"
      ]
     },
     "execution_count": 14,
     "metadata": {},
     "output_type": "execute_result"
    }
   ],
   "source": [
    "data[\"w_angle\"].dtype"
   ]
  },
  {
   "cell_type": "code",
   "execution_count": 5,
   "id": "ba528777",
   "metadata": {},
   "outputs": [],
   "source": [
    "start, end = _shard(Split.TEST, jax.process_index(), jax.process_count())\n",
    "(ds, grid), split, indices2 = _load_and_split_dataset(DATA_DIR / \"square_full_1.npz\", Split.TEST, end=end, from_=start)"
   ]
  },
  {
   "cell_type": "code",
   "execution_count": 4,
   "id": "10cad8ff",
   "metadata": {},
   "outputs": [
    {
     "ename": "ModuleNotFoundError",
     "evalue": "No module named 'matplotlib'",
     "output_type": "error",
     "traceback": [
      "\u001b[0;31m---------------------------------------------------------------------------\u001b[0m",
      "\u001b[0;31mModuleNotFoundError\u001b[0m                       Traceback (most recent call last)",
      "\u001b[1;32m/workspaces/deeprte/notebooks/dataset_test.ipynb Cell 4'\u001b[0m in \u001b[0;36m<module>\u001b[0;34m\u001b[0m\n\u001b[0;32m----> <a href='vscode-notebook-cell://dev-container%2B7b22686f737450617468223a222f686f6d652f7a68656e672f7265706f732f64656570727465222c226c6f63616c446f636b6572223a66616c73652c2273657474696e6773223a7b22686f7374223a227373683a2f2f7a68656e672d33303930227d7d/workspaces/deeprte/notebooks/dataset_test.ipynb#ch0000003vscode-remote?line=0'>1</a>\u001b[0m \u001b[39mimport\u001b[39;00m \u001b[39mmatplotlib\u001b[39;00m\u001b[39m.\u001b[39;00m\u001b[39mpyplot\u001b[39;00m \u001b[39mas\u001b[39;00m \u001b[39mplt\u001b[39;00m\n\u001b[1;32m      <a href='vscode-notebook-cell://dev-container%2B7b22686f737450617468223a222f686f6d652f7a68656e672f7265706f732f64656570727465222c226c6f63616c446f636b6572223a66616c73652c2273657474696e6773223a7b22686f7374223a227373683a2f2f7a68656e672d33303930227d7d/workspaces/deeprte/notebooks/dataset_test.ipynb#ch0000003vscode-remote?line=2'>3</a>\u001b[0m data, grid \u001b[39m=\u001b[39m dataset[\u001b[39m\"\u001b[39m\u001b[39mdata\u001b[39m\u001b[39m\"\u001b[39m], dataset[\u001b[39m\"\u001b[39m\u001b[39mgrid\u001b[39m\u001b[39m\"\u001b[39m]\n\u001b[1;32m      <a href='vscode-notebook-cell://dev-container%2B7b22686f737450617468223a222f686f6d652f7a68656e672f7265706f732f64656570727465222c226c6f63616c446f636b6572223a66616c73652c2273657474696e6773223a7b22686f7374223a227373683a2f2f7a68656e672d33303930227d7d/workspaces/deeprte/notebooks/dataset_test.ipynb#ch0000003vscode-remote?line=4'>5</a>\u001b[0m idx \u001b[39m=\u001b[39m np\u001b[39m.\u001b[39mrandom\u001b[39m.\u001b[39mrandint(\u001b[39m500\u001b[39m)\n",
      "\u001b[0;31mModuleNotFoundError\u001b[0m: No module named 'matplotlib'"
     ]
    }
   ],
   "source": [
    "import matplotlib.pyplot as plt\n",
    "\n",
    "data, grid = dataset[\"data\"], dataset[\"grid\"]\n",
    "\n",
    "idx = np.random.randint(500)\n",
    "\n",
    "# pred_rho = pred_rho.reshape(-1, 40, 40).squeeze()\n",
    "phi = data[\"phi\"]\n",
    "r = grid[\"r\"]\n",
    "\n",
    "\n",
    "# fig, _axs = plt.subplots(nrows=1, ncols=2, figsize=(20, 8))\n",
    "# fig.subplots_adjust(hspace=0.3)\n",
    "# axs = _axs.flatten()\n",
    "\n",
    "fig = px.density_contour(phi[idx])\n",
    "# fig.show()\n",
    "\n",
    "# cs = axs[0].contourf(\n",
    "#     r[..., 0],\n",
    "#     r[..., 1],\n",
    "#     phi[idx],\n",
    "# )\n",
    "# axs[0].clabel(cs, inline=True, fontsize=10)\n",
    "# fig.colorbar(cs, ax=axs[0])\n",
    "\n",
    "# axs[1].plot(\n",
    "#     phi[idx, 0],\n",
    "# )\n",
    "\n",
    "# plt.show()\n"
   ]
  },
  {
   "cell_type": "code",
   "execution_count": null,
   "id": "962f3668",
   "metadata": {},
   "outputs": [],
   "source": [
    "import time\n",
    "\n",
    "i = np.random.randint(500)\n",
    "\n",
    "\n",
    "data, grid = flat_dict_to_rte_data(dataset)\n",
    "\n",
    "data_i = tf.nest.map_structure(lambda x: x[i : i + 1].reshape(1, -1), data)\n",
    "\n",
    "psi_bc = data_i[\"psi_bc\"]\n",
    "sigma = np.stack([data_i[\"sigma_t\"], data_i[\"sigma_a\"]], axis=-1)\n",
    "r, v, rv_prime, w_prime, w_angle = (\n",
    "    grid[\"r\"],\n",
    "    grid[\"v\"],\n",
    "    grid[\"rv_prime\"],\n",
    "    grid[\"w_prime\"],\n",
    "    grid[\"w_angle\"],\n",
    ")\n",
    "\n",
    "t_prev = time.time()\n",
    "pred_rho = sol.rho(\n",
    "    params, None, r, F(r, sigma), F(rv_prime, w_prime * psi_bc), (v, w_angle)\n",
    ")\n",
    "pred_rho.block_until_ready()\n",
    "dt = time.time() - t_prev\n",
    "\n",
    "print(dt)\n"
   ]
  },
  {
   "cell_type": "code",
   "execution_count": 40,
   "id": "5d61f788",
   "metadata": {},
   "outputs": [],
   "source": [
    "ds = load(\n",
    "    DATA_DIR / \"rte_2d_converted.npz\",\n",
    "    Split.VALID,\n",
    "    is_training=False,\n",
    "    batch_sizes=[jax.local_device_count(), 3],\n",
    "    collocation_sizes=None,\n",
    "    repeat=None,\n",
    ")\n",
    "\n",
    "# init_inputs = load_dummy_data(\n",
    "#     DATA_DIR / \"rte_2d_converted.npz\", Split.TRAIN_AND_VALID, device_count=5\n",
    "# )\n",
    "\n",
    "# get_nest_dict_shape(init_inputs)\n"
   ]
  },
  {
   "cell_type": "code",
   "execution_count": 41,
   "id": "caedb12f",
   "metadata": {},
   "outputs": [
    {
     "name": "stderr",
     "output_type": "stream",
     "text": [
      "INFO:absl:Data shapes, sigma_t: (500, 40, 40), sigma_a: (500, 40, 40), psi_bc: (500, 40, 12), psi_label: (500, 40, 40, 24), phi: (500, 40, 40)\n",
      "INFO:absl:Grid shapes, w_angle: (24,), v: (24, 2), r: (40, 40, 2), rv_prime: (40, 12, 4), w_prime: (40, 12)\n"
     ]
    },
    {
     "name": "stdout",
     "output_type": "stream",
     "text": [
      "{'inputs': ((8, 38400, 2), (8, 38400, 2), F(x=(8, 1600, 2), y=(8, 3, 1600, 2)), F(x=(8, 480, 4), y=(8, 3, 480))), 'labels': (8, 3, 38400)}\n",
      "{'inputs': ((8, 38400, 2), (8, 38400, 2), F(x=(8, 1600, 2), y=(8, 3, 1600, 2)), F(x=(8, 480, 4), y=(8, 3, 480))), 'labels': (8, 3, 38400)}\n",
      "{'inputs': ((8, 38400, 2), (8, 38400, 2), F(x=(8, 1600, 2), y=(8, 3, 1600, 2)), F(x=(8, 480, 4), y=(8, 3, 480))), 'labels': (8, 3, 38400)}\n",
      "{'inputs': ((8, 38400, 2), (8, 38400, 2), F(x=(8, 1600, 2), y=(8, 3, 1600, 2)), F(x=(8, 480, 4), y=(8, 3, 480))), 'labels': (8, 3, 38400)}\n"
     ]
    }
   ],
   "source": [
    "for i, d in enumerate(ds):\n",
    "    if i <= 5:\n",
    "        print(get_nest_dict_shape(d))\n",
    "    else:\n",
    "        break\n"
   ]
  },
  {
   "cell_type": "code",
   "execution_count": null,
   "id": "e70b4e91",
   "metadata": {},
   "outputs": [],
   "source": [
    "from deeprte.dataset import get_nest_dict_shape\n",
    "\n",
    "for d in ds.take(1):\n",
    "    print(get_nest_dict_shape(d))\n",
    "    r, v = d[\"interior\"][0], d[\"interior\"][1]\n",
    "    print(np.sum((r[1] - r[0]) ** 2))\n",
    "    print(np.sum((v[1] - v[0]) ** 2))\n"
   ]
  }
 ],
 "metadata": {
  "interpreter": {
   "hash": "c3ecfbb2e518759e8150e3a4e02d9374d8d11351137435699613669ebcf0f527"
  },
  "kernelspec": {
   "display_name": "Python 3.9.7 64-bit",
   "name": "python3"
  },
  "language_info": {
   "codemirror_mode": {
    "name": "ipython",
    "version": 3
   },
   "file_extension": ".py",
   "mimetype": "text/x-python",
   "name": "python",
   "nbconvert_exporter": "python",
   "pygments_lexer": "ipython3",
   "version": "3.10.2"
  }
 },
 "nbformat": 4,
 "nbformat_minor": 5
}

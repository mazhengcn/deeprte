{
 "cells": [
  {
   "cell_type": "code",
   "execution_count": 1,
   "metadata": {},
   "outputs": [],
   "source": [
    "import scipy.io\n",
    "import numpy as np\n",
    "\n",
    "import sys\n",
    "\n",
    "sys.path.append(\"/root/projects/deeprte\")\n",
    "\n",
    "from deeprte.data import pipeline\n",
    "from deeprte.model import model\n",
    "from deeprte.model.utils import flat_params_to_haiku"
   ]
  },
  {
   "cell_type": "code",
   "execution_count": 12,
   "metadata": {},
   "outputs": [],
   "source": [
    "DATA_DIR = \"/root/projects/deeprte/data/test/sin-g0.1-amplitude5-wavenumber10\"\n",
    "DATA_NAME = [\"sin-g0.1-amplitude5-wavenumber10.mat\"]\n",
    "OUT_NAME = \"sin-g0.1-amplitude5-wavenumber10_downsampling.mat\""
   ]
  },
  {
   "cell_type": "code",
   "execution_count": 13,
   "metadata": {},
   "outputs": [],
   "source": [
    "data = scipy.io.loadmat(DATA_DIR + \"/\" + DATA_NAME[0])"
   ]
  },
  {
   "cell_type": "code",
   "execution_count": 14,
   "metadata": {},
   "outputs": [
    {
     "data": {
      "text/plain": [
       "dict_keys(['__header__', '__version__', '__globals__', 'config', 'ct', 'omega_prime', 'phi', 'psi_bc', 'psi_label', 'rand_params', 'rv_prime', 'scattering_kernel', 'sigma_a', 'sigma_t', 'st', 'w_angle', 'x', 'y', '__function_workspace__'])"
      ]
     },
     "execution_count": 14,
     "metadata": {},
     "output_type": "execute_result"
    }
   ],
   "source": [
    "data.keys()"
   ]
  },
  {
   "cell_type": "code",
   "execution_count": 15,
   "metadata": {},
   "outputs": [],
   "source": [
    "data[\"sigma_a\"] = data[\"sigma_a\"][:,::2,::2]\n",
    "data[\"sigma_t\"] = data[\"sigma_t\"][:,::2,::2]\n",
    "data[\"x_coef\"] = np.squeeze(data[\"x\"])[::2]\n",
    "data[\"y_coef\"] = np.squeeze(data[\"y\"])[::2]"
   ]
  },
  {
   "cell_type": "code",
   "execution_count": 16,
   "metadata": {},
   "outputs": [],
   "source": [
    "scipy.io.savemat(DATA_DIR+\"/\"+OUT_NAME, data)"
   ]
  },
  {
   "cell_type": "code",
   "execution_count": 2,
   "metadata": {},
   "outputs": [
    {
     "data": {
      "text/plain": [
       "{'boundary': (100, 160, 12),\n",
       " 'boundary_scattering_kernel': (100, 160, 12, 24),\n",
       " 'psi_label': (100, 40, 40, 24),\n",
       " 'scattering_kernel': (100, 40, 40, 24, 24),\n",
       " 'self_scattering_kernel': (100, 24, 24),\n",
       " 'sigma': (100, 20, 20, 2)}"
      ]
     },
     "execution_count": 2,
     "metadata": {},
     "output_type": "execute_result"
    }
   ],
   "source": [
    "import jax\n",
    "\n",
    "DATA_DIR = \"/root/projects/deeprte/data/test/bc1-g0.8\"\n",
    "DATA_NAME = [\"bc1-g0.8_downsampling.mat\"]\n",
    "\n",
    "data_pipeline = pipeline.DataPipeline(DATA_DIR, DATA_NAME)\n",
    "raw_feature_dict = data_pipeline.process()\n",
    "num_examples = raw_feature_dict[\"shape\"][\"num_examples\"]\n",
    "\n",
    "del data_pipeline\n",
    "# del _raw_feature_dict\n",
    "jax.tree_map(lambda x: x.shape, raw_feature_dict[\"functions\"])"
   ]
  },
  {
   "cell_type": "code",
   "execution_count": 3,
   "metadata": {},
   "outputs": [
    {
     "data": {
      "text/plain": [
       "{'boundary_coords': (160, 12, 4),\n",
       " 'boundary_weights': (160, 12),\n",
       " 'phase_coords': (40, 40, 24, 4),\n",
       " 'position_coords': (20, 20, 2),\n",
       " 'velocity_coords': (24, 2),\n",
       " 'velocity_weights': (24,)}"
      ]
     },
     "execution_count": 3,
     "metadata": {},
     "output_type": "execute_result"
    }
   ],
   "source": [
    "jax.tree_map(lambda x: x.shape, raw_feature_dict[\"grid\"])"
   ]
  },
  {
   "cell_type": "code",
   "execution_count": 5,
   "metadata": {},
   "outputs": [
    {
     "data": {
      "text/plain": [
       "{'num_examples': 100,\n",
       " 'num_position_coords': 400,\n",
       " 'num_velocity_coords': 24,\n",
       " 'num_phase_coords': 38400,\n",
       " 'num_boundary_coords': 1920}"
      ]
     },
     "execution_count": 5,
     "metadata": {},
     "output_type": "execute_result"
    }
   ],
   "source": [
    "raw_feature_dict[\"shape\"]"
   ]
  },
  {
   "cell_type": "code",
   "execution_count": 6,
   "metadata": {},
   "outputs": [
    {
     "data": {
      "text/plain": [
       "array([[[ 0.        ,  0.0125    ,  0.2554414 , -0.2554414 ],\n",
       "        [ 0.        ,  0.0125    ,  0.28708965, -0.69309574],\n",
       "        [ 0.        ,  0.0125    ,  0.69309574, -0.28708965],\n",
       "        ...,\n",
       "        [ 0.        ,  0.0125    ,  0.9380233 ,  0.2513426 ],\n",
       "        [ 0.        ,  0.0125    ,  0.68668073,  0.68668073],\n",
       "        [ 0.        ,  0.0125    ,  0.2513426 ,  0.9380233 ]],\n",
       "\n",
       "       [[ 0.        ,  0.0375    ,  0.2554414 , -0.2554414 ],\n",
       "        [ 0.        ,  0.0375    ,  0.28708965, -0.69309574],\n",
       "        [ 0.        ,  0.0375    ,  0.69309574, -0.28708965],\n",
       "        ...,\n",
       "        [ 0.        ,  0.0375    ,  0.9380233 ,  0.2513426 ],\n",
       "        [ 0.        ,  0.0375    ,  0.68668073,  0.68668073],\n",
       "        [ 0.        ,  0.0375    ,  0.2513426 ,  0.9380233 ]],\n",
       "\n",
       "       [[ 0.        ,  0.0625    ,  0.2554414 , -0.2554414 ],\n",
       "        [ 0.        ,  0.0625    ,  0.28708965, -0.69309574],\n",
       "        [ 0.        ,  0.0625    ,  0.69309574, -0.28708965],\n",
       "        ...,\n",
       "        [ 0.        ,  0.0625    ,  0.9380233 ,  0.2513426 ],\n",
       "        [ 0.        ,  0.0625    ,  0.68668073,  0.68668073],\n",
       "        [ 0.        ,  0.0625    ,  0.2513426 ,  0.9380233 ]],\n",
       "\n",
       "       ...,\n",
       "\n",
       "       [[ 0.9375    ,  1.        , -0.2554414 , -0.2554414 ],\n",
       "        [ 0.9375    ,  1.        , -0.69309574, -0.28708965],\n",
       "        [ 0.9375    ,  1.        , -0.28708965, -0.69309574],\n",
       "        ...,\n",
       "        [ 0.9375    ,  1.        ,  0.2513426 , -0.9380233 ],\n",
       "        [ 0.9375    ,  1.        ,  0.68668073, -0.68668073],\n",
       "        [ 0.9375    ,  1.        ,  0.9380233 , -0.2513426 ]],\n",
       "\n",
       "       [[ 0.9625    ,  1.        , -0.2554414 , -0.2554414 ],\n",
       "        [ 0.9625    ,  1.        , -0.69309574, -0.28708965],\n",
       "        [ 0.9625    ,  1.        , -0.28708965, -0.69309574],\n",
       "        ...,\n",
       "        [ 0.9625    ,  1.        ,  0.2513426 , -0.9380233 ],\n",
       "        [ 0.9625    ,  1.        ,  0.68668073, -0.68668073],\n",
       "        [ 0.9625    ,  1.        ,  0.9380233 , -0.2513426 ]],\n",
       "\n",
       "       [[ 0.9875    ,  1.        , -0.2554414 , -0.2554414 ],\n",
       "        [ 0.9875    ,  1.        , -0.69309574, -0.28708965],\n",
       "        [ 0.9875    ,  1.        , -0.28708965, -0.69309574],\n",
       "        ...,\n",
       "        [ 0.9875    ,  1.        ,  0.2513426 , -0.9380233 ],\n",
       "        [ 0.9875    ,  1.        ,  0.68668073, -0.68668073],\n",
       "        [ 0.9875    ,  1.        ,  0.9380233 , -0.2513426 ]]],\n",
       "      dtype=float32)"
      ]
     },
     "execution_count": 6,
     "metadata": {},
     "output_type": "execute_result"
    }
   ],
   "source": [
    "raw_feature_dict[\"grid\"][\"boundary_coords\"]"
   ]
  },
  {
   "cell_type": "code",
   "execution_count": null,
   "metadata": {},
   "outputs": [],
   "source": []
  }
 ],
 "metadata": {
  "kernelspec": {
   "display_name": "Python 3",
   "language": "python",
   "name": "python3"
  },
  "language_info": {
   "codemirror_mode": {
    "name": "ipython",
    "version": 3
   },
   "file_extension": ".py",
   "mimetype": "text/x-python",
   "name": "python",
   "nbconvert_exporter": "python",
   "pygments_lexer": "ipython3",
   "version": "3.12.1"
  }
 },
 "nbformat": 4,
 "nbformat_minor": 2
}

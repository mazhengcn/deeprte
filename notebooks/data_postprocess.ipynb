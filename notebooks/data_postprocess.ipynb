{
 "cells": [
  {
   "cell_type": "code",
   "execution_count": 1,
   "metadata": {},
   "outputs": [],
   "source": [
    "import pathlib\n",
    "\n",
    "import jax\n",
    "import jax.numpy as jnp\n",
    "import numpy as np\n",
    "import orbax.checkpoint as orbax\n",
    "from flax import nnx\n",
    "from jax.sharding import PartitionSpec as P\n",
    "from rte_dataset.builders import pipeline\n",
    "\n",
    "from deeprte.configs import default\n",
    "from deeprte.model import features\n",
    "from deeprte.model.autoencoder import AutoEncoder\n",
    "from deeprte.model.mapping import inference_subbatch\n",
    "from deeprte.model.tf import rte_features\n",
    "from deeprte.train_lib import utils"
   ]
  },
  {
   "cell_type": "code",
   "execution_count": 2,
   "metadata": {},
   "outputs": [],
   "source": [
    "path = \"/workspaces/deeprte/ckpts/g0.1-gaussian-source0121\""
   ]
  },
  {
   "cell_type": "code",
   "execution_count": 3,
   "metadata": {},
   "outputs": [],
   "source": [
    "config = default.get_config(path + \"/config.yaml\")"
   ]
  },
  {
   "cell_type": "code",
   "execution_count": 4,
   "metadata": {},
   "outputs": [],
   "source": [
    "config.load_parameters_path = (path + \"/infer/params\",)"
   ]
  },
  {
   "cell_type": "code",
   "execution_count": 5,
   "metadata": {},
   "outputs": [],
   "source": [
    "devices_array = utils.create_device_mesh(config, devices=jax.local_devices())\n",
    "mesh = jax.sharding.Mesh(devices_array, config.mesh_axes)\n",
    "\n",
    "replicated_sharding = jax.sharding.NamedSharding(mesh, P(None))\n",
    "data_sharding = jax.sharding.NamedSharding(mesh, P(None, *config.data_sharding))\n",
    "\n",
    "feature_sharding = {\n",
    "    k: data_sharding if k in rte_features.PHASE_COORDS_FEATURES else replicated_sharding\n",
    "    for k in rte_features.FEATURES\n",
    "}\n",
    "\n",
    "rngs = jax.random.key(0)"
   ]
  },
  {
   "cell_type": "code",
   "execution_count": 6,
   "metadata": {},
   "outputs": [],
   "source": [
    "state, state_sharding = utils.get_abstract_state(\n",
    "    constructor=lambda config, rngs: AutoEncoder(config, rngs=nnx.Rngs(params=rngs)),\n",
    "    tx=None,\n",
    "    config=config,\n",
    "    rng=rngs,\n",
    "    mesh=mesh,\n",
    "    is_training=False,\n",
    ")"
   ]
  },
  {
   "cell_type": "code",
   "execution_count": 7,
   "metadata": {},
   "outputs": [
    {
     "data": {
      "text/plain": [
       "('/workspaces/deeprte/ckpts/g0.1-gaussian-source0121/infer/params',)"
      ]
     },
     "execution_count": 7,
     "metadata": {},
     "output_type": "execute_result"
    }
   ],
   "source": [
    "config.load_parameters_path\n"
   ]
  },
  {
   "cell_type": "code",
   "execution_count": 8,
   "metadata": {},
   "outputs": [
    {
     "name": "stderr",
     "output_type": "stream",
     "text": [
      "/usr/local/lib/python3.10/site-packages/orbax/checkpoint/type_handlers.py:1591: UserWarning: Couldn't find sharding info under RestoreArgs. Populating sharding info from sharding file. Please note restoration time will be slightly increased due to reading from file instead of directly from RestoreArgs. Note also that this option is unsafe when restoring on a different topology than the checkpoint was saved with.\n",
      "  warnings.warn(\n"
     ]
    }
   ],
   "source": [
    "checkpointer = orbax.PyTreeCheckpointer()\n",
    "_params = {}\n",
    "for path in config.load_parameters_path:\n",
    "    _res_params = checkpointer.restore(path)\n",
    "    _params = _params | _res_params[\"params\"]"
   ]
  },
  {
   "cell_type": "code",
   "execution_count": 9,
   "metadata": {},
   "outputs": [],
   "source": [
    "graphdef, state = utils.module_from_variables_dict(\n",
    "    lambda: nnx.eval_shape(lambda: AutoEncoder(config, rngs=nnx.Rngs(params=rngs))),\n",
    "    _params,\n",
    "    lambda path: path[:-1] if path[-1] == \"value\" else path,\n",
    ")\n"
   ]
  },
  {
   "cell_type": "code",
   "execution_count": 10,
   "metadata": {},
   "outputs": [],
   "source": [
    "params = utils.init_infer_state(None, state).params"
   ]
  },
  {
   "cell_type": "code",
   "execution_count": 11,
   "metadata": {},
   "outputs": [
    {
     "name": "stdout",
     "output_type": "stream",
     "text": [
      "Number of model params=165760\n"
     ]
    }
   ],
   "source": [
    "num_params = utils.calculate_num_params_from_pytree(params)\n",
    "print(f\"Number of model params={num_params}\")"
   ]
  },
  {
   "cell_type": "code",
   "execution_count": 60,
   "metadata": {},
   "outputs": [],
   "source": [
    "def forward_fn(params, features, graphdef):\n",
    "    model = nnx.merge(graphdef, params)\n",
    "\n",
    "    def func(features):\n",
    "        moments = model.encoder(\n",
    "            features[\"source\"], [features[\"source_coords\"], features[\"source_weights\"]]\n",
    "        )\n",
    "        print(moments.shape)\n",
    "        basis = model.mlp(features[\"source_coords\"])\n",
    "        print(basis.shape)\n",
    "        return basis, moments\n",
    "\n",
    "    return jax.vmap(func)(features)"
   ]
  },
  {
   "cell_type": "code",
   "execution_count": 61,
   "metadata": {},
   "outputs": [],
   "source": [
    "jit_predict_fn = jax.jit(\n",
    "    forward_fn,\n",
    "    in_shardings=(state_sharding.params, feature_sharding),\n",
    "    out_shardings=data_sharding,\n",
    "    static_argnums=2,\n",
    ")"
   ]
  },
  {
   "cell_type": "code",
   "execution_count": 85,
   "metadata": {},
   "outputs": [],
   "source": [
    "# params\n",
    "# data_path = pathlib.Path(\n",
    "#     \"/workspaces/deeprte/data/raw_data/train/g0.1-q0.003/g0.1-q0.003.npz\"\n",
    "# )\n",
    "# data_path = pathlib.Path(\n",
    "#     \"/workspaces/deeprte/data/raw_data/test/source-g0.1-qconstant/g0.1-qconstant.npz\"\n",
    "# )\n",
    "data_path = pathlib.Path(\n",
    "    \"/workspaces/deeprte/data/raw_data/train/g0.1-gaussian-alpha5/g0.1-gaussian-alpha5.npz\"\n",
    ")\n",
    "data_pipeline = pipeline.DataPipeline(data_path.parent, [data_path.name])\n",
    "raw_feature_dict = data_pipeline.process()\n",
    "del data_pipeline"
   ]
  },
  {
   "cell_type": "code",
   "execution_count": 86,
   "metadata": {},
   "outputs": [
    {
     "data": {
      "text/plain": [
       "dict_keys(['sigma', 'psi_label', 'scattering_kernel', 'boundary_scattering_kernel', 'self_scattering_kernel', 'boundary', 'source', 'source_label'])"
      ]
     },
     "execution_count": 86,
     "metadata": {},
     "output_type": "execute_result"
    }
   ],
   "source": [
    "raw_feature_dict[\"functions\"].keys()"
   ]
  },
  {
   "cell_type": "code",
   "execution_count": 87,
   "metadata": {},
   "outputs": [],
   "source": [
    "# i = 0\n",
    "# a = 1\n",
    "# b = 0\n",
    "# bc = (\n",
    "#     a * raw_feature_dict[\"functions\"][\"boundary\"][i : i + 1]\n",
    "#     + b * raw_feature_dict[\"functions\"][\"boundary\"][i + 1 : i + 2]\n",
    "# )"
   ]
  },
  {
   "cell_type": "code",
   "execution_count": 88,
   "metadata": {},
   "outputs": [],
   "source": [
    "i = 0\n",
    "feature_dict = {\n",
    "    \"functions\": jax.tree.map(lambda x: x[i : i + 1], raw_feature_dict[\"functions\"]),\n",
    "    \"grid\": raw_feature_dict[\"grid\"],\n",
    "    \"shape\": raw_feature_dict[\"shape\"],\n",
    "}\n"
   ]
  },
  {
   "cell_type": "code",
   "execution_count": 89,
   "metadata": {},
   "outputs": [
    {
     "data": {
      "text/plain": [
       "['source_coords', 'source_weights', 'source']"
      ]
     },
     "execution_count": 89,
     "metadata": {},
     "output_type": "execute_result"
    }
   ],
   "source": [
    "rte_features.SOURCE_COORDS_FEATURES"
   ]
  },
  {
   "cell_type": "code",
   "execution_count": 90,
   "metadata": {},
   "outputs": [
    {
     "data": {
      "text/plain": [
       "{'boundary_coords': (40, 40, 24, 4),\n",
       " 'boundary_weights': (40, 40, 24),\n",
       " 'phase_coords': (40, 40, 24, 4),\n",
       " 'position_coords': (40, 40, 2),\n",
       " 'source_coords': (40, 40, 24, 4),\n",
       " 'source_weights': (40, 40, 24),\n",
       " 'velocity_coords': (24, 2),\n",
       " 'velocity_weights': (24,)}"
      ]
     },
     "execution_count": 90,
     "metadata": {},
     "output_type": "execute_result"
    }
   ],
   "source": [
    "jax.tree.map(\n",
    "    lambda x: x.shape if isinstance(x, np.ndarray) else x, feature_dict[\"grid\"]\n",
    ")"
   ]
  },
  {
   "cell_type": "code",
   "execution_count": 91,
   "metadata": {},
   "outputs": [],
   "source": [
    "processed_feature_dict = features.np_data_to_features(feature_dict)\n",
    "phase_feat, other_feat = features.split_feature(\n",
    "    processed_feature_dict, filter=lambda x: x in rte_features.SOURCE_COORDS_FEATURES\n",
    ")"
   ]
  },
  {
   "cell_type": "code",
   "execution_count": 92,
   "metadata": {},
   "outputs": [
    {
     "data": {
      "text/plain": [
       "{'boundary': (1, 38400),\n",
       " 'boundary_coords': (1, 38400, 4),\n",
       " 'boundary_weights': (1, 38400),\n",
       " 'phase_coords': (1, 38400, 4),\n",
       " 'position_coords': (1, 1600, 2),\n",
       " 'scattering_kernel': (1, 38400, 24),\n",
       " 'self_scattering_kernel': (1, 24, 24),\n",
       " 'sigma': (1, 1600, 2),\n",
       " 'source': (1, 38400),\n",
       " 'source_coords': (1, 38400, 4),\n",
       " 'source_weights': (1, 38400),\n",
       " 'velocity_coords': (1, 24, 2),\n",
       " 'velocity_weights': (1, 24)}"
      ]
     },
     "execution_count": 92,
     "metadata": {},
     "output_type": "execute_result"
    }
   ],
   "source": [
    "jax.tree.map(\n",
    "    lambda x: x.shape if isinstance(x, np.ndarray) else x, processed_feature_dict\n",
    ")\n"
   ]
  },
  {
   "cell_type": "code",
   "execution_count": 93,
   "metadata": {},
   "outputs": [
    {
     "data": {
      "text/plain": [
       "dict_keys(['source', 'source_coords', 'source_weights'])"
      ]
     },
     "execution_count": 93,
     "metadata": {},
     "output_type": "execute_result"
    }
   ],
   "source": [
    "phase_feat.keys()"
   ]
  },
  {
   "cell_type": "code",
   "execution_count": 94,
   "metadata": {},
   "outputs": [],
   "source": [
    "out = inference_subbatch(\n",
    "    module=lambda x: jit_predict_fn(params, x, graphdef),\n",
    "    subbatch_size=128,\n",
    "    batched_args=phase_feat,\n",
    "    nonbatched_args=other_feat,\n",
    "    low_memory=False,\n",
    ")"
   ]
  },
  {
   "cell_type": "code",
   "execution_count": 106,
   "metadata": {},
   "outputs": [],
   "source": [
    "result = {}\n",
    "result[\"moments\"] = out[1]\n",
    "result[\"grim_matrix\"] = jnp.einsum(\n",
    "    \"...ij,...ik->...jk\", phase_feat[\"source_weights\"][..., None] * out[0], out[0]\n",
    ")"
   ]
  },
  {
   "cell_type": "code",
   "execution_count": 107,
   "metadata": {},
   "outputs": [
    {
     "data": {
      "text/plain": [
       "(38400,)"
      ]
     },
     "execution_count": 107,
     "metadata": {},
     "output_type": "execute_result"
    }
   ],
   "source": [
    "_boundary = jnp.einsum(\"k,jk->j\", jnp.squeeze(result[\"moments\"]), jnp.squeeze(out[0]))\n",
    "_boundary.shape"
   ]
  },
  {
   "cell_type": "code",
   "execution_count": 108,
   "metadata": {},
   "outputs": [
    {
     "data": {
      "text/plain": [
       "Array(0.0603061, dtype=float32)"
      ]
     },
     "execution_count": 108,
     "metadata": {},
     "output_type": "execute_result"
    }
   ],
   "source": [
    "def rmse(pred, target):\n",
    "    return jnp.sqrt(jnp.mean((pred - target) ** 2) / jnp.mean(target**2))\n",
    "\n",
    "\n",
    "rmse(_boundary, jnp.squeeze(phase_feat[\"source\"]))\n"
   ]
  },
  {
   "cell_type": "code",
   "execution_count": 109,
   "metadata": {},
   "outputs": [],
   "source": [
    "results = [result, result]\n"
   ]
  },
  {
   "cell_type": "code",
   "execution_count": 110,
   "metadata": {},
   "outputs": [],
   "source": [
    "all_results = jax.tree.map(lambda *xs: np.concatenate(xs, axis=0), *results)"
   ]
  },
  {
   "cell_type": "code",
   "execution_count": 111,
   "metadata": {},
   "outputs": [
    {
     "data": {
      "text/plain": [
       "{'grim_matrix': (2, 128, 128), 'moments': (2, 128)}"
      ]
     },
     "execution_count": 111,
     "metadata": {},
     "output_type": "execute_result"
    }
   ],
   "source": [
    "jax.tree.map(lambda x: x.shape, all_results)"
   ]
  },
  {
   "cell_type": "code",
   "execution_count": null,
   "metadata": {},
   "outputs": [],
   "source": []
  }
 ],
 "metadata": {
  "kernelspec": {
   "display_name": "Python 3",
   "language": "python",
   "name": "python3"
  },
  "language_info": {
   "codemirror_mode": {
    "name": "ipython",
    "version": 3
   },
   "file_extension": ".py",
   "mimetype": "text/x-python",
   "name": "python",
   "nbconvert_exporter": "python",
   "pygments_lexer": "ipython3",
   "version": "3.10.14"
  }
 },
 "nbformat": 4,
 "nbformat_minor": 2
}

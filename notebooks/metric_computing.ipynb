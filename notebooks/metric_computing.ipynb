{
 "cells": [
  {
   "cell_type": "code",
   "execution_count": 6,
   "metadata": {},
   "outputs": [],
   "source": [
    "import json\n",
    "import os\n",
    "\n",
    "import numpy as np"
   ]
  },
  {
   "cell_type": "code",
   "execution_count": 7,
   "metadata": {},
   "outputs": [],
   "source": [
    "DATA_DIR = \"/workspaces/deeprte/data/results/sin-g0.8-amplitude5-wavenumber10\""
   ]
  },
  {
   "cell_type": "code",
   "execution_count": 8,
   "metadata": {},
   "outputs": [
    {
     "name": "stdout",
     "output_type": "stream",
     "text": [
      "{\n",
      "    \"config\": \"/workspaces/deeprte/ckpts/infer/g0.8-infer/config.yaml\",\n",
      "    \"data_dir\": \"/workspaces/deeprte/data/raw_data/test/sin-g0.8-amplitude5-wavenumber10/sin-g0.8-amplitude5-wavenumber10.mat\"\n",
      "}\n"
     ]
    }
   ],
   "source": [
    "metrics_dict = {}\n",
    "\n",
    "for item in os.listdir(DATA_DIR):\n",
    "    item_path = os.path.join(DATA_DIR, item)\n",
    "    if os.path.isdir(item_path):\n",
    "        file_path = os.path.join(item_path, \"metrics.json\")\n",
    "        with open(file_path, \"r\") as f:\n",
    "            metrics = json.load(f)\n",
    "            for key, value in metrics.items():\n",
    "                if key not in metrics_dict:\n",
    "                    metrics_dict[key] = []\n",
    "                metrics_dict[key].append(float(value))\n",
    "    elif item.endswith(\".json\"):\n",
    "        with open(item_path, \"r\") as f:\n",
    "            print(f.read())"
   ]
  },
  {
   "cell_type": "code",
   "execution_count": 9,
   "metadata": {},
   "outputs": [],
   "source": [
    "metrics_dict = {key: np.mean(value) for key, value in metrics_dict.items()}"
   ]
  },
  {
   "cell_type": "code",
   "execution_count": 10,
   "metadata": {},
   "outputs": [
    {
     "data": {
      "text/plain": [
       "{'psi_rmse': 0.046990293589999996,\n",
       " 'phi_rmse': 0.035716374605,\n",
       " 'psi_mse': 0.006856758971000001,\n",
       " 'phi_mse': 0.0028699449905000003}"
      ]
     },
     "execution_count": 10,
     "metadata": {},
     "output_type": "execute_result"
    }
   ],
   "source": [
    "metrics_dict"
   ]
  },
  {
   "cell_type": "code",
   "execution_count": null,
   "metadata": {},
   "outputs": [],
   "source": []
  },
  {
   "cell_type": "code",
   "execution_count": null,
   "metadata": {},
   "outputs": [],
   "source": []
  }
 ],
 "metadata": {
  "kernelspec": {
   "display_name": "Python 3",
   "language": "python",
   "name": "python3"
  },
  "language_info": {
   "codemirror_mode": {
    "name": "ipython",
    "version": 3
   },
   "file_extension": ".py",
   "mimetype": "text/x-python",
   "name": "python",
   "nbconvert_exporter": "python",
   "pygments_lexer": "ipython3",
   "version": "3.10.14"
  }
 },
 "nbformat": 4,
 "nbformat_minor": 2
}

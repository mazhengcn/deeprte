{
 "cells": [
  {
   "cell_type": "code",
   "execution_count": null,
   "metadata": {},
   "outputs": [],
   "source": [
    "import jax\n",
    "from flax import nnx\n",
    "\n",
    "from deeprte.model import modules\n",
    "from deeprte.model.characteristics import Characteristics\n",
    "from deeprte import input_pipeline\n",
    "\n",
    "config = modules.DeepRTEConfig()\n",
    "rng = nnx.Rngs(42)"
   ]
  },
  {
   "cell_type": "code",
   "execution_count": null,
   "metadata": {},
   "outputs": [],
   "source": [
    "split = input_pipeline.Split.TRAIN\n",
    "ds = input_pipeline.load(\n",
    "    name=\"rte\",\n",
    "    split=split,\n",
    "    split_percentage=\"20%\",\n",
    "    batch_sizes=[1],\n",
    "    tfds_dir=\"/workspaces/deeprte/data/tfds\",\n",
    "    collocation_sizes=[120],\n",
    ")\n",
    "batch = next(ds)\n",
    "jax.tree.map(lambda x: x.shape, batch)"
   ]
  },
  {
   "attachments": {},
   "cell_type": "markdown",
   "metadata": {},
   "source": [
    "## Test DeepRTE"
   ]
  },
  {
   "cell_type": "code",
   "execution_count": null,
   "metadata": {},
   "outputs": [],
   "source": [
    "deeprte = modules.DeepRTE(config, rngs=rng)\n",
    "\n",
    "nnx.display(deeprte)"
   ]
  },
  {
   "attachments": {},
   "cell_type": "markdown",
   "metadata": {},
   "source": [
    "### Params"
   ]
  },
  {
   "cell_type": "code",
   "execution_count": null,
   "metadata": {},
   "outputs": [],
   "source": [
    "graphdef, params = nnx.split(deeprte)\n",
    "jax.tree.reduce(lambda x, y: x + y, jax.tree.map(lambda x: x.size, params))"
   ]
  },
  {
   "attachments": {},
   "cell_type": "markdown",
   "metadata": {},
   "source": [
    "#### Case 1: train mode"
   ]
  },
  {
   "cell_type": "code",
   "execution_count": null,
   "metadata": {},
   "outputs": [],
   "source": [
    "@jax.jit\n",
    "def train_step(params, batch):\n",
    "    module = nnx.merge(graphdef, params)\n",
    "    module.set_attributes(low_memory=False)\n",
    "    return module(batch)"
   ]
  },
  {
   "cell_type": "code",
   "execution_count": null,
   "metadata": {},
   "outputs": [],
   "source": [
    "collocation_size = 128\n",
    "\n",
    "subbatch = batch.copy()\n",
    "\n",
    "subbatch[\"phase_coords\"] = batch[\"phase_coords\"][:, :collocation_size]\n",
    "subbatch[\"scattering_kernel\"] = batch[\"scattering_kernel\"][:, :collocation_size]\n",
    "\n",
    "\n",
    "%timeit prediction = train_step(params, subbatch)"
   ]
  },
  {
   "attachments": {},
   "cell_type": "markdown",
   "metadata": {},
   "source": [
    "#### Case 2: evaluation / inference mode"
   ]
  },
  {
   "cell_type": "code",
   "execution_count": null,
   "metadata": {},
   "outputs": [],
   "source": [
    "@jax.jit\n",
    "def eval_step(params, batch):\n",
    "    module = nnx.merge(graphdef, params)\n",
    "    module.set_attributes(low_memory=True)\n",
    "    return module(batch)"
   ]
  },
  {
   "cell_type": "code",
   "execution_count": null,
   "metadata": {},
   "outputs": [],
   "source": [
    "%%time\n",
    "\n",
    "prediction = eval_step(params, batch)\n",
    "\n",
    "print(prediction.shape)"
   ]
  },
  {
   "attachments": {},
   "cell_type": "markdown",
   "metadata": {},
   "source": [
    "## Test Green's function"
   ]
  },
  {
   "cell_type": "code",
   "execution_count": null,
   "metadata": {},
   "outputs": [],
   "source": [
    "one_point_example = {}\n",
    "\n",
    "single_example = jax.tree.map(lambda x: x[0], batch)\n",
    "for k, v in single_example.items():\n",
    "    if k in [\"phase_coords\", \"scattering_kernel\"]:\n",
    "        one_point_example[k] = v[0]\n",
    "    else:\n",
    "        one_point_example[k] = v\n",
    "\n",
    "jax.tree.map(lambda x: x.shape, one_point_example)"
   ]
  },
  {
   "cell_type": "code",
   "execution_count": null,
   "metadata": {},
   "outputs": [],
   "source": [
    "green_fn = modules.GreenFunction(config=config, rngs=nnx.Rngs(0))\n",
    "\n",
    "y = jax.vmap(green_fn, in_axes=(None, 0, None), out_axes=-1)(\n",
    "    one_point_example[\"phase_coords\"],\n",
    "    one_point_example[\"boundary_coords\"],\n",
    "    one_point_example,\n",
    ")\n",
    "\n",
    "y.shape"
   ]
  },
  {
   "attachments": {},
   "cell_type": "markdown",
   "metadata": {},
   "source": [
    "## Test Attenuation module"
   ]
  },
  {
   "cell_type": "code",
   "execution_count": null,
   "metadata": {},
   "outputs": [],
   "source": [
    "coord1 = jax.random.uniform(rng(), [5, 4])\n",
    "coord2 = jax.random.uniform(rng(), [5, 4])\n",
    "att_coeff = jax.random.uniform(rng(), [50, 2])\n",
    "\n",
    "grid = jax.random.uniform(rng(), [50, 2])\n",
    "char = Characteristics.from_tensor(grid)\n",
    "\n",
    "attenuation = modules.Attenuation(config=config, rngs=nnx.Rngs(0))\n",
    "jax.vmap(attenuation, in_axes=(0, 0, None, None))(coord1, coord2, att_coeff, char).shape"
   ]
  }
 ],
 "metadata": {
  "kernelspec": {
   "display_name": "Python 3 (ipykernel)",
   "language": "python",
   "name": "python3"
  },
  "language_info": {
   "codemirror_mode": {
    "name": "ipython",
    "version": 3
   },
   "file_extension": ".py",
   "mimetype": "text/x-python",
   "name": "python",
   "nbconvert_exporter": "python",
   "pygments_lexer": "ipython3",
   "version": "3.10.12"
  },
  "orig_nbformat": 4,
  "vscode": {
   "interpreter": {
    "hash": "949777d72b0d2535278d3dc13498b2535136f6dfe0678499012e853ee9abcab1"
   }
  }
 },
 "nbformat": 4,
 "nbformat_minor": 2
}

{
 "cells": [
  {
   "cell_type": "code",
   "execution_count": 1,
   "metadata": {},
   "outputs": [],
   "source": [
    "import os\n",
    "os.environ[\"CUDA_VISIBLE_DEVICES\"] = '7'"
   ]
  },
  {
   "cell_type": "code",
   "execution_count": 2,
   "metadata": {},
   "outputs": [],
   "source": [
    "from deeprte.config import make_config\n",
    "config = make_config()"
   ]
  },
  {
   "cell_type": "code",
   "execution_count": 3,
   "metadata": {},
   "outputs": [],
   "source": [
    "data_path = \"/workspaces/deeprte/rte_data/rte_data/matlab/eval-data/test_shape.mat\"\n",
    "\n",
    "from deeprte.data.pipeline import DataPipeline\n",
    "data_pipeline = DataPipeline(data_path)\n",
    "data = data_pipeline.process(pre_shuffle=True, is_split_test_samples=True, num_test_samples= 2)\n",
    "\n",
    "from deeprte.model.tf.rte_dataset import np_to_tensor_dict\n",
    "\n",
    "tf_data = np_to_tensor_dict(data)\n",
    "\n",
    "from deeprte.model.tf.rte_dataset import divide_batch_feat\n",
    "batched_data, unbatched_data = divide_batch_feat(tf_data)\n",
    "\n",
    "from deeprte.model.tf.rte_features import _COLLOCATION_FEATURE_NAMES"
   ]
  },
  {
   "cell_type": "code",
   "execution_count": 4,
   "metadata": {},
   "outputs": [],
   "source": [
    "import tensorflow as tf\n",
    "import haiku as hk\n",
    "_batched_data = tf.nest.map_structure(lambda x: x[0], batched_data)\n",
    "tf_data = {**_batched_data, **unbatched_data}"
   ]
  },
  {
   "cell_type": "code",
   "execution_count": 5,
   "metadata": {},
   "outputs": [
    {
     "data": {
      "text/plain": [
       "{'sigma': TensorShape([1681, 2]),\n",
       " 'psi_label': TensorShape([40344]),\n",
       " 'scattering_kernel': TensorShape([40344, 24]),\n",
       " 'self_scattering_kernel': TensorShape([24, 24]),\n",
       " 'boundary': TensorShape([1968]),\n",
       " 'position_coords': TensorShape([1681, 2]),\n",
       " 'velocity_coords': TensorShape([24, 2]),\n",
       " 'phase_coords': TensorShape([40344, 4]),\n",
       " 'boundary_coords': TensorShape([1968, 4]),\n",
       " 'boundary_weights': TensorShape([1968]),\n",
       " 'velocity_weights': TensorShape([24])}"
      ]
     },
     "execution_count": 5,
     "metadata": {},
     "output_type": "execute_result"
    }
   ],
   "source": [
    "tf.nest.map_structure(lambda x: x.shape, tf_data)"
   ]
  },
  {
   "cell_type": "code",
   "execution_count": 6,
   "metadata": {},
   "outputs": [],
   "source": [
    "from deeprte.model.modules import CoefficientNet"
   ]
  },
  {
   "cell_type": "code",
   "execution_count": 7,
   "metadata": {},
   "outputs": [
    {
     "data": {
      "text/plain": [
       "attention_net:\n",
       "  widths:\n",
       "  - 64\n",
       "  - 1"
      ]
     },
     "execution_count": 7,
     "metadata": {},
     "output_type": "execute_result"
    }
   ],
   "source": [
    "config.model.green_function.scatter_model.transport_model.coefficient_net"
   ]
  },
  {
   "cell_type": "code",
   "execution_count": 8,
   "metadata": {},
   "outputs": [],
   "source": [
    "import jax\n",
    "import jax.numpy as jnp\n",
    "from deeprte.model.tf.feature_transform import select_feat"
   ]
  },
  {
   "cell_type": "code",
   "execution_count": 9,
   "metadata": {},
   "outputs": [],
   "source": [
    "jnp_data = jax.tree_util.tree_map(lambda x: jnp.array(x), tf_data)\n",
    "rng = hk.PRNGSequence(jax.random.PRNGKey(42))"
   ]
  },
  {
   "cell_type": "code",
   "execution_count": 20,
   "metadata": {},
   "outputs": [],
   "source": [
    "from deeprte.model.modules import ScatterModel"
   ]
  },
  {
   "cell_type": "code",
   "execution_count": 21,
   "metadata": {},
   "outputs": [],
   "source": [
    "def forward_scatter(x, x_prime, v_prime, batch):\n",
    "        out = ScatterModel(config.model.green_function.scatter_model)(x, x_prime, v_prime, batch)\n",
    "        return out"
   ]
  },
  {
   "cell_type": "code",
   "execution_count": 22,
   "metadata": {},
   "outputs": [
    {
     "name": "stdout",
     "output_type": "stream",
     "text": [
      "{'boundary_coords': (4,), 'phase_coords': (4,)}\n"
     ]
    }
   ],
   "source": [
    "feature_name_list = ['phase_coords','boundary_coords']\n",
    "_dummy_input = select_feat(feature_name_list)(jnp_data)\n",
    "# dummy_input = jax.tree_util.tree_map(lambda x: x[0], dummy_input)\n",
    "for k in _COLLOCATION_FEATURE_NAMES:\n",
    "    if k in _dummy_input:\n",
    "        _dummy_input[k] = _dummy_input[k][0]\n",
    "_dummy_input['boundary_coords'] = _dummy_input['boundary_coords'][0]\n",
    "print(jax.tree_util.tree_map(lambda x: x.shape, _dummy_input))\n",
    "\n",
    "\n",
    "dummy_input = (_dummy_input['phase_coords'][:2], _dummy_input['boundary_coords'][:2], _dummy_input['boundary_coords'][2:], jnp_data)"
   ]
  },
  {
   "cell_type": "code",
   "execution_count": 23,
   "metadata": {},
   "outputs": [],
   "source": [
    "config.model.green_function.scatter_model.res_block_depth = 2"
   ]
  },
  {
   "cell_type": "code",
   "execution_count": 24,
   "metadata": {},
   "outputs": [
    {
     "data": {
      "text/plain": [
       "{'scatter_model/__layer_stack_no_state/mlp/linear': {'bias': (1, 128),\n",
       "  'weights': (1, 128, 128)},\n",
       " 'scatter_model/transport_model/coefficient_net/attention_net/linear': {'bias': (64,),\n",
       "  'weights': (6, 64)},\n",
       " 'scatter_model/transport_model/coefficient_net/attention_net/linear_1': {'bias': (1,),\n",
       "  'weights': (64, 1)},\n",
       " 'scatter_model/transport_model/transport_block_mlp/linear': {'bias': (128,),\n",
       "  'weights': (10, 128)},\n",
       " 'scatter_model/transport_model/transport_block_mlp/linear_1': {'bias': (128,),\n",
       "  'weights': (128, 128)},\n",
       " 'scatter_model/transport_model/transport_block_mlp/linear_2': {'bias': (128,),\n",
       "  'weights': (128, 128)},\n",
       " 'scatter_model/transport_model/transport_block_mlp/linear_3': {'bias': (128,),\n",
       "  'weights': (128, 128)}}"
      ]
     },
     "execution_count": 24,
     "metadata": {},
     "output_type": "execute_result"
    }
   ],
   "source": [
    "f_transformed = hk.transform(forward_scatter)\n",
    "# rng = hk.PRNGSequence(jax.random.PRNGKey(42))\n",
    "\n",
    "params = jax.jit(f_transformed.init)(next(rng), *dummy_input)\n",
    "apply = jax.jit(f_transformed.apply)\n",
    "jax.tree_util.tree_map(lambda x: x.shape, params)"
   ]
  },
  {
   "cell_type": "code",
   "execution_count": 25,
   "metadata": {},
   "outputs": [
    {
     "name": "stdout",
     "output_type": "stream",
     "text": [
      "518 µs ± 83.3 µs per loop (mean ± std. dev. of 7 runs, 1 loop each)\n",
      "(128,)\n"
     ]
    }
   ],
   "source": [
    "%timeit logits = apply(params, next(rng), *dummy_input).block_until_ready()\n",
    "print(logits.shape)"
   ]
  },
  {
   "cell_type": "code",
   "execution_count": 26,
   "metadata": {},
   "outputs": [],
   "source": [
    "from deeprte.model.tf.rte_features import _BATCH_FEATURE_NAMES"
   ]
  },
  {
   "cell_type": "code",
   "execution_count": 27,
   "metadata": {},
   "outputs": [],
   "source": [
    "axis_dict = {k:0 if k in _BATCH_FEATURE_NAMES else None for k in jnp_data}"
   ]
  },
  {
   "cell_type": "code",
   "execution_count": 28,
   "metadata": {},
   "outputs": [
    {
     "data": {
      "text/plain": [
       "{'boundary': 0,\n",
       " 'boundary_coords': None,\n",
       " 'boundary_weights': None,\n",
       " 'phase_coords': None,\n",
       " 'position_coords': None,\n",
       " 'psi_label': 0,\n",
       " 'scattering_kernel': 0,\n",
       " 'self_scattering_kernel': 0,\n",
       " 'sigma': 0,\n",
       " 'velocity_coords': None,\n",
       " 'velocity_weights': None}"
      ]
     },
     "execution_count": 28,
     "metadata": {},
     "output_type": "execute_result"
    }
   ],
   "source": [
    "axis_dict"
   ]
  },
  {
   "cell_type": "code",
   "execution_count": 29,
   "metadata": {},
   "outputs": [],
   "source": [
    "# _batch_dict = {**batched_data, **unbatched_data}\n",
    "# _batch_dict = jax.tree_util.tree_map(lambda x: jnp.array(x), _batch_dict)\n",
    "_batch_dict = {k: jnp.stack([v,v])  if k in _BATCH_FEATURE_NAMES else v for k, v in jnp_data.items()}"
   ]
  },
  {
   "cell_type": "code",
   "execution_count": 30,
   "metadata": {},
   "outputs": [
    {
     "data": {
      "text/plain": [
       "{'boundary': (2, 1968),\n",
       " 'boundary_coords': (1968, 4),\n",
       " 'boundary_weights': (1968,),\n",
       " 'phase_coords': (40344, 4),\n",
       " 'position_coords': (1681, 2),\n",
       " 'psi_label': (2, 40344),\n",
       " 'scattering_kernel': (2, 40344, 24),\n",
       " 'self_scattering_kernel': (2, 24, 24),\n",
       " 'sigma': (2, 1681, 2),\n",
       " 'velocity_coords': (24, 2),\n",
       " 'velocity_weights': (24,)}"
      ]
     },
     "execution_count": 30,
     "metadata": {},
     "output_type": "execute_result"
    }
   ],
   "source": [
    "jax.tree_util.tree_map(lambda x: x.shape, _batch_dict)"
   ]
  },
  {
   "cell_type": "code",
   "execution_count": 31,
   "metadata": {},
   "outputs": [],
   "source": [
    "from deeprte.model.mapping import vmap\n",
    "def forward_scatter(x, x_prime, v_prime, batch):\n",
    "        out = hk.vmap(ScatterModel(config.model.green_function.scatter_model), in_axes=(None, None,None, axis_dict),split_rng=(not hk.running_init()))(x, x_prime, v_prime, batch)\n",
    "        return out"
   ]
  },
  {
   "cell_type": "code",
   "execution_count": 32,
   "metadata": {},
   "outputs": [],
   "source": [
    "dummy_input = (_dummy_input['phase_coords'][:2], _dummy_input['boundary_coords'][:2], _dummy_input['boundary_coords'][2:], _batch_dict)"
   ]
  },
  {
   "cell_type": "code",
   "execution_count": 33,
   "metadata": {},
   "outputs": [
    {
     "data": {
      "text/plain": [
       "{'scatter_model/__layer_stack_no_state/mlp/linear': {'bias': (1, 128),\n",
       "  'weights': (1, 128, 128)},\n",
       " 'scatter_model/transport_model/coefficient_net/attention_net/linear': {'bias': (64,),\n",
       "  'weights': (6, 64)},\n",
       " 'scatter_model/transport_model/coefficient_net/attention_net/linear_1': {'bias': (1,),\n",
       "  'weights': (64, 1)},\n",
       " 'scatter_model/transport_model/transport_block_mlp/linear': {'bias': (128,),\n",
       "  'weights': (10, 128)},\n",
       " 'scatter_model/transport_model/transport_block_mlp/linear_1': {'bias': (128,),\n",
       "  'weights': (128, 128)},\n",
       " 'scatter_model/transport_model/transport_block_mlp/linear_2': {'bias': (128,),\n",
       "  'weights': (128, 128)},\n",
       " 'scatter_model/transport_model/transport_block_mlp/linear_3': {'bias': (128,),\n",
       "  'weights': (128, 128)}}"
      ]
     },
     "execution_count": 33,
     "metadata": {},
     "output_type": "execute_result"
    }
   ],
   "source": [
    "f_transformed = hk.transform(forward_scatter)\n",
    "# rng = hk.PRNGSequence(jax.random.PRNGKey(42))\n",
    "params = jax.jit(f_transformed.init)(next(rng), *dummy_input)\n",
    "apply = jax.jit(f_transformed.apply)\n",
    "jax.tree_util.tree_map(lambda x: x.shape, params)"
   ]
  },
  {
   "cell_type": "code",
   "execution_count": 34,
   "metadata": {},
   "outputs": [
    {
     "name": "stdout",
     "output_type": "stream",
     "text": [
      "(2, 24, 128)\n"
     ]
    }
   ],
   "source": [
    "logits = apply(params, next(rng), *dummy_input)\n",
    "print(logits.shape)"
   ]
  },
  {
   "cell_type": "code",
   "execution_count": 35,
   "metadata": {},
   "outputs": [],
   "source": [
    "from deeprte.model.modules import GreenFunction, TransportModel, ScatterModel"
   ]
  },
  {
   "cell_type": "code",
   "execution_count": 36,
   "metadata": {},
   "outputs": [],
   "source": [
    "def forward_green(x, v, x_prime, v_prime, scattering_kernel, batch):\n",
    "    out = GreenFunction(config.model.green_function)(x, v, x_prime, v_prime, scattering_kernel, batch)\n",
    "    return out"
   ]
  },
  {
   "cell_type": "code",
   "execution_count": 37,
   "metadata": {},
   "outputs": [
    {
     "name": "stdout",
     "output_type": "stream",
     "text": [
      "{'boundary_coords': (4,), 'phase_coords': (4,), 'scattering_kernel': (24,)}\n"
     ]
    }
   ],
   "source": [
    "feature_name_list = ['phase_coords','boundary_coords', \"scattering_kernel\"]\n",
    "_dummy_input = select_feat(feature_name_list)(jnp_data)\n",
    "# dummy_input = jax.tree_util.tree_map(lambda x: x[0], dummy_input)\n",
    "for k in _COLLOCATION_FEATURE_NAMES:\n",
    "    if k in _dummy_input:\n",
    "        _dummy_input[k] = _dummy_input[k][0]\n",
    "_dummy_input['boundary_coords'] = _dummy_input['boundary_coords'][0]\n",
    "print(jax.tree_util.tree_map(lambda x: x.shape, _dummy_input))\n",
    "\n",
    "\n",
    "dummy_input = (_dummy_input['phase_coords'][:2],_dummy_input['phase_coords'][2:], _dummy_input['boundary_coords'][:2], _dummy_input['boundary_coords'][2:], _dummy_input['scattering_kernel'], jnp_data)"
   ]
  },
  {
   "cell_type": "code",
   "execution_count": 38,
   "metadata": {},
   "outputs": [
    {
     "data": {
      "text/plain": [
       "{'green_function/mlp/linear': {'bias': (1,), 'weights': (128, 1)},\n",
       " 'green_function/scatter_model/__layer_stack_no_state/mlp/linear': {'bias': (1,\n",
       "   128),\n",
       "  'weights': (1, 128, 128)},\n",
       " 'green_function/scatter_model/transport_model/coefficient_net/attention_net/linear': {'bias': (64,),\n",
       "  'weights': (6, 64)},\n",
       " 'green_function/scatter_model/transport_model/coefficient_net/attention_net/linear_1': {'bias': (1,),\n",
       "  'weights': (64, 1)},\n",
       " 'green_function/scatter_model/transport_model/transport_block_mlp/linear': {'bias': (128,),\n",
       "  'weights': (10, 128)},\n",
       " 'green_function/scatter_model/transport_model/transport_block_mlp/linear_1': {'bias': (128,),\n",
       "  'weights': (128, 128)},\n",
       " 'green_function/scatter_model/transport_model/transport_block_mlp/linear_2': {'bias': (128,),\n",
       "  'weights': (128, 128)},\n",
       " 'green_function/scatter_model/transport_model/transport_block_mlp/linear_3': {'bias': (128,),\n",
       "  'weights': (128, 128)},\n",
       " 'green_function/transport_model/coefficient_net/attention_net/linear': {'bias': (64,),\n",
       "  'weights': (6, 64)},\n",
       " 'green_function/transport_model/coefficient_net/attention_net/linear_1': {'bias': (1,),\n",
       "  'weights': (64, 1)},\n",
       " 'green_function/transport_model/transport_block_mlp/linear': {'bias': (128,),\n",
       "  'weights': (10, 128)},\n",
       " 'green_function/transport_model/transport_block_mlp/linear_1': {'bias': (128,),\n",
       "  'weights': (128, 128)},\n",
       " 'green_function/transport_model/transport_block_mlp/linear_2': {'bias': (128,),\n",
       "  'weights': (128, 128)},\n",
       " 'green_function/transport_model/transport_block_mlp/linear_3': {'bias': (128,),\n",
       "  'weights': (128, 128)}}"
      ]
     },
     "execution_count": 38,
     "metadata": {},
     "output_type": "execute_result"
    }
   ],
   "source": [
    "f_transformed = hk.transform(forward_green)\n",
    "# rng = hk.PRNGSequence(jax.random.PRNGKey(42))\n",
    "params = jax.jit(f_transformed.init)(next(rng), *dummy_input)\n",
    "apply = jax.jit(f_transformed.apply)\n",
    "jax.tree_util.tree_map(lambda x: x.shape, params)"
   ]
  },
  {
   "cell_type": "code",
   "execution_count": 39,
   "metadata": {},
   "outputs": [
    {
     "name": "stdout",
     "output_type": "stream",
     "text": [
      "()\n"
     ]
    }
   ],
   "source": [
    "logits = apply(params, next(rng), *dummy_input)\n",
    "print(logits.shape)"
   ]
  }
 ],
 "metadata": {
  "kernelspec": {
   "display_name": "Python 3.10.8 64-bit",
   "language": "python",
   "name": "python3"
  },
  "language_info": {
   "codemirror_mode": {
    "name": "ipython",
    "version": 3
   },
   "file_extension": ".py",
   "mimetype": "text/x-python",
   "name": "python",
   "nbconvert_exporter": "python",
   "pygments_lexer": "ipython3",
   "version": "3.10.8"
  },
  "orig_nbformat": 4,
  "vscode": {
   "interpreter": {
    "hash": "949777d72b0d2535278d3dc13498b2535136f6dfe0678499012e853ee9abcab1"
   }
  }
 },
 "nbformat": 4,
 "nbformat_minor": 2
}

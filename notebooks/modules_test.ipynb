{
 "cells": [
  {
   "cell_type": "code",
   "execution_count": 1,
   "metadata": {},
   "outputs": [],
   "source": [
    "import os\n",
    "os.environ[\"CUDA_VISIBLE_DEVICES\"] = '7'"
   ]
  },
  {
   "cell_type": "code",
   "execution_count": 2,
   "metadata": {},
   "outputs": [],
   "source": [
    "from deeprte.config import make_config\n",
    "config = make_config()"
   ]
  },
  {
   "cell_type": "code",
   "execution_count": 3,
   "metadata": {},
   "outputs": [],
   "source": [
    "data_path = \"/workspaces/deeprte/rte_data/rte_data/matlab/eval-data/test_shape.mat\"\n",
    "\n",
    "from deeprte.data.pipeline import DataPipeline\n",
    "data_pipeline = DataPipeline(data_path)\n",
    "data = data_pipeline.process(pre_shuffle=True, is_split_test_samples=True, num_test_samples= 2)\n",
    "\n",
    "from deeprte.model.tf.rte_dataset import np_to_tensor_dict\n",
    "\n",
    "tf_data = np_to_tensor_dict(data)\n",
    "\n",
    "from deeprte.model.tf.rte_dataset import divide_batch_feat\n",
    "batched_data, unbatched_data = divide_batch_feat(tf_data)\n",
    "\n",
    "from deeprte.model.tf.rte_features import _COLLOCATION_FEATURE_NAMES"
   ]
  },
  {
   "cell_type": "code",
   "execution_count": 4,
   "metadata": {},
   "outputs": [],
   "source": [
    "import tensorflow as tf\n",
    "import haiku as hk\n",
    "_batched_data = tf.nest.map_structure(lambda x: x[0], batched_data)\n",
    "tf_data = {**_batched_data, **unbatched_data}"
   ]
  },
  {
   "cell_type": "code",
   "execution_count": 5,
   "metadata": {},
   "outputs": [
    {
     "data": {
      "text/plain": [
       "{'sigma': TensorShape([1681, 2]),\n",
       " 'psi_label': TensorShape([40344]),\n",
       " 'scattering_kernel': TensorShape([40344, 24]),\n",
       " 'self_scattering_kernel': TensorShape([24, 24]),\n",
       " 'boundary': TensorShape([1968]),\n",
       " 'position_coords': TensorShape([1681, 2]),\n",
       " 'velocity_coords': TensorShape([24, 2]),\n",
       " 'phase_coords': TensorShape([40344, 4]),\n",
       " 'boundary_coords': TensorShape([1968, 4]),\n",
       " 'boundary_weights': TensorShape([1968]),\n",
       " 'velocity_weights': TensorShape([24])}"
      ]
     },
     "execution_count": 5,
     "metadata": {},
     "output_type": "execute_result"
    }
   ],
   "source": [
    "tf.nest.map_structure(lambda x: x.shape, tf_data)"
   ]
  },
  {
   "cell_type": "code",
   "execution_count": 6,
   "metadata": {},
   "outputs": [],
   "source": [
    "import jax\n",
    "import jax.numpy as jnp"
   ]
  },
  {
   "cell_type": "code",
   "execution_count": 7,
   "metadata": {},
   "outputs": [],
   "source": [
    "jnp_data = jax.tree_util.tree_map(lambda x: jnp.array(x), tf_data)\n",
    "rng = hk.PRNGSequence(jax.random.PRNGKey(42))"
   ]
  },
  {
   "cell_type": "code",
   "execution_count": 8,
   "metadata": {},
   "outputs": [],
   "source": [
    "config.model.green_function.scatter_model.res_block_depth = 2"
   ]
  },
  {
   "cell_type": "code",
   "execution_count": 9,
   "metadata": {},
   "outputs": [],
   "source": [
    "from deeprte.model.tf.rte_features import _BATCH_FEATURE_NAMES"
   ]
  },
  {
   "cell_type": "code",
   "execution_count": 10,
   "metadata": {},
   "outputs": [],
   "source": [
    "dummy_batch = {k: v[0]  if k in _COLLOCATION_FEATURE_NAMES else v for k, v in jnp_data.items()}\n",
    "dummy_batch = {k: jnp.stack([v,v])  if k in _BATCH_FEATURE_NAMES else v for k, v in dummy_batch.items()}\n",
    "\n",
    "axis_dict = {k:0 if k in _BATCH_FEATURE_NAMES else None for k in jnp_data}"
   ]
  },
  {
   "cell_type": "code",
   "execution_count": 11,
   "metadata": {},
   "outputs": [
    {
     "data": {
      "text/plain": [
       "{'boundary': (2, 1968),\n",
       " 'boundary_coords': (1968, 4),\n",
       " 'boundary_weights': (1968,),\n",
       " 'phase_coords': (4,),\n",
       " 'position_coords': (1681, 2),\n",
       " 'psi_label': (2,),\n",
       " 'scattering_kernel': (2, 24),\n",
       " 'self_scattering_kernel': (2, 24, 24),\n",
       " 'sigma': (2, 1681, 2),\n",
       " 'velocity_coords': (24, 2),\n",
       " 'velocity_weights': (24,)}"
      ]
     },
     "execution_count": 11,
     "metadata": {},
     "output_type": "execute_result"
    }
   ],
   "source": [
    "jax.tree_util.tree_map(lambda x: x.shape, dummy_batch)"
   ]
  },
  {
   "cell_type": "code",
   "execution_count": 12,
   "metadata": {},
   "outputs": [
    {
     "data": {
      "text/plain": [
       "{'boundary': 0,\n",
       " 'boundary_coords': None,\n",
       " 'boundary_weights': None,\n",
       " 'phase_coords': None,\n",
       " 'position_coords': None,\n",
       " 'psi_label': 0,\n",
       " 'scattering_kernel': 0,\n",
       " 'self_scattering_kernel': 0,\n",
       " 'sigma': 0,\n",
       " 'velocity_coords': None,\n",
       " 'velocity_weights': None}"
      ]
     },
     "execution_count": 12,
     "metadata": {},
     "output_type": "execute_result"
    }
   ],
   "source": [
    "# axis_dict['phase_coords'] = {0}\n",
    "# axis_dict['psi_label'] = {0,1}\n",
    "# axis_dict['scattering_kernel'] = {0,1}\n",
    "jax.tree_util.tree_map(lambda x: x, axis_dict)"
   ]
  },
  {
   "cell_type": "code",
   "execution_count": 13,
   "metadata": {},
   "outputs": [],
   "source": [
    "from deeprte.model.modules import DeepRTE"
   ]
  },
  {
   "cell_type": "code",
   "execution_count": 14,
   "metadata": {},
   "outputs": [],
   "source": [
    "def forward(batch,):\n",
    "    out = DeepRTE(config.model)(batch, True, True, False)\n",
    "    return out"
   ]
  },
  {
   "cell_type": "code",
   "execution_count": 15,
   "metadata": {},
   "outputs": [],
   "source": [
    "dummy_batch = {k: v[:3]  if k in _COLLOCATION_FEATURE_NAMES else v for k, v in jnp_data.items()}\n",
    "dummy_batch = {k: jnp.stack([v,v])  if k in _BATCH_FEATURE_NAMES else v for k, v in dummy_batch.items()}"
   ]
  },
  {
   "cell_type": "code",
   "execution_count": 16,
   "metadata": {},
   "outputs": [
    {
     "data": {
      "text/plain": [
       "{'DeepRTE/green_function/mlp/linear': {'bias': (1,), 'weights': (128, 1)},\n",
       " 'DeepRTE/green_function/scatter_model/__layer_stack_with_state/mlp/linear': {'bias': (1,\n",
       "   128),\n",
       "  'weights': (1, 128, 128)},\n",
       " 'DeepRTE/green_function/scatter_model/transport_model/coefficient_net/attention_net/linear': {'bias': (64,),\n",
       "  'weights': (6, 64)},\n",
       " 'DeepRTE/green_function/scatter_model/transport_model/coefficient_net/attention_net/linear_1': {'bias': (1,),\n",
       "  'weights': (64, 1)},\n",
       " 'DeepRTE/green_function/scatter_model/transport_model/transport_block_mlp/linear': {'bias': (128,),\n",
       "  'weights': (10, 128)},\n",
       " 'DeepRTE/green_function/scatter_model/transport_model/transport_block_mlp/linear_1': {'bias': (128,),\n",
       "  'weights': (128, 128)},\n",
       " 'DeepRTE/green_function/scatter_model/transport_model/transport_block_mlp/linear_2': {'bias': (128,),\n",
       "  'weights': (128, 128)},\n",
       " 'DeepRTE/green_function/scatter_model/transport_model/transport_block_mlp/linear_3': {'bias': (128,),\n",
       "  'weights': (128, 128)},\n",
       " 'DeepRTE/green_function/transport_model/coefficient_net/attention_net/linear': {'bias': (64,),\n",
       "  'weights': (6, 64)},\n",
       " 'DeepRTE/green_function/transport_model/coefficient_net/attention_net/linear_1': {'bias': (1,),\n",
       "  'weights': (64, 1)},\n",
       " 'DeepRTE/green_function/transport_model/transport_block_mlp/linear': {'bias': (128,),\n",
       "  'weights': (10, 128)},\n",
       " 'DeepRTE/green_function/transport_model/transport_block_mlp/linear_1': {'bias': (128,),\n",
       "  'weights': (128, 128)},\n",
       " 'DeepRTE/green_function/transport_model/transport_block_mlp/linear_2': {'bias': (128,),\n",
       "  'weights': (128, 128)},\n",
       " 'DeepRTE/green_function/transport_model/transport_block_mlp/linear_3': {'bias': (128,),\n",
       "  'weights': (128, 128)}}"
      ]
     },
     "execution_count": 16,
     "metadata": {},
     "output_type": "execute_result"
    }
   ],
   "source": [
    "f_transformed = hk.transform(forward)\n",
    "# rng = hk.PRNGSequence(jax.random.PRNGKey(42))\n",
    "params = jax.jit(f_transformed.init)(next(rng), dummy_batch)\n",
    "apply = jax.jit(f_transformed.apply)\n",
    "jax.tree_util.tree_map(lambda x: x.shape, params)"
   ]
  },
  {
   "cell_type": "code",
   "execution_count": 17,
   "metadata": {},
   "outputs": [],
   "source": [
    "logits = apply(params, next(rng), dummy_batch)"
   ]
  },
  {
   "cell_type": "code",
   "execution_count": 18,
   "metadata": {},
   "outputs": [
    {
     "data": {
      "text/plain": [
       "{'loss': {'mse': (), 'rmspe': ()}, 'rte_predictions': (2, 3)}"
      ]
     },
     "execution_count": 18,
     "metadata": {},
     "output_type": "execute_result"
    }
   ],
   "source": [
    "jax.tree_util.tree_map(lambda x: x.shape, logits)"
   ]
  },
  {
   "cell_type": "code",
   "execution_count": 19,
   "metadata": {},
   "outputs": [],
   "source": [
    "batch_data = {k: v[jnp.newaxis,...]  if k in _BATCH_FEATURE_NAMES else v for k, v in jnp_data.items()}"
   ]
  },
  {
   "cell_type": "code",
   "execution_count": 20,
   "metadata": {},
   "outputs": [
    {
     "data": {
      "text/plain": [
       "{'boundary': (1, 1968),\n",
       " 'boundary_coords': (1968, 4),\n",
       " 'boundary_weights': (1968,),\n",
       " 'phase_coords': (40344, 4),\n",
       " 'position_coords': (1681, 2),\n",
       " 'psi_label': (1, 40344),\n",
       " 'scattering_kernel': (1, 40344, 24),\n",
       " 'self_scattering_kernel': (1, 24, 24),\n",
       " 'sigma': (1, 1681, 2),\n",
       " 'velocity_coords': (24, 2),\n",
       " 'velocity_weights': (24,)}"
      ]
     },
     "execution_count": 20,
     "metadata": {},
     "output_type": "execute_result"
    }
   ],
   "source": [
    "jax.tree_util.tree_map(lambda x: x.shape, batch_data)"
   ]
  },
  {
   "cell_type": "code",
   "execution_count": 21,
   "metadata": {},
   "outputs": [
    {
     "name": "stderr",
     "output_type": "stream",
     "text": [
      "2022-12-04 13:38:43.418063: W external/org_tensorflow/tensorflow/tsl/framework/bfc_allocator.cc:290] Allocator (GPU_0_bfc) ran out of memory trying to allocate 16.18GiB with freed_by_count=0. The caller indicates that this is not a failure, but this may mean that there could be performance gains if more memory were available.\n"
     ]
    },
    {
     "ename": "XlaRuntimeError",
     "evalue": "RESOURCE_EXHAUSTED: Out of memory while trying to allocate 17378252800 bytes.",
     "output_type": "error",
     "traceback": [
      "\u001b[0;31m---------------------------------------------------------------------------\u001b[0m",
      "\u001b[0;31mXlaRuntimeError\u001b[0m                           Traceback (most recent call last)",
      "Cell \u001b[0;32mIn[21], line 1\u001b[0m\n\u001b[0;32m----> 1\u001b[0m logits \u001b[39m=\u001b[39m apply(params, \u001b[39mnext\u001b[39;49m(rng), batch_data)\n",
      "    \u001b[0;31m[... skipping hidden 9 frame]\u001b[0m\n",
      "File \u001b[0;32m/usr/local/lib/python3.10/site-packages/jax/_src/dispatch.py:1012\u001b[0m, in \u001b[0;36mbackend_compile\u001b[0;34m(backend, built_c, options, host_callbacks)\u001b[0m\n\u001b[1;32m   1007\u001b[0m   \u001b[39mreturn\u001b[39;00m backend\u001b[39m.\u001b[39mcompile(built_c, compile_options\u001b[39m=\u001b[39moptions,\n\u001b[1;32m   1008\u001b[0m                          host_callbacks\u001b[39m=\u001b[39mhost_callbacks)\n\u001b[1;32m   1009\u001b[0m \u001b[39m# Some backends don't have `host_callbacks` option yet\u001b[39;00m\n\u001b[1;32m   1010\u001b[0m \u001b[39m# TODO(sharadmv): remove this fallback when all backends allow `compile`\u001b[39;00m\n\u001b[1;32m   1011\u001b[0m \u001b[39m# to take in `host_callbacks`\u001b[39;00m\n\u001b[0;32m-> 1012\u001b[0m \u001b[39mreturn\u001b[39;00m backend\u001b[39m.\u001b[39;49mcompile(built_c, compile_options\u001b[39m=\u001b[39;49moptions)\n",
      "\u001b[0;31mXlaRuntimeError\u001b[0m: RESOURCE_EXHAUSTED: Out of memory while trying to allocate 17378252800 bytes."
     ]
    }
   ],
   "source": [
    "logits = apply(params, next(rng), batch_data)\n",
    "# OOM"
   ]
  },
  {
   "cell_type": "code",
   "execution_count": 22,
   "metadata": {},
   "outputs": [
    {
     "data": {
      "text/plain": [
       "{'loss': {'mse': (), 'rmspe': ()}, 'rte_predictions': (2, 3)}"
      ]
     },
     "execution_count": 22,
     "metadata": {},
     "output_type": "execute_result"
    }
   ],
   "source": [
    "jax.tree_util.tree_map(lambda x: x.shape, logits)"
   ]
  },
  {
   "cell_type": "code",
   "execution_count": 23,
   "metadata": {},
   "outputs": [],
   "source": [
    "def forward(batch,):\n",
    "    out = DeepRTE(config.model)(batch, False, True, False)\n",
    "    return out"
   ]
  },
  {
   "cell_type": "code",
   "execution_count": 24,
   "metadata": {},
   "outputs": [],
   "source": [
    "f_transformed = hk.transform(forward)\n",
    "apply = jax.jit(f_transformed.apply)\n",
    "logits = apply(params, next(rng), dummy_batch)"
   ]
  },
  {
   "cell_type": "code",
   "execution_count": 25,
   "metadata": {},
   "outputs": [
    {
     "data": {
      "text/plain": [
       "{'loss': {'mse': DeviceArray(0.0425264, dtype=float32),\n",
       "  'rmspe': DeviceArray(294.1997, dtype=float32)},\n",
       " 'rte_predictions': DeviceArray([[0.2120242 , 0.19744486, 0.21019216],\n",
       "              [0.2120242 , 0.19744486, 0.21019216]], dtype=float32)}"
      ]
     },
     "execution_count": 25,
     "metadata": {},
     "output_type": "execute_result"
    }
   ],
   "source": [
    "logits"
   ]
  },
  {
   "cell_type": "code",
   "execution_count": 26,
   "metadata": {},
   "outputs": [],
   "source": [
    "logits = apply(params, next(rng), batch_data)"
   ]
  },
  {
   "cell_type": "code",
   "execution_count": 27,
   "metadata": {},
   "outputs": [
    {
     "data": {
      "text/plain": [
       "{'loss': {'mse': DeviceArray(0.03196618, dtype=float32),\n",
       "  'rmspe': DeviceArray(50.43785, dtype=float32)},\n",
       " 'rte_predictions': DeviceArray([[0.21202493, 0.19744399, 0.21019182, ..., 0.1465061 ,\n",
       "               0.13761234, 0.13230112]], dtype=float32)}"
      ]
     },
     "execution_count": 27,
     "metadata": {},
     "output_type": "execute_result"
    }
   ],
   "source": [
    "logits"
   ]
  },
  {
   "cell_type": "code",
   "execution_count": null,
   "metadata": {},
   "outputs": [],
   "source": []
  }
 ],
 "metadata": {
  "kernelspec": {
   "display_name": "Python 3.10.8 64-bit",
   "language": "python",
   "name": "python3"
  },
  "language_info": {
   "codemirror_mode": {
    "name": "ipython",
    "version": 3
   },
   "file_extension": ".py",
   "mimetype": "text/x-python",
   "name": "python",
   "nbconvert_exporter": "python",
   "pygments_lexer": "ipython3",
   "version": "3.10.8"
  },
  "orig_nbformat": 4,
  "vscode": {
   "interpreter": {
    "hash": "949777d72b0d2535278d3dc13498b2535136f6dfe0678499012e853ee9abcab1"
   }
  }
 },
 "nbformat": 4,
 "nbformat_minor": 2
}

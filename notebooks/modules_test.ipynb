{
 "cells": [
  {
   "cell_type": "code",
   "execution_count": 1,
   "metadata": {},
   "outputs": [],
   "source": [
    "import os\n",
    "os.environ[\"CUDA_VISIBLE_DEVICES\"] = '7'"
   ]
  },
  {
   "cell_type": "code",
   "execution_count": 2,
   "metadata": {},
   "outputs": [],
   "source": [
    "from deeprte.config import make_config\n",
    "config = make_config()"
   ]
  },
  {
   "cell_type": "code",
   "execution_count": 3,
   "metadata": {},
   "outputs": [],
   "source": [
    "data_path = \"/workspaces/deeprte/rte_data/rte_data/matlab/eval-data/test_shape.mat\"\n",
    "\n",
    "from deeprte.data.pipeline import DataPipeline\n",
    "data_pipeline = DataPipeline(data_path)\n",
    "data = data_pipeline.process(pre_shuffle=True, is_split_test_samples=True, num_test_samples= 2)\n",
    "\n",
    "from deeprte.model.tf.rte_dataset import np_to_tensor_dict\n",
    "\n",
    "tf_data = np_to_tensor_dict(data)\n",
    "\n",
    "from deeprte.model.tf.rte_dataset import divide_batch_feat\n",
    "batched_data, unbatched_data = divide_batch_feat(tf_data)\n",
    "\n",
    "from deeprte.model.tf.rte_features import _COLLOCATION_FEATURE_NAMES"
   ]
  },
  {
   "cell_type": "code",
   "execution_count": 4,
   "metadata": {},
   "outputs": [],
   "source": [
    "import tensorflow as tf\n",
    "import haiku as hk\n",
    "batched_data = tf.nest.map_structure(lambda x: x[0], batched_data)\n",
    "tf_data = {**batched_data, **unbatched_data}"
   ]
  },
  {
   "cell_type": "code",
   "execution_count": 5,
   "metadata": {},
   "outputs": [
    {
     "data": {
      "text/plain": [
       "{'sigma': TensorShape([1681, 2]),\n",
       " 'psi_label': TensorShape([40344]),\n",
       " 'scattering_kernel': TensorShape([40344, 24]),\n",
       " 'boundary': TensorShape([1968]),\n",
       " 'position_coords': TensorShape([1681, 2]),\n",
       " 'velocity_coords': TensorShape([24, 2]),\n",
       " 'phase_coords': TensorShape([40344, 4]),\n",
       " 'boundary_coords': TensorShape([1968, 4]),\n",
       " 'boundary_weights': TensorShape([1968]),\n",
       " 'velocity_weights': TensorShape([24])}"
      ]
     },
     "execution_count": 5,
     "metadata": {},
     "output_type": "execute_result"
    }
   ],
   "source": [
    "tf.nest.map_structure(lambda x: x.shape, tf_data)"
   ]
  },
  {
   "cell_type": "code",
   "execution_count": 6,
   "metadata": {},
   "outputs": [],
   "source": [
    "from deeprte.model.modules import CoefficientNet"
   ]
  },
  {
   "cell_type": "code",
   "execution_count": 7,
   "metadata": {},
   "outputs": [
    {
     "data": {
      "text/plain": [
       "attention_net:\n",
       "  widths:\n",
       "  - 64\n",
       "  - 1\n",
       "pointwise_mlp:\n",
       "  widths:\n",
       "  - 64\n",
       "  - 2"
      ]
     },
     "execution_count": 7,
     "metadata": {},
     "output_type": "execute_result"
    }
   ],
   "source": [
    "config.model.green_function.coefficient_net"
   ]
  },
  {
   "cell_type": "code",
   "execution_count": 8,
   "metadata": {},
   "outputs": [],
   "source": [
    "import jax\n",
    "import jax.numpy as jnp\n",
    "from deeprte.model.tf.feature_transform import select_feat"
   ]
  },
  {
   "cell_type": "code",
   "execution_count": 9,
   "metadata": {},
   "outputs": [],
   "source": [
    "jnp_data = jax.tree_util.tree_map(lambda x: jnp.array(x), tf_data)"
   ]
  },
  {
   "cell_type": "code",
   "execution_count": 10,
   "metadata": {},
   "outputs": [],
   "source": [
    "def forward_coeff(position, velocity, coeff_position, coeff_values,):\n",
    "        out = CoefficientNet(config.model.green_function.coefficient_net)(position, velocity, coeff_position, coeff_values,)\n",
    "\n",
    "        return out"
   ]
  },
  {
   "cell_type": "code",
   "execution_count": 11,
   "metadata": {},
   "outputs": [
    {
     "name": "stdout",
     "output_type": "stream",
     "text": [
      "{'phase_coords': (4,), 'position_coords': (1681, 2), 'sigma': (1681, 2)}\n"
     ]
    }
   ],
   "source": [
    "feature_name_list = ['phase_coords','position_coords', 'sigma']\n",
    "_dummy_input = select_feat(feature_name_list)(jnp_data)\n",
    "# dummy_input = jax.tree_util.tree_map(lambda x: x[0], dummy_input)\n",
    "_dummy_input['phase_coords'] = _dummy_input['phase_coords'][0]\n",
    "print(jax.tree_util.tree_map(lambda x: x.shape, _dummy_input))\n",
    "\n",
    "\n",
    "dummy_input = (_dummy_input['phase_coords'][:2], _dummy_input['phase_coords'][2:], _dummy_input['position_coords'], _dummy_input['sigma'])\n",
    "# dummy_input = jax.tree_util.tree_map(lambda x: jnp.array(x), dummy_input)"
   ]
  },
  {
   "cell_type": "code",
   "execution_count": 12,
   "metadata": {},
   "outputs": [
    {
     "data": {
      "text/plain": [
       "{'coefficient_net/attention_net/linear': {'bias': (64,), 'weights': (6, 64)},\n",
       " 'coefficient_net/attention_net/linear_1': {'bias': (1,), 'weights': (64, 1)}}"
      ]
     },
     "execution_count": 12,
     "metadata": {},
     "output_type": "execute_result"
    }
   ],
   "source": [
    "f_transformed = hk.transform(forward_coeff)\n",
    "rng = hk.PRNGSequence(jax.random.PRNGKey(42))\n",
    "\n",
    "params = f_transformed.init(next(rng), *dummy_input)\n",
    "jax.tree_util.tree_map(lambda x: x.shape, params)"
   ]
  },
  {
   "cell_type": "code",
   "execution_count": 13,
   "metadata": {},
   "outputs": [
    {
     "name": "stdout",
     "output_type": "stream",
     "text": [
      "[5.491967e-05 7.553206e-03]\n"
     ]
    }
   ],
   "source": [
    "logits = f_transformed.apply(params, next(rng), *dummy_input)\n",
    "print(logits)"
   ]
  },
  {
   "cell_type": "code",
   "execution_count": 14,
   "metadata": {},
   "outputs": [],
   "source": [
    "from deeprte.model.modules import GreenFunctionBlock"
   ]
  },
  {
   "cell_type": "code",
   "execution_count": 15,
   "metadata": {},
   "outputs": [
    {
     "data": {
      "text/plain": [
       "coefficient_net:\n",
       "  attention_net:\n",
       "    widths:\n",
       "    - 64\n",
       "    - 1\n",
       "  pointwise_mlp:\n",
       "    widths:\n",
       "    - 64\n",
       "    - 2\n",
       "green_function_mlp:\n",
       "  widths:\n",
       "  - 128\n",
       "  - 128\n",
       "  - 128\n",
       "  - 128\n",
       "green_res_block:\n",
       "  depth: 2"
      ]
     },
     "execution_count": 15,
     "metadata": {},
     "output_type": "execute_result"
    }
   ],
   "source": [
    "config.model.green_function"
   ]
  },
  {
   "cell_type": "code",
   "execution_count": 16,
   "metadata": {},
   "outputs": [],
   "source": [
    "def forward_green(position, velocity, position_prime, velocity_prime, coeff_position, coeff_values):\n",
    "        out = GreenFunctionBlock(config.model.green_function)(position, velocity, position_prime, velocity_prime,coeff_position, coeff_values)\n",
    "\n",
    "        return out"
   ]
  },
  {
   "cell_type": "code",
   "execution_count": 18,
   "metadata": {},
   "outputs": [
    {
     "name": "stdout",
     "output_type": "stream",
     "text": [
      "{'boundary_coords': (4,), 'phase_coords': (4,), 'position_coords': (1681, 2), 'sigma': (1681, 2)}\n"
     ]
    }
   ],
   "source": [
    "feature_name_list = ['phase_coords','position_coords', 'sigma', 'boundary_coords']\n",
    "_dummy_input = select_feat(feature_name_list)(jnp_data)\n",
    "# dummy_input = jax.tree_util.tree_map(lambda x: x[0], dummy_input)\n",
    "_dummy_input['phase_coords'] = _dummy_input['phase_coords'][0]\n",
    "_dummy_input['boundary_coords'] = _dummy_input['boundary_coords'][0]\n",
    "print(jax.tree_util.tree_map(lambda x: x.shape, _dummy_input))\n",
    "\n",
    "\n",
    "dummy_input = (_dummy_input['phase_coords'][:2], _dummy_input['phase_coords'][2:], _dummy_input['boundary_coords'][:2], _dummy_input['boundary_coords'][2:], _dummy_input['position_coords'], _dummy_input['sigma'],)"
   ]
  },
  {
   "cell_type": "code",
   "execution_count": 19,
   "metadata": {},
   "outputs": [
    {
     "data": {
      "text/plain": [
       "{'green_function/coefficient_net/attention_net/linear': {'bias': (64,),\n",
       "  'weights': (6, 64)},\n",
       " 'green_function/coefficient_net/attention_net/linear_1': {'bias': (1,),\n",
       "  'weights': (64, 1)},\n",
       " 'green_function/green_function_block_mlp/linear': {'bias': (128,),\n",
       "  'weights': (10, 128)},\n",
       " 'green_function/green_function_block_mlp/linear_1': {'bias': (128,),\n",
       "  'weights': (128, 128)},\n",
       " 'green_function/green_function_block_mlp/linear_2': {'bias': (128,),\n",
       "  'weights': (128, 128)},\n",
       " 'green_function/green_function_block_mlp/linear_3': {'bias': (128,),\n",
       "  'weights': (128, 128)}}"
      ]
     },
     "execution_count": 19,
     "metadata": {},
     "output_type": "execute_result"
    }
   ],
   "source": [
    "f_transformed = hk.transform(forward_green)\n",
    "# rng = hk.PRNGSequence(jax.random.PRNGKey(42))\n",
    "\n",
    "params = f_transformed.init(next(rng), *dummy_input)\n",
    "jax.tree_util.tree_map(lambda x: x.shape, params)"
   ]
  },
  {
   "cell_type": "code",
   "execution_count": 20,
   "metadata": {},
   "outputs": [
    {
     "name": "stdout",
     "output_type": "stream",
     "text": [
      "(128,)\n"
     ]
    }
   ],
   "source": [
    "logits = f_transformed.apply(params, next(rng), *dummy_input)\n",
    "print(logits.shape)"
   ]
  },
  {
   "cell_type": "code",
   "execution_count": 21,
   "metadata": {},
   "outputs": [],
   "source": [
    "from deeprte.model.modules import GreenFunctionNet"
   ]
  },
  {
   "cell_type": "code",
   "execution_count": 224,
   "metadata": {},
   "outputs": [],
   "source": [
    "import ml_collections\n",
    "from typing import Optional\n",
    "from deeprte.model.tf.rte_dataset import TensorDict\n",
    "from deeprte.model.tf.rte_features import NUM_DIM\n",
    "from deeprte.model.integrate import quad\n",
    "from deeprte.model.mapping import vmap\n",
    "from deeprte.model.networks import MLP, Linear\n",
    "from deeprte.model.layer_stack import layer_stack\n",
    "class GreenFunctionNet(hk.Module):\n",
    "    \"\"\"Green function net.\"\"\"\n",
    "\n",
    "    def __init__(\n",
    "        self,\n",
    "        config: ml_collections.ConfigDict,\n",
    "        name: Optional[str] = \"green_function_res_block\",\n",
    "    ):\n",
    "        super().__init__(name=name)\n",
    "\n",
    "        self.config = config\n",
    "\n",
    "    def __call__(\n",
    "        self,\n",
    "        phase_coords: jax.Array,\n",
    "        boundary_coords: jax.Array,\n",
    "        # scattering_kernel_coeff: jnp.ndarray,  # [Nv*,]\n",
    "        coeff_position: jax.Array,\n",
    "        coeff_values: jax.Array,\n",
    "        scattering_kernel_coords: jax.Array,  # ((u,u*):[Nv*,4], (1-P(u,u*))*omega:[Nv*,])\n",
    "        scattering_kernel: jax.Array,\n",
    "        batch: TensorDict,\n",
    "    ) -> jax.Array:\n",
    "\n",
    "        c = self.config\n",
    "\n",
    "        green_func_module = GreenFunctionBlock(c)\n",
    "\n",
    "        inputs = (\n",
    "            phase_coords[:NUM_DIM],\n",
    "            phase_coords[NUM_DIM:],\n",
    "            boundary_coords[:NUM_DIM],\n",
    "            boundary_coords[NUM_DIM:],\n",
    "            coeff_position,\n",
    "            coeff_values,\n",
    "        )\n",
    "\n",
    "        green_fn_block_output = green_func_module(*inputs)\n",
    "\n",
    "        if c.green_res_block.depth > 0:\n",
    "\n",
    "            coords_star, weights = (\n",
    "                scattering_kernel_coords,\n",
    "                (1 - scattering_kernel) * batch[\"velocity_weights\"],\n",
    "            )\n",
    "            res_block_inputs = (*inputs[:3], coeff_position, coeff_values)\n",
    "\n",
    "            def _green_res_fn(green_fn):\n",
    "                def func(*inputs):\n",
    "                    green_fn_kernel_quad = quad(\n",
    "                        green_fn,\n",
    "                        (coords_star, weights),\n",
    "                        argnum=3,\n",
    "                        use_hk=True,\n",
    "                    )(*inputs[:3], coeff_position, coeff_values)  # shape: [N_latent]\n",
    "                    green_fn_res = MLP(\n",
    "                        c.green_function_mlp.widths[-1:],\n",
    "                        activate_final=True,\n",
    "                    )(green_fn_kernel_quad)\n",
    "                    return green_fn_res\n",
    "\n",
    "                return func\n",
    "\n",
    "            def _green_res_block(block_output, green_func_module):\n",
    "                func = _green_res_fn(green_func_module)\n",
    "                block_output += func(\n",
    "                    *res_block_inputs,\n",
    "                )\n",
    "                green_func_module = func\n",
    "\n",
    "                return block_output, green_func_module\n",
    "                \n",
    "            block_output = green_fn_block_output\n",
    "            # for _ in range(c.green_res_block.depth):\n",
    "                \n",
    "            #     block_output, green_func_module = _green_res_block(block_output, green_func_module)\n",
    "            block_output, green_func_module = layer_stack(3, with_state=False)(_green_res_block)(block_output, green_func_module)\n",
    "\n",
    "        green_fn_block_output = MLP([1])(\n",
    "            green_fn_block_output,\n",
    "        )\n",
    "        return green_fn_block_output  # shape: [1]\n"
   ]
  },
  {
   "cell_type": "code",
   "execution_count": 225,
   "metadata": {},
   "outputs": [],
   "source": [
    "def forward_green_net(phase_coords, boundary_coords, coeff_coords, coeff_values, scattering_kernel_coords, scattering_kernel, batch):\n",
    "        out = GreenFunctionNet(config.model.green_function)(phase_coords, boundary_coords, coeff_coords, coeff_values, scattering_kernel_coords, scattering_kernel, batch)\n",
    "\n",
    "        return out"
   ]
  },
  {
   "cell_type": "code",
   "execution_count": 226,
   "metadata": {},
   "outputs": [
    {
     "name": "stdout",
     "output_type": "stream",
     "text": [
      "{'boundary_coords': (4,), 'phase_coords': (4,), 'position_coords': (1681, 2), 'scattering_kernel': (24,), 'sigma': (1681, 2), 'velocity_coords': (24, 2)}\n"
     ]
    }
   ],
   "source": [
    "feature_name_list = ['phase_coords','position_coords', 'sigma', 'boundary_coords', \"velocity_coords\", \"scattering_kernel\"]\n",
    "_dummy_input = select_feat(feature_name_list)(jnp_data)\n",
    "# dummy_input = jax.tree_util.tree_map(lambda x: x[0], dummy_input)\n",
    "for k in _COLLOCATION_FEATURE_NAMES:\n",
    "    if k in _dummy_input:\n",
    "        _dummy_input[k] = _dummy_input[k][0]\n",
    "_dummy_input['boundary_coords'] = _dummy_input['boundary_coords'][0]\n",
    "print(jax.tree_util.tree_map(lambda x: x.shape, _dummy_input))\n",
    "\n",
    "\n",
    "dummy_input = (_dummy_input['phase_coords'], _dummy_input['boundary_coords'], _dummy_input['position_coords'], _dummy_input['sigma'],_dummy_input['velocity_coords'], _dummy_input['scattering_kernel'], jnp_data)"
   ]
  },
  {
   "cell_type": "code",
   "execution_count": 227,
   "metadata": {},
   "outputs": [],
   "source": [
    "config.model.green_function.green_res_block.depth = 1"
   ]
  },
  {
   "cell_type": "code",
   "execution_count": 228,
   "metadata": {},
   "outputs": [
    {
     "ename": "ValueError",
     "evalue": "'green_function_res_block/green_function/coefficient_net/attention_net/linear/weights' with retrieved shape (6,) does not match shape=(6, 64) dtype=dtype('float32')",
     "output_type": "error",
     "traceback": [
      "\u001b[0;31m---------------------------------------------------------------------------\u001b[0m",
      "\u001b[0;31mValueError\u001b[0m                                Traceback (most recent call last)",
      "Cell \u001b[0;32mIn[228], line 4\u001b[0m\n\u001b[1;32m      1\u001b[0m f_transformed \u001b[39m=\u001b[39m hk\u001b[39m.\u001b[39mtransform(forward_green_net)\n\u001b[1;32m      2\u001b[0m \u001b[39m# rng = hk.PRNGSequence(jax.random.PRNGKey(42))\u001b[39;00m\n\u001b[0;32m----> 4\u001b[0m params \u001b[39m=\u001b[39m f_transformed\u001b[39m.\u001b[39;49minit(\u001b[39mnext\u001b[39;49m(rng), \u001b[39m*\u001b[39;49mdummy_input)\n\u001b[1;32m      5\u001b[0m jax\u001b[39m.\u001b[39mtree_util\u001b[39m.\u001b[39mtree_map(\u001b[39mlambda\u001b[39;00m x: x\u001b[39m.\u001b[39mshape, params)\n",
      "File \u001b[0;32m/usr/local/lib/python3.10/site-packages/haiku/_src/transform.py:114\u001b[0m, in \u001b[0;36mwithout_state.<locals>.init_fn\u001b[0;34m(*args, **kwargs)\u001b[0m\n\u001b[1;32m    113\u001b[0m \u001b[39mdef\u001b[39;00m \u001b[39minit_fn\u001b[39m(\u001b[39m*\u001b[39margs, \u001b[39m*\u001b[39m\u001b[39m*\u001b[39mkwargs):\n\u001b[0;32m--> 114\u001b[0m   params, state \u001b[39m=\u001b[39m f\u001b[39m.\u001b[39;49minit(\u001b[39m*\u001b[39;49margs, \u001b[39m*\u001b[39;49m\u001b[39m*\u001b[39;49mkwargs)\n\u001b[1;32m    115\u001b[0m   \u001b[39mif\u001b[39;00m state:\n\u001b[1;32m    116\u001b[0m     \u001b[39mraise\u001b[39;00m \u001b[39mValueError\u001b[39;00m(\u001b[39m\"\u001b[39m\u001b[39mIf your transformed function uses `hk.\u001b[39m\u001b[39m{\u001b[39m\u001b[39mget,set}_state` \u001b[39m\u001b[39m\"\u001b[39m\n\u001b[1;32m    117\u001b[0m                      \u001b[39m\"\u001b[39m\u001b[39mthen use `hk.transform_with_state`.\u001b[39m\u001b[39m\"\u001b[39m)\n",
      "File \u001b[0;32m/usr/local/lib/python3.10/site-packages/haiku/_src/transform.py:338\u001b[0m, in \u001b[0;36mtransform_with_state.<locals>.init_fn\u001b[0;34m(rng, *args, **kwargs)\u001b[0m\n\u001b[1;32m    336\u001b[0m \u001b[39mwith\u001b[39;00m base\u001b[39m.\u001b[39mnew_context(rng\u001b[39m=\u001b[39mrng) \u001b[39mas\u001b[39;00m ctx:\n\u001b[1;32m    337\u001b[0m   \u001b[39mtry\u001b[39;00m:\n\u001b[0;32m--> 338\u001b[0m     f(\u001b[39m*\u001b[39;49margs, \u001b[39m*\u001b[39;49m\u001b[39m*\u001b[39;49mkwargs)\n\u001b[1;32m    339\u001b[0m   \u001b[39mexcept\u001b[39;00m jax\u001b[39m.\u001b[39merrors\u001b[39m.\u001b[39mUnexpectedTracerError \u001b[39mas\u001b[39;00m e:\n\u001b[1;32m    340\u001b[0m     \u001b[39mraise\u001b[39;00m jax\u001b[39m.\u001b[39merrors\u001b[39m.\u001b[39mUnexpectedTracerError(unexpected_tracer_hint) \u001b[39mfrom\u001b[39;00m \u001b[39me\u001b[39;00m\n",
      "Cell \u001b[0;32mIn[225], line 2\u001b[0m, in \u001b[0;36mforward_green_net\u001b[0;34m(phase_coords, boundary_coords, coeff_coords, coeff_values, scattering_kernel_coords, scattering_kernel, batch)\u001b[0m\n\u001b[1;32m      1\u001b[0m \u001b[39mdef\u001b[39;00m \u001b[39mforward_green_net\u001b[39m(phase_coords, boundary_coords, coeff_coords, coeff_values, scattering_kernel_coords, scattering_kernel, batch):\n\u001b[0;32m----> 2\u001b[0m         out \u001b[39m=\u001b[39m GreenFunctionNet(config\u001b[39m.\u001b[39;49mmodel\u001b[39m.\u001b[39;49mgreen_function)(phase_coords, boundary_coords, coeff_coords, coeff_values, scattering_kernel_coords, scattering_kernel, batch)\n\u001b[1;32m      4\u001b[0m         \u001b[39mreturn\u001b[39;00m out\n",
      "File \u001b[0;32m/usr/local/lib/python3.10/site-packages/haiku/_src/module.py:426\u001b[0m, in \u001b[0;36mwrap_method.<locals>.wrapped\u001b[0;34m(self, *args, **kwargs)\u001b[0m\n\u001b[1;32m    423\u001b[0m   \u001b[39mif\u001b[39;00m method_name \u001b[39m!=\u001b[39m \u001b[39m\"\u001b[39m\u001b[39m__call__\u001b[39m\u001b[39m\"\u001b[39m:\n\u001b[1;32m    424\u001b[0m     f \u001b[39m=\u001b[39m jax\u001b[39m.\u001b[39mnamed_call(f, name\u001b[39m=\u001b[39mmethod_name)\n\u001b[0;32m--> 426\u001b[0m out \u001b[39m=\u001b[39m f(\u001b[39m*\u001b[39;49margs, \u001b[39m*\u001b[39;49m\u001b[39m*\u001b[39;49mkwargs)\n\u001b[1;32m    428\u001b[0m \u001b[39m# Module names are set in the constructor. If `f` is the constructor then\u001b[39;00m\n\u001b[1;32m    429\u001b[0m \u001b[39m# its name will only be set **after** `f` has run. For methods other\u001b[39;00m\n\u001b[1;32m    430\u001b[0m \u001b[39m# than `__init__` we need the name before running in order to wrap their\u001b[39;00m\n\u001b[1;32m    431\u001b[0m \u001b[39m# execution with `named_call`.\u001b[39;00m\n\u001b[1;32m    432\u001b[0m \u001b[39mif\u001b[39;00m module_name \u001b[39mis\u001b[39;00m \u001b[39mNone\u001b[39;00m:\n",
      "File \u001b[0;32m/usr/local/lib/python3.10/contextlib.py:79\u001b[0m, in \u001b[0;36mContextDecorator.__call__.<locals>.inner\u001b[0;34m(*args, **kwds)\u001b[0m\n\u001b[1;32m     76\u001b[0m \u001b[39m@wraps\u001b[39m(func)\n\u001b[1;32m     77\u001b[0m \u001b[39mdef\u001b[39;00m \u001b[39minner\u001b[39m(\u001b[39m*\u001b[39margs, \u001b[39m*\u001b[39m\u001b[39m*\u001b[39mkwds):\n\u001b[1;32m     78\u001b[0m     \u001b[39mwith\u001b[39;00m \u001b[39mself\u001b[39m\u001b[39m.\u001b[39m_recreate_cm():\n\u001b[0;32m---> 79\u001b[0m         \u001b[39mreturn\u001b[39;00m func(\u001b[39m*\u001b[39;49margs, \u001b[39m*\u001b[39;49m\u001b[39m*\u001b[39;49mkwds)\n",
      "File \u001b[0;32m/usr/local/lib/python3.10/site-packages/haiku/_src/module.py:272\u001b[0m, in \u001b[0;36mrun_interceptors\u001b[0;34m(bound_method, method_name, self, *args, **kwargs)\u001b[0m\n\u001b[1;32m    270\u001b[0m \u001b[39m\"\"\"Runs any method interceptors or the original method.\"\"\"\u001b[39;00m\n\u001b[1;32m    271\u001b[0m \u001b[39mif\u001b[39;00m \u001b[39mnot\u001b[39;00m interceptor_stack:\n\u001b[0;32m--> 272\u001b[0m   \u001b[39mreturn\u001b[39;00m bound_method(\u001b[39m*\u001b[39;49margs, \u001b[39m*\u001b[39;49m\u001b[39m*\u001b[39;49mkwargs)\n\u001b[1;32m    274\u001b[0m ctx \u001b[39m=\u001b[39m MethodContext(module\u001b[39m=\u001b[39m\u001b[39mself\u001b[39m,\n\u001b[1;32m    275\u001b[0m                     method_name\u001b[39m=\u001b[39mmethod_name,\n\u001b[1;32m    276\u001b[0m                     orig_method\u001b[39m=\u001b[39mbound_method)\n\u001b[1;32m    277\u001b[0m interceptor_stack_copy \u001b[39m=\u001b[39m interceptor_stack\u001b[39m.\u001b[39mclone()\n",
      "Cell \u001b[0;32mIn[224], line 85\u001b[0m, in \u001b[0;36mGreenFunctionNet.__call__\u001b[0;34m(self, phase_coords, boundary_coords, coeff_position, coeff_values, scattering_kernel_coords, scattering_kernel, batch)\u001b[0m\n\u001b[1;32m     81\u001b[0m     block_output \u001b[39m=\u001b[39m green_fn_block_output\n\u001b[1;32m     82\u001b[0m     \u001b[39m# for _ in range(c.green_res_block.depth):\u001b[39;00m\n\u001b[1;32m     83\u001b[0m         \n\u001b[1;32m     84\u001b[0m     \u001b[39m#     block_output, green_func_module = _green_res_block(block_output, green_func_module)\u001b[39;00m\n\u001b[0;32m---> 85\u001b[0m     block_output, green_func_module \u001b[39m=\u001b[39m layer_stack(\u001b[39m3\u001b[39;49m, with_state\u001b[39m=\u001b[39;49m\u001b[39mFalse\u001b[39;49;00m)(_green_res_block)(block_output, green_func_module)\n\u001b[1;32m     87\u001b[0m green_fn_block_output \u001b[39m=\u001b[39m MLP([\u001b[39m1\u001b[39m])(\n\u001b[1;32m     88\u001b[0m     green_fn_block_output,\n\u001b[1;32m     89\u001b[0m )\n\u001b[1;32m     90\u001b[0m \u001b[39mreturn\u001b[39;00m green_fn_block_output\n",
      "File \u001b[0;32m/workspaces/deeprte/deeprte/model/layer_stack.py:266\u001b[0m, in \u001b[0;36mlayer_stack.<locals>.iterate.<locals>.wrapped\u001b[0;34m(*args)\u001b[0m\n\u001b[1;32m    264\u001b[0m \u001b[39m@functools\u001b[39m\u001b[39m.\u001b[39mwraps(f)\n\u001b[1;32m    265\u001b[0m \u001b[39mdef\u001b[39;00m \u001b[39mwrapped\u001b[39m(\u001b[39m*\u001b[39margs):\n\u001b[0;32m--> 266\u001b[0m     ret \u001b[39m=\u001b[39m _LayerStackNoState(f, num_layers, unroll\u001b[39m=\u001b[39;49munroll, name\u001b[39m=\u001b[39;49mname)(\n\u001b[1;32m    267\u001b[0m         args, \u001b[39mNone\u001b[39;49;00m\n\u001b[1;32m    268\u001b[0m     )[\u001b[39m0\u001b[39m]\n\u001b[1;32m    269\u001b[0m     \u001b[39mif\u001b[39;00m \u001b[39mlen\u001b[39m(args) \u001b[39m==\u001b[39m \u001b[39m1\u001b[39m:\n\u001b[1;32m    270\u001b[0m         \u001b[39m# If the function takes a single argument, we must also return a\u001b[39;00m\n\u001b[1;32m    271\u001b[0m         \u001b[39m# single value, and not a tuple of length 1.\u001b[39;00m\n\u001b[1;32m    272\u001b[0m         ret \u001b[39m=\u001b[39m ret[\u001b[39m0\u001b[39m]\n",
      "File \u001b[0;32m/usr/local/lib/python3.10/site-packages/haiku/_src/module.py:426\u001b[0m, in \u001b[0;36mwrap_method.<locals>.wrapped\u001b[0;34m(self, *args, **kwargs)\u001b[0m\n\u001b[1;32m    423\u001b[0m   \u001b[39mif\u001b[39;00m method_name \u001b[39m!=\u001b[39m \u001b[39m\"\u001b[39m\u001b[39m__call__\u001b[39m\u001b[39m\"\u001b[39m:\n\u001b[1;32m    424\u001b[0m     f \u001b[39m=\u001b[39m jax\u001b[39m.\u001b[39mnamed_call(f, name\u001b[39m=\u001b[39mmethod_name)\n\u001b[0;32m--> 426\u001b[0m out \u001b[39m=\u001b[39m f(\u001b[39m*\u001b[39;49margs, \u001b[39m*\u001b[39;49m\u001b[39m*\u001b[39;49mkwargs)\n\u001b[1;32m    428\u001b[0m \u001b[39m# Module names are set in the constructor. If `f` is the constructor then\u001b[39;00m\n\u001b[1;32m    429\u001b[0m \u001b[39m# its name will only be set **after** `f` has run. For methods other\u001b[39;00m\n\u001b[1;32m    430\u001b[0m \u001b[39m# than `__init__` we need the name before running in order to wrap their\u001b[39;00m\n\u001b[1;32m    431\u001b[0m \u001b[39m# execution with `named_call`.\u001b[39;00m\n\u001b[1;32m    432\u001b[0m \u001b[39mif\u001b[39;00m module_name \u001b[39mis\u001b[39;00m \u001b[39mNone\u001b[39;00m:\n",
      "File \u001b[0;32m/usr/local/lib/python3.10/contextlib.py:79\u001b[0m, in \u001b[0;36mContextDecorator.__call__.<locals>.inner\u001b[0;34m(*args, **kwds)\u001b[0m\n\u001b[1;32m     76\u001b[0m \u001b[39m@wraps\u001b[39m(func)\n\u001b[1;32m     77\u001b[0m \u001b[39mdef\u001b[39;00m \u001b[39minner\u001b[39m(\u001b[39m*\u001b[39margs, \u001b[39m*\u001b[39m\u001b[39m*\u001b[39mkwds):\n\u001b[1;32m     78\u001b[0m     \u001b[39mwith\u001b[39;00m \u001b[39mself\u001b[39m\u001b[39m.\u001b[39m_recreate_cm():\n\u001b[0;32m---> 79\u001b[0m         \u001b[39mreturn\u001b[39;00m func(\u001b[39m*\u001b[39;49margs, \u001b[39m*\u001b[39;49m\u001b[39m*\u001b[39;49mkwds)\n",
      "File \u001b[0;32m/usr/local/lib/python3.10/site-packages/haiku/_src/module.py:272\u001b[0m, in \u001b[0;36mrun_interceptors\u001b[0;34m(bound_method, method_name, self, *args, **kwargs)\u001b[0m\n\u001b[1;32m    270\u001b[0m \u001b[39m\"\"\"Runs any method interceptors or the original method.\"\"\"\u001b[39;00m\n\u001b[1;32m    271\u001b[0m \u001b[39mif\u001b[39;00m \u001b[39mnot\u001b[39;00m interceptor_stack:\n\u001b[0;32m--> 272\u001b[0m   \u001b[39mreturn\u001b[39;00m bound_method(\u001b[39m*\u001b[39;49margs, \u001b[39m*\u001b[39;49m\u001b[39m*\u001b[39;49mkwargs)\n\u001b[1;32m    274\u001b[0m ctx \u001b[39m=\u001b[39m MethodContext(module\u001b[39m=\u001b[39m\u001b[39mself\u001b[39m,\n\u001b[1;32m    275\u001b[0m                     method_name\u001b[39m=\u001b[39mmethod_name,\n\u001b[1;32m    276\u001b[0m                     orig_method\u001b[39m=\u001b[39mbound_method)\n\u001b[1;32m    277\u001b[0m interceptor_stack_copy \u001b[39m=\u001b[39m interceptor_stack\u001b[39m.\u001b[39mclone()\n",
      "File \u001b[0;32m/workspaces/deeprte/deeprte/model/layer_stack.py:102\u001b[0m, in \u001b[0;36m_LayerStack.__call__\u001b[0;34m(self, x, *args_ys)\u001b[0m\n\u001b[1;32m     97\u001b[0m \u001b[39melse\u001b[39;00m:\n\u001b[1;32m     98\u001b[0m     args0 \u001b[39m=\u001b[39m [\n\u001b[1;32m     99\u001b[0m         jax\u001b[39m.\u001b[39mlax\u001b[39m.\u001b[39mdynamic_index_in_dim(ys, \u001b[39m0\u001b[39m, keepdims\u001b[39m=\u001b[39m\u001b[39mFalse\u001b[39;00m)\n\u001b[1;32m    100\u001b[0m         \u001b[39mfor\u001b[39;00m ys \u001b[39min\u001b[39;00m args_ys\n\u001b[1;32m    101\u001b[0m     ]\n\u001b[0;32m--> 102\u001b[0m x, z \u001b[39m=\u001b[39m \u001b[39mself\u001b[39;49m\u001b[39m.\u001b[39;49m_call_wrapped(x, \u001b[39m*\u001b[39;49margs0)\n\u001b[1;32m    103\u001b[0m \u001b[39mif\u001b[39;00m z \u001b[39mis\u001b[39;00m \u001b[39mNone\u001b[39;00m:\n\u001b[1;32m    104\u001b[0m     \u001b[39mreturn\u001b[39;00m x, z\n",
      "File \u001b[0;32m/workspaces/deeprte/deeprte/model/layer_stack.py:181\u001b[0m, in \u001b[0;36m_LayerStackNoState._call_wrapped\u001b[0;34m(***failed resolving arguments***)\u001b[0m\n\u001b[1;32m    178\u001b[0m \u001b[39m@hk\u001b[39m\u001b[39m.\u001b[39mtransparent\n\u001b[1;32m    179\u001b[0m \u001b[39mdef\u001b[39;00m \u001b[39m_call_wrapped\u001b[39m(\u001b[39mself\u001b[39m, args, y):\n\u001b[1;32m    180\u001b[0m     \u001b[39mdel\u001b[39;00m y\n\u001b[0;32m--> 181\u001b[0m     ret \u001b[39m=\u001b[39m \u001b[39mself\u001b[39;49m\u001b[39m.\u001b[39;49m_f(\u001b[39m*\u001b[39;49margs)\n\u001b[1;32m    182\u001b[0m     \u001b[39mif\u001b[39;00m \u001b[39mlen\u001b[39m(args) \u001b[39m==\u001b[39m \u001b[39m1\u001b[39m:\n\u001b[1;32m    183\u001b[0m         \u001b[39m# If the function takes a single argument, the wrapped function receives\u001b[39;00m\n\u001b[1;32m    184\u001b[0m         \u001b[39m# a tuple of length 1, and therefore it must return a tuple of length 1.\u001b[39;00m\n\u001b[1;32m    185\u001b[0m         ret \u001b[39m=\u001b[39m (ret,)\n",
      "Cell \u001b[0;32mIn[224], line 74\u001b[0m, in \u001b[0;36mGreenFunctionNet.__call__.<locals>._green_res_block\u001b[0;34m(block_output, green_func_module)\u001b[0m\n\u001b[1;32m     72\u001b[0m \u001b[39mdef\u001b[39;00m \u001b[39m_green_res_block\u001b[39m(block_output, green_func_module):\n\u001b[1;32m     73\u001b[0m     func \u001b[39m=\u001b[39m _green_res_fn(green_func_module)\n\u001b[0;32m---> 74\u001b[0m     block_output \u001b[39m+\u001b[39m\u001b[39m=\u001b[39m func(\n\u001b[1;32m     75\u001b[0m         \u001b[39m*\u001b[39;49mres_block_inputs,\n\u001b[1;32m     76\u001b[0m     )\n\u001b[1;32m     77\u001b[0m     green_func_module \u001b[39m=\u001b[39m func\n\u001b[1;32m     79\u001b[0m     \u001b[39mreturn\u001b[39;00m block_output, green_func_module\n",
      "Cell \u001b[0;32mIn[224], line 58\u001b[0m, in \u001b[0;36mGreenFunctionNet.__call__.<locals>._green_res_fn.<locals>.func\u001b[0;34m(*inputs)\u001b[0m\n\u001b[1;32m     57\u001b[0m \u001b[39mdef\u001b[39;00m \u001b[39mfunc\u001b[39m(\u001b[39m*\u001b[39minputs):\n\u001b[0;32m---> 58\u001b[0m     green_fn_kernel_quad \u001b[39m=\u001b[39m quad(\n\u001b[1;32m     59\u001b[0m         green_fn,\n\u001b[1;32m     60\u001b[0m         (coords_star, weights),\n\u001b[1;32m     61\u001b[0m         argnum\u001b[39m=\u001b[39;49m\u001b[39m3\u001b[39;49m,\n\u001b[1;32m     62\u001b[0m         use_hk\u001b[39m=\u001b[39;49m\u001b[39mTrue\u001b[39;49;00m,\n\u001b[1;32m     63\u001b[0m     )(\u001b[39m*\u001b[39;49minputs[:\u001b[39m3\u001b[39;49m], coeff_position, coeff_values)  \u001b[39m# shape: [N_latent]\u001b[39;00m\n\u001b[1;32m     64\u001b[0m     green_fn_res \u001b[39m=\u001b[39m MLP(\n\u001b[1;32m     65\u001b[0m         c\u001b[39m.\u001b[39mgreen_function_mlp\u001b[39m.\u001b[39mwidths[\u001b[39m-\u001b[39m\u001b[39m1\u001b[39m:],\n\u001b[1;32m     66\u001b[0m         activate_final\u001b[39m=\u001b[39m\u001b[39mTrue\u001b[39;00m,\n\u001b[1;32m     67\u001b[0m     )(green_fn_kernel_quad)\n\u001b[1;32m     68\u001b[0m     \u001b[39mreturn\u001b[39;00m green_fn_res\n",
      "File \u001b[0;32m/workspaces/deeprte/deeprte/model/integrate.py:41\u001b[0m, in \u001b[0;36mquad.<locals>.integral\u001b[0;34m(*args)\u001b[0m\n\u001b[1;32m     39\u001b[0m args\u001b[39m.\u001b[39minsert(argnum, nodes)\n\u001b[1;32m     40\u001b[0m \u001b[39mif\u001b[39;00m \u001b[39mnot\u001b[39;00m has_aux:\n\u001b[0;32m---> 41\u001b[0m     values \u001b[39m=\u001b[39m mapping\u001b[39m.\u001b[39;49mvmap(func, argnums\u001b[39m=\u001b[39;49m{argnum}, out_axes\u001b[39m=\u001b[39;49m\u001b[39m-\u001b[39;49m\u001b[39m1\u001b[39;49m, use_hk\u001b[39m=\u001b[39;49muse_hk)(\n\u001b[1;32m     42\u001b[0m         \u001b[39m*\u001b[39;49margs\n\u001b[1;32m     43\u001b[0m     )\n\u001b[1;32m     44\u001b[0m     \u001b[39mreturn\u001b[39;00m jnp\u001b[39m.\u001b[39mmatmul(values, weights)\n\u001b[1;32m     45\u001b[0m \u001b[39melse\u001b[39;00m:\n",
      "File \u001b[0;32m/workspaces/deeprte/deeprte/model/mapping.py:104\u001b[0m, in \u001b[0;36mvmap.<locals>.wrapped\u001b[0;34m(*args)\u001b[0m\n\u001b[1;32m    101\u001b[0m     excluded_argnums \u001b[39m=\u001b[39m excluded\n\u001b[1;32m    102\u001b[0m excluded_fun, args \u001b[39m=\u001b[39m _apply_excluded(func, excluded_argnums, args)\n\u001b[0;32m--> 104\u001b[0m \u001b[39mreturn\u001b[39;00m vmap_(excluded_fun, in_axes\u001b[39m=\u001b[39;49min_axes, out_axes\u001b[39m=\u001b[39;49mout_axes)(\u001b[39m*\u001b[39;49margs)\n",
      "File \u001b[0;32m/usr/local/lib/python3.10/site-packages/haiku/_src/stateful.py:845\u001b[0m, in \u001b[0;36mvmap.<locals>.mapped_fun\u001b[0;34m(*args)\u001b[0m\n\u001b[1;32m    837\u001b[0m     \u001b[39mraise\u001b[39;00m \u001b[39mValueError\u001b[39;00m(\u001b[39m\"\u001b[39m\u001b[39mhk.vmap does not support setting split_rng to True \u001b[39m\u001b[39m\"\u001b[39m\n\u001b[1;32m    838\u001b[0m                      \u001b[39m\"\u001b[39m\u001b[39mduring initialization because it assumes parameters \u001b[39m\u001b[39m\"\u001b[39m\n\u001b[1;32m    839\u001b[0m                      \u001b[39m\"\u001b[39m\u001b[39mare always shared along the mapped dimension. \u001b[39m\u001b[39m\"\u001b[39m\n\u001b[0;32m   (...)\u001b[0m\n\u001b[1;32m    842\u001b[0m                      \u001b[39m\"\u001b[39m\u001b[39m`split_rng=(not hk.running_init())`.\u001b[39m\u001b[39m\"\u001b[39m\n\u001b[1;32m    843\u001b[0m                      ) \u001b[39mfrom\u001b[39;00m \u001b[39merr\u001b[39;00m\n\u001b[1;32m    844\u001b[0m   \u001b[39melse\u001b[39;00m:\n\u001b[0;32m--> 845\u001b[0m     \u001b[39mraise\u001b[39;00m err\n\u001b[1;32m    847\u001b[0m \u001b[39mif\u001b[39;00m split_rng:\n\u001b[1;32m    848\u001b[0m   state \u001b[39m=\u001b[39m InternalState(state\u001b[39m.\u001b[39mparams, state\u001b[39m.\u001b[39mstate, saved_rng)\n",
      "File \u001b[0;32m/usr/local/lib/python3.10/site-packages/haiku/_src/stateful.py:833\u001b[0m, in \u001b[0;36mvmap.<locals>.mapped_fun\u001b[0;34m(*args)\u001b[0m\n\u001b[1;32m    830\u001b[0m   state \u001b[39m=\u001b[39m InternalState(state\u001b[39m.\u001b[39mparams, state\u001b[39m.\u001b[39mstate, rng)\n\u001b[1;32m    832\u001b[0m \u001b[39mtry\u001b[39;00m:\n\u001b[0;32m--> 833\u001b[0m   out, state \u001b[39m=\u001b[39m mapped_pure_fun(args, state)\n\u001b[1;32m    834\u001b[0m \u001b[39mexcept\u001b[39;00m \u001b[39mValueError\u001b[39;00m \u001b[39mas\u001b[39;00m err:\n\u001b[1;32m    835\u001b[0m   \u001b[39mif\u001b[39;00m split_rng \u001b[39mand\u001b[39;00m \u001b[39mnot\u001b[39;00m base\u001b[39m.\u001b[39mparams_frozen() \u001b[39mand\u001b[39;00m \u001b[39m\"\u001b[39m\u001b[39mout_axes\u001b[39m\u001b[39m\"\u001b[39m \u001b[39min\u001b[39;00m \u001b[39mstr\u001b[39m(err):\n\u001b[1;32m    836\u001b[0m     \u001b[39m# TODO(lenamartens): add error for state too.\u001b[39;00m\n",
      "    \u001b[0;31m[... skipping hidden 3 frame]\u001b[0m\n",
      "File \u001b[0;32m/usr/local/lib/python3.10/site-packages/haiku/_src/stateful.py:812\u001b[0m, in \u001b[0;36mvmap.<locals>.pure_fun\u001b[0;34m(args, state_in)\u001b[0m\n\u001b[1;32m    808\u001b[0m   state_in \u001b[39m=\u001b[39m InternalState(state_in\u001b[39m.\u001b[39mparams, state_in\u001b[39m.\u001b[39mstate, rng)\n\u001b[1;32m    810\u001b[0m \u001b[39mwith\u001b[39;00m temporary_internal_state(state_in), \\\n\u001b[1;32m    811\u001b[0m      base\u001b[39m.\u001b[39mpush_jax_trace_level():\n\u001b[0;32m--> 812\u001b[0m   out \u001b[39m=\u001b[39m fun(\u001b[39m*\u001b[39;49margs)\n\u001b[1;32m    813\u001b[0m   state_out \u001b[39m=\u001b[39m difference(state_in, internal_state())\n\u001b[1;32m    814\u001b[0m   \u001b[39mreturn\u001b[39;00m out, state_out\n",
      "File \u001b[0;32m/workspaces/deeprte/deeprte/model/mapping.py:49\u001b[0m, in \u001b[0;36m_apply_excluded.<locals>.new_fun\u001b[0;34m(*args)\u001b[0m\n\u001b[1;32m     47\u001b[0m \u001b[39mfor\u001b[39;00m i, arg \u001b[39min\u001b[39;00m static_args:\n\u001b[1;32m     48\u001b[0m     args\u001b[39m.\u001b[39minsert(i, arg)\n\u001b[0;32m---> 49\u001b[0m \u001b[39mreturn\u001b[39;00m func(\u001b[39m*\u001b[39;49margs)\n",
      "File \u001b[0;32m/usr/local/lib/python3.10/site-packages/haiku/_src/module.py:426\u001b[0m, in \u001b[0;36mwrap_method.<locals>.wrapped\u001b[0;34m(self, *args, **kwargs)\u001b[0m\n\u001b[1;32m    423\u001b[0m   \u001b[39mif\u001b[39;00m method_name \u001b[39m!=\u001b[39m \u001b[39m\"\u001b[39m\u001b[39m__call__\u001b[39m\u001b[39m\"\u001b[39m:\n\u001b[1;32m    424\u001b[0m     f \u001b[39m=\u001b[39m jax\u001b[39m.\u001b[39mnamed_call(f, name\u001b[39m=\u001b[39mmethod_name)\n\u001b[0;32m--> 426\u001b[0m out \u001b[39m=\u001b[39m f(\u001b[39m*\u001b[39;49margs, \u001b[39m*\u001b[39;49m\u001b[39m*\u001b[39;49mkwargs)\n\u001b[1;32m    428\u001b[0m \u001b[39m# Module names are set in the constructor. If `f` is the constructor then\u001b[39;00m\n\u001b[1;32m    429\u001b[0m \u001b[39m# its name will only be set **after** `f` has run. For methods other\u001b[39;00m\n\u001b[1;32m    430\u001b[0m \u001b[39m# than `__init__` we need the name before running in order to wrap their\u001b[39;00m\n\u001b[1;32m    431\u001b[0m \u001b[39m# execution with `named_call`.\u001b[39;00m\n\u001b[1;32m    432\u001b[0m \u001b[39mif\u001b[39;00m module_name \u001b[39mis\u001b[39;00m \u001b[39mNone\u001b[39;00m:\n",
      "File \u001b[0;32m/usr/local/lib/python3.10/contextlib.py:79\u001b[0m, in \u001b[0;36mContextDecorator.__call__.<locals>.inner\u001b[0;34m(*args, **kwds)\u001b[0m\n\u001b[1;32m     76\u001b[0m \u001b[39m@wraps\u001b[39m(func)\n\u001b[1;32m     77\u001b[0m \u001b[39mdef\u001b[39;00m \u001b[39minner\u001b[39m(\u001b[39m*\u001b[39margs, \u001b[39m*\u001b[39m\u001b[39m*\u001b[39mkwds):\n\u001b[1;32m     78\u001b[0m     \u001b[39mwith\u001b[39;00m \u001b[39mself\u001b[39m\u001b[39m.\u001b[39m_recreate_cm():\n\u001b[0;32m---> 79\u001b[0m         \u001b[39mreturn\u001b[39;00m func(\u001b[39m*\u001b[39;49margs, \u001b[39m*\u001b[39;49m\u001b[39m*\u001b[39;49mkwds)\n",
      "File \u001b[0;32m/usr/local/lib/python3.10/site-packages/haiku/_src/module.py:272\u001b[0m, in \u001b[0;36mrun_interceptors\u001b[0;34m(bound_method, method_name, self, *args, **kwargs)\u001b[0m\n\u001b[1;32m    270\u001b[0m \u001b[39m\"\"\"Runs any method interceptors or the original method.\"\"\"\u001b[39;00m\n\u001b[1;32m    271\u001b[0m \u001b[39mif\u001b[39;00m \u001b[39mnot\u001b[39;00m interceptor_stack:\n\u001b[0;32m--> 272\u001b[0m   \u001b[39mreturn\u001b[39;00m bound_method(\u001b[39m*\u001b[39;49margs, \u001b[39m*\u001b[39;49m\u001b[39m*\u001b[39;49mkwargs)\n\u001b[1;32m    274\u001b[0m ctx \u001b[39m=\u001b[39m MethodContext(module\u001b[39m=\u001b[39m\u001b[39mself\u001b[39m,\n\u001b[1;32m    275\u001b[0m                     method_name\u001b[39m=\u001b[39mmethod_name,\n\u001b[1;32m    276\u001b[0m                     orig_method\u001b[39m=\u001b[39mbound_method)\n\u001b[1;32m    277\u001b[0m interceptor_stack_copy \u001b[39m=\u001b[39m interceptor_stack\u001b[39m.\u001b[39mclone()\n",
      "File \u001b[0;32m/workspaces/deeprte/deeprte/model/modules.py:183\u001b[0m, in \u001b[0;36mGreenFunctionBlock.__call__\u001b[0;34m(self, position, velocity, position_prime, velocity_prime, coeff_position, coeff_values)\u001b[0m\n\u001b[1;32m    180\u001b[0m c \u001b[39m=\u001b[39m \u001b[39mself\u001b[39m\u001b[39m.\u001b[39mconfig  \u001b[39m# pylint: disable=invalid-name\u001b[39;00m\n\u001b[1;32m    182\u001b[0m \u001b[39m# Get nn output of coefficient net.\u001b[39;00m\n\u001b[0;32m--> 183\u001b[0m coefficients \u001b[39m=\u001b[39m CoefficientNet(c\u001b[39m.\u001b[39;49mcoefficient_net)(\n\u001b[1;32m    184\u001b[0m     position,\n\u001b[1;32m    185\u001b[0m     velocity,\n\u001b[1;32m    186\u001b[0m     coeff_position,\n\u001b[1;32m    187\u001b[0m     coeff_values,\n\u001b[1;32m    188\u001b[0m )\n\u001b[1;32m    190\u001b[0m \u001b[39m# Green's function inputs.\u001b[39;00m\n\u001b[1;32m    191\u001b[0m inputs \u001b[39m=\u001b[39m jnp\u001b[39m.\u001b[39mconcatenate(\n\u001b[1;32m    192\u001b[0m     [\n\u001b[1;32m    193\u001b[0m         position,\n\u001b[0;32m   (...)\u001b[0m\n\u001b[1;32m    198\u001b[0m     ]\n\u001b[1;32m    199\u001b[0m )\n",
      "File \u001b[0;32m/usr/local/lib/python3.10/site-packages/haiku/_src/module.py:426\u001b[0m, in \u001b[0;36mwrap_method.<locals>.wrapped\u001b[0;34m(self, *args, **kwargs)\u001b[0m\n\u001b[1;32m    423\u001b[0m   \u001b[39mif\u001b[39;00m method_name \u001b[39m!=\u001b[39m \u001b[39m\"\u001b[39m\u001b[39m__call__\u001b[39m\u001b[39m\"\u001b[39m:\n\u001b[1;32m    424\u001b[0m     f \u001b[39m=\u001b[39m jax\u001b[39m.\u001b[39mnamed_call(f, name\u001b[39m=\u001b[39mmethod_name)\n\u001b[0;32m--> 426\u001b[0m out \u001b[39m=\u001b[39m f(\u001b[39m*\u001b[39;49margs, \u001b[39m*\u001b[39;49m\u001b[39m*\u001b[39;49mkwargs)\n\u001b[1;32m    428\u001b[0m \u001b[39m# Module names are set in the constructor. If `f` is the constructor then\u001b[39;00m\n\u001b[1;32m    429\u001b[0m \u001b[39m# its name will only be set **after** `f` has run. For methods other\u001b[39;00m\n\u001b[1;32m    430\u001b[0m \u001b[39m# than `__init__` we need the name before running in order to wrap their\u001b[39;00m\n\u001b[1;32m    431\u001b[0m \u001b[39m# execution with `named_call`.\u001b[39;00m\n\u001b[1;32m    432\u001b[0m \u001b[39mif\u001b[39;00m module_name \u001b[39mis\u001b[39;00m \u001b[39mNone\u001b[39;00m:\n",
      "File \u001b[0;32m/usr/local/lib/python3.10/contextlib.py:79\u001b[0m, in \u001b[0;36mContextDecorator.__call__.<locals>.inner\u001b[0;34m(*args, **kwds)\u001b[0m\n\u001b[1;32m     76\u001b[0m \u001b[39m@wraps\u001b[39m(func)\n\u001b[1;32m     77\u001b[0m \u001b[39mdef\u001b[39;00m \u001b[39minner\u001b[39m(\u001b[39m*\u001b[39margs, \u001b[39m*\u001b[39m\u001b[39m*\u001b[39mkwds):\n\u001b[1;32m     78\u001b[0m     \u001b[39mwith\u001b[39;00m \u001b[39mself\u001b[39m\u001b[39m.\u001b[39m_recreate_cm():\n\u001b[0;32m---> 79\u001b[0m         \u001b[39mreturn\u001b[39;00m func(\u001b[39m*\u001b[39;49margs, \u001b[39m*\u001b[39;49m\u001b[39m*\u001b[39;49mkwds)\n",
      "File \u001b[0;32m/usr/local/lib/python3.10/site-packages/haiku/_src/module.py:272\u001b[0m, in \u001b[0;36mrun_interceptors\u001b[0;34m(bound_method, method_name, self, *args, **kwargs)\u001b[0m\n\u001b[1;32m    270\u001b[0m \u001b[39m\"\"\"Runs any method interceptors or the original method.\"\"\"\u001b[39;00m\n\u001b[1;32m    271\u001b[0m \u001b[39mif\u001b[39;00m \u001b[39mnot\u001b[39;00m interceptor_stack:\n\u001b[0;32m--> 272\u001b[0m   \u001b[39mreturn\u001b[39;00m bound_method(\u001b[39m*\u001b[39;49margs, \u001b[39m*\u001b[39;49m\u001b[39m*\u001b[39;49mkwargs)\n\u001b[1;32m    274\u001b[0m ctx \u001b[39m=\u001b[39m MethodContext(module\u001b[39m=\u001b[39m\u001b[39mself\u001b[39m,\n\u001b[1;32m    275\u001b[0m                     method_name\u001b[39m=\u001b[39mmethod_name,\n\u001b[1;32m    276\u001b[0m                     orig_method\u001b[39m=\u001b[39mbound_method)\n\u001b[1;32m    277\u001b[0m interceptor_stack_copy \u001b[39m=\u001b[39m interceptor_stack\u001b[39m.\u001b[39mclone()\n",
      "File \u001b[0;32m/workspaces/deeprte/deeprte/model/modules.py:268\u001b[0m, in \u001b[0;36mCoefficientNet.__call__\u001b[0;34m(self, position, velocity, coeff_position, coeff_values)\u001b[0m\n\u001b[1;32m    265\u001b[0m     attn_logits_per_example \u001b[39m=\u001b[39m attn_mod(qk)\n\u001b[1;32m    266\u001b[0m     \u001b[39mreturn\u001b[39;00m attn_logits_per_example\n\u001b[0;32m--> 268\u001b[0m attn_logits \u001b[39m=\u001b[39m vmap(\n\u001b[1;32m    269\u001b[0m     attn_logits_fn, argnums\u001b[39m=\u001b[39;49m\u001b[39mfrozenset\u001b[39;49m([\u001b[39m1\u001b[39;49m]), use_hk\u001b[39m=\u001b[39;49m\u001b[39mTrue\u001b[39;49;00m, out_axes\u001b[39m=\u001b[39;49m\u001b[39m-\u001b[39;49m\u001b[39m1\u001b[39;49m\n\u001b[1;32m    270\u001b[0m )(coords, frames_local)\n\u001b[1;32m    272\u001b[0m masked_attn_logits \u001b[39m=\u001b[39m jnp\u001b[39m.\u001b[39mwhere(positions_local \u001b[39m>\u001b[39m \u001b[39m0\u001b[39m, attn_logits, \u001b[39m-\u001b[39m\u001b[39m1e30\u001b[39m)\n\u001b[1;32m    274\u001b[0m attn_weights \u001b[39m=\u001b[39m jax\u001b[39m.\u001b[39mnn\u001b[39m.\u001b[39msoftmax(masked_attn_logits)\n",
      "File \u001b[0;32m/workspaces/deeprte/deeprte/model/mapping.py:104\u001b[0m, in \u001b[0;36mvmap.<locals>.wrapped\u001b[0;34m(*args)\u001b[0m\n\u001b[1;32m    101\u001b[0m     excluded_argnums \u001b[39m=\u001b[39m excluded\n\u001b[1;32m    102\u001b[0m excluded_fun, args \u001b[39m=\u001b[39m _apply_excluded(func, excluded_argnums, args)\n\u001b[0;32m--> 104\u001b[0m \u001b[39mreturn\u001b[39;00m vmap_(excluded_fun, in_axes\u001b[39m=\u001b[39;49min_axes, out_axes\u001b[39m=\u001b[39;49mout_axes)(\u001b[39m*\u001b[39;49margs)\n",
      "File \u001b[0;32m/usr/local/lib/python3.10/site-packages/haiku/_src/stateful.py:845\u001b[0m, in \u001b[0;36mvmap.<locals>.mapped_fun\u001b[0;34m(*args)\u001b[0m\n\u001b[1;32m    837\u001b[0m     \u001b[39mraise\u001b[39;00m \u001b[39mValueError\u001b[39;00m(\u001b[39m\"\u001b[39m\u001b[39mhk.vmap does not support setting split_rng to True \u001b[39m\u001b[39m\"\u001b[39m\n\u001b[1;32m    838\u001b[0m                      \u001b[39m\"\u001b[39m\u001b[39mduring initialization because it assumes parameters \u001b[39m\u001b[39m\"\u001b[39m\n\u001b[1;32m    839\u001b[0m                      \u001b[39m\"\u001b[39m\u001b[39mare always shared along the mapped dimension. \u001b[39m\u001b[39m\"\u001b[39m\n\u001b[0;32m   (...)\u001b[0m\n\u001b[1;32m    842\u001b[0m                      \u001b[39m\"\u001b[39m\u001b[39m`split_rng=(not hk.running_init())`.\u001b[39m\u001b[39m\"\u001b[39m\n\u001b[1;32m    843\u001b[0m                      ) \u001b[39mfrom\u001b[39;00m \u001b[39merr\u001b[39;00m\n\u001b[1;32m    844\u001b[0m   \u001b[39melse\u001b[39;00m:\n\u001b[0;32m--> 845\u001b[0m     \u001b[39mraise\u001b[39;00m err\n\u001b[1;32m    847\u001b[0m \u001b[39mif\u001b[39;00m split_rng:\n\u001b[1;32m    848\u001b[0m   state \u001b[39m=\u001b[39m InternalState(state\u001b[39m.\u001b[39mparams, state\u001b[39m.\u001b[39mstate, saved_rng)\n",
      "File \u001b[0;32m/usr/local/lib/python3.10/site-packages/haiku/_src/stateful.py:833\u001b[0m, in \u001b[0;36mvmap.<locals>.mapped_fun\u001b[0;34m(*args)\u001b[0m\n\u001b[1;32m    830\u001b[0m   state \u001b[39m=\u001b[39m InternalState(state\u001b[39m.\u001b[39mparams, state\u001b[39m.\u001b[39mstate, rng)\n\u001b[1;32m    832\u001b[0m \u001b[39mtry\u001b[39;00m:\n\u001b[0;32m--> 833\u001b[0m   out, state \u001b[39m=\u001b[39m mapped_pure_fun(args, state)\n\u001b[1;32m    834\u001b[0m \u001b[39mexcept\u001b[39;00m \u001b[39mValueError\u001b[39;00m \u001b[39mas\u001b[39;00m err:\n\u001b[1;32m    835\u001b[0m   \u001b[39mif\u001b[39;00m split_rng \u001b[39mand\u001b[39;00m \u001b[39mnot\u001b[39;00m base\u001b[39m.\u001b[39mparams_frozen() \u001b[39mand\u001b[39;00m \u001b[39m\"\u001b[39m\u001b[39mout_axes\u001b[39m\u001b[39m\"\u001b[39m \u001b[39min\u001b[39;00m \u001b[39mstr\u001b[39m(err):\n\u001b[1;32m    836\u001b[0m     \u001b[39m# TODO(lenamartens): add error for state too.\u001b[39;00m\n",
      "    \u001b[0;31m[... skipping hidden 3 frame]\u001b[0m\n",
      "File \u001b[0;32m/usr/local/lib/python3.10/site-packages/haiku/_src/stateful.py:812\u001b[0m, in \u001b[0;36mvmap.<locals>.pure_fun\u001b[0;34m(args, state_in)\u001b[0m\n\u001b[1;32m    808\u001b[0m   state_in \u001b[39m=\u001b[39m InternalState(state_in\u001b[39m.\u001b[39mparams, state_in\u001b[39m.\u001b[39mstate, rng)\n\u001b[1;32m    810\u001b[0m \u001b[39mwith\u001b[39;00m temporary_internal_state(state_in), \\\n\u001b[1;32m    811\u001b[0m      base\u001b[39m.\u001b[39mpush_jax_trace_level():\n\u001b[0;32m--> 812\u001b[0m   out \u001b[39m=\u001b[39m fun(\u001b[39m*\u001b[39;49margs)\n\u001b[1;32m    813\u001b[0m   state_out \u001b[39m=\u001b[39m difference(state_in, internal_state())\n\u001b[1;32m    814\u001b[0m   \u001b[39mreturn\u001b[39;00m out, state_out\n",
      "File \u001b[0;32m/workspaces/deeprte/deeprte/model/mapping.py:49\u001b[0m, in \u001b[0;36m_apply_excluded.<locals>.new_fun\u001b[0;34m(*args)\u001b[0m\n\u001b[1;32m     47\u001b[0m \u001b[39mfor\u001b[39;00m i, arg \u001b[39min\u001b[39;00m static_args:\n\u001b[1;32m     48\u001b[0m     args\u001b[39m.\u001b[39minsert(i, arg)\n\u001b[0;32m---> 49\u001b[0m \u001b[39mreturn\u001b[39;00m func(\u001b[39m*\u001b[39;49margs)\n",
      "File \u001b[0;32m/workspaces/deeprte/deeprte/model/modules.py:265\u001b[0m, in \u001b[0;36mattn_logits_fn\u001b[0;34m(q, k)\u001b[0m\n\u001b[1;32m    248\u001b[0m \u001b[39mdef\u001b[39;00m \u001b[39m__call__\u001b[39m(\n\u001b[1;32m    249\u001b[0m     \u001b[39mself\u001b[39m,\n\u001b[1;32m    250\u001b[0m     position: jax\u001b[39m.\u001b[39mArray,\n\u001b[0;32m   (...)\u001b[0m\n\u001b[1;32m    253\u001b[0m     coeff_values: jax\u001b[39m.\u001b[39mArray,\n\u001b[1;32m    254\u001b[0m ) \u001b[39m-\u001b[39m\u001b[39m>\u001b[39m jax\u001b[39m.\u001b[39mArray:\n\u001b[1;32m    255\u001b[0m     \u001b[39m\"\"\"Compute coefficients of the equation as the inputs of\u001b[39;00m\n\u001b[1;32m    256\u001b[0m \u001b[39m    Green's function.\u001b[39;00m\n\u001b[1;32m    257\u001b[0m \n\u001b[1;32m    258\u001b[0m \u001b[39m    Args:\u001b[39;00m\n\u001b[1;32m    259\u001b[0m \u001b[39m        r: Spatial position with dimention d.shape is (d,).\u001b[39;00m\n\u001b[1;32m    260\u001b[0m \u001b[39m        coefficient_fn: Coefficient function at as a NamedTuple (x, y)\u001b[39;00m\n\u001b[1;32m    261\u001b[0m \u001b[39m            where x are the positions and y are corresponding values.\u001b[39;00m\n\u001b[1;32m    262\u001b[0m \u001b[39m            Shapes are (num_positions, d) for x and\u001b[39;00m\n\u001b[1;32m    263\u001b[0m \u001b[39m            (num_positions, num_coefficients) for y.\u001b[39;00m\n\u001b[1;32m    264\u001b[0m \u001b[39m    Returns:\u001b[39;00m\n\u001b[0;32m--> 265\u001b[0m \u001b[39m        Coefficient information at spatial position r.\u001b[39;00m\n\u001b[1;32m    266\u001b[0m \u001b[39m        Shape (num_coefficients,) or ().\u001b[39;00m\n\u001b[1;32m    267\u001b[0m \u001b[39m    \"\"\"\u001b[39;00m\n\u001b[1;32m    268\u001b[0m     c \u001b[39m=\u001b[39m \u001b[39mself\u001b[39m\u001b[39m.\u001b[39mconfig\n\u001b[1;32m    270\u001b[0m     x, v \u001b[39m=\u001b[39m position, velocity\n",
      "File \u001b[0;32m/usr/local/lib/python3.10/site-packages/haiku/_src/module.py:426\u001b[0m, in \u001b[0;36mwrap_method.<locals>.wrapped\u001b[0;34m(self, *args, **kwargs)\u001b[0m\n\u001b[1;32m    423\u001b[0m   \u001b[39mif\u001b[39;00m method_name \u001b[39m!=\u001b[39m \u001b[39m\"\u001b[39m\u001b[39m__call__\u001b[39m\u001b[39m\"\u001b[39m:\n\u001b[1;32m    424\u001b[0m     f \u001b[39m=\u001b[39m jax\u001b[39m.\u001b[39mnamed_call(f, name\u001b[39m=\u001b[39mmethod_name)\n\u001b[0;32m--> 426\u001b[0m out \u001b[39m=\u001b[39m f(\u001b[39m*\u001b[39;49margs, \u001b[39m*\u001b[39;49m\u001b[39m*\u001b[39;49mkwargs)\n\u001b[1;32m    428\u001b[0m \u001b[39m# Module names are set in the constructor. If `f` is the constructor then\u001b[39;00m\n\u001b[1;32m    429\u001b[0m \u001b[39m# its name will only be set **after** `f` has run. For methods other\u001b[39;00m\n\u001b[1;32m    430\u001b[0m \u001b[39m# than `__init__` we need the name before running in order to wrap their\u001b[39;00m\n\u001b[1;32m    431\u001b[0m \u001b[39m# execution with `named_call`.\u001b[39;00m\n\u001b[1;32m    432\u001b[0m \u001b[39mif\u001b[39;00m module_name \u001b[39mis\u001b[39;00m \u001b[39mNone\u001b[39;00m:\n",
      "File \u001b[0;32m/usr/local/lib/python3.10/contextlib.py:79\u001b[0m, in \u001b[0;36mContextDecorator.__call__.<locals>.inner\u001b[0;34m(*args, **kwds)\u001b[0m\n\u001b[1;32m     76\u001b[0m \u001b[39m@wraps\u001b[39m(func)\n\u001b[1;32m     77\u001b[0m \u001b[39mdef\u001b[39;00m \u001b[39minner\u001b[39m(\u001b[39m*\u001b[39margs, \u001b[39m*\u001b[39m\u001b[39m*\u001b[39mkwds):\n\u001b[1;32m     78\u001b[0m     \u001b[39mwith\u001b[39;00m \u001b[39mself\u001b[39m\u001b[39m.\u001b[39m_recreate_cm():\n\u001b[0;32m---> 79\u001b[0m         \u001b[39mreturn\u001b[39;00m func(\u001b[39m*\u001b[39;49margs, \u001b[39m*\u001b[39;49m\u001b[39m*\u001b[39;49mkwds)\n",
      "File \u001b[0;32m/usr/local/lib/python3.10/site-packages/haiku/_src/module.py:272\u001b[0m, in \u001b[0;36mrun_interceptors\u001b[0;34m(bound_method, method_name, self, *args, **kwargs)\u001b[0m\n\u001b[1;32m    270\u001b[0m \u001b[39m\"\"\"Runs any method interceptors or the original method.\"\"\"\u001b[39;00m\n\u001b[1;32m    271\u001b[0m \u001b[39mif\u001b[39;00m \u001b[39mnot\u001b[39;00m interceptor_stack:\n\u001b[0;32m--> 272\u001b[0m   \u001b[39mreturn\u001b[39;00m bound_method(\u001b[39m*\u001b[39;49margs, \u001b[39m*\u001b[39;49m\u001b[39m*\u001b[39;49mkwargs)\n\u001b[1;32m    274\u001b[0m ctx \u001b[39m=\u001b[39m MethodContext(module\u001b[39m=\u001b[39m\u001b[39mself\u001b[39m,\n\u001b[1;32m    275\u001b[0m                     method_name\u001b[39m=\u001b[39mmethod_name,\n\u001b[1;32m    276\u001b[0m                     orig_method\u001b[39m=\u001b[39mbound_method)\n\u001b[1;32m    277\u001b[0m interceptor_stack_copy \u001b[39m=\u001b[39m interceptor_stack\u001b[39m.\u001b[39mclone()\n",
      "File \u001b[0;32m/workspaces/deeprte/deeprte/model/networks.py:227\u001b[0m, in \u001b[0;36mMLP.__call__\u001b[0;34m(self, inputs)\u001b[0m\n\u001b[1;32m    225\u001b[0m out \u001b[39m=\u001b[39m inputs\n\u001b[1;32m    226\u001b[0m \u001b[39mfor\u001b[39;00m i, output_size \u001b[39min\u001b[39;00m \u001b[39menumerate\u001b[39m(\u001b[39mself\u001b[39m\u001b[39m.\u001b[39moutput_sizes):\n\u001b[0;32m--> 227\u001b[0m     out \u001b[39m=\u001b[39m Linear(\n\u001b[1;32m    228\u001b[0m         output_size,\n\u001b[1;32m    229\u001b[0m         \u001b[39mself\u001b[39;49m\u001b[39m.\u001b[39;49minitializer,\n\u001b[1;32m    230\u001b[0m         \u001b[39mself\u001b[39;49m\u001b[39m.\u001b[39;49mnum_input_dims,\n\u001b[1;32m    231\u001b[0m         \u001b[39mself\u001b[39;49m\u001b[39m.\u001b[39;49muse_bias,\n\u001b[1;32m    232\u001b[0m         \u001b[39mself\u001b[39;49m\u001b[39m.\u001b[39;49mbias_init,\n\u001b[1;32m    233\u001b[0m         \u001b[39mself\u001b[39;49m\u001b[39m.\u001b[39;49mprecision,\n\u001b[1;32m    234\u001b[0m         name\u001b[39m=\u001b[39;49m\u001b[39m\"\u001b[39;49m\u001b[39mlinear\u001b[39;49m\u001b[39m\"\u001b[39;49m,\n\u001b[1;32m    235\u001b[0m     )(out)\n\u001b[1;32m    236\u001b[0m     \u001b[39mif\u001b[39;00m i \u001b[39m<\u001b[39m (\u001b[39mself\u001b[39m\u001b[39m.\u001b[39mnum_layers \u001b[39m-\u001b[39m \u001b[39m1\u001b[39m) \u001b[39mor\u001b[39;00m \u001b[39mself\u001b[39m\u001b[39m.\u001b[39mactivate_final:\n\u001b[1;32m    237\u001b[0m         out \u001b[39m=\u001b[39m \u001b[39mself\u001b[39m\u001b[39m.\u001b[39mactivation(out)\n",
      "File \u001b[0;32m/usr/local/lib/python3.10/site-packages/haiku/_src/module.py:426\u001b[0m, in \u001b[0;36mwrap_method.<locals>.wrapped\u001b[0;34m(self, *args, **kwargs)\u001b[0m\n\u001b[1;32m    423\u001b[0m   \u001b[39mif\u001b[39;00m method_name \u001b[39m!=\u001b[39m \u001b[39m\"\u001b[39m\u001b[39m__call__\u001b[39m\u001b[39m\"\u001b[39m:\n\u001b[1;32m    424\u001b[0m     f \u001b[39m=\u001b[39m jax\u001b[39m.\u001b[39mnamed_call(f, name\u001b[39m=\u001b[39mmethod_name)\n\u001b[0;32m--> 426\u001b[0m out \u001b[39m=\u001b[39m f(\u001b[39m*\u001b[39;49margs, \u001b[39m*\u001b[39;49m\u001b[39m*\u001b[39;49mkwargs)\n\u001b[1;32m    428\u001b[0m \u001b[39m# Module names are set in the constructor. If `f` is the constructor then\u001b[39;00m\n\u001b[1;32m    429\u001b[0m \u001b[39m# its name will only be set **after** `f` has run. For methods other\u001b[39;00m\n\u001b[1;32m    430\u001b[0m \u001b[39m# than `__init__` we need the name before running in order to wrap their\u001b[39;00m\n\u001b[1;32m    431\u001b[0m \u001b[39m# execution with `named_call`.\u001b[39;00m\n\u001b[1;32m    432\u001b[0m \u001b[39mif\u001b[39;00m module_name \u001b[39mis\u001b[39;00m \u001b[39mNone\u001b[39;00m:\n",
      "File \u001b[0;32m/usr/local/lib/python3.10/contextlib.py:79\u001b[0m, in \u001b[0;36mContextDecorator.__call__.<locals>.inner\u001b[0;34m(*args, **kwds)\u001b[0m\n\u001b[1;32m     76\u001b[0m \u001b[39m@wraps\u001b[39m(func)\n\u001b[1;32m     77\u001b[0m \u001b[39mdef\u001b[39;00m \u001b[39minner\u001b[39m(\u001b[39m*\u001b[39margs, \u001b[39m*\u001b[39m\u001b[39m*\u001b[39mkwds):\n\u001b[1;32m     78\u001b[0m     \u001b[39mwith\u001b[39;00m \u001b[39mself\u001b[39m\u001b[39m.\u001b[39m_recreate_cm():\n\u001b[0;32m---> 79\u001b[0m         \u001b[39mreturn\u001b[39;00m func(\u001b[39m*\u001b[39;49margs, \u001b[39m*\u001b[39;49m\u001b[39m*\u001b[39;49mkwds)\n",
      "File \u001b[0;32m/usr/local/lib/python3.10/site-packages/haiku/_src/module.py:272\u001b[0m, in \u001b[0;36mrun_interceptors\u001b[0;34m(bound_method, method_name, self, *args, **kwargs)\u001b[0m\n\u001b[1;32m    270\u001b[0m \u001b[39m\"\"\"Runs any method interceptors or the original method.\"\"\"\u001b[39;00m\n\u001b[1;32m    271\u001b[0m \u001b[39mif\u001b[39;00m \u001b[39mnot\u001b[39;00m interceptor_stack:\n\u001b[0;32m--> 272\u001b[0m   \u001b[39mreturn\u001b[39;00m bound_method(\u001b[39m*\u001b[39;49margs, \u001b[39m*\u001b[39;49m\u001b[39m*\u001b[39;49mkwargs)\n\u001b[1;32m    274\u001b[0m ctx \u001b[39m=\u001b[39m MethodContext(module\u001b[39m=\u001b[39m\u001b[39mself\u001b[39m,\n\u001b[1;32m    275\u001b[0m                     method_name\u001b[39m=\u001b[39mmethod_name,\n\u001b[1;32m    276\u001b[0m                     orig_method\u001b[39m=\u001b[39mbound_method)\n\u001b[1;32m    277\u001b[0m interceptor_stack_copy \u001b[39m=\u001b[39m interceptor_stack\u001b[39m.\u001b[39mclone()\n",
      "File \u001b[0;32m/workspaces/deeprte/deeprte/model/networks.py:175\u001b[0m, in \u001b[0;36mLinear.__call__\u001b[0;34m(self, inputs)\u001b[0m\n\u001b[1;32m    172\u001b[0m out_letters \u001b[39m=\u001b[39m \u001b[39m\"\u001b[39m\u001b[39mhijkl\u001b[39m\u001b[39m\"\u001b[39m[: \u001b[39mself\u001b[39m\u001b[39m.\u001b[39mnum_output_dims]\n\u001b[1;32m    174\u001b[0m weight_shape \u001b[39m=\u001b[39m in_shape \u001b[39m+\u001b[39m \u001b[39mself\u001b[39m\u001b[39m.\u001b[39moutput_shape\n\u001b[0;32m--> 175\u001b[0m weights \u001b[39m=\u001b[39m hk\u001b[39m.\u001b[39;49mget_parameter(\u001b[39m\"\u001b[39;49m\u001b[39mweights\u001b[39;49m\u001b[39m\"\u001b[39;49m, weight_shape, inputs\u001b[39m.\u001b[39;49mdtype, weight_init)\n\u001b[1;32m    177\u001b[0m equation \u001b[39m=\u001b[39m \u001b[39mf\u001b[39m\u001b[39m\"\u001b[39m\u001b[39m...\u001b[39m\u001b[39m{\u001b[39;00min_letters\u001b[39m}\u001b[39;00m\u001b[39m, \u001b[39m\u001b[39m{\u001b[39;00min_letters\u001b[39m}\u001b[39;00m\u001b[39m{\u001b[39;00mout_letters\u001b[39m}\u001b[39;00m\u001b[39m->...\u001b[39m\u001b[39m{\u001b[39;00mout_letters\u001b[39m}\u001b[39;00m\u001b[39m\"\u001b[39m\n\u001b[1;32m    179\u001b[0m output \u001b[39m=\u001b[39m jnp\u001b[39m.\u001b[39meinsum(equation, inputs, weights, precision\u001b[39m=\u001b[39m\u001b[39mself\u001b[39m\u001b[39m.\u001b[39mprecision)\n",
      "File \u001b[0;32m/usr/local/lib/python3.10/site-packages/haiku/_src/base.py:448\u001b[0m, in \u001b[0;36mreplaceable.<locals>.wrapped\u001b[0;34m(*args, **kwargs)\u001b[0m\n\u001b[1;32m    446\u001b[0m \u001b[39m@functools\u001b[39m\u001b[39m.\u001b[39mwraps(f)\n\u001b[1;32m    447\u001b[0m \u001b[39mdef\u001b[39;00m \u001b[39mwrapped\u001b[39m(\u001b[39m*\u001b[39margs, \u001b[39m*\u001b[39m\u001b[39m*\u001b[39mkwargs):\n\u001b[0;32m--> 448\u001b[0m   \u001b[39mreturn\u001b[39;00m wrapped\u001b[39m.\u001b[39;49m_current(\u001b[39m*\u001b[39;49margs, \u001b[39m*\u001b[39;49m\u001b[39m*\u001b[39;49mkwargs)\n",
      "File \u001b[0;32m/usr/local/lib/python3.10/site-packages/haiku/_src/base.py:540\u001b[0m, in \u001b[0;36mget_parameter\u001b[0;34m(name, shape, dtype, init)\u001b[0m\n\u001b[1;32m    537\u001b[0m param \u001b[39m=\u001b[39m check_not_none(param, \u001b[39m\"\u001b[39m\u001b[39mParameters cannot be `None`.\u001b[39m\u001b[39m\"\u001b[39m)\n\u001b[1;32m    539\u001b[0m \u001b[39mif\u001b[39;00m param\u001b[39m.\u001b[39mshape \u001b[39m!=\u001b[39m \u001b[39mtuple\u001b[39m(shape):\n\u001b[0;32m--> 540\u001b[0m   \u001b[39mraise\u001b[39;00m \u001b[39mValueError\u001b[39;00m(\n\u001b[1;32m    541\u001b[0m       \u001b[39mf\u001b[39m\u001b[39m\"\u001b[39m\u001b[39m{\u001b[39;00mfq_name\u001b[39m!r}\u001b[39;00m\u001b[39m with retrieved shape \u001b[39m\u001b[39m{\u001b[39;00mparam\u001b[39m.\u001b[39mshape\u001b[39m!r}\u001b[39;00m\u001b[39m does not match \u001b[39m\u001b[39m\"\u001b[39m\n\u001b[1;32m    542\u001b[0m       \u001b[39mf\u001b[39m\u001b[39m\"\u001b[39m\u001b[39mshape=\u001b[39m\u001b[39m{\u001b[39;00mshape\u001b[39m!r}\u001b[39;00m\u001b[39m dtype=\u001b[39m\u001b[39m{\u001b[39;00mdtype\u001b[39m!r}\u001b[39;00m\u001b[39m\"\u001b[39m)\n\u001b[1;32m    544\u001b[0m \u001b[39mreturn\u001b[39;00m param\n",
      "\u001b[0;31mValueError\u001b[0m: 'green_function_res_block/green_function/coefficient_net/attention_net/linear/weights' with retrieved shape (6,) does not match shape=(6, 64) dtype=dtype('float32')"
     ]
    }
   ],
   "source": [
    "f_transformed = hk.transform(forward_green_net)\n",
    "# rng = hk.PRNGSequence(jax.random.PRNGKey(42))\n",
    "\n",
    "params = f_transformed.init(next(rng), *dummy_input)\n",
    "jax.tree_util.tree_map(lambda x: x.shape, params)"
   ]
  },
  {
   "cell_type": "code",
   "execution_count": 223,
   "metadata": {},
   "outputs": [
    {
     "name": "stdout",
     "output_type": "stream",
     "text": [
      "-0.7100657\n"
     ]
    }
   ],
   "source": [
    "logits = f_transformed.apply(params, next(rng), *dummy_input)\n",
    "print(logits)"
   ]
  },
  {
   "cell_type": "code",
   "execution_count": 95,
   "metadata": {},
   "outputs": [],
   "source": []
  },
  {
   "cell_type": "code",
   "execution_count": 97,
   "metadata": {},
   "outputs": [],
   "source": [
    "def func(x):\n",
    "    return MLP(config.model.green_function.green_function_mlp.widths[-1:])(x)"
   ]
  },
  {
   "cell_type": "code",
   "execution_count": 98,
   "metadata": {},
   "outputs": [],
   "source": [
    "def forward(x):\n",
    "    x = layer_stack(3, with_state=False)(func)(x)\n",
    "    return x"
   ]
  },
  {
   "cell_type": "code",
   "execution_count": 104,
   "metadata": {},
   "outputs": [],
   "source": [
    "x = jax.random.uniform(next(rng), (128,))"
   ]
  },
  {
   "cell_type": "code",
   "execution_count": 106,
   "metadata": {},
   "outputs": [
    {
     "data": {
      "text/plain": [
       "{'__layer_stack_no_state/mlp/linear': {'bias': (3, 128),\n",
       "  'weights': (3, 128, 128)}}"
      ]
     },
     "execution_count": 106,
     "metadata": {},
     "output_type": "execute_result"
    }
   ],
   "source": [
    "f_transformed = hk.transform(forward)\n",
    "# rng = hk.PRNGSequence(jax.random.PRNGKey(42))\n",
    "\n",
    "params = f_transformed.init(next(rng), x)\n",
    "jax.tree_util.tree_map(lambda x: x.shape, params)"
   ]
  },
  {
   "cell_type": "code",
   "execution_count": 108,
   "metadata": {},
   "outputs": [
    {
     "name": "stdout",
     "output_type": "stream",
     "text": [
      "(128,)\n"
     ]
    }
   ],
   "source": [
    "logits = f_transformed.apply(params, next(rng), x)\n",
    "print(logits.shape)"
   ]
  },
  {
   "cell_type": "code",
   "execution_count": null,
   "metadata": {},
   "outputs": [],
   "source": []
  }
 ],
 "metadata": {
  "kernelspec": {
   "display_name": "Python 3.10.8 64-bit",
   "language": "python",
   "name": "python3"
  },
  "language_info": {
   "codemirror_mode": {
    "name": "ipython",
    "version": 3
   },
   "file_extension": ".py",
   "mimetype": "text/x-python",
   "name": "python",
   "nbconvert_exporter": "python",
   "pygments_lexer": "ipython3",
   "version": "3.10.8"
  },
  "orig_nbformat": 4,
  "vscode": {
   "interpreter": {
    "hash": "949777d72b0d2535278d3dc13498b2535136f6dfe0678499012e853ee9abcab1"
   }
  }
 },
 "nbformat": 4,
 "nbformat_minor": 2
}

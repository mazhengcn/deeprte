{
 "cells": [
  {
   "cell_type": "code",
   "execution_count": null,
   "metadata": {},
   "outputs": [],
   "source": [
    "import functools\n",
    "\n",
    "import haiku as hk\n",
    "from haiku.testing import transform_and_run\n",
    "import jax\n",
    "import jax.numpy as jnp\n",
    "import numpy as np\n",
    "\n",
    "from deeprte.model import config\n",
    "from deeprte.model.tf.rte_features import (\n",
    "    shape,\n",
    "    FEATURES,\n",
    "    BATCH_FEATURE_NAMES,\n",
    "    COLLOCATION_FEATURE_NAMES,\n",
    ")\n",
    "from deeprte.model import modules\n",
    "from deeprte.model.characteristics import Characteristics\n",
    "\n",
    "c = config.model_config()\n",
    "gc = c.global_config\n",
    "\n",
    "rng = hk.PRNGSequence(42)"
   ]
  },
  {
   "cell_type": "code",
   "execution_count": null,
   "metadata": {},
   "outputs": [],
   "source": [
    "get_feat_shape = functools.partial(\n",
    "    shape,\n",
    "    num_examples=10,\n",
    "    num_position_coords=5,\n",
    "    num_velocity_coords=3,\n",
    "    num_phase_coords=15,\n",
    "    num_boundary_coords=4,\n",
    ")\n",
    "\n",
    "test_batch = {}\n",
    "for k, v in FEATURES.items():\n",
    "    new_shape = get_feat_shape(k)\n",
    "    test_batch[k] = jax.random.uniform(next(rng), new_shape)\n",
    "\n",
    "jax.tree_map(lambda x: x.shape, test_batch),"
   ]
  },
  {
   "attachments": {},
   "cell_type": "markdown",
   "metadata": {},
   "source": [
    "## Test DeepRTE"
   ]
  },
  {
   "cell_type": "code",
   "execution_count": null,
   "metadata": {},
   "outputs": [],
   "source": [
    "def deeprte(*args, **kwargs):\n",
    "    return modules.DeepRTE(c)(*args, **kwargs)\n",
    "\n",
    "\n",
    "transformed_deeprte = hk.transform(deeprte)\n",
    "deeprte = transform_and_run(deeprte)"
   ]
  },
  {
   "attachments": {},
   "cell_type": "markdown",
   "metadata": {},
   "source": [
    "### Params"
   ]
  },
  {
   "cell_type": "code",
   "execution_count": null,
   "metadata": {},
   "outputs": [],
   "source": [
    "params = transformed_deeprte.init(\n",
    "    next(rng),\n",
    "    test_batch,\n",
    "    is_training=True,\n",
    "    compute_loss=False,\n",
    "    compute_metrics=False,\n",
    ")\n",
    "jax.tree_map(lambda x: x.shape, params)"
   ]
  },
  {
   "attachments": {},
   "cell_type": "markdown",
   "metadata": {},
   "source": [
    "### Apply"
   ]
  },
  {
   "attachments": {},
   "cell_type": "markdown",
   "metadata": {},
   "source": [
    "#### Case 1: train mode"
   ]
  },
  {
   "cell_type": "code",
   "execution_count": null,
   "metadata": {},
   "outputs": [],
   "source": [
    "total_loss, outputs = deeprte(\n",
    "    test_batch, is_training=True, compute_loss=True, compute_metrics=True\n",
    ")\n",
    "total_loss.shape, outputs[\"predicted_solution\"].shape, outputs[\n",
    "    \"loss\"\n",
    "], outputs[\"metrics\"]"
   ]
  },
  {
   "attachments": {},
   "cell_type": "markdown",
   "metadata": {},
   "source": [
    "#### Case 2: evaluation mode"
   ]
  },
  {
   "cell_type": "code",
   "execution_count": null,
   "metadata": {},
   "outputs": [],
   "source": [
    "outputs = deeprte(\n",
    "    test_batch, is_training=False, compute_loss=False, compute_metrics=True\n",
    ")\n",
    "outputs[\"predicted_solution\"].shape, outputs[\"metrics\"]"
   ]
  },
  {
   "attachments": {},
   "cell_type": "markdown",
   "metadata": {},
   "source": [
    "#### Case 3: inference mode"
   ]
  },
  {
   "cell_type": "code",
   "execution_count": null,
   "metadata": {},
   "outputs": [],
   "source": [
    "outputs = deeprte(\n",
    "    test_batch, is_training=False, compute_loss=False, compute_metrics=False\n",
    ")\n",
    "outputs[\"predicted_solution\"].shape"
   ]
  },
  {
   "attachments": {},
   "cell_type": "markdown",
   "metadata": {},
   "source": [
    "## Test Green's function"
   ]
  },
  {
   "cell_type": "code",
   "execution_count": null,
   "metadata": {},
   "outputs": [],
   "source": [
    "one_point_example = {}\n",
    "for k, v in test_batch.items():\n",
    "    if k in BATCH_FEATURE_NAMES:\n",
    "        one_point_example[k] = v[0]\n",
    "    else:\n",
    "        one_point_example[k] = v\n",
    "\n",
    "for k, v in one_point_example.items():\n",
    "    if k in COLLOCATION_FEATURE_NAMES:\n",
    "        one_point_example[k] = v[0]\n",
    "    else:\n",
    "        one_point_example[k] = v\n",
    "\n",
    "jax.tree_map(lambda x: x.shape, one_point_example)"
   ]
  },
  {
   "cell_type": "code",
   "execution_count": null,
   "metadata": {},
   "outputs": [],
   "source": [
    "@transform_and_run\n",
    "def green_fn(*args):\n",
    "    return modules.GreenFunction(c.green_function, gc)(*args, is_training=False)\n",
    "\n",
    "\n",
    "green_fn(\n",
    "    one_point_example[\"phase_coords\"],\n",
    "    one_point_example[\"phase_coords\"],\n",
    "    one_point_example\n",
    ").shape"
   ]
  },
  {
   "attachments": {},
   "cell_type": "markdown",
   "metadata": {},
   "source": [
    "## Test Attenuation module"
   ]
  },
  {
   "cell_type": "code",
   "execution_count": null,
   "metadata": {},
   "outputs": [],
   "source": [
    "@transform_and_run\n",
    "def attenuation_fn(*args):\n",
    "    return modules.Attenuation(c.green_function.attenuation, gc)(*args)\n",
    "\n",
    "\n",
    "coord1 = coord2 = jax.random.uniform(next(rng), [4])\n",
    "att_coeff = jax.random.uniform(next(rng), [50, 3])\n",
    "\n",
    "grid = jax.random.uniform(next(rng), [50, 2])\n",
    "char = Characteristics.from_tensor(grid)\n",
    "\n",
    "attenuation_fn(coord1, coord2, att_coeff, char).shape"
   ]
  },
  {
   "attachments": {},
   "cell_type": "markdown",
   "metadata": {},
   "source": [
    "# Test Attention module"
   ]
  },
  {
   "cell_type": "code",
   "execution_count": null,
   "metadata": {},
   "outputs": [],
   "source": [
    "@transform_and_run\n",
    "def attn_fn(*args):\n",
    "    return modules.Attention(c.green_function.attenuation.attention, gc)(*args)\n",
    "\n",
    "\n",
    "q = jax.random.uniform(next(rng), [5, 3])\n",
    "k = jax.random.uniform(next(rng), [4, 3])\n",
    "v = jax.random.uniform(next(rng), [4, 2])\n",
    "\n",
    "attn_fn(q, k, v, None).shape"
   ]
  }
 ],
 "metadata": {
  "kernelspec": {
   "display_name": "Python 3.10.8 64-bit",
   "language": "python",
   "name": "python3"
  },
  "language_info": {
   "codemirror_mode": {
    "name": "ipython",
    "version": 3
   },
   "file_extension": ".py",
   "mimetype": "text/x-python",
   "name": "python",
   "nbconvert_exporter": "python",
   "pygments_lexer": "ipython3",
   "version": "3.10.9"
  },
  "orig_nbformat": 4,
  "vscode": {
   "interpreter": {
    "hash": "949777d72b0d2535278d3dc13498b2535136f6dfe0678499012e853ee9abcab1"
   }
  }
 },
 "nbformat": 4,
 "nbformat_minor": 2
}

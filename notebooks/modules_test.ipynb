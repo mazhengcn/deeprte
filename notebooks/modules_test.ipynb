{
 "cells": [
  {
   "cell_type": "code",
   "execution_count": 1,
   "metadata": {},
   "outputs": [],
   "source": [
    "import os\n",
    "\n",
    "import functools\n",
    "\n",
    "os.environ[\"CUDA_VISIBLE_DEVICES\"] = \"5\"\n",
    "\n",
    "import haiku as hk\n",
    "import jax\n",
    "import numpy as np\n",
    "\n",
    "from deeprte.data.pipeline import DataPipeline\n",
    "from deeprte.model.tf.rte_dataset import np_to_tensor_dict\n",
    "from deeprte.model.tf.rte_features import _BATCH_FEATURE_NAMES, _COLLOCATION_FEATURE_NAMES\n",
    "from deeprte.config import get_config\n",
    "from deeprte.model.modules import DeepRTE"
   ]
  },
  {
   "cell_type": "markdown",
   "metadata": {},
   "source": [
    "## Load Dataset"
   ]
  },
  {
   "cell_type": "code",
   "execution_count": 2,
   "metadata": {},
   "outputs": [
    {
     "data": {
      "text/plain": [
       "{'boundary': (8, 1968),\n",
       " 'boundary_coords': (1968, 4),\n",
       " 'boundary_weights': (1968,),\n",
       " 'phase_coords': (40344, 4),\n",
       " 'position_coords': (1681, 2),\n",
       " 'psi_label': (8, 40344),\n",
       " 'scattering_kernel': (8, 40344, 24),\n",
       " 'self_scattering_kernel': (8, 24, 24),\n",
       " 'sigma': (8, 1681, 2),\n",
       " 'velocity_coords': (24, 2),\n",
       " 'velocity_weights': (24,)}"
      ]
     },
     "execution_count": 2,
     "metadata": {},
     "output_type": "execute_result"
    }
   ],
   "source": [
    "data_path = \"/workspaces/deeprte/rte_data/rte_data/matlab/eval-data/test_shape.mat\"\n",
    "\n",
    "data_pipeline = DataPipeline(data_path)\n",
    "raw_features = data_pipeline.process(\n",
    "    pre_shuffle=True, is_split_test_samples=True, num_test_samples=2\n",
    ")\n",
    "\n",
    "tensor_dict = np_to_tensor_dict(raw_features)\n",
    "features = jax.tree_map(lambda x: np.asarray(x), tensor_dict)\n",
    "\n",
    "jax.tree_map(lambda x: x.shape, features)"
   ]
  },
  {
   "cell_type": "code",
   "execution_count": 3,
   "metadata": {},
   "outputs": [],
   "source": [
    "from deeprte.model.modules import TransportModule, ScatterModule"
   ]
  },
  {
   "cell_type": "code",
   "execution_count": 16,
   "metadata": {},
   "outputs": [],
   "source": [
    "from typing import Optional\n",
    "\n",
    "import haiku as hk\n",
    "import jax\n",
    "import jax.numpy as jnp\n",
    "import ml_collections\n",
    "\n",
    "from deeprte.data.pipeline import FeatureDict\n",
    "from deeprte.model.integrate import quad\n",
    "from deeprte.model.layer_stack import layer_stack\n",
    "from deeprte.model.mapping import vmap\n",
    "from deeprte.model.networks import MLP\n",
    "from deeprte.model.tf.rte_features import (\n",
    "    _BATCH_FEATURE_NAMES,\n",
    "    _COLLOCATION_FEATURE_NAMES,\n",
    "    NUM_DIM,\n",
    ")\n",
    "def glorot_uniform():\n",
    "    return hk.initializers.VarianceScaling(\n",
    "        scale=1.0, mode=\"fan_avg\", distribution=\"uniform\"\n",
    "    )\n",
    "from deeprte.model.tf.rte_features import (\n",
    "    _BATCH_FEATURE_NAMES,\n",
    "    _COLLOCATION_FEATURE_NAMES,\n",
    "    NUM_DIM,\n",
    ")\n",
    "class GreenFunction(hk.Module):\n",
    "    def __init__(\n",
    "        self,\n",
    "        config,\n",
    "        name: Optional[str] = \"green_function\",\n",
    "    ):\n",
    "        super().__init__(name=name)\n",
    "\n",
    "        self.config = config\n",
    "\n",
    "    def __call__(\n",
    "        self,\n",
    "        coords: jax.Array,\n",
    "        coords_prime: jax.Array,\n",
    "        scattering_kernel: jax.Array,\n",
    "        batch: FeatureDict,\n",
    "    ) -> jax.Array:\n",
    "\n",
    "        c = self.config\n",
    "\n",
    "        x, v = coords[:NUM_DIM], coords[NUM_DIM:]\n",
    "        x_prime, v_prime = (\n",
    "            coords_prime[:NUM_DIM],\n",
    "            coords_prime[NUM_DIM:],\n",
    "        )\n",
    "        width = c.scatter_model.transport_model.transport_block_mlp.widths[-1]\n",
    "        trans_module = TransportModule(c.scatter_model.transport_model)\n",
    "\n",
    "        green_fn_output = trans_module(\n",
    "            x,\n",
    "            v,\n",
    "            x_prime,\n",
    "            v_prime,\n",
    "            batch[\"position_coords\"],\n",
    "            batch[\"sigma\"],\n",
    "        )\n",
    "        out_layer_weights = hk.get_parameter(\n",
    "            name=\"out_layer_weights\",\n",
    "            shape=[\n",
    "                width,\n",
    "            ],\n",
    "            init=glorot_uniform(),\n",
    "        )\n",
    "\n",
    "        if c.scatter_model.res_block_depth == 0:\n",
    "            return jnp.einsum(\"i,i\", green_fn_output, out_layer_weights)\n",
    "\n",
    "        # prepare inputs\n",
    "        res_weights_vstar = (1 - batch[\"self_scattering_kernel\"]) * batch[\n",
    "            \"velocity_weights\"\n",
    "        ]\n",
    "        res_weights_v = (1 - scattering_kernel) * batch[\"velocity_weights\"]\n",
    "\n",
    "        output_v = green_fn_output\n",
    "        output_vstar = vmap(trans_module, argnums=frozenset([1]), use_hk=True,)(\n",
    "            x,\n",
    "            batch[\"velocity_coords\"],\n",
    "            x_prime,\n",
    "            v_prime,\n",
    "            batch[\"position_coords\"],\n",
    "            batch[\"sigma\"],\n",
    "        )  # shape: [N_v*, N_latent]\n",
    "\n",
    "        # stack layer\n",
    "        if c.scatter_model.res_block_depth > 1:\n",
    "\n",
    "            def block(x):\n",
    "                output_v, output_vstar = x\n",
    "                output_v, output_vstar = ScatterModule(c.scatter_model)(\n",
    "                    output_v,\n",
    "                    output_vstar,\n",
    "                    res_weights_v,\n",
    "                    res_weights_vstar,\n",
    "                )\n",
    "                return output_v, output_vstar\n",
    "\n",
    "            res_stack = layer_stack(c.scatter_model.res_block_depth - 1)(block)\n",
    "\n",
    "            output_v, output_vstar = res_stack((output_v, output_vstar))\n",
    "\n",
    "        weights = hk.get_parameter(\n",
    "            name=\"weights\", shape=[width, width], init=glorot_uniform()\n",
    "        )\n",
    "        bias = hk.get_parameter(\n",
    "            name=\"bias\",\n",
    "            shape=[\n",
    "                width,\n",
    "            ],\n",
    "            init=glorot_uniform(),\n",
    "        )\n",
    "\n",
    "        res_v = jnp.einsum(\"j,jk->k\", res_weights_v, output_vstar)\n",
    "        res_v = jax.nn.tanh(jnp.einsum(\"ik,k->i\", weights, res_v) + bias)\n",
    "\n",
    "        green_fn_output = output_v + res_v\n",
    "\n",
    "        return jnp.einsum(\"i,i\", green_fn_output, out_layer_weights)\n"
   ]
  },
  {
   "cell_type": "code",
   "execution_count": 17,
   "metadata": {},
   "outputs": [],
   "source": [
    "config = get_config()\n",
    "config = config.experiment_kwargs.config"
   ]
  },
  {
   "cell_type": "code",
   "execution_count": 18,
   "metadata": {},
   "outputs": [],
   "source": [
    "config.model.green_function.scatter_model.res_block_depth = 2"
   ]
  },
  {
   "cell_type": "code",
   "execution_count": 19,
   "metadata": {},
   "outputs": [],
   "source": [
    "def forward_fn(*args):\n",
    "    model = GreenFunction(config.model.green_function)\n",
    "    return model(*args)\n",
    "\n",
    "forward = hk.transform(forward_fn)"
   ]
  },
  {
   "cell_type": "code",
   "execution_count": 8,
   "metadata": {},
   "outputs": [],
   "source": [
    "rng = hk.PRNGSequence(jax.random.PRNGKey(42))"
   ]
  },
  {
   "cell_type": "code",
   "execution_count": 9,
   "metadata": {},
   "outputs": [],
   "source": [
    "def slice_batch(i: int, feat: dict):\n",
    "    return {\n",
    "        k: feat[k][i] if k in _BATCH_FEATURE_NAMES else feat[k] for k in feat\n",
    "    }\n",
    "\n",
    "\n",
    "def sample_colloctaion_points(indices: int, feat: dict):\n",
    "    ret = {}\n",
    "    for k in feat:\n",
    "        if k in _COLLOCATION_FEATURE_NAMES:\n",
    "            if k == \"phase_coords\":\n",
    "                ret[k] = feat[k][indices]\n",
    "            else:\n",
    "                ret[k] = feat[k][:, indices]\n",
    "        else:\n",
    "            ret[k] = feat[k]\n",
    "            \n",
    "    return ret"
   ]
  },
  {
   "cell_type": "code",
   "execution_count": 10,
   "metadata": {},
   "outputs": [],
   "source": [
    "_dummy_input = sample_colloctaion_points(0, features)\n",
    "_dummy_input = slice_batch(0,_dummy_input)\n",
    "_dummy_input[\"boundary_coords\"] = _dummy_input[\"boundary_coords\"][0]\n",
    "dummy_input = (_dummy_input[\"phase_coords\"], _dummy_input[\"boundary_coords\"], _dummy_input[\"scattering_kernel\"], _dummy_input)"
   ]
  },
  {
   "cell_type": "code",
   "execution_count": 20,
   "metadata": {},
   "outputs": [],
   "source": [
    "params = jax.jit(forward.init)(next(rng),*dummy_input)\n",
    "apply = jax.jit(forward.apply)"
   ]
  },
  {
   "cell_type": "code",
   "execution_count": 21,
   "metadata": {},
   "outputs": [
    {
     "data": {
      "text/plain": [
       "{'green_function': {'bias': (64,),\n",
       "  'out_layer_weights': (64,),\n",
       "  'weights': (64, 64)},\n",
       " 'green_function/__layer_stack_no_state/scatter_model': {'bias': (1, 64),\n",
       "  'weights': (1, 64, 64)},\n",
       " 'green_function/transport_model/coefficient_net/attention_net/linear': {'bias': (64,),\n",
       "  'weights': (6, 64)},\n",
       " 'green_function/transport_model/coefficient_net/attention_net/linear_1': {'bias': (1,),\n",
       "  'weights': (64, 1)},\n",
       " 'green_function/transport_model/transport_block_mlp/linear': {'bias': (128,),\n",
       "  'weights': (10, 128)},\n",
       " 'green_function/transport_model/transport_block_mlp/linear_1': {'bias': (128,),\n",
       "  'weights': (128, 128)},\n",
       " 'green_function/transport_model/transport_block_mlp/linear_2': {'bias': (128,),\n",
       "  'weights': (128, 128)},\n",
       " 'green_function/transport_model/transport_block_mlp/linear_3': {'bias': (64,),\n",
       "  'weights': (128, 64)}}"
      ]
     },
     "execution_count": 21,
     "metadata": {},
     "output_type": "execute_result"
    }
   ],
   "source": [
    "jax.tree_util.tree_map(lambda x:x.shape, params)"
   ]
  },
  {
   "cell_type": "code",
   "execution_count": 22,
   "metadata": {},
   "outputs": [],
   "source": [
    "out = apply(params, next(rng), *dummy_input)"
   ]
  },
  {
   "cell_type": "code",
   "execution_count": 23,
   "metadata": {},
   "outputs": [
    {
     "data": {
      "text/plain": [
       "()"
      ]
     },
     "execution_count": 23,
     "metadata": {},
     "output_type": "execute_result"
    }
   ],
   "source": [
    "jax.tree_util.tree_map(lambda x:x.shape, out)"
   ]
  },
  {
   "cell_type": "markdown",
   "metadata": {},
   "source": [
    "## Build Model"
   ]
  },
  {
   "cell_type": "code",
   "execution_count": null,
   "metadata": {},
   "outputs": [],
   "source": [
    "config = get_config()\n",
    "config = config.experiment_kwargs.config\n",
    "config.model.green_function.scatter_model.res_block_depth = 2\n",
    "\n",
    "\n",
    "def forward_fn(batch, is_training):\n",
    "    model = DeepRTE(config.model)\n",
    "    return model(batch, is_training, compute_loss=False, compute_metrics=False)\n",
    "\n",
    "\n",
    "rte_op = hk.transform(forward_fn)"
   ]
  },
  {
   "cell_type": "markdown",
   "metadata": {},
   "source": [
    "## Initialize Parameters"
   ]
  },
  {
   "cell_type": "code",
   "execution_count": null,
   "metadata": {},
   "outputs": [
    {
     "data": {
      "text/plain": [
       "{'DeepRTE/green_function/mlp/linear': {'bias': (1,), 'weights': (32, 1)},\n",
       " 'DeepRTE/green_function/scatter_model/__layer_stack_with_state/mlp/linear': {'bias': (1,\n",
       "   32),\n",
       "  'weights': (1, 32, 32)},\n",
       " 'DeepRTE/green_function/scatter_model/transport_model/coefficient_net/attention_net/linear': {'bias': (64,),\n",
       "  'weights': (6, 64)},\n",
       " 'DeepRTE/green_function/scatter_model/transport_model/coefficient_net/attention_net/linear_1': {'bias': (1,),\n",
       "  'weights': (64, 1)},\n",
       " 'DeepRTE/green_function/scatter_model/transport_model/transport_block_mlp/linear': {'bias': (128,),\n",
       "  'weights': (10, 128)},\n",
       " 'DeepRTE/green_function/scatter_model/transport_model/transport_block_mlp/linear_1': {'bias': (128,),\n",
       "  'weights': (128, 128)},\n",
       " 'DeepRTE/green_function/scatter_model/transport_model/transport_block_mlp/linear_2': {'bias': (128,),\n",
       "  'weights': (128, 128)},\n",
       " 'DeepRTE/green_function/scatter_model/transport_model/transport_block_mlp/linear_3': {'bias': (32,),\n",
       "  'weights': (128, 32)},\n",
       " 'DeepRTE/green_function/transport_model/coefficient_net/attention_net/linear': {'bias': (64,),\n",
       "  'weights': (6, 64)},\n",
       " 'DeepRTE/green_function/transport_model/coefficient_net/attention_net/linear_1': {'bias': (1,),\n",
       "  'weights': (64, 1)},\n",
       " 'DeepRTE/green_function/transport_model/transport_block_mlp/linear': {'bias': (128,),\n",
       "  'weights': (10, 128)},\n",
       " 'DeepRTE/green_function/transport_model/transport_block_mlp/linear_1': {'bias': (128,),\n",
       "  'weights': (128, 128)},\n",
       " 'DeepRTE/green_function/transport_model/transport_block_mlp/linear_2': {'bias': (128,),\n",
       "  'weights': (128, 128)},\n",
       " 'DeepRTE/green_function/transport_model/transport_block_mlp/linear_3': {'bias': (32,),\n",
       "  'weights': (128, 32)}}"
      ]
     },
     "execution_count": 6,
     "metadata": {},
     "output_type": "execute_result"
    }
   ],
   "source": [
    "rng = hk.PRNGSequence(jax.random.PRNGKey(42))\n",
    "\n",
    "init_net = jax.jit(functools.partial(rte_op.init, is_training=True))\n",
    "params = init_net(next(rng), features)\n",
    "\n",
    "jax.tree_map(lambda x: x.shape, params)"
   ]
  },
  {
   "cell_type": "markdown",
   "metadata": {},
   "source": [
    "## Apply RTE Operator"
   ]
  },
  {
   "cell_type": "code",
   "execution_count": null,
   "metadata": {},
   "outputs": [],
   "source": [
    "rte_apply = jax.jit(functools.partial(rte_op.apply, is_training=False))\n",
    "\n",
    "def slice_batch(i: int, feat: dict):\n",
    "    return {\n",
    "        k: feat[k][i : i + 1] if k in _BATCH_FEATURE_NAMES else feat[k] for k in feat\n",
    "    }\n",
    "\n",
    "\n",
    "def sample_colloctaion_points(indices: int, feat: dict):\n",
    "    ret = {}\n",
    "    for k in feat:\n",
    "        if k in _COLLOCATION_FEATURE_NAMES:\n",
    "            if k == \"phase_coords\":\n",
    "                ret[k] = feat[k][indices]\n",
    "            else:\n",
    "                ret[k] = feat[k][:, indices]\n",
    "        else:\n",
    "            ret[k] = feat[k]\n",
    "            \n",
    "    return ret"
   ]
  },
  {
   "cell_type": "code",
   "execution_count": null,
   "metadata": {},
   "outputs": [
    {
     "data": {
      "text/plain": [
       "{'boundary': (1, 1968),\n",
       " 'boundary_coords': (1968, 4),\n",
       " 'boundary_weights': (1968,),\n",
       " 'phase_coords': (300, 4),\n",
       " 'position_coords': (1681, 2),\n",
       " 'psi_label': (1, 300),\n",
       " 'scattering_kernel': (1, 300, 24),\n",
       " 'self_scattering_kernel': (1, 24, 24),\n",
       " 'sigma': (1, 1681, 2),\n",
       " 'velocity_coords': (24, 2),\n",
       " 'velocity_weights': (24,)}"
      ]
     },
     "execution_count": 8,
     "metadata": {},
     "output_type": "execute_result"
    }
   ],
   "source": [
    "batch = slice_batch(2, features)\n",
    "batch = sample_colloctaion_points(np.arange(300), batch)\n",
    "\n",
    "jax.tree_map(lambda x: x.shape, batch)"
   ]
  },
  {
   "cell_type": "code",
   "execution_count": null,
   "metadata": {},
   "outputs": [
    {
     "name": "stdout",
     "output_type": "stream",
     "text": [
      "CPU times: user 1min 18s, sys: 1.95 s, total: 1min 20s\n",
      "Wall time: 1min 12s\n"
     ]
    }
   ],
   "source": [
    "%time out = rte_apply(params, next(rng), batch)"
   ]
  },
  {
   "cell_type": "code",
   "execution_count": null,
   "metadata": {},
   "outputs": [],
   "source": []
  }
 ],
 "metadata": {
  "kernelspec": {
   "display_name": "Python 3.10.8 64-bit",
   "language": "python",
   "name": "python3"
  },
  "language_info": {
   "codemirror_mode": {
    "name": "ipython",
    "version": 3
   },
   "file_extension": ".py",
   "mimetype": "text/x-python",
   "name": "python",
   "nbconvert_exporter": "python",
   "pygments_lexer": "ipython3",
   "version": "3.10.8"
  },
  "orig_nbformat": 4,
  "vscode": {
   "interpreter": {
    "hash": "949777d72b0d2535278d3dc13498b2535136f6dfe0678499012e853ee9abcab1"
   }
  }
 },
 "nbformat": 4,
 "nbformat_minor": 2
}

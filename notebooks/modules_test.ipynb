{
 "cells": [
  {
   "cell_type": "code",
   "execution_count": 1,
   "metadata": {},
   "outputs": [],
   "source": [
    "import os\n",
    "\n",
    "import functools\n",
    "\n",
    "os.environ[\"CUDA_VISIBLE_DEVICES\"] = \"1\"\n",
    "\n",
    "import haiku as hk\n",
    "import jax\n",
    "import numpy as np\n",
    "\n",
    "from deeprte.data.pipeline import DataPipeline\n",
    "from deeprte.model.tf.rte_dataset import np_to_tensor_dict\n",
    "from deeprte.model.tf.rte_features import _BATCH_FEATURE_NAMES, _COLLOCATION_FEATURE_NAMES\n",
    "from deeprte.config import get_config\n",
    "from deeprte.model.modules_v2 import DeepRTE"
   ]
  },
  {
   "cell_type": "markdown",
   "metadata": {},
   "source": [
    "## Load Dataset"
   ]
  },
  {
   "cell_type": "code",
   "execution_count": 2,
   "metadata": {},
   "outputs": [
    {
     "data": {
      "text/plain": [
       "{'boundary': (998, 1920),\n",
       " 'boundary_coords': (1920, 4),\n",
       " 'boundary_weights': (1920,),\n",
       " 'phase_coords': (38400, 4),\n",
       " 'position_coords': (1600, 2),\n",
       " 'psi_label': (998, 38400),\n",
       " 'scattering_kernel': (998, 38400, 24),\n",
       " 'self_scattering_kernel': (998, 24, 24),\n",
       " 'sigma': (998, 1600, 2),\n",
       " 'velocity_coords': (24, 2),\n",
       " 'velocity_weights': (24,)}"
      ]
     },
     "execution_count": 2,
     "metadata": {},
     "output_type": "execute_result"
    }
   ],
   "source": [
    "source_dir = \"/workspaces/deeprte/rte_data/rte_data/matlab/train-delta\"\n",
    "data_name_list = [\"train_delta_1.mat\",\"train_delta_2.mat\"]\n",
    "\n",
    "data_pipeline = DataPipeline(source_dir, data_name_list)\n",
    "raw_features = data_pipeline.process(\n",
    "    pre_shuffle=True, is_split_test_samples=True, num_test_samples=2\n",
    ")\n",
    "\n",
    "tensor_dict = np_to_tensor_dict(raw_features)\n",
    "features = jax.tree_map(lambda x: np.asarray(x), tensor_dict)\n",
    "\n",
    "jax.tree_map(lambda x: x.shape, features)"
   ]
  },
  {
   "cell_type": "markdown",
   "metadata": {},
   "source": [
    "## Build Model"
   ]
  },
  {
   "cell_type": "code",
   "execution_count": 3,
   "metadata": {},
   "outputs": [],
   "source": [
    "config = get_config()\n",
    "config = config.experiment_kwargs.config\n",
    "config.model.model_structure.green_function.scattering_module.res_block_depth = 2\n",
    "\n",
    "\n",
    "def forward_fn(batch, is_training):\n",
    "    model = DeepRTE(config.model.model_structure, config.model.global_config)\n",
    "    return model(batch, is_training, compute_loss=True, compute_metrics=False)\n",
    "\n",
    "\n",
    "rte_op = hk.transform_with_state(forward_fn)"
   ]
  },
  {
   "cell_type": "markdown",
   "metadata": {},
   "source": [
    "## Initialize Parameters"
   ]
  },
  {
   "cell_type": "code",
   "execution_count": 4,
   "metadata": {},
   "outputs": [
    {
     "data": {
      "text/plain": [
       "{'deeprte/green_function': {'proj_weights': (128,)},\n",
       " 'deeprte/green_function/attenuation_module/attention': {'b': (64,),\n",
       "  'key_w': (2, 64),\n",
       "  'proj_w': (64,),\n",
       "  'query_w': (4, 64)},\n",
       " 'deeprte/green_function/attenuation_module/attenuation_mlp/linear': {'bias': (128,),\n",
       "  'weights': (10, 128)},\n",
       " 'deeprte/green_function/attenuation_module/attenuation_mlp/linear_1': {'bias': (128,),\n",
       "  'weights': (128, 128)},\n",
       " 'deeprte/green_function/attenuation_module/attenuation_mlp/linear_2': {'bias': (128,),\n",
       "  'weights': (128, 128)},\n",
       " 'deeprte/green_function/attenuation_module/attenuation_mlp/linear_3': {'bias': (128,),\n",
       "  'weights': (128, 128)},\n",
       " 'deeprte/green_function/scattering_module/__layer_stack_no_per_layer/scattering_layer': {'scattering_bias': (2,\n",
       "   128),\n",
       "  'scattering_weights': (2, 128, 128)}}"
      ]
     },
     "execution_count": 4,
     "metadata": {},
     "output_type": "execute_result"
    }
   ],
   "source": [
    "rng = hk.PRNGSequence(jax.random.PRNGKey(42))\n",
    "\n",
    "init_net = jax.jit(functools.partial(rte_op.init, is_training=True))\n",
    "params, state = init_net(next(rng), features)\n",
    "\n",
    "jax.tree_map(lambda x: x.shape, params)"
   ]
  },
  {
   "cell_type": "markdown",
   "metadata": {},
   "source": [
    "## Apply RTE Operator"
   ]
  },
  {
   "cell_type": "code",
   "execution_count": 5,
   "metadata": {},
   "outputs": [],
   "source": [
    "rte_apply = jax.jit(functools.partial(rte_op.apply, is_training=True))\n",
    "\n",
    "def slice_batch(i: int, feat: dict):\n",
    "    return {\n",
    "        k: feat[k][i : i + 1] if k in _BATCH_FEATURE_NAMES else feat[k] for k in feat\n",
    "    }\n",
    "\n",
    "\n",
    "def sample_colloctaion_points(indices: int, feat: dict):\n",
    "    ret = {}\n",
    "    for k in feat:\n",
    "        if k in _COLLOCATION_FEATURE_NAMES:\n",
    "            if k == \"phase_coords\":\n",
    "                ret[k] = feat[k][indices]\n",
    "            else:\n",
    "                ret[k] = feat[k][:, indices]\n",
    "        else:\n",
    "            ret[k] = feat[k]\n",
    "            \n",
    "    return ret"
   ]
  },
  {
   "cell_type": "code",
   "execution_count": 6,
   "metadata": {},
   "outputs": [
    {
     "data": {
      "text/plain": [
       "{'boundary': (1, 1920),\n",
       " 'boundary_coords': (1920, 4),\n",
       " 'boundary_weights': (1920,),\n",
       " 'phase_coords': (2, 4),\n",
       " 'position_coords': (1600, 2),\n",
       " 'psi_label': (1, 2),\n",
       " 'scattering_kernel': (1, 2, 24),\n",
       " 'self_scattering_kernel': (1, 24, 24),\n",
       " 'sigma': (1, 1600, 2),\n",
       " 'velocity_coords': (24, 2),\n",
       " 'velocity_weights': (24,)}"
      ]
     },
     "execution_count": 6,
     "metadata": {},
     "output_type": "execute_result"
    }
   ],
   "source": [
    "batch = slice_batch(2, features)\n",
    "batch = sample_colloctaion_points(np.arange(2), batch)\n",
    "\n",
    "jax.tree_map(lambda x: x.shape, batch)"
   ]
  },
  {
   "cell_type": "code",
   "execution_count": 7,
   "metadata": {},
   "outputs": [],
   "source": [
    "out = rte_apply(params, state, next(rng), batch)"
   ]
  },
  {
   "cell_type": "code",
   "execution_count": 8,
   "metadata": {},
   "outputs": [
    {
     "data": {
      "text/plain": [
       "((DeviceArray(0.07859946, dtype=float32),\n",
       "  {'loss': {'mse': DeviceArray(0.07859946, dtype=float32),\n",
       "    'rmspe': DeviceArray(29552.762, dtype=float32)},\n",
       "   'rte_predictions': DeviceArray([[0.2907809 , 0.26954514]], dtype=float32)}),\n",
       " {})"
      ]
     },
     "execution_count": 8,
     "metadata": {},
     "output_type": "execute_result"
    }
   ],
   "source": [
    "out"
   ]
  },
  {
   "cell_type": "code",
   "execution_count": null,
   "metadata": {},
   "outputs": [],
   "source": []
  }
 ],
 "metadata": {
  "kernelspec": {
   "display_name": "Python 3.10.8 64-bit",
   "language": "python",
   "name": "python3"
  },
  "language_info": {
   "codemirror_mode": {
    "name": "ipython",
    "version": 3
   },
   "file_extension": ".py",
   "mimetype": "text/x-python",
   "name": "python",
   "nbconvert_exporter": "python",
   "pygments_lexer": "ipython3",
   "version": "3.10.8"
  },
  "orig_nbformat": 4,
  "vscode": {
   "interpreter": {
    "hash": "949777d72b0d2535278d3dc13498b2535136f6dfe0678499012e853ee9abcab1"
   }
  }
 },
 "nbformat": 4,
 "nbformat_minor": 2
}

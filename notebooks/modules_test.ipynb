{
 "cells": [
  {
   "cell_type": "code",
   "execution_count": null,
   "metadata": {},
   "outputs": [],
   "source": [
    "import os\n",
    "\n",
    "os.environ[\"CUDA_VISIBLE_DEVICES\"] = \"7\""
   ]
  },
  {
   "cell_type": "code",
   "execution_count": null,
   "metadata": {},
   "outputs": [],
   "source": [
    "import haiku as hk\n",
    "from haiku.testing import transform_and_run\n",
    "import jax\n",
    "\n",
    "from deeprte.model.config import model_config\n",
    "from deeprte.model import modules\n",
    "from deeprte.model.characteristics import Characteristics\n",
    "from deeprte.model.tf import input_pipeline\n",
    "from deeprte.model.tf import rte_features\n",
    "\n",
    "c = model_config()\n",
    "gc = c.global_config\n",
    "\n",
    "rng = hk.PRNGSequence(42)"
   ]
  },
  {
   "cell_type": "code",
   "execution_count": null,
   "metadata": {},
   "outputs": [],
   "source": [
    "split = input_pipeline.Split.TRAIN\n",
    "ds = input_pipeline.load(\n",
    "    split=split,\n",
    "    split_ratio=0.8,\n",
    "    is_training=True,\n",
    "    batch_sizes=[1],\n",
    "    collocation_sizes=[120],\n",
    ")\n",
    "batch = next(ds)\n",
    "jax.tree_map(lambda x: x.shape, batch)"
   ]
  },
  {
   "attachments": {},
   "cell_type": "markdown",
   "metadata": {},
   "source": [
    "## Test DeepRTE"
   ]
  },
  {
   "cell_type": "code",
   "execution_count": null,
   "metadata": {},
   "outputs": [],
   "source": [
    "def deeprte(*args, **kwargs):\n",
    "    return modules.DeepRTE(c)(*args, **kwargs)\n",
    "\n",
    "\n",
    "transformed_deeprte = hk.transform(deeprte)\n",
    "deeprte = transform_and_run(deeprte)"
   ]
  },
  {
   "attachments": {},
   "cell_type": "markdown",
   "metadata": {},
   "source": [
    "### Params"
   ]
  },
  {
   "cell_type": "code",
   "execution_count": null,
   "metadata": {},
   "outputs": [],
   "source": [
    "params = transformed_deeprte.init(\n",
    "    next(rng),\n",
    "    batch,\n",
    "    is_training=True,\n",
    "    compute_loss=False,\n",
    "    compute_metrics=False,\n",
    ")\n",
    "jax.tree_map(lambda x: x.shape, params)"
   ]
  },
  {
   "attachments": {},
   "cell_type": "markdown",
   "metadata": {},
   "source": [
    "### Apply"
   ]
  },
  {
   "attachments": {},
   "cell_type": "markdown",
   "metadata": {},
   "source": [
    "#### Case 1: train mode"
   ]
  },
  {
   "cell_type": "code",
   "execution_count": null,
   "metadata": {},
   "outputs": [],
   "source": [
    "total_loss, outputs = deeprte(\n",
    "    batch, is_training=True, compute_loss=True, compute_metrics=True\n",
    ")\n",
    "total_loss, outputs[\"predicted_psi\"].shape, outputs[\"loss\"], outputs[\"metrics\"]"
   ]
  },
  {
   "attachments": {},
   "cell_type": "markdown",
   "metadata": {},
   "source": [
    "#### Case 2: evaluation mode"
   ]
  },
  {
   "cell_type": "code",
   "execution_count": null,
   "metadata": {},
   "outputs": [],
   "source": [
    "outputs = deeprte(batch, is_training=False, compute_loss=False, compute_metrics=True)\n",
    "outputs[\"predicted_psi\"].shape, outputs[\"metrics\"]"
   ]
  },
  {
   "attachments": {},
   "cell_type": "markdown",
   "metadata": {},
   "source": [
    "#### Case 3: inference mode"
   ]
  },
  {
   "cell_type": "code",
   "execution_count": null,
   "metadata": {},
   "outputs": [],
   "source": [
    "outputs = deeprte(batch, is_training=False, compute_loss=False, compute_metrics=False)\n",
    "outputs[\"predicted_psi\"].shape"
   ]
  },
  {
   "attachments": {},
   "cell_type": "markdown",
   "metadata": {},
   "source": [
    "## Test Green's function"
   ]
  },
  {
   "cell_type": "code",
   "execution_count": null,
   "metadata": {},
   "outputs": [],
   "source": [
    "one_point_example = {}\n",
    "\n",
    "single_example = jax.tree_map(lambda x: x[0], batch)\n",
    "for k, v in single_example.items():\n",
    "    if k in rte_features.PHASE_FEATURE_NAMES:\n",
    "        one_point_example[k] = v[0]\n",
    "    else:\n",
    "        one_point_example[k] = v\n",
    "\n",
    "jax.tree_map(lambda x: x.shape, one_point_example)"
   ]
  },
  {
   "cell_type": "code",
   "execution_count": null,
   "metadata": {},
   "outputs": [],
   "source": [
    "@transform_and_run\n",
    "def green_fn(*args):\n",
    "    return modules.GreenFunction(c.green_function, gc)(*args, is_training=False)\n",
    "\n",
    "\n",
    "green_fn(\n",
    "    one_point_example[\"phase_coords\"],\n",
    "    one_point_example[\"phase_coords\"],\n",
    "    one_point_example,\n",
    ")"
   ]
  },
  {
   "attachments": {},
   "cell_type": "markdown",
   "metadata": {},
   "source": [
    "## Test Attenuation module"
   ]
  },
  {
   "cell_type": "code",
   "execution_count": null,
   "metadata": {},
   "outputs": [],
   "source": [
    "@transform_and_run\n",
    "def attenuation_fn(*args):\n",
    "    return modules.Attenuation(c.green_function.attenuation, gc)(*args)\n",
    "\n",
    "\n",
    "coord1 = coord2 = jax.random.uniform(next(rng), [4])\n",
    "att_coeff = jax.random.uniform(next(rng), [50, 3])\n",
    "\n",
    "grid = jax.random.uniform(next(rng), [50, 2])\n",
    "char = Characteristics.from_tensor(grid)\n",
    "\n",
    "attenuation_fn(coord1, coord2, att_coeff, char).shape"
   ]
  },
  {
   "attachments": {},
   "cell_type": "markdown",
   "metadata": {},
   "source": [
    "# Test Attention module"
   ]
  },
  {
   "cell_type": "code",
   "execution_count": null,
   "metadata": {},
   "outputs": [],
   "source": [
    "@transform_and_run\n",
    "def attn_fn(*args):\n",
    "    return modules.Attention(c.green_function.attenuation.attention, gc)(*args)\n",
    "\n",
    "\n",
    "q = jax.random.uniform(next(rng), [3])\n",
    "k = jax.random.uniform(next(rng), [4, 3])\n",
    "v = jax.random.uniform(next(rng), [4, 2])\n",
    "\n",
    "attn_fn(q, k, v, None).shape"
   ]
  }
 ],
 "metadata": {
  "kernelspec": {
   "display_name": "Python 3 (ipykernel)",
   "language": "python",
   "name": "python3"
  },
  "language_info": {
   "codemirror_mode": {
    "name": "ipython",
    "version": 3
   },
   "file_extension": ".py",
   "mimetype": "text/x-python",
   "name": "python",
   "nbconvert_exporter": "python",
   "pygments_lexer": "ipython3",
   "version": "3.11.2"
  },
  "orig_nbformat": 4,
  "vscode": {
   "interpreter": {
    "hash": "949777d72b0d2535278d3dc13498b2535136f6dfe0678499012e853ee9abcab1"
   }
  }
 },
 "nbformat": 4,
 "nbformat_minor": 2
}

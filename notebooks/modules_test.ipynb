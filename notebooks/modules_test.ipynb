{
 "cells": [
  {
   "cell_type": "code",
   "execution_count": 2,
   "metadata": {},
   "outputs": [],
   "source": [
    "import os\n",
    "os.environ[\"CUDA_VISIBLE_DEVICES\"] = \"2\""
   ]
  },
  {
   "cell_type": "code",
   "execution_count": 3,
   "metadata": {},
   "outputs": [],
   "source": [
    "import functools\n",
    "\n",
    "import haiku as hk\n",
    "from haiku.testing import transform_and_run\n",
    "import jax\n",
    "import jax.numpy as jnp\n",
    "import numpy as np\n",
    "\n",
    "from deeprte.model.config import model_config\n",
    "from deeprte.model.tf.rte_features import (\n",
    "    shape,\n",
    "    FEATURES,\n",
    "    BATCH_FEATURE_NAMES,\n",
    "    COLLOCATION_FEATURE_NAMES,\n",
    ")\n",
    "from deeprte.model import modules\n",
    "from deeprte.model.characteristics import Characteristics\n",
    "\n",
    "c = model_config()\n",
    "gc = c.global_config\n",
    "\n",
    "rng = hk.PRNGSequence(42)"
   ]
  },
  {
   "cell_type": "code",
   "execution_count": 4,
   "metadata": {},
   "outputs": [
    {
     "data": {
      "text/plain": [
       "({'boundary': (10, 4),\n",
       "  'boundary_coords': (4, 4),\n",
       "  'boundary_weights': (4,),\n",
       "  'phase_coords': (2560, 4),\n",
       "  'position_coords': (5, 2),\n",
       "  'psi_label': (10, 2560),\n",
       "  'scattering_kernel': (10, 2560, 3),\n",
       "  'self_scattering_kernel': (10, 3, 3),\n",
       "  'sigma': (10, 5, 2),\n",
       "  'velocity_coords': (3, 2),\n",
       "  'velocity_weights': (3,)},)"
      ]
     },
     "execution_count": 4,
     "metadata": {},
     "output_type": "execute_result"
    }
   ],
   "source": [
    "get_feat_shape = functools.partial(\n",
    "    shape,\n",
    "    num_examples=10,\n",
    "    num_position_coords=5,\n",
    "    num_velocity_coords=3,\n",
    "    num_phase_coords=128*20,\n",
    "    num_boundary_coords=4,\n",
    ")\n",
    "\n",
    "test_batch = {}\n",
    "for k, v in FEATURES.items():\n",
    "    new_shape = get_feat_shape(k)\n",
    "    test_batch[k] = jax.random.uniform(next(rng), new_shape)\n",
    "\n",
    "jax.tree_map(lambda x: x.shape, test_batch),"
   ]
  },
  {
   "attachments": {},
   "cell_type": "markdown",
   "metadata": {},
   "source": [
    "## Test DeepRTE"
   ]
  },
  {
   "cell_type": "code",
   "execution_count": 5,
   "metadata": {},
   "outputs": [],
   "source": [
    "def deeprte(*args, **kwargs):\n",
    "    return modules.DeepRTE(c)(*args, **kwargs)\n",
    "\n",
    "\n",
    "transformed_deeprte = hk.transform(deeprte)\n",
    "deeprte = transform_and_run(deeprte)"
   ]
  },
  {
   "attachments": {},
   "cell_type": "markdown",
   "metadata": {},
   "source": [
    "### Params"
   ]
  },
  {
   "cell_type": "code",
   "execution_count": 6,
   "metadata": {},
   "outputs": [
    {
     "data": {
      "text/plain": [
       "{'deeprte/green_function/attenuation/attention/key': {'b': (64,),\n",
       "  'w': (2, 64)},\n",
       " 'deeprte/green_function/attenuation/attention/output_projection': {'b': (2,),\n",
       "  'w': (64, 2)},\n",
       " 'deeprte/green_function/attenuation/attention/query': {'b': (64,),\n",
       "  'w': (4, 64)},\n",
       " 'deeprte/green_function/attenuation/attention/value': {'b': (64,),\n",
       "  'w': (2, 64)},\n",
       " 'deeprte/green_function/attenuation/attenuation_linear': {'b': (128,),\n",
       "  'w': (10, 128)},\n",
       " 'deeprte/green_function/attenuation/attenuation_linear_1': {'b': (128,),\n",
       "  'w': (128, 128)},\n",
       " 'deeprte/green_function/attenuation/attenuation_linear_2': {'b': (128,),\n",
       "  'w': (128, 128)},\n",
       " 'deeprte/green_function/attenuation/output_projection': {'b': (32,),\n",
       "  'w': (128, 32)},\n",
       " 'deeprte/green_function/output_projection': {'w': (32, 1)},\n",
       " 'deeprte/green_function/scattering_module/__layer_stack_no_per_layer/scattering_layer/linear': {'b': (2,\n",
       "   32),\n",
       "  'w': (2, 32, 32)}}"
      ]
     },
     "execution_count": 6,
     "metadata": {},
     "output_type": "execute_result"
    }
   ],
   "source": [
    "params = transformed_deeprte.init(\n",
    "    next(rng),\n",
    "    test_batch,\n",
    "    is_training=True,\n",
    "    compute_loss=False,\n",
    "    compute_metrics=False,\n",
    ")\n",
    "jax.tree_map(lambda x: x.shape, params)"
   ]
  },
  {
   "attachments": {},
   "cell_type": "markdown",
   "metadata": {},
   "source": [
    "### Apply"
   ]
  },
  {
   "attachments": {},
   "cell_type": "markdown",
   "metadata": {},
   "source": [
    "#### Case 1: train mode"
   ]
  },
  {
   "cell_type": "code",
   "execution_count": 7,
   "metadata": {},
   "outputs": [
    {
     "data": {
      "text/plain": [
       "((),\n",
       " (10, 2560),\n",
       " {'mse': Array(0.45419142, dtype=float32),\n",
       "  'rmspe': Array(1.1661558, dtype=float32)},\n",
       " {'mse': Array([0.09425422, 0.74106085, 0.3474791 , 1.5594501 , 0.6533639 ,\n",
       "         0.30188802, 0.47934285, 0.09252547, 0.09372695, 0.17882262],      dtype=float32),\n",
       "  'rmspe': Array([0.28221175, 2.218851  , 1.0404063 , 4.6692357 , 1.9562728 ,\n",
       "         0.90389955, 1.4352269 , 0.27703562, 0.28063303, 0.5354227 ],      dtype=float32)})"
      ]
     },
     "execution_count": 7,
     "metadata": {},
     "output_type": "execute_result"
    }
   ],
   "source": [
    "total_loss, outputs = deeprte(\n",
    "    test_batch, is_training=True, compute_loss=True, compute_metrics=True\n",
    ")\n",
    "total_loss.shape, outputs[\"predicted_solution\"].shape, outputs[\n",
    "    \"loss\"\n",
    "], outputs[\"metrics\"]"
   ]
  },
  {
   "attachments": {},
   "cell_type": "markdown",
   "metadata": {},
   "source": [
    "#### Case 2: evaluation mode"
   ]
  },
  {
   "cell_type": "code",
   "execution_count": 8,
   "metadata": {},
   "outputs": [
    {
     "data": {
      "text/plain": [
       "((10, 2560),\n",
       " {'mse': Array([0.09425423, 0.74105996, 0.34747884, 1.5594487 , 0.6533642 ,\n",
       "         0.30188814, 0.47934175, 0.09252533, 0.09372683, 0.17882255],      dtype=float32),\n",
       "  'rmspe': Array([0.2822118 , 2.2188485 , 1.0404055 , 4.6692314 , 1.9562738 ,\n",
       "         0.9038999 , 1.4352236 , 0.2770352 , 0.28063267, 0.53542244],      dtype=float32)})"
      ]
     },
     "execution_count": 8,
     "metadata": {},
     "output_type": "execute_result"
    }
   ],
   "source": [
    "outputs = deeprte(\n",
    "    test_batch, is_training=False, compute_loss=False, compute_metrics=True\n",
    ")\n",
    "outputs[\"predicted_solution\"].shape, outputs[\"metrics\"]"
   ]
  },
  {
   "attachments": {},
   "cell_type": "markdown",
   "metadata": {},
   "source": [
    "#### Case 3: inference mode"
   ]
  },
  {
   "cell_type": "code",
   "execution_count": 9,
   "metadata": {},
   "outputs": [
    {
     "data": {
      "text/plain": [
       "(10, 2560)"
      ]
     },
     "execution_count": 9,
     "metadata": {},
     "output_type": "execute_result"
    }
   ],
   "source": [
    "outputs = deeprte(\n",
    "    test_batch, is_training=False, compute_loss=False, compute_metrics=False\n",
    ")\n",
    "outputs[\"predicted_solution\"].shape"
   ]
  },
  {
   "attachments": {},
   "cell_type": "markdown",
   "metadata": {},
   "source": [
    "## Test Green's function"
   ]
  },
  {
   "cell_type": "code",
   "execution_count": 10,
   "metadata": {},
   "outputs": [
    {
     "data": {
      "text/plain": [
       "{'boundary': (4,),\n",
       " 'boundary_coords': (4, 4),\n",
       " 'boundary_weights': (4,),\n",
       " 'phase_coords': (4,),\n",
       " 'position_coords': (5, 2),\n",
       " 'psi_label': (),\n",
       " 'scattering_kernel': (3,),\n",
       " 'self_scattering_kernel': (3, 3),\n",
       " 'sigma': (5, 2),\n",
       " 'velocity_coords': (3, 2),\n",
       " 'velocity_weights': (3,)}"
      ]
     },
     "execution_count": 10,
     "metadata": {},
     "output_type": "execute_result"
    }
   ],
   "source": [
    "one_point_example = {}\n",
    "for k, v in test_batch.items():\n",
    "    if k in BATCH_FEATURE_NAMES:\n",
    "        one_point_example[k] = v[0]\n",
    "    else:\n",
    "        one_point_example[k] = v\n",
    "\n",
    "for k, v in one_point_example.items():\n",
    "    if k in COLLOCATION_FEATURE_NAMES:\n",
    "        one_point_example[k] = v[0]\n",
    "    else:\n",
    "        one_point_example[k] = v\n",
    "\n",
    "jax.tree_map(lambda x: x.shape, one_point_example)"
   ]
  },
  {
   "cell_type": "code",
   "execution_count": 11,
   "metadata": {},
   "outputs": [
    {
     "data": {
      "text/plain": [
       "()"
      ]
     },
     "execution_count": 11,
     "metadata": {},
     "output_type": "execute_result"
    }
   ],
   "source": [
    "@transform_and_run\n",
    "def green_fn(*args):\n",
    "    return modules.GreenFunction(c.green_function, gc)(*args, is_training=False)\n",
    "\n",
    "\n",
    "green_fn(\n",
    "    one_point_example[\"phase_coords\"],\n",
    "    one_point_example[\"phase_coords\"],\n",
    "    one_point_example\n",
    ").shape"
   ]
  },
  {
   "attachments": {},
   "cell_type": "markdown",
   "metadata": {},
   "source": [
    "## Test Attenuation module"
   ]
  },
  {
   "cell_type": "code",
   "execution_count": 12,
   "metadata": {},
   "outputs": [
    {
     "data": {
      "text/plain": [
       "(32,)"
      ]
     },
     "execution_count": 12,
     "metadata": {},
     "output_type": "execute_result"
    }
   ],
   "source": [
    "@transform_and_run\n",
    "def attenuation_fn(*args):\n",
    "    return modules.Attenuation(c.green_function.attenuation, gc)(*args)\n",
    "\n",
    "\n",
    "coord1 = coord2 = jax.random.uniform(next(rng), [4])\n",
    "att_coeff = jax.random.uniform(next(rng), [50, 3])\n",
    "\n",
    "grid = jax.random.uniform(next(rng), [50, 2])\n",
    "char = Characteristics.from_tensor(grid)\n",
    "\n",
    "attenuation_fn(coord1, coord2, att_coeff, char).shape"
   ]
  },
  {
   "attachments": {},
   "cell_type": "markdown",
   "metadata": {},
   "source": [
    "# Test Attention module"
   ]
  },
  {
   "cell_type": "code",
   "execution_count": 13,
   "metadata": {},
   "outputs": [
    {
     "data": {
      "text/plain": [
       "(2,)"
      ]
     },
     "execution_count": 13,
     "metadata": {},
     "output_type": "execute_result"
    }
   ],
   "source": [
    "@transform_and_run\n",
    "def attn_fn(*args):\n",
    "    return modules.Attention(c.green_function.attenuation.attention, gc)(*args)\n",
    "\n",
    "\n",
    "q = jax.random.uniform(next(rng), [3])\n",
    "k = jax.random.uniform(next(rng), [4, 3])\n",
    "v = jax.random.uniform(next(rng), [4, 2])\n",
    "\n",
    "attn_fn(q, k, v, None).shape"
   ]
  }
 ],
 "metadata": {
  "kernelspec": {
   "display_name": "Python 3 (ipykernel)",
   "language": "python",
   "name": "python3"
  },
  "language_info": {
   "codemirror_mode": {
    "name": "ipython",
    "version": 3
   },
   "file_extension": ".py",
   "mimetype": "text/x-python",
   "name": "python",
   "nbconvert_exporter": "python",
   "pygments_lexer": "ipython3",
   "version": "3.10.10"
  },
  "orig_nbformat": 4,
  "vscode": {
   "interpreter": {
    "hash": "949777d72b0d2535278d3dc13498b2535136f6dfe0678499012e853ee9abcab1"
   }
  }
 },
 "nbformat": 4,
 "nbformat_minor": 2
}

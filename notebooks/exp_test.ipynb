{
 "cells": [
  {
   "cell_type": "code",
   "execution_count": 1,
   "metadata": {},
   "outputs": [],
   "source": [
    "import jax\n",
    "import jax.numpy as jnp\n",
    "\n",
    "import jaxline.utils as jl_utils\n",
    "from absl import logging, app"
   ]
  },
  {
   "cell_type": "code",
   "execution_count": 2,
   "metadata": {},
   "outputs": [],
   "source": [
    "def f_list(x):\n",
    "    return jax.tree_map(lambda x: x.tolist() if isinstance(x, jnp.ndarray) else x, x)\n",
    "\n",
    "\n",
    "def log_outputs(x):\n",
    "    logging.info(f\"array is {f_list(x)}.\")"
   ]
  },
  {
   "cell_type": "code",
   "execution_count": null,
   "metadata": {},
   "outputs": [],
   "source": [
    "np_d = jax.device_get()"
   ]
  },
  {
   "cell_type": "code",
   "execution_count": 3,
   "metadata": {},
   "outputs": [],
   "source": [
    "log_async = jl_utils.make_async(\"async_log\")(log_outputs)"
   ]
  },
  {
   "cell_type": "code",
   "execution_count": 15,
   "metadata": {},
   "outputs": [],
   "source": [
    "def main():\n",
    "    \n",
    "    d = {\"a\": jnp.arange(3), \"b\": jnp.arange(5)}\n",
    "\n",
    "    for i in range(3):\n",
    "        np_d = jax.tree_map(lambda x: x + i, d)\n",
    "        print(jax.tree_map(lambda x: isinstance(x, jnp.ndarray), np_d))\n",
    "        log_async(np_d)\n",
    "        logging.info(i)\n",
    "        "
   ]
  },
  {
   "cell_type": "code",
   "execution_count": 11,
   "metadata": {},
   "outputs": [],
   "source": [
    "logging.set_verbosity(\"INFO\")"
   ]
  },
  {
   "cell_type": "code",
   "execution_count": 16,
   "metadata": {},
   "outputs": [
    {
     "name": "stderr",
     "output_type": "stream",
     "text": [
      "INFO:absl:0\n",
      "INFO:absl:array is {'a': [0, 1, 2], 'b': [0, 1, 2, 3, 4]}.\n",
      "INFO:absl:1\n",
      "INFO:absl:array is {'a': [1, 2, 3], 'b': [1, 2, 3, 4, 5]}.\n",
      "INFO:absl:2\n"
     ]
    },
    {
     "name": "stdout",
     "output_type": "stream",
     "text": [
      "{'a': True, 'b': True}\n",
      "{'a': True, 'b': True}\n",
      "{'a': True, 'b': True}\n"
     ]
    },
    {
     "name": "stderr",
     "output_type": "stream",
     "text": [
      "INFO:absl:array is {'a': [2, 3, 4], 'b': [2, 3, 4, 5, 6]}.\n"
     ]
    }
   ],
   "source": [
    "main()"
   ]
  }
 ],
 "metadata": {
  "interpreter": {
   "hash": "c3ecfbb2e518759e8150e3a4e02d9374d8d11351137435699613669ebcf0f527"
  },
  "kernelspec": {
   "display_name": "Python 3.9.8 64-bit",
   "language": "python",
   "name": "python3"
  },
  "language_info": {
   "codemirror_mode": {
    "name": "ipython",
    "version": 3
   },
   "file_extension": ".py",
   "mimetype": "text/x-python",
   "name": "python",
   "nbconvert_exporter": "python",
   "pygments_lexer": "ipython3",
   "version": "3.9.8"
  },
  "orig_nbformat": 4
 },
 "nbformat": 4,
 "nbformat_minor": 2
}

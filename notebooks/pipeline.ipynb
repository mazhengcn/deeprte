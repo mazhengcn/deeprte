{
 "cells": [
  {
   "cell_type": "code",
   "execution_count": 1,
   "metadata": {},
   "outputs": [],
   "source": [
    "import os\n",
    "os.environ[\"CUDA_VISIBLE_DEVICES\"] = '7'"
   ]
  },
  {
   "cell_type": "code",
   "execution_count": 2,
   "metadata": {},
   "outputs": [],
   "source": [
    "import numpy as np\n",
    "import scipy.io as sio"
   ]
  },
  {
   "cell_type": "code",
   "execution_count": 3,
   "metadata": {},
   "outputs": [],
   "source": [
    "from deeprte.config import get_config\n",
    "config = get_config()"
   ]
  },
  {
   "cell_type": "code",
   "execution_count": 4,
   "metadata": {},
   "outputs": [],
   "source": [
    "source_dir = \"/workspaces/deeprte/rte_data/rte_data/matlab/train-delta\"\n",
    "data_name_list = [\"train_delta_1.mat\",\"train_delta_2.mat\",\"train_delta_3.mat\", \"train_delta_4.mat\"]"
   ]
  },
  {
   "cell_type": "code",
   "execution_count": 5,
   "metadata": {},
   "outputs": [],
   "source": [
    "from deeprte.data.pipeline import make_data_features,DataPipeline"
   ]
  },
  {
   "cell_type": "code",
   "execution_count": 6,
   "metadata": {},
   "outputs": [],
   "source": [
    "datapipeline = DataPipeline(source_dir, data_name_list)"
   ]
  },
  {
   "cell_type": "code",
   "execution_count": 7,
   "metadata": {},
   "outputs": [],
   "source": [
    "ds = datapipeline.process(True, 2, True, 2)"
   ]
  },
  {
   "cell_type": "code",
   "execution_count": 8,
   "metadata": {},
   "outputs": [
    {
     "name": "stdout",
     "output_type": "stream",
     "text": [
      "sigma (1998, 40, 40, 2)\n",
      "psi_label (1998, 40, 40, 24)\n",
      "scattering_kernel (1998, 40, 40, 24, 24)\n",
      "self_scattering_kernel (1998, 24, 24)\n",
      "boundary (1998, 160, 12)\n",
      "position_coords (40, 40, 2)\n",
      "velocity_coords (24, 2)\n",
      "phase_coords (40, 40, 24, 4)\n",
      "boundary_coords (160, 12, 4)\n",
      "boundary_weights (160, 12)\n",
      "velocity_weights (24,)\n"
     ]
    }
   ],
   "source": [
    "for i,v in ds.items():\n",
    "    if i[:3] != \"num\":\n",
    "        print(i,v.shape)"
   ]
  },
  {
   "cell_type": "code",
   "execution_count": null,
   "metadata": {},
   "outputs": [],
   "source": []
  }
 ],
 "metadata": {
  "kernelspec": {
   "display_name": "Python 3.10.7 64-bit",
   "language": "python",
   "name": "python3"
  },
  "language_info": {
   "codemirror_mode": {
    "name": "ipython",
    "version": 3
   },
   "file_extension": ".py",
   "mimetype": "text/x-python",
   "name": "python",
   "nbconvert_exporter": "python",
   "pygments_lexer": "ipython3",
   "version": "3.10.8"
  },
  "orig_nbformat": 4,
  "vscode": {
   "interpreter": {
    "hash": "949777d72b0d2535278d3dc13498b2535136f6dfe0678499012e853ee9abcab1"
   }
  }
 },
 "nbformat": 4,
 "nbformat_minor": 2
}

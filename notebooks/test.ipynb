{
 "cells": [
  {
   "attachments": {},
   "cell_type": "markdown",
   "metadata": {},
   "source": [
    "## Setup\n",
    "\n",
    "The cell below downloads the code from Github and install necessary dependencies."
   ]
  },
  {
   "cell_type": "code",
   "execution_count": 1,
   "metadata": {},
   "outputs": [],
   "source": [
    "# !cd .. && pip install -e \".\"\n",
    "# !pip install matplotlib"
   ]
  },
  {
   "attachments": {},
   "cell_type": "markdown",
   "metadata": {},
   "source": [
    "### Import Packages"
   ]
  },
  {
   "cell_type": "code",
   "execution_count": 2,
   "metadata": {},
   "outputs": [
    {
     "data": {
      "text/plain": [
       "[cuda(id=0)]"
      ]
     },
     "execution_count": 2,
     "metadata": {},
     "output_type": "execute_result"
    }
   ],
   "source": [
    "%load_ext autoreload\n",
    "%autoreload 2\n",
    "\n",
    "import os\n",
    "\n",
    "# os.environ[\"CUDA_VISIBLE_DEVICES\"] = \"4,5,6,7\"\n",
    "\n",
    "import json\n",
    "import os\n",
    "import time\n",
    "from typing import Any\n",
    "\n",
    "import jax\n",
    "import jax.numpy as jnp\n",
    "import ml_collections\n",
    "import numpy as np\n",
    "from absl import logging\n",
    "from matplotlib.colors import ListedColormap\n",
    "\n",
    "import dill\n",
    "\n",
    "import sys\n",
    "sys.path.append(\"/root/projects/deeprte\")\n",
    "\n",
    "from deeprte.data import pipeline\n",
    "from deeprte.model import model\n",
    "from deeprte.model.utils import flat_params_to_haiku\n",
    "\n",
    "import pathlib\n",
    "\n",
    "logging.set_verbosity(logging.INFO)\n",
    "\n",
    "jax.local_devices()"
   ]
  },
  {
   "attachments": {},
   "cell_type": "markdown",
   "metadata": {},
   "source": [
    "### Utility functions"
   ]
  },
  {
   "cell_type": "code",
   "execution_count": 3,
   "metadata": {},
   "outputs": [],
   "source": [
    "def rmse(pred, target):\n",
    "    return np.sqrt(np.mean((pred - target) ** 2) / np.mean(target**2))\n",
    "\n",
    "\n",
    "def get_normalization_ratio(psi_range, boundary_range):\n",
    "    psi_range = float(psi_range.split(\" \")[-1])\n",
    "    boundary_range = float(boundary_range.split(\" \")[-1])\n",
    "    return psi_range / boundary_range\n",
    "\n",
    "\n",
    "def jnp_to_np(output: dict[str, Any]) -> dict[str, Any]:\n",
    "    \"\"\"Recursively changes jax arrays to numpy arrays.\"\"\"\n",
    "    for k, v in output.items():\n",
    "        if isinstance(v, dict):\n",
    "            output[k] = jnp_to_np(v)\n",
    "        elif isinstance(v, jnp.ndarray):\n",
    "            output[k] = np.array(v)\n",
    "    return output"
   ]
  },
  {
   "attachments": {},
   "cell_type": "markdown",
   "metadata": {},
   "source": [
    "## Load Dataset"
   ]
  },
  {
   "cell_type": "code",
   "execution_count": 4,
   "metadata": {},
   "outputs": [
    {
     "data": {
      "text/plain": [
       "{'boundary': (100, 160, 12),\n",
       " 'boundary_scattering_kernel': (100, 160, 12, 24),\n",
       " 'psi_label': (100, 40, 40, 24),\n",
       " 'scattering_kernel': (100, 40, 40, 24, 24),\n",
       " 'self_scattering_kernel': (100, 24, 24),\n",
       " 'sigma': (100, 40, 40, 2)}"
      ]
     },
     "execution_count": 4,
     "metadata": {},
     "output_type": "execute_result"
    }
   ],
   "source": [
    "# Path to the dataset\n",
    "DATA_DIR = \"/root/projects/deeprte/data/raw_data/train/g0.1-sigma_a3-sigma_t6\"\n",
    "DATA_NAME = [\"g0.1-sigma_a3-sigma_t6_eval.mat\"]\n",
    "\n",
    "data_pipeline = pipeline.DataPipeline(DATA_DIR, DATA_NAME)\n",
    "raw_feature_dict = data_pipeline.process()\n",
    "num_examples = raw_feature_dict[\"shape\"][\"num_examples\"]\n",
    "\n",
    "# del _raw_feature_dict\n",
    "jax.tree_map(lambda x: x.shape, raw_feature_dict[\"functions\"])"
   ]
  },
  {
   "cell_type": "code",
   "execution_count": 5,
   "metadata": {},
   "outputs": [
    {
     "data": {
      "text/plain": [
       "{'boundary_coords': (160, 12, 4),\n",
       " 'boundary_weights': (160, 12),\n",
       " 'phase_coords': (40, 40, 24, 4),\n",
       " 'position_coords': (40, 40, 2),\n",
       " 'velocity_coords': (24, 2),\n",
       " 'velocity_weights': (24,)}"
      ]
     },
     "execution_count": 5,
     "metadata": {},
     "output_type": "execute_result"
    }
   ],
   "source": [
    "jax.tree_map(lambda x: x.shape, raw_feature_dict[\"grid\"])"
   ]
  },
  {
   "attachments": {},
   "cell_type": "markdown",
   "metadata": {},
   "source": [
    "## Import Pre-trained model"
   ]
  },
  {
   "attachments": {},
   "cell_type": "markdown",
   "metadata": {},
   "source": [
    "#### Load model config"
   ]
  },
  {
   "cell_type": "code",
   "execution_count": 6,
   "metadata": {},
   "outputs": [
    {
     "data": {
      "text/plain": [
       "data:\n",
       "  is_normalization: true\n",
       "  normalization_dict:\n",
       "    boundary_min: '0.0'\n",
       "    boundary_range: '0.19474658'\n",
       "    psi_min: '3.8484396e-10'\n",
       "    psi_range: '0.14552617'\n",
       "global_config:\n",
       "  bc_loss_weights: 1.0\n",
       "  deterministic: true\n",
       "  loss_weights: 5.0\n",
       "  subcollocation_size: 8\n",
       "  w_init: glorot_uniform\n",
       "green_function:\n",
       "  attenuation:\n",
       "    attention:\n",
       "      key_chunk_size: 128\n",
       "      key_dim: 32\n",
       "      num_head: 2\n",
       "      output_dim: 2\n",
       "      value_dim: null\n",
       "    latent_dim: 128\n",
       "    num_layer: 4\n",
       "    output_dim: 16\n",
       "  scattering:\n",
       "    latent_dim: 16\n",
       "    num_layer: 2"
      ]
     },
     "execution_count": 6,
     "metadata": {},
     "output_type": "execute_result"
    }
   ],
   "source": [
    "MODEL_DIR = \"/root/projects/deeprte/data/ckpts/g0.1-sigma_a3-sigma_t6_2023-05-14T18:50:04/models/latest/step_500000_2023-05-23T12:05:36\"\n",
    "\n",
    "model_config_path = os.path.join(MODEL_DIR, \"model.json\")\n",
    "with open(model_config_path) as f:\n",
    "    _str = f.read()\n",
    "    model_config = ml_collections.ConfigDict(json.loads(_str))\n",
    "\n",
    "model_config"
   ]
  },
  {
   "attachments": {},
   "cell_type": "markdown",
   "metadata": {},
   "source": [
    "#### Load model parameters"
   ]
  },
  {
   "cell_type": "code",
   "execution_count": 7,
   "metadata": {},
   "outputs": [
    {
     "name": "stderr",
     "output_type": "stream",
     "text": [
      "2024-02-21 09:07:40.168825: W external/xla/xla/service/gpu/nvptx_compiler.cc:698] The NVIDIA driver's CUDA version is 12.1 which is older than the ptxas CUDA version (12.3.103). Because the driver is older than the ptxas version, XLA is disabling parallel compilation, which may slow down compilation. You should update your NVIDIA driver or use the NVIDIA-provided CUDA forward compatibility packages.\n"
     ]
    },
    {
     "data": {
      "text/plain": [
       "{'deeprte/green_function/attenuation/attention/key': {'b': (64,),\n",
       "  'w': (2, 64)},\n",
       " 'deeprte/green_function/attenuation/attention/output_projection': {'b': (2,),\n",
       "  'w': (64, 2)},\n",
       " 'deeprte/green_function/attenuation/attention/query': {'b': (64,),\n",
       "  'w': (4, 64)},\n",
       " 'deeprte/green_function/attenuation/attention/value': {'b': (64,),\n",
       "  'w': (2, 64)},\n",
       " 'deeprte/green_function/attenuation/attenuation_linear': {'b': (128,),\n",
       "  'w': (10, 128)},\n",
       " 'deeprte/green_function/attenuation/attenuation_linear_1': {'b': (128,),\n",
       "  'w': (128, 128)},\n",
       " 'deeprte/green_function/attenuation/attenuation_linear_2': {'b': (128,),\n",
       "  'w': (128, 128)},\n",
       " 'deeprte/green_function/attenuation/output_projection': {'b': (16,),\n",
       "  'w': (128, 16)},\n",
       " 'deeprte/green_function/output_projection': {'w': (16, 1)},\n",
       " 'deeprte/green_function/scattering_module/__layer_stack_no_per_layer/layer_norm': {'offset': (2,\n",
       "   16),\n",
       "  'scale': (2, 16)},\n",
       " 'deeprte/green_function/scattering_module/__layer_stack_no_per_layer/scattering_layer/linear': {'b': (2,\n",
       "   16),\n",
       "  'w': (2, 16, 16)}}"
      ]
     },
     "execution_count": 7,
     "metadata": {},
     "output_type": "execute_result"
    }
   ],
   "source": [
    "params_path = os.path.join(MODEL_DIR, \"params.npz\")\n",
    "\n",
    "np_params = np.load(params_path, allow_pickle=True)\n",
    "params = flat_params_to_haiku(np_params)\n",
    "\n",
    "jax.tree_map(lambda x: x.shape, params)"
   ]
  },
  {
   "cell_type": "code",
   "execution_count": 8,
   "metadata": {},
   "outputs": [
    {
     "data": {
      "text/plain": [
       "37954"
      ]
     },
     "execution_count": 8,
     "metadata": {},
     "output_type": "execute_result"
    }
   ],
   "source": [
    "import haiku as hk\n",
    "\n",
    "hk.data_structures.tree_size(params)"
   ]
  },
  {
   "attachments": {},
   "cell_type": "markdown",
   "metadata": {},
   "source": [
    "#### Construct model runner"
   ]
  },
  {
   "cell_type": "code",
   "execution_count": 9,
   "metadata": {},
   "outputs": [],
   "source": [
    "model_runner = model.RunModel(model_config, params, multi_devices=False)\n",
    "\n",
    "\n",
    "def get_normalization_ratio(psi_range, boundary_range):\n",
    "    psi_range = float(psi_range.split(\" \")[-1])\n",
    "    boundary_range = float(boundary_range.split(\" \")[-1])\n",
    "    return psi_range / boundary_range\n",
    "\n",
    "\n",
    "if model_config.data.is_normalization:\n",
    "    normalization_dict = model_config.data.normalization_dict\n",
    "    normalization_ratio = get_normalization_ratio(\n",
    "        normalization_dict[\"psi_range\"],\n",
    "        normalization_dict[\"boundary_range\"],\n",
    "    )\n",
    "else:\n",
    "    normalization_ratio = None"
   ]
  },
  {
   "attachments": {},
   "cell_type": "markdown",
   "metadata": {},
   "source": [
    "## Predict and Evaluate"
   ]
  },
  {
   "attachments": {},
   "cell_type": "markdown",
   "metadata": {},
   "source": [
    "#### Predict and Evaluate i-th example in the dataset"
   ]
  },
  {
   "cell_type": "code",
   "execution_count": 10,
   "metadata": {},
   "outputs": [],
   "source": [
    "# i = 1\n",
    "num_eval = 2\n",
    "\n",
    "output_dir_base = \"test\""
   ]
  },
  {
   "cell_type": "code",
   "execution_count": 11,
   "metadata": {},
   "outputs": [
    {
     "name": "stdout",
     "output_type": "stream",
     "text": [
      "test/20240221_090740\n"
     ]
    }
   ],
   "source": [
    "import datetime\n",
    "\n",
    "now = datetime.datetime.now()\n",
    "date_time = now.strftime(\"%Y%m%d_%H%M%S\")\n",
    "output_dir_base = output_dir_base + \"/\" + date_time\n",
    "\n",
    "\n",
    "output_dir_base = pathlib.Path(output_dir_base)\n",
    "if not output_dir_base.exists():\n",
    "    output_dir_base.mkdir(parents=True)\n",
    "\n",
    "print(output_dir_base)"
   ]
  },
  {
   "attachments": {},
   "cell_type": "markdown",
   "metadata": {},
   "source": [
    "#### Run prediction"
   ]
  },
  {
   "cell_type": "code",
   "execution_count": 12,
   "metadata": {},
   "outputs": [
    {
     "name": "stderr",
     "output_type": "stream",
     "text": [
      "INFO:absl:Predicting example 3/100\n",
      "INFO:absl:Running model...\n"
     ]
    },
    {
     "name": "stderr",
     "output_type": "stream",
     "text": [
      "INFO:absl:Running predict with shape(feat) = {'boundary': (1, 1920), 'boundary_coords': (1, 1920, 4), 'boundary_weights': (1, 1920), 'phase_coords': (1, 38400, 4), 'position_coords': (1, 1600, 2), 'scattering_kernel': (1, 38400, 24), 'self_scattering_kernel': (1, 24, 24), 'sigma': (1, 1600, 2), 'velocity_coords': (1, 24, 2), 'velocity_weights': (1, 24)}\n",
      "INFO:absl:Output shape was {'predicted_psi': (1, 38400)}\n",
      "INFO:absl:Total JAX model predict time (includes compilation time, see --benchmark): 33.9s\n",
      "INFO:absl:Running predict with shape(feat) = {'boundary': (1, 1920), 'boundary_coords': (1, 1920, 4), 'boundary_weights': (1, 1920), 'phase_coords': (1, 38400, 4), 'position_coords': (1, 1600, 2), 'scattering_kernel': (1, 38400, 24), 'self_scattering_kernel': (1, 24, 24), 'sigma': (1, 1600, 2), 'velocity_coords': (1, 24, 2), 'velocity_weights': (1, 24)}\n",
      "INFO:absl:Output shape was {'predicted_psi': (1, 38400)}\n",
      "INFO:absl:Total JAX model predict time (excludes compilation time): 21.3s\n",
      "INFO:absl:RMSE of psi: 0.028658, RMSE of phi: 0.029145\n",
      "\n",
      "INFO:absl:Predicting example 4/100\n",
      "INFO:absl:Running model...\n",
      "INFO:absl:Running predict with shape(feat) = {'boundary': (1, 1920), 'boundary_coords': (1, 1920, 4), 'boundary_weights': (1, 1920), 'phase_coords': (1, 38400, 4), 'position_coords': (1, 1600, 2), 'scattering_kernel': (1, 38400, 24), 'self_scattering_kernel': (1, 24, 24), 'sigma': (1, 1600, 2), 'velocity_coords': (1, 24, 2), 'velocity_weights': (1, 24)}\n",
      "INFO:absl:Output shape was {'predicted_psi': (1, 38400)}\n",
      "INFO:absl:Total JAX model predict time (includes compilation time, see --benchmark): 21.4s\n",
      "INFO:absl:Running predict with shape(feat) = {'boundary': (1, 1920), 'boundary_coords': (1, 1920, 4), 'boundary_weights': (1, 1920), 'phase_coords': (1, 38400, 4), 'position_coords': (1, 1600, 2), 'scattering_kernel': (1, 38400, 24), 'self_scattering_kernel': (1, 24, 24), 'sigma': (1, 1600, 2), 'velocity_coords': (1, 24, 2), 'velocity_weights': (1, 24)}\n",
      "INFO:absl:Output shape was {'predicted_psi': (1, 38400)}\n",
      "INFO:absl:Total JAX model predict time (excludes compilation time): 21.4s\n",
      "INFO:absl:RMSE of psi: 0.028467, RMSE of phi: 0.026907\n",
      "\n",
      "INFO:absl:Predicting example 5/100\n",
      "INFO:absl:Running model...\n",
      "INFO:absl:Running predict with shape(feat) = {'boundary': (1, 1920), 'boundary_coords': (1, 1920, 4), 'boundary_weights': (1, 1920), 'phase_coords': (1, 38400, 4), 'position_coords': (1, 1600, 2), 'scattering_kernel': (1, 38400, 24), 'self_scattering_kernel': (1, 24, 24), 'sigma': (1, 1600, 2), 'velocity_coords': (1, 24, 2), 'velocity_weights': (1, 24)}\n",
      "INFO:absl:Output shape was {'predicted_psi': (1, 38400)}\n",
      "INFO:absl:Total JAX model predict time (includes compilation time, see --benchmark): 21.5s\n",
      "INFO:absl:Running predict with shape(feat) = {'boundary': (1, 1920), 'boundary_coords': (1, 1920, 4), 'boundary_weights': (1, 1920), 'phase_coords': (1, 38400, 4), 'position_coords': (1, 1600, 2), 'scattering_kernel': (1, 38400, 24), 'self_scattering_kernel': (1, 24, 24), 'sigma': (1, 1600, 2), 'velocity_coords': (1, 24, 2), 'velocity_weights': (1, 24)}\n"
     ]
    }
   ],
   "source": [
    "for i in range(num_examples-num_eval, num_examples):\n",
    "    timings = {}\n",
    "\n",
    "    logging.info(\"Predicting example %d/%d\", i + 1, num_examples)\n",
    "\n",
    "    output_dir = output_dir_base / f\"example_{i}\"\n",
    "    if not output_dir.exists():\n",
    "        output_dir.mkdir(parents=True)\n",
    "\n",
    "    random_seed = 1\n",
    "    benchmark = True\n",
    "\n",
    "    feature_dict = {\n",
    "        \"functions\": jax.tree_map(lambda x: x[i : i + 1], raw_feature_dict[\"functions\"]),\n",
    "        \"grid\": raw_feature_dict[\"grid\"],\n",
    "        \"shape\": raw_feature_dict[\"shape\"],\n",
    "    }\n",
    "\n",
    "    # Write out features as a pickled dictionary.\n",
    "    features_output_path = output_dir / \"features.dill\"\n",
    "    with open(features_output_path, \"wb\") as f:\n",
    "        dill.dump(feature_dict, f)\n",
    "\n",
    "    # Run the model.\n",
    "    logging.info(\"Running model...\")\n",
    "    t_0 = time.time()\n",
    "    processed_feature_dict = model_runner.process_features(feature_dict)\n",
    "    timings[\"process_features\"] = time.time() - t_0\n",
    "\n",
    "    t_0 = time.time()\n",
    "    prediction_result = model_runner.predict(\n",
    "        processed_feature_dict, random_seed=random_seed\n",
    "    )\n",
    "    t_diff = time.time() - t_0\n",
    "    timings[\"predict_and_compile\"] = t_diff\n",
    "\n",
    "    logging.info(\n",
    "        \"Total JAX model predict time \"\n",
    "        \"(includes compilation time, see --benchmark): %.1fs\",\n",
    "        t_diff,\n",
    "    )\n",
    "\n",
    "    if benchmark:\n",
    "        t_0 = time.time()\n",
    "        model_runner.predict(processed_feature_dict, random_seed=random_seed)\n",
    "        t_diff = time.time() - t_0\n",
    "        logging.info(\n",
    "            \"Total JAX model predict time \" \"(excludes compilation time): %.1fs\",\n",
    "            t_diff,\n",
    "        )\n",
    "\n",
    "    psi_shape = feature_dict[\"functions\"][\"psi_label\"].shape\n",
    "    t_0 = time.time()\n",
    "    predicted_psi = (\n",
    "        prediction_result[\"predicted_psi\"]\n",
    "        .reshape(1, -1)  # reshape multi_devices to single device\n",
    "        .reshape(psi_shape)\n",
    "    )\n",
    "    if normalization_ratio:\n",
    "        predicted_psi = predicted_psi * normalization_ratio\n",
    "\n",
    "    predicted_phi = jnp.sum(\n",
    "        predicted_psi * feature_dict[\"grid\"][\"velocity_weights\"],\n",
    "        axis=-1,\n",
    "    )\n",
    "    t_diff = time.time() - t_0\n",
    "    timings[\"compute_psi_and_phi\"] = t_diff\n",
    "    prediction_result.update(\n",
    "        {\"predicted_psi\": predicted_psi, \"predicted_phi\": predicted_phi}\n",
    "    )\n",
    "\n",
    "    # Remove jax dependency from results.\n",
    "    np_prediction_result = jnp_to_np(dict(prediction_result))\n",
    "\n",
    "    # Compute metrics.\n",
    "    metrics = {}\n",
    "    psi_label = feature_dict[\"functions\"][\"psi_label\"]\n",
    "    phi_label = np.sum(psi_label * feature_dict[\"grid\"][\"velocity_weights\"], axis=-1)\n",
    "    psi_rmse = rmse(predicted_psi, psi_label)\n",
    "    phi_rmse = rmse(predicted_phi, phi_label)\n",
    "    metrics.update({\"psi_rmse\": str(psi_rmse), \"phi_rmse\": str(phi_rmse)})\n",
    "    logging.info(\"RMSE of psi: %f, RMSE of phi: %f\\n\", psi_rmse, phi_rmse)\n",
    "    np_result = {\n",
    "            **np_prediction_result,\n",
    "            \"psi_label\": psi_label,\n",
    "            \"phi_label\": phi_label,\n",
    "        }\n",
    "    result_output_path = output_dir / \"result.dill\"\n",
    "    with open(result_output_path, \"wb\") as f:\n",
    "        dill.dump(np_result, f)\n",
    "\n",
    "    metrics_output_path = output_dir / \"metrics.json\"\n",
    "    with open(metrics_output_path, \"w\") as f:\n",
    "        f.write(json.dumps(metrics, indent=4))\n",
    "\n",
    "    timings_output_path = output_dir / \"timings.json\"\n",
    "    with open(timings_output_path, \"w\") as f:\n",
    "        f.write(json.dumps(timings, indent=4))"
   ]
  }
 ],
 "metadata": {
  "kernelspec": {
   "display_name": "Python 3",
   "language": "python",
   "name": "python3"
  },
  "language_info": {
   "codemirror_mode": {
    "name": "ipython",
    "version": 3
   },
   "file_extension": ".py",
   "mimetype": "text/x-python",
   "name": "python",
   "nbconvert_exporter": "python",
   "pygments_lexer": "ipython3",
   "version": "3.12.1"
  },
  "orig_nbformat": 4,
  "vscode": {
   "interpreter": {
    "hash": "949777d72b0d2535278d3dc13498b2535136f6dfe0678499012e853ee9abcab1"
   }
  }
 },
 "nbformat": 4,
 "nbformat_minor": 2
}

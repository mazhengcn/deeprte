{
 "cells": [
  {
   "cell_type": "code",
   "execution_count": 1,
   "metadata": {},
   "outputs": [],
   "source": [
    "import functools\n",
    "from pprint import pprint\n",
    "from typing import *\n",
    "\n",
    "import flax\n",
    "import flax.traverse_util\n",
    "import jax\n",
    "import numpy as np\n",
    "import orbax.checkpoint as orbax\n",
    "from flax import nnx\n",
    "from jax import lax\n",
    "from jax import numpy as jnp\n",
    "from jax import tree_util as jtu\n",
    "from jax.experimental import mesh_utils\n",
    "from jax.sharding import Mesh, NamedSharding, PartitionSpec\n",
    "\n",
    "key = jax.random.key(0)"
   ]
  },
  {
   "cell_type": "code",
   "execution_count": 2,
   "metadata": {},
   "outputs": [],
   "source": [
    "class TwoLayerMLP(nnx.Module):\n",
    "    def __init__(self, dim, rngs: nnx.Rngs):\n",
    "        self.linear1 = nnx.Linear(dim, dim, rngs=rngs)\n",
    "        self.linear2 = nnx.Linear(dim, dim, rngs=rngs)\n",
    "\n",
    "    def __call__(self, x):\n",
    "        x = self.linear1(x)\n",
    "        return self.linear2(x)\n"
   ]
  },
  {
   "cell_type": "code",
   "execution_count": 3,
   "metadata": {},
   "outputs": [
    {
     "name": "stdout",
     "output_type": "stream",
     "text": [
      "True\n"
     ]
    }
   ],
   "source": [
    "model = TwoLayerMLP(4, rngs=nnx.Rngs(0))\n",
    "x = jax.random.normal(jax.random.key(42), (3, 4))\n",
    "print(np.allclose(model(x), model.linear2(model.linear1(x))))"
   ]
  },
  {
   "cell_type": "code",
   "execution_count": 5,
   "metadata": {},
   "outputs": [],
   "source": [
    "k = nnx.PathContains(\"linear1\")\n",
    "gdef, temp, state = nnx.split(model, k, nnx.Param)"
   ]
  },
  {
   "cell_type": "code",
   "execution_count": 6,
   "metadata": {},
   "outputs": [
    {
     "data": {
      "text/plain": [
       "State({\n",
       "  'linear1': {\n",
       "    'bias': VariableState(\n",
       "      type=Param,\n",
       "      value=Array([0., 0., 0., 0.], dtype=float32)\n",
       "    ),\n",
       "    'kernel': VariableState(\n",
       "      type=Param,\n",
       "      value=Array([[-0.8034531 , -0.34071913, -0.94082963,  0.0100597 ],\n",
       "             [ 0.26146442,  1.1247739 ,  0.5456374 , -0.37416402],\n",
       "             [ 1.0281807 , -0.6798804 , -0.14884011,  0.0569495 ],\n",
       "             [-0.44308174, -0.60587114,  0.434087  , -0.40541086]],      dtype=float32)\n",
       "    )\n",
       "  }\n",
       "})"
      ]
     },
     "execution_count": 6,
     "metadata": {},
     "output_type": "execute_result"
    }
   ],
   "source": [
    "temp\n",
    "state\n"
   ]
  },
  {
   "cell_type": "code",
   "execution_count": 5,
   "metadata": {},
   "outputs": [
    {
     "name": "stdout",
     "output_type": "stream",
     "text": [
      "<flax.nnx.nnx.proxy_caller.CallableProxy object at 0x79ac15309330>\n"
     ]
    }
   ],
   "source": [
    "out = gdef.apply(state, x)\n",
    "print(out)"
   ]
  },
  {
   "cell_type": "code",
   "execution_count": 6,
   "metadata": {},
   "outputs": [
    {
     "data": {
      "text/html": [
       "<script> (()=>{ if (customElements.get('treescope-container') === undefined) { class TreescopeContainer extends HTMLElement { constructor() { super(); this.attachShadow({mode: \"open\"}); this.defns = {}; this.state = {}; } } customElements.define(\"treescope-container\", TreescopeContainer); } if (customElements.get('treescope-run-here') === undefined) { class RunHere extends HTMLElement { constructor() { super() } connectedCallback() { const run = child => { const fn = new Function(child.textContent); child.textContent = \"\"; fn.call(this); this.remove(); }; const child = this.querySelector(\"script\"); if (child) { run(child); } else { new MutationObserver(()=>{ run(this.querySelector(\"script\")); }).observe(this, {childList: true}); } } } customElements.define(\"treescope-run-here\", RunHere); } })(); </script> <treescope-container class=\"treescope_out_f660481f54cd4f538161020860ffd3df\" ></treescope-container> <treescope-run-here><script type=\"application/octet-stream\"> const root = ( Array.from(document.getElementsByClassName( \"treescope_out_f660481f54cd4f538161020860ffd3df\")) .filter((elt) => !elt.dataset.setup) )[0]; root.dataset.setup = 1; const msg = document.createElement(\"span\"); msg.style = \"color: #cccccc; font-family: monospace;\"; msg.textContent = \"(Loading...)\"; root.state.loadingMsg = msg; root.shadowRoot.appendChild(msg); root.state.chain = new Promise((resolve, reject) => { const observer = new IntersectionObserver((entries) => { for (const entry of entries) { if (entry.isIntersecting) { resolve(); observer.disconnect(); return; } } }, {rootMargin: \"1000px\"}); window.setTimeout(() => { observer.observe(root); }, 0); }); root.state.deferring = false; const _insertNode = (node) => { for (let oldScript of node.querySelectorAll(\"script\")) { let newScript = document.createElement(\"script\"); newScript.type = oldScript.type; newScript.textContent = oldScript.textContent; oldScript.parentNode.replaceChild(newScript, oldScript); } if (root.state.loadingMsg) { root.state.loadingMsg.remove(); root.state.loadingMsg = null; } root.shadowRoot.appendChild(node); }; root.defns.insertContent = ((contentNode, compressed) => { if (compressed) { root.state.deferring = true; } if (root.state.deferring) { root.state.chain = (async () => { await root.state.chain; if (compressed) { const encoded = contentNode.textContent; const blob = new Blob([ Uint8Array.from(atob(encoded), (m) => m.codePointAt(0)) ]); const reader = blob.stream().pipeThrough( new DecompressionStream(\"deflate\") ).pipeThrough( new TextDecoderStream(\"utf-8\") ).getReader(); const parts = []; while (true) { const step = await reader.read(); if (step.done) { break; } parts.push(step.value); } const tpl = document.createElement('template'); tpl.innerHTML = parts.join(\"\"); _insertNode(tpl.content); } else { _insertNode(contentNode.content); } })(); } else { _insertNode(contentNode.content); } }); </script></treescope-run-here><div style=\"display:none\"> <script type=\"application/octet-stream\" >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</script> <treescope-run-here><script type=\"application/octet-stream\"> const root = ( Array.from(document.getElementsByClassName( \"treescope_out_f660481f54cd4f538161020860ffd3df\")) .filter((elt) => !elt.dataset['step0']) )[0]; root.dataset['step0'] = 1; root.defns.insertContent( this.parentNode.querySelector('script[type=\"application/octet-stream\"]'), true ); this.parentNode.remove(); </script></treescope-run-here> </div>"
      ],
      "text/plain": [
       "<IPython.core.display.HTML object>"
      ]
     },
     "metadata": {},
     "output_type": "display_data"
    },
    {
     "data": {
      "text/html": [
       "<div style=\"display:none\"> <script type=\"application/octet-stream\" >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</script> <treescope-run-here><script type=\"application/octet-stream\"> const root = ( Array.from(document.getElementsByClassName( \"treescope_out_f660481f54cd4f538161020860ffd3df\")) .filter((elt) => !elt.dataset['step1']) )[0]; root.dataset['step1'] = 1; root.defns.insertContent( this.parentNode.querySelector('script[type=\"application/octet-stream\"]'), true ); this.parentNode.remove(); </script></treescope-run-here> </div>"
      ],
      "text/plain": [
       "<IPython.core.display.HTML object>"
      ]
     },
     "metadata": {},
     "output_type": "display_data"
    }
   ],
   "source": [
    "nnx.display(state)"
   ]
  },
  {
   "cell_type": "code",
   "execution_count": 32,
   "metadata": {},
   "outputs": [],
   "source": [
    "import optax\n",
    "\n",
    "model = TwoLayerMLP(4, rngs=nnx.Rngs(0))\n",
    "x = jax.random.normal(jax.random.key(42), (3, 4))\n",
    "\n",
    "gdef, state = nnx.split(model)\n",
    "\n",
    "\n",
    "# 定义一个函数来过滤梯度\n",
    "def filter_gradients(grads):\n",
    "    def filter_fn(path, value):\n",
    "        # 检查路径中是否包含 'linear1'\n",
    "        # print(str(path))\n",
    "        if \"linear1\" in str(path):\n",
    "            return jax.tree_util.tree_map(lambda x: jnp.zeros_like(x), value)\n",
    "            # print(111)\n",
    "            # return None\n",
    "        return value\n",
    "\n",
    "    return jtu.tree_map_with_path(filter_fn, grads)\n",
    "\n",
    "\n",
    "optimizer = optax.adam(learning_rate=0.01)\n",
    "opt_state = optimizer.init(state)\n"
   ]
  },
  {
   "cell_type": "code",
   "execution_count": 39,
   "metadata": {},
   "outputs": [
    {
     "name": "stdout",
     "output_type": "stream",
     "text": [
      "Step 0, Loss: 2.1327953338623047\n",
      "Step 10, Loss: 1.6399110555648804\n",
      "Step 20, Loss: 1.2668898105621338\n",
      "Step 30, Loss: 0.9820842146873474\n",
      "Step 40, Loss: 0.7653554081916809\n",
      "Step 50, Loss: 0.6038841605186462\n",
      "Step 60, Loss: 0.48465976119041443\n",
      "Step 70, Loss: 0.39579707384109497\n",
      "Step 80, Loss: 0.32791709899902344\n",
      "Step 90, Loss: 0.2745225131511688\n"
     ]
    }
   ],
   "source": [
    "@jax.jit\n",
    "def update_step(params, x, y, opt_state):\n",
    "    def loss_fn(params):\n",
    "        y_pred = nnx.merge(gdef, params)(x)\n",
    "        return jnp.mean((y_pred - y) ** 2)\n",
    "\n",
    "    loss, grads = jax.value_and_grad(loss_fn)(params)\n",
    "    # print(grads)\n",
    "    filtered_grads = filter_gradients(grads)\n",
    "    # print(filtered_grads)\n",
    "    updates, opt_state = optimizer.update(filtered_grads, opt_state)\n",
    "    # print(updates)\n",
    "    new_params = optax.apply_updates(params, updates)\n",
    "    return new_params, opt_state, loss\n",
    "\n",
    "\n",
    "# 生成一些随机数据用于训练\n",
    "key = jax.random.PRNGKey(0)\n",
    "x = jax.random.normal(key, (10, 4))\n",
    "y = jax.random.normal(key, (10, 4))\n",
    "\n",
    "# 训练循环\n",
    "num_steps = 100\n",
    "for step in range(num_steps):\n",
    "    state, opt_state, loss = update_step(state, x, y, opt_state)\n",
    "    if step % 10 == 0:\n",
    "        print(f\"Step {step}, Loss: {loss}\")\n",
    "\n",
    "initial_linear1_params = jax.tree_util.tree_leaves(model.linear1)[0]\n",
    "final_linear1_params = jax.tree_util.tree_leaves(nnx.merge(gdef, state).linear1)[0]\n"
   ]
  },
  {
   "cell_type": "code",
   "execution_count": 40,
   "metadata": {},
   "outputs": [
    {
     "data": {
      "text/plain": [
       "Param(\n",
       "  value=Array([[-0.8034531 , -0.34071913, -0.94082963,  0.0100597 ],\n",
       "         [ 0.26146442,  1.1247739 ,  0.5456374 , -0.37416402],\n",
       "         [ 1.0281807 , -0.6798804 , -0.14884011,  0.0569495 ],\n",
       "         [-0.44308174, -0.60587114,  0.434087  , -0.40541086]],      dtype=float32)\n",
       ")"
      ]
     },
     "execution_count": 40,
     "metadata": {},
     "output_type": "execute_result"
    }
   ],
   "source": [
    "final_linear1_params.kernel\n"
   ]
  },
  {
   "cell_type": "code",
   "execution_count": 41,
   "metadata": {},
   "outputs": [
    {
     "data": {
      "text/plain": [
       "Param(\n",
       "  value=Array([[-0.8034531 , -0.34071913, -0.94082963,  0.0100597 ],\n",
       "         [ 0.26146442,  1.1247739 ,  0.5456374 , -0.37416402],\n",
       "         [ 1.0281807 , -0.6798804 , -0.14884011,  0.0569495 ],\n",
       "         [-0.44308174, -0.60587114,  0.434087  , -0.40541086]],      dtype=float32)\n",
       ")"
      ]
     },
     "execution_count": 41,
     "metadata": {},
     "output_type": "execute_result"
    }
   ],
   "source": [
    "initial_linear1_params.kernel\n"
   ]
  },
  {
   "cell_type": "code",
   "execution_count": null,
   "metadata": {},
   "outputs": [],
   "source": []
  }
 ],
 "metadata": {
  "kernelspec": {
   "display_name": "Python 3",
   "language": "python",
   "name": "python3"
  },
  "language_info": {
   "codemirror_mode": {
    "name": "ipython",
    "version": 3
   },
   "file_extension": ".py",
   "mimetype": "text/x-python",
   "name": "python",
   "nbconvert_exporter": "python",
   "pygments_lexer": "ipython3",
   "version": "3.10.14"
  }
 },
 "nbformat": 4,
 "nbformat_minor": 2
}

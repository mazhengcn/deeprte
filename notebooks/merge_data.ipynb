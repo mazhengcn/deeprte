{
 "cells": [
  {
   "cell_type": "code",
   "execution_count": 1,
   "metadata": {},
   "outputs": [],
   "source": [
    "import pathlib\n",
    "\n",
    "import numpy as np\n",
    "import tree\n",
    "from rte_dataset.builders import pipeline\n",
    "\n",
    "data_path = \"/workspaces/deeprte/data/raw_data/train/g0.1-gaussian-alpha5\"\n",
    "#\n",
    "data_files = list(pathlib.Path(data_path).glob(\"*.npz\"))"
   ]
  },
  {
   "cell_type": "code",
   "execution_count": 2,
   "metadata": {},
   "outputs": [],
   "source": [
    "results = {}\n",
    "for data_file in data_files:\n",
    "    data = np.load(data_file)\n",
    "    for key, value in data.items():\n",
    "        results[key] = value\n",
    "\n",
    "# all_results = tree.map_structure(lambda *xs: np.concatenate(xs, axis=0), *results)"
   ]
  },
  {
   "cell_type": "code",
   "execution_count": 3,
   "metadata": {},
   "outputs": [
    {
     "data": {
      "text/plain": [
       "dict_keys(['basis_weights', 'grim_matrix', 'moments', 'sigma', 'q', 'scattering_kernel', 'boundary', 'varepsilon', 'psi', 'bc_coords', 'bc_weights', 'x', 'y', 'x_coef', 'y_coef', 'v', 'velocity_weights'])"
      ]
     },
     "execution_count": 3,
     "metadata": {},
     "output_type": "execute_result"
    }
   ],
   "source": [
    "results.keys()"
   ]
  },
  {
   "cell_type": "code",
   "execution_count": 5,
   "metadata": {},
   "outputs": [],
   "source": [
    "del results[\"basis_weights\"]"
   ]
  },
  {
   "cell_type": "code",
   "execution_count": 6,
   "metadata": {},
   "outputs": [
    {
     "data": {
      "text/plain": [
       "{'grim_matrix': (500, 128, 128),\n",
       " 'moments': (500, 128),\n",
       " 'sigma': (500, 40, 40, 2),\n",
       " 'q': (500, 40, 40),\n",
       " 'scattering_kernel': (500, 24, 24),\n",
       " 'boundary': (500, 160, 12),\n",
       " 'varepsilon': (500, 40, 40),\n",
       " 'psi': (500, 40, 40, 24),\n",
       " 'bc_coords': (160, 12, 4),\n",
       " 'bc_weights': (160, 12),\n",
       " 'x': (40,),\n",
       " 'y': (40,),\n",
       " 'x_coef': (40,),\n",
       " 'y_coef': (40,),\n",
       " 'v': (24, 2),\n",
       " 'velocity_weights': (24,)}"
      ]
     },
     "execution_count": 6,
     "metadata": {},
     "output_type": "execute_result"
    }
   ],
   "source": [
    "tree.map_structure(lambda x: x.shape, results)"
   ]
  },
  {
   "cell_type": "code",
   "execution_count": 4,
   "metadata": {},
   "outputs": [
    {
     "data": {
      "text/plain": [
       "(500, 128, 128)"
      ]
     },
     "execution_count": 4,
     "metadata": {},
     "output_type": "execute_result"
    }
   ],
   "source": [
    "results[\"basis_inner_product\"].shape"
   ]
  },
  {
   "cell_type": "code",
   "execution_count": 10,
   "metadata": {},
   "outputs": [
    {
     "data": {
      "text/plain": [
       "{'moments': (500, 128),\n",
       " 'sigma': (500, 40, 40, 2),\n",
       " 'q': (500, 40, 40),\n",
       " 'scattering_kernel': (500, 24, 24),\n",
       " 'boundary': (500, 160, 12),\n",
       " 'varepsilon': (500, 40, 40),\n",
       " 'psi': (500, 40, 40, 24),\n",
       " 'bc_coords': (160, 12, 4),\n",
       " 'bc_weights': (160, 12),\n",
       " 'x': (40,),\n",
       " 'y': (40,),\n",
       " 'x_coef': (40,),\n",
       " 'y_coef': (40,),\n",
       " 'v': (24, 2),\n",
       " 'velocity_weights': (24,),\n",
       " 'basis_inner_product': (500, 128, 128)}"
      ]
     },
     "execution_count": 10,
     "metadata": {},
     "output_type": "execute_result"
    }
   ],
   "source": [
    "tree.map_structure(lambda x: x.shape, results)\n"
   ]
  },
  {
   "cell_type": "code",
   "execution_count": 8,
   "metadata": {},
   "outputs": [],
   "source": [
    "results[\"basis_inner_product\"] = results[\"grim_matrix\"]\n",
    "del results[\"grim_matrix\"]"
   ]
  },
  {
   "cell_type": "code",
   "execution_count": 9,
   "metadata": {},
   "outputs": [],
   "source": [
    "np.savez(\n",
    "    \"/workspaces/deeprte/data/raw_data/train/g0.1-gaussian-alpha5/postprocess/processed_results.npz\",\n",
    "    **results,\n",
    ")\n"
   ]
  },
  {
   "cell_type": "code",
   "execution_count": 8,
   "metadata": {},
   "outputs": [],
   "source": [
    "import numpy as np\n",
    "import tensorflow_datasets as tfds\n",
    "\n",
    "ds = tfds.load(\n",
    "    name=\"rte/g0.1\", data_dir=\"/workspaces/deeprte/tfds-data/tfds\", split=\"train\"\n",
    ")\n"
   ]
  },
  {
   "cell_type": "code",
   "execution_count": 9,
   "metadata": {},
   "outputs": [
    {
     "data": {
      "text/plain": [
       "NumpyIterator(iterator=<tensorflow.python.data.ops.iterator_ops.OwnedIterator object at 0x7f1e5fcc41c0>)"
      ]
     },
     "execution_count": 9,
     "metadata": {},
     "output_type": "execute_result"
    }
   ],
   "source": [
    "ds.take(1).as_numpy_iterator()"
   ]
  },
  {
   "cell_type": "code",
   "execution_count": 10,
   "metadata": {},
   "outputs": [
    {
     "name": "stderr",
     "output_type": "stream",
     "text": [
      "2024-11-29 05:54:15.407462: W tensorflow/core/kernels/data/cache_dataset_ops.cc:913] The calling iterator did not fully read the dataset being cached. In order to avoid unexpected truncation of the dataset, the partially cached contents of the dataset  will be discarded. This can happen if you have an input pipeline similar to `dataset.cache().take(k).repeat()`. You should use `dataset.take(k).cache().repeat()` instead.\n"
     ]
    }
   ],
   "source": [
    "a = next(ds.as_numpy_iterator())"
   ]
  },
  {
   "cell_type": "code",
   "execution_count": 11,
   "metadata": {},
   "outputs": [
    {
     "data": {
      "text/plain": [
       "dict_keys(['boundary', 'boundary_coords', 'boundary_scattering_kernel', 'boundary_weights', 'phase_coords', 'position_coords', 'psi_label', 'scattering_kernel', 'self_scattering_kernel', 'sigma', 'velocity_coords', 'velocity_weights'])"
      ]
     },
     "execution_count": 11,
     "metadata": {},
     "output_type": "execute_result"
    }
   ],
   "source": [
    "a.keys()"
   ]
  },
  {
   "cell_type": "code",
   "execution_count": 12,
   "metadata": {},
   "outputs": [
    {
     "data": {
      "text/plain": [
       "(38400,)"
      ]
     },
     "execution_count": 12,
     "metadata": {},
     "output_type": "execute_result"
    }
   ],
   "source": [
    "a[\"psi_label\"].shape"
   ]
  },
  {
   "cell_type": "code",
   "execution_count": 14,
   "metadata": {},
   "outputs": [],
   "source": [
    "psi = np.reshape(a[\"psi_label\"], (40, 40, 24))\n",
    "phi = psi @ a[\"velocity_weights\"]\n"
   ]
  },
  {
   "cell_type": "code",
   "execution_count": 15,
   "metadata": {},
   "outputs": [
    {
     "data": {
      "text/plain": [
       "(40, 40)"
      ]
     },
     "execution_count": 15,
     "metadata": {},
     "output_type": "execute_result"
    }
   ],
   "source": [
    "phi.shape"
   ]
  },
  {
   "cell_type": "code",
   "execution_count": 18,
   "metadata": {},
   "outputs": [],
   "source": [
    "import matplotlib\n",
    "import matplotlib.pyplot as plt\n",
    "from matplotlib.colors import ListedColormap\n",
    "\n",
    "\n",
    "def plot_phi(r, phi_pre, phi_label):\n",
    "    fig, _axs = plt.subplots(nrows=1, ncols=3, figsize=(20, 6))\n",
    "    fig.subplots_adjust(hspace=0.3)\n",
    "    axs = _axs.flatten()\n",
    "\n",
    "    viridis = matplotlib.colormaps[\"viridis\"](np.linspace(0, 1.2, 128))\n",
    "    cs_1 = axs[0].contourf(\n",
    "        r[..., 0], r[..., 1], phi_label, cmap=ListedColormap(viridis)\n",
    "    )\n",
    "    axs[0].set_title(r\"Exact $f(x,v)$\", fontsize=20)\n",
    "    axs[0].tick_params(axis=\"both\", labelsize=15)\n",
    "    cbar = fig.colorbar(cs_1)\n",
    "    cbar.ax.tick_params(labelsize=16)\n",
    "\n",
    "    cs_2 = axs[1].contourf(r[..., 0], r[..., 1], phi_pre, cmap=ListedColormap(viridis))\n",
    "    axs[1].set_title(r\"Predict $f(x,v)$\", fontsize=20)\n",
    "    axs[1].tick_params(axis=\"both\", labelsize=15)\n",
    "    cbar = fig.colorbar(cs_2)\n",
    "    cbar.ax.tick_params(labelsize=16)\n",
    "\n",
    "    cs_3 = axs[2].contourf(\n",
    "        r[..., 0],\n",
    "        r[..., 1],\n",
    "        abs(phi_pre - phi_label),\n",
    "        cmap=ListedColormap(viridis),\n",
    "    )\n",
    "    axs[2].set_title(r\"Absolute error\", fontsize=20)\n",
    "    axs[2].tick_params(axis=\"both\", labelsize=15)\n",
    "    cbar = fig.colorbar(cs_3)\n",
    "    cbar.ax.tick_params(labelsize=16)\n",
    "\n",
    "    plt.tight_layout()\n"
   ]
  },
  {
   "cell_type": "code",
   "execution_count": 20,
   "metadata": {},
   "outputs": [
    {
     "data": {
      "image/png": "[encoded data removed]",
      "text/plain": [
       "<Figure size 2000x600 with 6 Axes>"
      ]
     },
     "metadata": {},
     "output_type": "display_data"
    }
   ],
   "source": [
    "r = np.reshape(a[\"position_coords\"], (40, 40, 2))\n",
    "plot_phi(r, phi, phi)"
   ]
  },
  {
   "cell_type": "code",
   "execution_count": null,
   "metadata": {},
   "outputs": [],
   "source": []
  }
 ],
 "metadata": {
  "kernelspec": {
   "display_name": "Python 3",
   "language": "python",
   "name": "python3"
  },
  "language_info": {
   "codemirror_mode": {
    "name": "ipython",
    "version": 3
   },
   "file_extension": ".py",
   "mimetype": "text/x-python",
   "name": "python",
   "nbconvert_exporter": "python",
   "pygments_lexer": "ipython3",
   "version": "3.10.14"
  }
 },
 "nbformat": 4,
 "nbformat_minor": 2
}

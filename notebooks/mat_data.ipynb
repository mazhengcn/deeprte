{
 "cells": [
  {
   "cell_type": "code",
   "execution_count": 4,
   "metadata": {},
   "outputs": [],
   "source": [
    "import scipy.io as sio\n",
    "from pathlib import Path\n",
    "import numpy as np\n",
    "import tree"
   ]
  },
  {
   "cell_type": "code",
   "execution_count": 5,
   "metadata": {},
   "outputs": [],
   "source": [
    "source_dir = Path(\"/workspaces/deeprte/rte_data/rte_data/matlab/train-delta\")\n",
    "data_name_list = [\"train_delta_1.mat\",\"train_delta_2.mat\",\"train_delta_3.mat\", \"train_delta_4.mat\"]"
   ]
  },
  {
   "cell_type": "code",
   "execution_count": 7,
   "metadata": {},
   "outputs": [],
   "source": [
    "BATCH_FEAT_LIST = [\n",
    "    \"sigma_a\",\n",
    "    \"sigma_t\",\n",
    "    \"psi_label\",\n",
    "    \"psi_bc\",\n",
    "    \"scattering_kernel\",\n",
    "]\n",
    "def mat_loader(source_dir: str, data_name_list: list[str])->dict[str, np.ndarray]:\n",
    "    data_list = []\n",
    "    for filename in data_name_list:\n",
    "        data_path = source_dir / filename\n",
    "        mat_dict = sio.loadmat(data_path)\n",
    "        if \"scattering_kernel\" not in mat_dict.keys():\n",
    "            rng = np.random.default_rng(12345)\n",
    "            num_sample = mat_dict[\"sigma_a\"].shape[0]\n",
    "            num_vec = mat_dict[\"ct\"].shape[0]\n",
    "            mat_dict[\"scattering_kernel\"] = rng.uniform(\n",
    "                0, 1, (num_sample, num_vec, num_vec)\n",
    "            )\n",
    "        data_list.append(mat_dict)\n",
    "    data = data_list[0]\n",
    "\n",
    "    for k in BATCH_FEAT_LIST:\n",
    "        data[k] = np.concatenate([d[k] for d in data_list], axis=0)\n",
    "\n",
    "    unused_keys = [k for k in data.keys() if k.startswith(\"__\")]\n",
    "    # for k in unused_keys\n",
    "    for k in unused_keys:\n",
    "        del data[k]\n",
    "\n",
    "    return data"
   ]
  },
  {
   "cell_type": "code",
   "execution_count": null,
   "metadata": {},
   "outputs": [],
   "source": []
  }
 ],
 "metadata": {
  "kernelspec": {
   "display_name": "Python 3",
   "language": "python",
   "name": "python3"
  },
  "language_info": {
   "codemirror_mode": {
    "name": "ipython",
    "version": 3
   },
   "file_extension": ".py",
   "mimetype": "text/x-python",
   "name": "python",
   "nbconvert_exporter": "python",
   "pygments_lexer": "ipython3",
   "version": "3.10.8"
  },
  "orig_nbformat": 4,
  "vscode": {
   "interpreter": {
    "hash": "949777d72b0d2535278d3dc13498b2535136f6dfe0678499012e853ee9abcab1"
   }
  }
 },
 "nbformat": 4,
 "nbformat_minor": 2
}

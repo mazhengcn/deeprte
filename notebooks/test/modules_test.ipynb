{
 "cells": [
  {
   "cell_type": "code",
   "execution_count": 2,
   "metadata": {},
   "outputs": [],
   "source": [
    "import functools\n",
    "\n",
    "import haiku as hk\n",
    "from haiku.testing import transform_and_run\n",
    "import jax\n",
    "import jax.numpy as jnp\n",
    "import numpy as np\n",
    "\n",
    "from deeprte.model.config import model_config\n",
    "from deeprte.model.tf.rte_features import (\n",
    "    shape,\n",
    "    FEATURES,\n",
    "    BATCH_FEATURE_NAMES,\n",
    "    COLLOCATION_FEATURE_NAMES,\n",
    ")\n",
    "from deeprte.model import modules\n",
    "from deeprte.model.characteristics import Characteristics\n",
    "\n",
    "c = model_config()\n",
    "gc = c.global_config\n",
    "\n",
    "rng = hk.PRNGSequence(42)"
   ]
  },
  {
   "cell_type": "code",
   "execution_count": 3,
   "metadata": {},
   "outputs": [
    {
     "data": {
      "text/plain": [
       "({'boundary': (10, 4),\n",
       "  'boundary_coords': (4, 4),\n",
       "  'boundary_weights': (4,),\n",
       "  'phase_coords': (15, 4),\n",
       "  'position_coords': (5, 2),\n",
       "  'psi_label': (10, 15),\n",
       "  'scattering_kernel': (10, 15, 3),\n",
       "  'self_scattering_kernel': (10, 3, 3),\n",
       "  'sigma': (10, 5, 2),\n",
       "  'velocity_coords': (3, 2),\n",
       "  'velocity_weights': (3,)},)"
      ]
     },
     "execution_count": 3,
     "metadata": {},
     "output_type": "execute_result"
    }
   ],
   "source": [
    "get_feat_shape = functools.partial(\n",
    "    shape,\n",
    "    num_examples=10,\n",
    "    num_position_coords=5,\n",
    "    num_velocity_coords=3,\n",
    "    num_phase_coords=15,\n",
    "    num_boundary_coords=4,\n",
    ")\n",
    "\n",
    "test_batch = {}\n",
    "for k, v in FEATURES.items():\n",
    "    new_shape = get_feat_shape(k)\n",
    "    test_batch[k] = jax.random.uniform(next(rng), new_shape)\n",
    "\n",
    "jax.tree_map(lambda x: x.shape, test_batch),"
   ]
  },
  {
   "attachments": {},
   "cell_type": "markdown",
   "metadata": {},
   "source": [
    "## Test DeepRTE"
   ]
  },
  {
   "cell_type": "code",
   "execution_count": 4,
   "metadata": {},
   "outputs": [],
   "source": [
    "def deeprte(*args, **kwargs):\n",
    "    return modules.DeepRTE(c)(*args, **kwargs)\n",
    "\n",
    "\n",
    "transformed_deeprte = hk.transform(deeprte)\n",
    "deeprte = transform_and_run(deeprte)"
   ]
  },
  {
   "cell_type": "code",
   "execution_count": 10,
   "metadata": {},
   "outputs": [],
   "source": [
    "def loss(params, rng):\n",
    "    loss, _ = transformed_deeprte.apply(params, rng, test_batch,is_training=False,\n",
    "compute_loss=True,\n",
    "compute_metrics=False)\n",
    "    return loss"
   ]
  },
  {
   "cell_type": "code",
   "execution_count": 11,
   "metadata": {},
   "outputs": [],
   "source": [
    "grad_fn = jax.grad(loss)"
   ]
  },
  {
   "cell_type": "code",
   "execution_count": 12,
   "metadata": {},
   "outputs": [],
   "source": [
    "logits = grad_fn(params, next(rng))"
   ]
  },
  {
   "cell_type": "code",
   "execution_count": 14,
   "metadata": {},
   "outputs": [
    {
     "data": {
      "text/plain": [
       "{'deeprte/green_function/attenuation/attention/key': {'b': (64,),\n",
       "  'w': (2, 64)},\n",
       " 'deeprte/green_function/attenuation/attention/output_projection': {'b': (2,),\n",
       "  'w': (64, 2)},\n",
       " 'deeprte/green_function/attenuation/attention/query': {'b': (64,),\n",
       "  'w': (4, 64)},\n",
       " 'deeprte/green_function/attenuation/attention/value': {'b': (64,),\n",
       "  'w': (2, 64)},\n",
       " 'deeprte/green_function/attenuation/attenuation_linear': {'b': (128,),\n",
       "  'w': (10, 128)},\n",
       " 'deeprte/green_function/attenuation/attenuation_linear_1': {'b': (128,),\n",
       "  'w': (128, 128)},\n",
       " 'deeprte/green_function/attenuation/attenuation_linear_2': {'b': (128,),\n",
       "  'w': (128, 128)},\n",
       " 'deeprte/green_function/attenuation/output_projection': {'b': (32,),\n",
       "  'w': (128, 32)},\n",
       " 'deeprte/green_function/output_projection': {'w': (32, 1)},\n",
       " 'deeprte/green_function/scattering_module/__layer_stack_no_per_layer/scattering_layer/linear': {'b': (2,\n",
       "   32),\n",
       "  'w': (2, 32, 32)}}"
      ]
     },
     "execution_count": 14,
     "metadata": {},
     "output_type": "execute_result"
    }
   ],
   "source": [
    "jax.tree_map(lambda x: x.shape, logits)"
   ]
  },
  {
   "attachments": {},
   "cell_type": "markdown",
   "metadata": {},
   "source": [
    "### Params"
   ]
  },
  {
   "cell_type": "code",
   "execution_count": 6,
   "metadata": {},
   "outputs": [
    {
     "data": {
      "text/plain": [
       "{'deeprte/green_function/attenuation/attention/key': {'b': (64,),\n",
       "  'w': (2, 64)},\n",
       " 'deeprte/green_function/attenuation/attention/output_projection': {'b': (2,),\n",
       "  'w': (64, 2)},\n",
       " 'deeprte/green_function/attenuation/attention/query': {'b': (64,),\n",
       "  'w': (4, 64)},\n",
       " 'deeprte/green_function/attenuation/attention/value': {'b': (64,),\n",
       "  'w': (2, 64)},\n",
       " 'deeprte/green_function/attenuation/attenuation_linear': {'b': (128,),\n",
       "  'w': (10, 128)},\n",
       " 'deeprte/green_function/attenuation/attenuation_linear_1': {'b': (128,),\n",
       "  'w': (128, 128)},\n",
       " 'deeprte/green_function/attenuation/attenuation_linear_2': {'b': (128,),\n",
       "  'w': (128, 128)},\n",
       " 'deeprte/green_function/attenuation/output_projection': {'b': (32,),\n",
       "  'w': (128, 32)},\n",
       " 'deeprte/green_function/output_projection': {'w': (32, 1)},\n",
       " 'deeprte/green_function/scattering_module/__layer_stack_no_per_layer/scattering_layer/linear': {'b': (2,\n",
       "   32),\n",
       "  'w': (2, 32, 32)}}"
      ]
     },
     "execution_count": 6,
     "metadata": {},
     "output_type": "execute_result"
    }
   ],
   "source": [
    "params = transformed_deeprte.init(\n",
    "    next(rng),\n",
    "    test_batch,\n",
    "    is_training=True,\n",
    "    compute_loss=False,\n",
    "    compute_metrics=False,\n",
    ")\n",
    "jax.tree_map(lambda x: x.shape, params)"
   ]
  },
  {
   "attachments": {},
   "cell_type": "markdown",
   "metadata": {},
   "source": [
    "### Apply"
   ]
  },
  {
   "attachments": {},
   "cell_type": "markdown",
   "metadata": {},
   "source": [
    "#### Case 1: train mode"
   ]
  },
  {
   "cell_type": "code",
   "execution_count": 5,
   "metadata": {},
   "outputs": [
    {
     "data": {
      "text/plain": [
       "((),\n",
       " (10, 15),\n",
       " {'mse': DeviceArray(0.40339795, dtype=float32),\n",
       "  'rmspe': DeviceArray(1.0573285, dtype=float32)},\n",
       " {'mse': DeviceArray([0.13312022, 0.9188513 , 0.19137558, 1.3161011 , 0.54276913,\n",
       "               0.19607523, 0.3501287 , 0.12373666, 0.1253971 , 0.13642465],            dtype=float32),\n",
       "  'rmspe': DeviceArray([0.36891827, 2.5464277 , 0.5303623 , 3.6473327 , 1.5041851 ,\n",
       "               0.5433865 , 0.9703175 , 0.34291345, 0.34751505, 0.37807587],            dtype=float32)})"
      ]
     },
     "execution_count": 5,
     "metadata": {},
     "output_type": "execute_result"
    }
   ],
   "source": [
    "total_loss, outputs = deeprte(\n",
    "    test_batch, is_training=True, compute_loss=True, compute_metrics=True\n",
    ")\n",
    "total_loss.shape, outputs[\"predicted_solution\"].shape, outputs[\n",
    "    \"loss\"\n",
    "], outputs[\"metrics\"]"
   ]
  },
  {
   "attachments": {},
   "cell_type": "markdown",
   "metadata": {},
   "source": [
    "#### Case 2: evaluation mode"
   ]
  },
  {
   "cell_type": "code",
   "execution_count": 6,
   "metadata": {},
   "outputs": [
    {
     "data": {
      "text/plain": [
       "((10, 15),\n",
       " {'mse': DeviceArray([0.13312022, 0.9188513 , 0.19137558, 1.3161011 , 0.54276913,\n",
       "               0.19607523, 0.3501287 , 0.12373666, 0.1253971 , 0.13642465],            dtype=float32),\n",
       "  'rmspe': DeviceArray([0.36891827, 2.5464277 , 0.5303623 , 3.6473327 , 1.5041851 ,\n",
       "               0.5433865 , 0.9703175 , 0.34291345, 0.34751505, 0.37807587],            dtype=float32)})"
      ]
     },
     "execution_count": 6,
     "metadata": {},
     "output_type": "execute_result"
    }
   ],
   "source": [
    "outputs = deeprte(\n",
    "    test_batch, is_training=False, compute_loss=False, compute_metrics=True\n",
    ")\n",
    "outputs[\"predicted_solution\"].shape, outputs[\"metrics\"]"
   ]
  },
  {
   "attachments": {},
   "cell_type": "markdown",
   "metadata": {},
   "source": [
    "#### Case 3: inference mode"
   ]
  },
  {
   "cell_type": "code",
   "execution_count": null,
   "metadata": {},
   "outputs": [],
   "source": [
    "outputs = deeprte(\n",
    "    test_batch, is_training=False, compute_loss=False, compute_metrics=False\n",
    ")\n",
    "outputs[\"predicted_solution\"].shape"
   ]
  },
  {
   "attachments": {},
   "cell_type": "markdown",
   "metadata": {},
   "source": [
    "## Test Green's function"
   ]
  },
  {
   "cell_type": "code",
   "execution_count": null,
   "metadata": {},
   "outputs": [],
   "source": [
    "one_point_example = {}\n",
    "for k, v in test_batch.items():\n",
    "    if k in BATCH_FEATURE_NAMES:\n",
    "        one_point_example[k] = v[0]\n",
    "    else:\n",
    "        one_point_example[k] = v\n",
    "\n",
    "for k, v in one_point_example.items():\n",
    "    if k in COLLOCATION_FEATURE_NAMES:\n",
    "        one_point_example[k] = v[0]\n",
    "    else:\n",
    "        one_point_example[k] = v\n",
    "\n",
    "jax.tree_map(lambda x: x.shape, one_point_example)"
   ]
  },
  {
   "cell_type": "code",
   "execution_count": null,
   "metadata": {},
   "outputs": [],
   "source": [
    "@transform_and_run\n",
    "def green_fn(*args):\n",
    "    return modules.GreenFunction(c.green_function, gc)(*args, is_training=False)\n",
    "\n",
    "\n",
    "green_fn(\n",
    "    one_point_example[\"phase_coords\"],\n",
    "    one_point_example[\"phase_coords\"],\n",
    "    one_point_example\n",
    ").shape"
   ]
  },
  {
   "attachments": {},
   "cell_type": "markdown",
   "metadata": {},
   "source": [
    "## Test Attenuation module"
   ]
  },
  {
   "cell_type": "code",
   "execution_count": null,
   "metadata": {},
   "outputs": [],
   "source": [
    "@transform_and_run\n",
    "def attenuation_fn(*args):\n",
    "    return modules.Attenuation(c.green_function.attenuation, gc)(*args)\n",
    "\n",
    "\n",
    "coord1 = coord2 = jax.random.uniform(next(rng), [4])\n",
    "att_coeff = jax.random.uniform(next(rng), [50, 3])\n",
    "\n",
    "grid = jax.random.uniform(next(rng), [50, 2])\n",
    "char = Characteristics.from_tensor(grid)\n",
    "\n",
    "attenuation_fn(coord1, coord2, att_coeff, char).shape"
   ]
  },
  {
   "attachments": {},
   "cell_type": "markdown",
   "metadata": {},
   "source": [
    "# Test Attention module"
   ]
  },
  {
   "cell_type": "code",
   "execution_count": null,
   "metadata": {},
   "outputs": [],
   "source": [
    "@transform_and_run\n",
    "def attn_fn(*args):\n",
    "    return modules.Attention(c.green_function.attenuation.attention, gc)(*args)\n",
    "\n",
    "\n",
    "q = jax.random.uniform(next(rng), [5, 3])\n",
    "k = jax.random.uniform(next(rng), [4, 3])\n",
    "v = jax.random.uniform(next(rng), [4, 2])\n",
    "\n",
    "attn_fn(q, k, v, None).shape"
   ]
  }
 ],
 "metadata": {
  "kernelspec": {
   "display_name": "Python 3 (ipykernel)",
   "language": "python",
   "name": "python3"
  },
  "language_info": {
   "codemirror_mode": {
    "name": "ipython",
    "version": 3
   },
   "file_extension": ".py",
   "mimetype": "text/x-python",
   "name": "python",
   "nbconvert_exporter": "python",
   "pygments_lexer": "ipython3",
   "version": "3.10.8"
  },
  "orig_nbformat": 4,
  "vscode": {
   "interpreter": {
    "hash": "949777d72b0d2535278d3dc13498b2535136f6dfe0678499012e853ee9abcab1"
   }
  }
 },
 "nbformat": 4,
 "nbformat_minor": 2
}

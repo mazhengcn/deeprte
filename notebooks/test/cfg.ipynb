{
 "cells": [
  {
   "cell_type": "code",
   "execution_count": 1,
   "metadata": {},
   "outputs": [],
   "source": [
    "import ml_collections"
   ]
  },
  {
   "cell_type": "code",
   "execution_count": 2,
   "metadata": {},
   "outputs": [],
   "source": [
    "cfg = ml_collections.ConfigDict({\"k\":12321})"
   ]
  },
  {
   "cell_type": "code",
   "execution_count": 3,
   "metadata": {},
   "outputs": [],
   "source": [
    "cfg = cfg.lock()"
   ]
  },
  {
   "cell_type": "code",
   "execution_count": 4,
   "metadata": {},
   "outputs": [
    {
     "ename": "KeyError",
     "evalue": "'Key \"i\" does not exist and cannot be added since the config is locked'",
     "output_type": "error",
     "traceback": [
      "\u001b[0;31m---------------------------------------------------------------------------\u001b[0m",
      "\u001b[0;31mKeyError\u001b[0m                                  Traceback (most recent call last)",
      "Cell \u001b[0;32mIn[4], line 1\u001b[0m\n\u001b[0;32m----> 1\u001b[0m cfg[\u001b[39m\"\u001b[39;49m\u001b[39mi\u001b[39;49m\u001b[39m\"\u001b[39;49m] \u001b[39m=\u001b[39m \u001b[39m432\u001b[39m\n",
      "File \u001b[0;32m/usr/local/lib/python3.10/site-packages/ml_collections/config_dict/config_dict.py:839\u001b[0m, in \u001b[0;36mConfigDict.__setitem__\u001b[0;34m(self, key, value)\u001b[0m\n\u001b[1;32m    836\u001b[0m \u001b[39mif\u001b[39;00m \u001b[39mself\u001b[39m\u001b[39m.\u001b[39mis_locked \u001b[39mand\u001b[39;00m key \u001b[39mnot\u001b[39;00m \u001b[39min\u001b[39;00m \u001b[39mself\u001b[39m\u001b[39m.\u001b[39m_fields:\n\u001b[1;32m    837\u001b[0m   error_msg \u001b[39m=\u001b[39m (\u001b[39m'\u001b[39m\u001b[39mKey \u001b[39m\u001b[39m\"\u001b[39m\u001b[39m{}\u001b[39;00m\u001b[39m\"\u001b[39m\u001b[39m does not exist and cannot be added since the \u001b[39m\u001b[39m'\u001b[39m\n\u001b[1;32m    838\u001b[0m                \u001b[39m'\u001b[39m\u001b[39mconfig is locked\u001b[39m\u001b[39m'\u001b[39m)\n\u001b[0;32m--> 839\u001b[0m   \u001b[39mraise\u001b[39;00m \u001b[39mKeyError\u001b[39;00m(\n\u001b[1;32m    840\u001b[0m       \u001b[39mself\u001b[39m\u001b[39m.\u001b[39m_generate_did_you_mean_message(key, error_msg\u001b[39m.\u001b[39mformat(key)))\n\u001b[1;32m    842\u001b[0m \u001b[39mif\u001b[39;00m key \u001b[39min\u001b[39;00m \u001b[39mself\u001b[39m\u001b[39m.\u001b[39m_fields:\n\u001b[1;32m    843\u001b[0m   field \u001b[39m=\u001b[39m \u001b[39mself\u001b[39m\u001b[39m.\u001b[39m_fields[key]\n",
      "\u001b[0;31mKeyError\u001b[0m: 'Key \"i\" does not exist and cannot be added since the config is locked'"
     ]
    }
   ],
   "source": [
    "cfg[\"i\"] = 432"
   ]
  },
  {
   "cell_type": "code",
   "execution_count": 4,
   "metadata": {},
   "outputs": [],
   "source": [
    "with cfg.unlocked() as cfg:\n",
    "    cfg.i = 123123"
   ]
  },
  {
   "cell_type": "code",
   "execution_count": 5,
   "metadata": {},
   "outputs": [
    {
     "data": {
      "text/plain": [
       "i: 123123\n",
       "k: 12321"
      ]
     },
     "execution_count": 5,
     "metadata": {},
     "output_type": "execute_result"
    }
   ],
   "source": [
    "cfg"
   ]
  },
  {
   "cell_type": "code",
   "execution_count": 6,
   "metadata": {},
   "outputs": [],
   "source": [
    "def get_vmap_axes(dict_keys: list[str], template: list[str]):\n",
    "    return ({k: 0 if k in template else None for k in dict_keys},)"
   ]
  },
  {
   "cell_type": "code",
   "execution_count": 7,
   "metadata": {},
   "outputs": [
    {
     "name": "stderr",
     "output_type": "stream",
     "text": [
      "2023-03-03 09:01:44.480519: I tensorflow/core/platform/cpu_feature_guard.cc:193] This TensorFlow binary is optimized with oneAPI Deep Neural Network Library (oneDNN) to use the following CPU instructions in performance-critical operations:  AVX2 AVX512F AVX512_VNNI FMA\n",
      "To enable them in other operations, rebuild TensorFlow with the appropriate compiler flags.\n",
      "2023-03-03 09:01:44.646583: I tensorflow/core/util/port.cc:104] oneDNN custom operations are on. You may see slightly different numerical results due to floating-point round-off errors from different computation orders. To turn them off, set the environment variable `TF_ENABLE_ONEDNN_OPTS=0`.\n"
     ]
    }
   ],
   "source": [
    "from deeprte.model.tf.rte_features import (\n",
    "    BATCH_FEATURE_NAMES,\n",
    "    COLLOCATION_FEATURE_NAMES,\n",
    ")"
   ]
  },
  {
   "cell_type": "code",
   "execution_count": null,
   "metadata": {},
   "outputs": [],
   "source": [
    "get_vmap_axes(dict_keys: list[str], template: list[str])"
   ]
  },
  {
   "cell_type": "code",
   "execution_count": 7,
   "metadata": {},
   "outputs": [
    {
     "ename": "KeyError",
     "evalue": "'Key \"0\" does not exist and cannot be added since the config is locked'",
     "output_type": "error",
     "traceback": [
      "\u001b[0;31m---------------------------------------------------------------------------\u001b[0m",
      "\u001b[0;31mKeyError\u001b[0m                                  Traceback (most recent call last)",
      "Cell \u001b[0;32mIn[7], line 1\u001b[0m\n\u001b[0;32m----> 1\u001b[0m cfg[\u001b[39m\"\u001b[39;49m\u001b[39m0\u001b[39;49m\u001b[39m\"\u001b[39;49m] \u001b[39m=\u001b[39m \u001b[39m65\u001b[39m\n",
      "File \u001b[0;32m/usr/local/lib/python3.10/site-packages/ml_collections/config_dict/config_dict.py:839\u001b[0m, in \u001b[0;36mConfigDict.__setitem__\u001b[0;34m(self, key, value)\u001b[0m\n\u001b[1;32m    836\u001b[0m \u001b[39mif\u001b[39;00m \u001b[39mself\u001b[39m\u001b[39m.\u001b[39mis_locked \u001b[39mand\u001b[39;00m key \u001b[39mnot\u001b[39;00m \u001b[39min\u001b[39;00m \u001b[39mself\u001b[39m\u001b[39m.\u001b[39m_fields:\n\u001b[1;32m    837\u001b[0m   error_msg \u001b[39m=\u001b[39m (\u001b[39m'\u001b[39m\u001b[39mKey \u001b[39m\u001b[39m\"\u001b[39m\u001b[39m{}\u001b[39;00m\u001b[39m\"\u001b[39m\u001b[39m does not exist and cannot be added since the \u001b[39m\u001b[39m'\u001b[39m\n\u001b[1;32m    838\u001b[0m                \u001b[39m'\u001b[39m\u001b[39mconfig is locked\u001b[39m\u001b[39m'\u001b[39m)\n\u001b[0;32m--> 839\u001b[0m   \u001b[39mraise\u001b[39;00m \u001b[39mKeyError\u001b[39;00m(\n\u001b[1;32m    840\u001b[0m       \u001b[39mself\u001b[39m\u001b[39m.\u001b[39m_generate_did_you_mean_message(key, error_msg\u001b[39m.\u001b[39mformat(key)))\n\u001b[1;32m    842\u001b[0m \u001b[39mif\u001b[39;00m key \u001b[39min\u001b[39;00m \u001b[39mself\u001b[39m\u001b[39m.\u001b[39m_fields:\n\u001b[1;32m    843\u001b[0m   field \u001b[39m=\u001b[39m \u001b[39mself\u001b[39m\u001b[39m.\u001b[39m_fields[key]\n",
      "\u001b[0;31mKeyError\u001b[0m: 'Key \"0\" does not exist and cannot be added since the config is locked'"
     ]
    }
   ],
   "source": [
    "cfg[\"0\"] = 65"
   ]
  },
  {
   "cell_type": "code",
   "execution_count": null,
   "metadata": {},
   "outputs": [],
   "source": []
  }
 ],
 "metadata": {
  "kernelspec": {
   "display_name": "Python 3",
   "language": "python",
   "name": "python3"
  },
  "language_info": {
   "codemirror_mode": {
    "name": "ipython",
    "version": 3
   },
   "file_extension": ".py",
   "mimetype": "text/x-python",
   "name": "python",
   "nbconvert_exporter": "python",
   "pygments_lexer": "ipython3",
   "version": "3.10.8"
  },
  "orig_nbformat": 4,
  "vscode": {
   "interpreter": {
    "hash": "949777d72b0d2535278d3dc13498b2535136f6dfe0678499012e853ee9abcab1"
   }
  }
 },
 "nbformat": 4,
 "nbformat_minor": 2
}

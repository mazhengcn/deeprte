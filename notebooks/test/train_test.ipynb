{
 "cells": [
  {
   "cell_type": "code",
   "execution_count": 1,
   "metadata": {},
   "outputs": [],
   "source": [
    "import os\n",
    "os.environ[\"CUDA_VISIBLE_DEVICES\"] = '1'"
   ]
  },
  {
   "cell_type": "markdown",
   "metadata": {},
   "source": [
    "# Import and Build Model"
   ]
  },
  {
   "cell_type": "code",
   "execution_count": 2,
   "metadata": {},
   "outputs": [
    {
     "name": "stderr",
     "output_type": "stream",
     "text": [
      "/usr/local/lib/python3.10/site-packages/tqdm/auto.py:22: TqdmWarning: IProgress not found. Please update jupyter and ipywidgets. See https://ipywidgets.readthedocs.io/en/stable/user_install.html\n",
      "  from .autonotebook import tqdm as notebook_tqdm\n"
     ]
    }
   ],
   "source": [
    "from deeprte.train import Trainer\n",
    "import jax\n",
    "import haiku as hk"
   ]
  },
  {
   "cell_type": "code",
   "execution_count": 3,
   "metadata": {},
   "outputs": [],
   "source": [
    "source_dir = \"/workspaces/deeprte/rte_data/matlab/train-scattering-kernel-0204\"\n",
    "data_name_list = [\"train_random_kernel_1.mat\",\"train_random_kernel_2.mat\"]"
   ]
  },
  {
   "cell_type": "code",
   "execution_count": 4,
   "metadata": {},
   "outputs": [],
   "source": [
    "from deeprte.config import get_config\n",
    "config = get_config()\n",
    "config = config.experiment_kwargs.config\n",
    "config.dataset.source_dir = source_dir\n",
    "config.dataset.data_name_list = data_name_list\n",
    "rng = hk.PRNGSequence(jax.random.PRNGKey(42))\n",
    "e = Trainer(mode = \"train\", init_rng=0, config = config)"
   ]
  },
  {
   "cell_type": "markdown",
   "metadata": {},
   "source": [
    "# Data Shape Visualization"
   ]
  },
  {
   "cell_type": "code",
   "execution_count": 5,
   "metadata": {},
   "outputs": [
    {
     "data": {
      "text/plain": [
       "{'sigma': TensorShape([600, 1521, 2]),\n",
       " 'psi_label': TensorShape([600, 36504]),\n",
       " 'scattering_kernel': TensorShape([600, 36504, 24]),\n",
       " 'boundary_scattering_kernel': TensorShape([600, 1968, 24]),\n",
       " 'self_scattering_kernel': TensorShape([600, 24, 24]),\n",
       " 'boundary': TensorShape([600, 1968]),\n",
       " 'position_coords': TensorShape([1521, 2]),\n",
       " 'velocity_coords': TensorShape([24, 2]),\n",
       " 'phase_coords': TensorShape([36504, 4]),\n",
       " 'boundary_coords': TensorShape([1968, 4]),\n",
       " 'boundary_weights': TensorShape([1968]),\n",
       " 'velocity_weights': TensorShape([24])}"
      ]
     },
     "execution_count": 5,
     "metadata": {},
     "output_type": "execute_result"
    }
   ],
   "source": [
    "import tensorflow as tf\n",
    "tf.nest.map_structure(lambda x: x.shape, (e.tf_data))"
   ]
  },
  {
   "cell_type": "markdown",
   "metadata": {},
   "source": [
    "## Train Input"
   ]
  },
  {
   "cell_type": "code",
   "execution_count": 6,
   "metadata": {},
   "outputs": [
    {
     "name": "stderr",
     "output_type": "stream",
     "text": [
      "WARNING:tensorflow:From /usr/local/lib/python3.10/site-packages/tensorflow/python/autograph/pyct/static_analysis/liveness.py:83: Analyzer.lamba_check (from tensorflow.python.autograph.pyct.static_analysis.liveness) is deprecated and will be removed after 2023-09-23.\n",
      "Instructions for updating:\n",
      "Lambda fuctions will be no more assumed to be used in the statement where they are used, or at least in the same block. https://github.com/tensorflow/tensorflow/issues/56089\n"
     ]
    },
    {
     "data": {
      "text/plain": [
       "{'sigma': (1, 4, 1521, 2),\n",
       " 'psi_label': (1, 4, 100),\n",
       " 'scattering_kernel': (1, 4, 100, 24),\n",
       " 'boundary_scattering_kernel': (1, 4, 1968, 24),\n",
       " 'self_scattering_kernel': (1, 4, 24, 24),\n",
       " 'boundary': (1, 4, 1968),\n",
       " 'position_coords': (1, 1521, 2),\n",
       " 'velocity_coords': (1, 24, 2),\n",
       " 'phase_coords': (1, 100, 4),\n",
       " 'boundary_coords': (1, 1968, 4),\n",
       " 'boundary_weights': (1, 1968),\n",
       " 'velocity_weights': (1, 24),\n",
       " 'sampled_boundary_coords': (1, 50, 4),\n",
       " 'sampled_boundary': (1, 4, 50),\n",
       " 'sampled_boundary_scattering_kernel': (1, 4, 50, 24)}"
      ]
     },
     "execution_count": 6,
     "metadata": {},
     "output_type": "execute_result"
    }
   ],
   "source": [
    "train_input = e._build_train_input()\n",
    "tf.nest.map_structure(lambda x: x.shape, next(train_input))"
   ]
  },
  {
   "cell_type": "markdown",
   "metadata": {},
   "source": [
    "## Val Input"
   ]
  },
  {
   "cell_type": "code",
   "execution_count": 7,
   "metadata": {},
   "outputs": [
    {
     "data": {
      "text/plain": [
       "{'sigma': (1, 4, 1521, 2),\n",
       " 'psi_label': (1, 4, 36504),\n",
       " 'scattering_kernel': (1, 4, 36504, 24),\n",
       " 'boundary_scattering_kernel': (1, 4, 1968, 24),\n",
       " 'self_scattering_kernel': (1, 4, 24, 24),\n",
       " 'boundary': (1, 4, 1968),\n",
       " 'position_coords': (1, 1521, 2),\n",
       " 'velocity_coords': (1, 24, 2),\n",
       " 'phase_coords': (1, 36504, 4),\n",
       " 'boundary_coords': (1, 1968, 4),\n",
       " 'boundary_weights': (1, 1968),\n",
       " 'velocity_weights': (1, 24)}"
      ]
     },
     "execution_count": 7,
     "metadata": {},
     "output_type": "execute_result"
    }
   ],
   "source": [
    "val_input = e._build_eval_input()\n",
    "tf.nest.map_structure(lambda x: x.shape, next(val_input))"
   ]
  },
  {
   "cell_type": "markdown",
   "metadata": {},
   "source": [
    "## Dummy Input for Model Init"
   ]
  },
  {
   "cell_type": "code",
   "execution_count": 8,
   "metadata": {},
   "outputs": [],
   "source": [
    "ds = e._build_dummy_input()"
   ]
  },
  {
   "cell_type": "code",
   "execution_count": 9,
   "metadata": {},
   "outputs": [
    {
     "data": {
      "text/plain": [
       "{'sigma': (1, 1, 1521, 2),\n",
       " 'psi_label': (1, 1, 1),\n",
       " 'scattering_kernel': (1, 1, 1, 24),\n",
       " 'boundary_scattering_kernel': (1, 1, 1968, 24),\n",
       " 'self_scattering_kernel': (1, 1, 24, 24),\n",
       " 'boundary': (1, 1, 1968),\n",
       " 'position_coords': (1, 1521, 2),\n",
       " 'velocity_coords': (1, 24, 2),\n",
       " 'phase_coords': (1, 1, 4),\n",
       " 'boundary_coords': (1, 1968, 4),\n",
       " 'boundary_weights': (1, 1968),\n",
       " 'velocity_weights': (1, 24),\n",
       " 'sampled_boundary_coords': (1, 1, 4),\n",
       " 'sampled_boundary': (1, 1, 1),\n",
       " 'sampled_boundary_scattering_kernel': (1, 1, 1, 24)}"
      ]
     },
     "execution_count": 9,
     "metadata": {},
     "output_type": "execute_result"
    }
   ],
   "source": [
    "tf.nest.map_structure(lambda x: x.shape, ds)"
   ]
  },
  {
   "cell_type": "markdown",
   "metadata": {},
   "source": [
    "# Test Train Step"
   ]
  },
  {
   "cell_type": "code",
   "execution_count": 10,
   "metadata": {},
   "outputs": [],
   "source": [
    "from jaxline import utils as jl_utils\n",
    "init_rng = jl_utils.bcast_local_devices(next(rng))\n",
    "e._initialize_training()\n",
    "# iterator=tf.data.Dataset.from_tensors(ds).as_numpy_iterator()\n",
    "# e._train_input = train_input"
   ]
  },
  {
   "cell_type": "code",
   "execution_count": 11,
   "metadata": {},
   "outputs": [],
   "source": [
    "e._train_input = train_input"
   ]
  },
  {
   "cell_type": "code",
   "execution_count": 12,
   "metadata": {},
   "outputs": [
    {
     "name": "stderr",
     "output_type": "stream",
     "text": [
      "2023-03-08 11:37:52.037174: W external/org_tensorflow/tensorflow/tsl/framework/bfc_allocator.cc:290] Allocator (GPU_0_bfc) ran out of memory trying to allocate 9.02GiB with freed_by_count=0. The caller indicates that this is not a failure, but this may mean that there could be performance gains if more memory were available.\n"
     ]
    },
    {
     "ename": "XlaRuntimeError",
     "evalue": "RESOURCE_EXHAUSTED: Out of memory while trying to allocate 9689890816 bytes.",
     "output_type": "error",
     "traceback": [
      "\u001b[0;31m---------------------------------------------------------------------------\u001b[0m",
      "\u001b[0;31mXlaRuntimeError\u001b[0m                           Traceback (most recent call last)",
      "Cell \u001b[0;32mIn[12], line 1\u001b[0m\n\u001b[0;32m----> 1\u001b[0m scalars \u001b[39m=\u001b[39m e\u001b[39m.\u001b[39;49mstep(jl_utils\u001b[39m.\u001b[39;49mbcast_local_devices(\u001b[39m0\u001b[39;49m), jl_utils\u001b[39m.\u001b[39;49mbcast_local_devices(\u001b[39mnext\u001b[39;49m(rng)))\n",
      "File \u001b[0;32m/workspaces/deeprte/deeprte/train.py:129\u001b[0m, in \u001b[0;36mTrainer.step\u001b[0;34m(self, global_step, rng, *unused_args, **unused_kwargs)\u001b[0m\n\u001b[1;32m    126\u001b[0m batch \u001b[39m=\u001b[39m \u001b[39mnext\u001b[39m(\u001b[39mself\u001b[39m\u001b[39m.\u001b[39m_train_input)\n\u001b[1;32m    128\u001b[0m \u001b[39m# Update parameters\u001b[39;00m\n\u001b[0;32m--> 129\u001b[0m \u001b[39mself\u001b[39m\u001b[39m.\u001b[39m_params, \u001b[39mself\u001b[39m\u001b[39m.\u001b[39m_state, \u001b[39mself\u001b[39m\u001b[39m.\u001b[39m_opt_state, scalars \u001b[39m=\u001b[39m \u001b[39mself\u001b[39;49m\u001b[39m.\u001b[39;49mupdate_fn(\n\u001b[1;32m    130\u001b[0m     \u001b[39mself\u001b[39;49m\u001b[39m.\u001b[39;49m_params,\n\u001b[1;32m    131\u001b[0m     \u001b[39mself\u001b[39;49m\u001b[39m.\u001b[39;49m_state,\n\u001b[1;32m    132\u001b[0m     \u001b[39mself\u001b[39;49m\u001b[39m.\u001b[39;49m_opt_state,\n\u001b[1;32m    133\u001b[0m     global_step,\n\u001b[1;32m    134\u001b[0m     rng,\n\u001b[1;32m    135\u001b[0m     batch,\n\u001b[1;32m    136\u001b[0m )\n\u001b[1;32m    138\u001b[0m \u001b[39m# We only return the loss scalars on the first devict for logging\u001b[39;00m\n\u001b[1;32m    139\u001b[0m scalars \u001b[39m=\u001b[39m jl_utils\u001b[39m.\u001b[39mget_first(scalars)\n",
      "    \u001b[0;31m[... skipping hidden 10 frame]\u001b[0m\n",
      "File \u001b[0;32m/usr/local/lib/python3.10/site-packages/jax/_src/dispatch.py:1012\u001b[0m, in \u001b[0;36mbackend_compile\u001b[0;34m(backend, built_c, options, host_callbacks)\u001b[0m\n\u001b[1;32m   1007\u001b[0m   \u001b[39mreturn\u001b[39;00m backend\u001b[39m.\u001b[39mcompile(built_c, compile_options\u001b[39m=\u001b[39moptions,\n\u001b[1;32m   1008\u001b[0m                          host_callbacks\u001b[39m=\u001b[39mhost_callbacks)\n\u001b[1;32m   1009\u001b[0m \u001b[39m# Some backends don't have `host_callbacks` option yet\u001b[39;00m\n\u001b[1;32m   1010\u001b[0m \u001b[39m# TODO(sharadmv): remove this fallback when all backends allow `compile`\u001b[39;00m\n\u001b[1;32m   1011\u001b[0m \u001b[39m# to take in `host_callbacks`\u001b[39;00m\n\u001b[0;32m-> 1012\u001b[0m \u001b[39mreturn\u001b[39;00m backend\u001b[39m.\u001b[39;49mcompile(built_c, compile_options\u001b[39m=\u001b[39;49moptions)\n",
      "\u001b[0;31mXlaRuntimeError\u001b[0m: RESOURCE_EXHAUSTED: Out of memory while trying to allocate 9689890816 bytes."
     ]
    }
   ],
   "source": [
    "scalars = e.step(jl_utils.bcast_local_devices(0), jl_utils.bcast_local_devices(next(rng)))"
   ]
  },
  {
   "cell_type": "code",
   "execution_count": null,
   "metadata": {},
   "outputs": [
    {
     "data": {
      "text/plain": [
       "{'learning_rate': DeviceArray(0.0008, dtype=float32),\n",
       " 'train_mse': DeviceArray(0.06758966, dtype=float32),\n",
       " 'train_rmspe': DeviceArray(64.88431, dtype=float32)}"
      ]
     },
     "execution_count": 15,
     "metadata": {},
     "output_type": "execute_result"
    }
   ],
   "source": [
    "scalars"
   ]
  },
  {
   "cell_type": "markdown",
   "metadata": {},
   "source": [
    "# Test Evaluation"
   ]
  },
  {
   "cell_type": "code",
   "execution_count": null,
   "metadata": {},
   "outputs": [],
   "source": [
    "e._eval_input = iterator"
   ]
  },
  {
   "cell_type": "code",
   "execution_count": null,
   "metadata": {},
   "outputs": [],
   "source": [
    "metrics = e.evaluate(jl_utils.bcast_local_devices(0), jl_utils.bcast_local_devices(next(rng)))"
   ]
  },
  {
   "cell_type": "code",
   "execution_count": null,
   "metadata": {},
   "outputs": [
    {
     "data": {
      "text/plain": [
       "{'eval_mse': 0.0852733626961708, 'eval_rmspe': 124.36205291748047}"
      ]
     },
     "execution_count": 17,
     "metadata": {},
     "output_type": "execute_result"
    }
   ],
   "source": [
    "metrics"
   ]
  },
  {
   "cell_type": "code",
   "execution_count": null,
   "metadata": {},
   "outputs": [],
   "source": []
  }
 ],
 "metadata": {
  "kernelspec": {
   "display_name": "Python 3.10.8 64-bit",
   "language": "python",
   "name": "python3"
  },
  "language_info": {
   "codemirror_mode": {
    "name": "ipython",
    "version": 3
   },
   "file_extension": ".py",
   "mimetype": "text/x-python",
   "name": "python",
   "nbconvert_exporter": "python",
   "pygments_lexer": "ipython3",
   "version": "3.10.8"
  },
  "orig_nbformat": 4,
  "vscode": {
   "interpreter": {
    "hash": "949777d72b0d2535278d3dc13498b2535136f6dfe0678499012e853ee9abcab1"
   }
  }
 },
 "nbformat": 4,
 "nbformat_minor": 2
}

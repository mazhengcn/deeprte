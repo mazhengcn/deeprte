{
 "cells": [
  {
   "cell_type": "code",
   "execution_count": 1,
   "metadata": {},
   "outputs": [],
   "source": [
    "import os\n",
    "os.environ['CUDA_VISIBLE_DEVICES'] = '6,7'"
   ]
  },
  {
   "cell_type": "code",
   "execution_count": 2,
   "metadata": {},
   "outputs": [],
   "source": [
    "import numpy as np\n",
    "import jax\n",
    "import jax.numpy as jnp\n",
    "import tensorflow as tf\n",
    "from pathlib import Path"
   ]
  },
  {
   "cell_type": "code",
   "execution_count": 3,
   "metadata": {},
   "outputs": [
    {
     "name": "stderr",
     "output_type": "stream",
     "text": [
      "/usr/local/lib/python3.10/site-packages/tqdm/auto.py:22: TqdmWarning: IProgress not found. Please update jupyter and ipywidgets. See https://ipywidgets.readthedocs.io/en/stable/user_install.html\n",
      "  from .autonotebook import tqdm as notebook_tqdm\n"
     ]
    }
   ],
   "source": [
    "from deeprte.model.rte import RTEOperator\n",
    "from deeprte.model.config import model_config"
   ]
  },
  {
   "cell_type": "code",
   "execution_count": 4,
   "metadata": {},
   "outputs": [],
   "source": [
    "model_cfg = model_config()\n",
    "solution_config = model_cfg.rte_operator\n",
    "\n",
    "data_path = \"/workspaces/deeprte/ckpts/train_delta_2022-08-24T17:05:33/models/latest/step_37500_2022-08-24T18:42:32/params.npz\""
   ]
  },
  {
   "cell_type": "code",
   "execution_count": 5,
   "metadata": {},
   "outputs": [
    {
     "data": {
      "text/plain": [
       "activation: gelu\n",
       "green_function:\n",
       "  coefficient_net:\n",
       "    attention_net:\n",
       "      widths:\n",
       "      - 64\n",
       "      - 1\n",
       "    pointwise_mlp:\n",
       "      widths:\n",
       "      - 64\n",
       "      - 2\n",
       "  green_function_mlp:\n",
       "    widths:\n",
       "    - 128\n",
       "    - 128\n",
       "    - 128\n",
       "    - 128\n",
       "    - 1"
      ]
     },
     "execution_count": 5,
     "metadata": {},
     "output_type": "execute_result"
    }
   ],
   "source": [
    "solution_config"
   ]
  },
  {
   "cell_type": "code",
   "execution_count": 6,
   "metadata": {},
   "outputs": [],
   "source": [
    "from deeprte.model.data import flat_params_to_haiku\n",
    "\n",
    "params = np.load(data_path)\n",
    "params_dict = flat_params_to_haiku(params)\n"
   ]
  },
  {
   "cell_type": "code",
   "execution_count": 7,
   "metadata": {},
   "outputs": [],
   "source": [
    "from deeprte.model.modules import FunctionInputs\n",
    "from deeprte.utils import flat_dict_to_rte_data\n",
    "from collections.abc import Mapping\n",
    "from deeprte.model.geometry.phase_space import PhaseSpace\n",
    "from deeprte.dataset import _load_and_split_dataset, Split, process_inputs\n",
    "\n",
    "def construct_input(data, grid):\n",
    "    _grid, _ = preprocess_grid(grid)\n",
    "\n",
    "    sigma = np.stack([data[\"sigma_t\"], data[\"sigma_a\"]], axis=-1)\n",
    "    psi_bc = data[\"psi_bc\"]\n",
    "    psi_label = data[\"psi_label\"]\n",
    "\n",
    "    r, rv = _grid[\"r\"], _grid[\"rv\"]\n",
    "    rv_prime, w_prime = _grid[\"rv_prime\"], _grid[\"w_prime\"]\n",
    "    rv_r, rv_v = np.split(rv, 2, axis=-1)\n",
    "\n",
    "    print(psi_bc.dtype)\n",
    "\n",
    "    # print(psi_bc.shape, w_prime.shape)\n",
    "    return r, {\n",
    "        \"inputs\": (\n",
    "            rv_r,\n",
    "            rv_v,\n",
    "            FunctionInputs(x=r, f=sigma),\n",
    "            FunctionInputs(x=rv_prime, f=psi_bc * w_prime),\n",
    "        ),\n",
    "        \"labels\": psi_label,\n",
    "    }\n",
    "\n",
    "def preprocess_grid(\n",
    "    grid: Mapping[str, np.ndarray], is_training: bool = True\n",
    ") -> Mapping[str, np.ndarray]:\n",
    "    _grid = dict(**grid)\n",
    "    r, v = _grid[\"r\"], _grid[\"v\"]\n",
    "    r = r.reshape(-1, r.shape[-1])\n",
    "    _grid[\"r\"] = r\n",
    "\n",
    "    # rv = np.concatenate((r[:, None] + 0.0 * v, v + 0.0 * r[:, None]), axis=-1)\n",
    "    rv = PhaseSpace(\n",
    "        position_coords=r,\n",
    "        velocity_coords=v,\n",
    "        position_weights=0.0,\n",
    "        velocity_weights=0.0,\n",
    "    ).single_state(cartesian_product=True)\n",
    "    rv = rv.reshape(-1, rv.shape[-1])\n",
    "    _grid[\"rv\"] = rv\n",
    "    total_grid_size = rv.shape[0]\n",
    "\n",
    "    rv_prime, w_prime = _grid[\"rv_prime\"], _grid[\"w_prime\"]\n",
    "    _grid[\"rv_prime\"] = rv_prime.reshape(-1, rv_prime.shape[-1])\n",
    "    _grid[\"w_prime\"] = w_prime.flatten()\n",
    "\n",
    "    if is_training:\n",
    "        del _grid[\"w_angle\"], _grid[\"v\"]\n",
    "\n",
    "    return _grid, total_grid_size\n",
    "    "
   ]
  },
  {
   "cell_type": "code",
   "execution_count": 8,
   "metadata": {},
   "outputs": [],
   "source": [
    "datapath = \"/workspaces/deeprte/data/train/train_delta.npz\"\n",
    "dataset = np.load(datapath, allow_pickle=False)\n",
    "\n",
    "rte_data = flat_dict_to_rte_data(dataset)"
   ]
  },
  {
   "cell_type": "code",
   "execution_count": 9,
   "metadata": {},
   "outputs": [
    {
     "name": "stdout",
     "output_type": "stream",
     "text": [
      "{'sigma_t': (2000, 40, 40), 'sigma_a': (2000, 40, 40), 'psi_label': (2000, 40, 40, 24), 'phi': (2000, 40, 40), 'psi_bc': (2000, 160, 12)}\n"
     ]
    }
   ],
   "source": [
    "data, grid = rte_data[\"data\"], rte_data[\"grid\"]\n",
    "print(tf.nest.map_structure(lambda x: x.shape, data))\n",
    "psi_shape = data['psi_label'].shape[1:]"
   ]
  },
  {
   "cell_type": "code",
   "execution_count": 10,
   "metadata": {},
   "outputs": [
    {
     "name": "stdout",
     "output_type": "stream",
     "text": [
      "float32\n"
     ]
    }
   ],
   "source": [
    "batch_size = 1\n",
    "idx = 139\n",
    "# _grid, _ = preprocess_grid(grid) \n",
    "_data = tf.nest.map_structure(\n",
    "        lambda x: x[idx],\n",
    "        data)\n",
    "_data = tf.nest.map_structure(\n",
    "        lambda x: np.reshape(x, [batch_size, -1]),\n",
    "        _data)\n",
    "\n",
    "# inputs = _construct_batch(_data, _grid)\n",
    "# inputs = tf.nest.map_structure(lambda x: x.numpy() if isinstance(x, tf.Tensor) else x, inputs)\n",
    "r, inputs = construct_input(_data, grid)\n",
    "rv_r, v, sigma, psi_bc = inputs[\"inputs\"]"
   ]
  },
  {
   "cell_type": "code",
   "execution_count": 11,
   "metadata": {},
   "outputs": [
    {
     "data": {
      "text/plain": [
       "{'sigma_t': (1, 1600),\n",
       " 'sigma_a': (1, 1600),\n",
       " 'psi_label': (1, 38400),\n",
       " 'phi': (1, 1600),\n",
       " 'psi_bc': (1, 1920)}"
      ]
     },
     "execution_count": 11,
     "metadata": {},
     "output_type": "execute_result"
    }
   ],
   "source": [
    "tf.nest.map_structure(lambda x: x.shape, _data)"
   ]
  },
  {
   "cell_type": "code",
   "execution_count": 12,
   "metadata": {},
   "outputs": [],
   "source": [
    "rte_sol = RTEOperator(config=solution_config)"
   ]
  },
  {
   "cell_type": "code",
   "execution_count": 31,
   "metadata": {},
   "outputs": [],
   "source": [
    "out = rte_sol.apply(params_dict, None, 0, *inputs[\"inputs\"], is_training=False)\n",
    "output = out[0].reshape((batch_size, *psi_shape))"
   ]
  },
  {
   "cell_type": "code",
   "execution_count": 32,
   "metadata": {},
   "outputs": [
    {
     "data": {
      "text/plain": [
       "(1, 40, 40, 24)"
      ]
     },
     "execution_count": 32,
     "metadata": {},
     "output_type": "execute_result"
    }
   ],
   "source": [
    "output.shape"
   ]
  },
  {
   "cell_type": "code",
   "execution_count": 33,
   "metadata": {},
   "outputs": [
    {
     "data": {
      "text/plain": [
       "(2000, 40, 40, 24)"
      ]
     },
     "execution_count": 33,
     "metadata": {},
     "output_type": "execute_result"
    }
   ],
   "source": [
    "data[\"psi_label\"].shape"
   ]
  },
  {
   "cell_type": "code",
   "execution_count": 13,
   "metadata": {},
   "outputs": [],
   "source": [
    "import haiku as hk\n",
    "import functools\n",
    "from deeprte.model.mapping import vmap\n",
    "from collections.abc import Callable\n",
    "from deeprte.model.integrate import quad\n",
    "from typing import Optional\n",
    "\n",
    "import jax.numpy as jnp\n",
    "\n",
    "from deeprte.model import mapping\n",
    "\n",
    "@jax.jit\n",
    "def rho(\n",
    "    params: hk.Params,\n",
    "    rng: jnp.ndarray,\n",
    "    r: jnp.ndarray,\n",
    "    sigma: FunctionInputs,\n",
    "    psi_bc: FunctionInputs,\n",
    "    quadratures: tuple[jnp.ndarray, jnp.ndarray],\n",
    ") -> jnp.ndarray:\n",
    "\n",
    "    _apply = functools.partial(rte_sol.apply, params, None, rng, is_training=True)\n",
    "    _rho_fn = quad(_apply, quadratures, argnum=1, has_aux=True)\n",
    "    v_rho_fn = vmap(\n",
    "        vmap(_rho_fn, shard_size=128, argnums={0}),\n",
    "        argnums={1, 2},\n",
    "        in_axes=(FunctionInputs(), FunctionInputs()),\n",
    "    )\n",
    "\n",
    "    _rho = v_rho_fn(r, sigma, psi_bc)\n",
    "\n",
    "    return _rho\n",
    "\n",
    "# def flip_ad(matrix):\n",
    "#     return np.fliplr(np.fliplr(matrix).T)"
   ]
  },
  {
   "cell_type": "code",
   "execution_count": 14,
   "metadata": {},
   "outputs": [
    {
     "data": {
      "text/plain": [
       "(1600, 2)"
      ]
     },
     "execution_count": 14,
     "metadata": {},
     "output_type": "execute_result"
    }
   ],
   "source": [
    "r.shape"
   ]
  },
  {
   "cell_type": "code",
   "execution_count": 15,
   "metadata": {},
   "outputs": [
    {
     "data": {
      "text/plain": [
       "(1, 1920)"
      ]
     },
     "execution_count": 15,
     "metadata": {},
     "output_type": "execute_result"
    }
   ],
   "source": [
    "psi_bc[1].shape"
   ]
  },
  {
   "cell_type": "code",
   "execution_count": 16,
   "metadata": {},
   "outputs": [],
   "source": [
    "_psi_bc = FunctionInputs(psi_bc[0], psi_bc[1] * 5)"
   ]
  },
  {
   "cell_type": "code",
   "execution_count": 38,
   "metadata": {},
   "outputs": [],
   "source": [
    "phi = rho(params_dict, 0, r, sigma, _psi_bc, (grid['v'], grid['w_angle']))"
   ]
  },
  {
   "cell_type": "code",
   "execution_count": 41,
   "metadata": {},
   "outputs": [
    {
     "data": {
      "text/plain": [
       "array([[0.0125    , 0.0125    ],\n",
       "       [0.0125    , 0.0375    ],\n",
       "       [0.0125    , 0.06250001],\n",
       "       ...,\n",
       "       [0.9875001 , 0.93750006],\n",
       "       [0.9875001 , 0.9625001 ],\n",
       "       [0.9875001 , 0.9875001 ]], dtype=float32)"
      ]
     },
     "execution_count": 41,
     "metadata": {},
     "output_type": "execute_result"
    }
   ],
   "source": [
    "r"
   ]
  },
  {
   "cell_type": "code",
   "execution_count": 18,
   "metadata": {},
   "outputs": [],
   "source": [
    "phi = rte_sol.rho(params_dict, 0, r, sigma, _psi_bc, (grid['v'], grid['w_angle']))"
   ]
  },
  {
   "cell_type": "code",
   "execution_count": 19,
   "metadata": {},
   "outputs": [],
   "source": [
    "phi_pre = phi[0]\n",
    "# phi[0].shape\n",
    "phi_pre = phi_pre.reshape((40, 40))\n",
    "phi_pre = phi_pre.T"
   ]
  },
  {
   "cell_type": "code",
   "execution_count": 20,
   "metadata": {},
   "outputs": [],
   "source": [
    "# rho = (output @  grid['w_angle']).squeeze()\n",
    "# rho.shape"
   ]
  },
  {
   "cell_type": "code",
   "execution_count": 21,
   "metadata": {},
   "outputs": [
    {
     "data": {
      "text/plain": [
       "(40, 40)"
      ]
     },
     "execution_count": 21,
     "metadata": {},
     "output_type": "execute_result"
    }
   ],
   "source": [
    "phi_label = _data[\"phi\"].reshape((40,40)) * 5\n",
    "phi_label.shape"
   ]
  },
  {
   "cell_type": "code",
   "execution_count": 22,
   "metadata": {},
   "outputs": [
    {
     "name": "stdout",
     "output_type": "stream",
     "text": [
      "0.05293678\n",
      "0.0031838769\n",
      "0.25163937 0.0012104203\n",
      "0.25663057 0.0012104203\n"
     ]
    }
   ],
   "source": [
    "print(np.sqrt(np.mean((phi_label - phi_pre)**2)/np.mean(phi_label**2)))\n",
    "print(np.mean((phi_label - 0)**2))\n",
    "print(np.max(phi_label), np.min(phi_label))\n",
    "print(np.max(phi_pre), np.min(phi_label))"
   ]
  },
  {
   "cell_type": "code",
   "execution_count": 23,
   "metadata": {},
   "outputs": [
    {
     "data": {
      "image/png": "[encoded data removed]",
      "text/plain": [
       "<Figure size 2000x800 with 2 Axes>"
      ]
     },
     "metadata": {},
     "output_type": "display_data"
    },
    {
     "name": "stdout",
     "output_type": "stream",
     "text": [
      "0.05293678\n"
     ]
    }
   ],
   "source": [
    "import matplotlib.pyplot as plt\n",
    "import plotly.express as px\n",
    "\n",
    "r = grid[\"r\"]\n",
    "\n",
    "\n",
    "fig, _axs = plt.subplots(nrows=1, ncols=2, figsize=(20, 8))\n",
    "fig.subplots_adjust(hspace=0.3)\n",
    "axs = _axs.flatten()\n",
    "\n",
    "fig = px.density_contour(phi_label)\n",
    "# fig.show()\n",
    "\n",
    "cs_1 = axs[0].contourf(\n",
    "    r[..., 0],\n",
    "    r[..., 1],\n",
    "    phi_label,\n",
    ")\n",
    "# axs[0].clabel(cs, inline=True, fontsize=10)\n",
    "# fig.colorbar(cs, ax=axs[0])\n",
    "\n",
    "# fig = px.density_contour(phi_pre)\n",
    "cs_2 = axs[1].contourf(\n",
    "    r[..., 0],\n",
    "    r[..., 1],\n",
    "    phi_pre,\n",
    ")\n",
    "\n",
    "plt.show()\n",
    "\n",
    "print(np.sqrt(np.mean((phi_label - phi_pre)**2)/np.mean(phi_label**2)))"
   ]
  },
  {
   "cell_type": "code",
   "execution_count": null,
   "metadata": {},
   "outputs": [],
   "source": [
    "psi_label = _data[\"psi_label\"].squeeze()\n",
    "psi_pre = out[0].squeeze()"
   ]
  },
  {
   "cell_type": "code",
   "execution_count": null,
   "metadata": {},
   "outputs": [
    {
     "data": {
      "text/plain": [
       "DeviceArray(71.0001, dtype=float32)"
      ]
     },
     "execution_count": 42,
     "metadata": {},
     "output_type": "execute_result"
    }
   ],
   "source": [
    "sum(abs(psi_label-psi_pre)**2)"
   ]
  },
  {
   "cell_type": "code",
   "execution_count": null,
   "metadata": {},
   "outputs": [],
   "source": [
    "psi_label = _data[\"psi_label\"].squeeze()\n",
    "psi_label = psi_label.reshape((40,40,24))"
   ]
  },
  {
   "cell_type": "code",
   "execution_count": null,
   "metadata": {},
   "outputs": [],
   "source": [
    "_phi = (psi_label @  grid['w_angle'])"
   ]
  },
  {
   "cell_type": "code",
   "execution_count": null,
   "metadata": {},
   "outputs": [
    {
     "data": {
      "text/plain": [
       "(40, 40)"
      ]
     },
     "execution_count": 191,
     "metadata": {},
     "output_type": "execute_result"
    }
   ],
   "source": [
    "_phi.shape"
   ]
  },
  {
   "cell_type": "code",
   "execution_count": null,
   "metadata": {},
   "outputs": [
    {
     "name": "stdout",
     "output_type": "stream",
     "text": [
      "5.98825e-08\n"
     ]
    }
   ],
   "source": [
    "print(np.sqrt(np.mean((_phi.T - phi_label)**2)/np.mean(phi_label**2)))"
   ]
  },
  {
   "cell_type": "code",
   "execution_count": null,
   "metadata": {},
   "outputs": [],
   "source": []
  }
 ],
 "metadata": {
  "kernelspec": {
   "display_name": "Python 3.10.5 64-bit",
   "language": "python",
   "name": "python3"
  },
  "language_info": {
   "codemirror_mode": {
    "name": "ipython",
    "version": 3
   },
   "file_extension": ".py",
   "mimetype": "text/x-python",
   "name": "python",
   "nbconvert_exporter": "python",
   "pygments_lexer": "ipython3",
   "version": "3.10.8"
  },
  "orig_nbformat": 4,
  "vscode": {
   "interpreter": {
    "hash": "949777d72b0d2535278d3dc13498b2535136f6dfe0678499012e853ee9abcab1"
   }
  }
 },
 "nbformat": 4,
 "nbformat_minor": 2
}

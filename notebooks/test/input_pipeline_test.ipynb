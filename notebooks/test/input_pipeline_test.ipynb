{
 "cells": [
  {
   "cell_type": "code",
   "execution_count": 1,
   "metadata": {},
   "outputs": [],
   "source": [
    "import os\n",
    "os.environ[\"CUDA_VISIBLE_DEVICES\"] = '7'"
   ]
  },
  {
   "cell_type": "code",
   "execution_count": 2,
   "metadata": {},
   "outputs": [],
   "source": [
    "from deeprte.config import get_config\n",
    "config = get_config()"
   ]
  },
  {
   "cell_type": "code",
   "execution_count": 3,
   "metadata": {},
   "outputs": [],
   "source": [
    "source_dir = \"/workspaces/deeprte/rte_data/matlab/train-scattering-kernel-0405\"\n",
    "data_name_list = [\"train_random_kernel_1.mat\"]"
   ]
  },
  {
   "cell_type": "code",
   "execution_count": 4,
   "metadata": {},
   "outputs": [],
   "source": [
    "from deeprte.data.pipeline import DataPipeline\n",
    "data_pipeline = DataPipeline(source_dir, data_name_list)\n",
    "data = data_pipeline.process(pre_shuffle=True, is_split_test_samples=True, num_test_samples= 2)\n",
    "\n",
    "from deeprte.model.tf.rte_dataset import np_to_tensor_dict\n",
    "\n",
    "tf_data = np_to_tensor_dict(data)\n",
    "\n",
    "from deeprte.model.tf.rte_dataset import divide_batch_feat\n",
    "batched_feat, unbatched_feat = divide_batch_feat(tf_data)"
   ]
  },
  {
   "cell_type": "code",
   "execution_count": 5,
   "metadata": {},
   "outputs": [],
   "source": [
    "import tensorflow as tf"
   ]
  },
  {
   "cell_type": "code",
   "execution_count": 7,
   "metadata": {},
   "outputs": [],
   "source": [
    "ds = tf.data.Dataset.from_tensor_slices(batched_feat)\n",
    "ds = ds.batch(3, drop_remainder=True)\n",
    "    # construct the inputs structure\n",
    "g = tf.random.Generator.from_seed(seed=0)\n",
    "\n",
    "def cat_batch(\n",
    "    batched_feat,\n",
    "):\n",
    "    batched_feat.update(unbatched_feat)\n",
    "    return batched_feat\n",
    "\n",
    "ds = ds.map(cat_batch)\n",
    "\n",
    "ds = ds.batch(2, drop_remainder=True)"
   ]
  },
  {
   "cell_type": "code",
   "execution_count": 8,
   "metadata": {},
   "outputs": [
    {
     "data": {
      "text/plain": [
       "{'sigma': TensorSpec(shape=(2, 3, 1600, 2), dtype=tf.float32, name=None),\n",
       " 'psi_label': TensorSpec(shape=(2, 3, 38400), dtype=tf.float32, name=None),\n",
       " 'scattering_kernel': TensorSpec(shape=(2, 3, 38400, 24), dtype=tf.float32, name=None),\n",
       " 'boundary_scattering_kernel': TensorSpec(shape=(2, 3, 1920, 24), dtype=tf.float32, name=None),\n",
       " 'self_scattering_kernel': TensorSpec(shape=(2, 3, 24, 24), dtype=tf.float32, name=None),\n",
       " 'boundary': TensorSpec(shape=(2, 3, 1920), dtype=tf.float32, name=None),\n",
       " 'position_coords': TensorSpec(shape=(2, 1600, 2), dtype=tf.float32, name=None),\n",
       " 'velocity_coords': TensorSpec(shape=(2, 24, 2), dtype=tf.float32, name=None),\n",
       " 'phase_coords': TensorSpec(shape=(2, 38400, 4), dtype=tf.float32, name=None),\n",
       " 'boundary_coords': TensorSpec(shape=(2, 1920, 4), dtype=tf.float32, name=None),\n",
       " 'boundary_weights': TensorSpec(shape=(2, 1920), dtype=tf.float32, name=None),\n",
       " 'velocity_weights': TensorSpec(shape=(2, 24), dtype=tf.float32, name=None)}"
      ]
     },
     "execution_count": 8,
     "metadata": {},
     "output_type": "execute_result"
    }
   ],
   "source": [
    "ds.element_spec"
   ]
  },
  {
   "cell_type": "code",
   "execution_count": 9,
   "metadata": {},
   "outputs": [],
   "source": [
    "import numpy as np"
   ]
  },
  {
   "cell_type": "code",
   "execution_count": 10,
   "metadata": {},
   "outputs": [
    {
     "name": "stderr",
     "output_type": "stream",
     "text": [
      "/usr/local/lib/python3.10/site-packages/tqdm/auto.py:22: TqdmWarning: IProgress not found. Please update jupyter and ipywidgets. See https://ipywidgets.readthedocs.io/en/stable/user_install.html\n",
      "  from .autonotebook import tqdm as notebook_tqdm\n"
     ]
    }
   ],
   "source": [
    "from deeprte.model.tf.input_pipeline import split_feat,process_features, make_device_batch\n",
    "import jax\n",
    "train_feat = split_feat(tf_data, 0.8, True)\n",
    "# ds, unbatched_feat = load_and_split_data(tf_data, data_config, True)"
   ]
  },
  {
   "cell_type": "code",
   "execution_count": 11,
   "metadata": {},
   "outputs": [],
   "source": [
    "from deeprte.model.tf.input_pipeline import load_tf_data, tf_data_to_generator"
   ]
  },
  {
   "cell_type": "code",
   "execution_count": 12,
   "metadata": {},
   "outputs": [],
   "source": [
    "ds, normalization_dict = load_tf_data(source_dir, data_name_list, pre_shuffle=True,is_split_test_samples=True, num_test_samples = 2)"
   ]
  },
  {
   "cell_type": "code",
   "execution_count": 13,
   "metadata": {},
   "outputs": [
    {
     "data": {
      "text/plain": [
       "{'sigma': TensorShape([498, 1600, 2]),\n",
       " 'psi_label': TensorShape([498, 38400]),\n",
       " 'scattering_kernel': TensorShape([498, 38400, 24]),\n",
       " 'boundary_scattering_kernel': TensorShape([498, 1920, 24]),\n",
       " 'self_scattering_kernel': TensorShape([498, 24, 24]),\n",
       " 'boundary': TensorShape([498, 1920]),\n",
       " 'position_coords': TensorShape([1600, 2]),\n",
       " 'velocity_coords': TensorShape([24, 2]),\n",
       " 'phase_coords': TensorShape([38400, 4]),\n",
       " 'boundary_coords': TensorShape([1920, 4]),\n",
       " 'boundary_weights': TensorShape([1920]),\n",
       " 'velocity_weights': TensorShape([24])}"
      ]
     },
     "execution_count": 13,
     "metadata": {},
     "output_type": "execute_result"
    }
   ],
   "source": [
    "tf.nest.map_structure(lambda x:x.shape, ds)"
   ]
  },
  {
   "cell_type": "code",
   "execution_count": 14,
   "metadata": {},
   "outputs": [
    {
     "data": {
      "text/plain": [
       "{'psi_min': 7.994067e-10,\n",
       " 'psi_range': 0.11769425,\n",
       " 'boundary_min': 0.0,\n",
       " 'boundary_range': 0.13641933}"
      ]
     },
     "execution_count": 14,
     "metadata": {},
     "output_type": "execute_result"
    }
   ],
   "source": [
    "normalization_dict"
   ]
  },
  {
   "cell_type": "code",
   "execution_count": 15,
   "metadata": {},
   "outputs": [],
   "source": [
    "tfds = tf_data_to_generator(ds, True, [2,3],0.8,collocation_size=500,bc_collocation_size=1,)"
   ]
  },
  {
   "cell_type": "code",
   "execution_count": 16,
   "metadata": {},
   "outputs": [
    {
     "data": {
      "text/plain": [
       "{'sigma': (2, 3, 1600, 2),\n",
       " 'psi_label': (2, 3, 500),\n",
       " 'scattering_kernel': (2, 3, 500, 24),\n",
       " 'boundary_scattering_kernel': (2, 3, 1920, 24),\n",
       " 'self_scattering_kernel': (2, 3, 24, 24),\n",
       " 'boundary': (2, 3, 1920),\n",
       " 'position_coords': (2, 1600, 2),\n",
       " 'velocity_coords': (2, 24, 2),\n",
       " 'phase_coords': (2, 500, 4),\n",
       " 'boundary_coords': (2, 1920, 4),\n",
       " 'boundary_weights': (2, 1920),\n",
       " 'velocity_weights': (2, 24),\n",
       " 'sampled_boundary_coords': (2, 1, 4),\n",
       " 'sampled_boundary': (2, 3, 1),\n",
       " 'sampled_boundary_scattering_kernel': (2, 3, 1, 24)}"
      ]
     },
     "execution_count": 16,
     "metadata": {},
     "output_type": "execute_result"
    }
   ],
   "source": [
    "tf.nest.map_structure(lambda x:x.shape, next(tfds))"
   ]
  },
  {
   "cell_type": "code",
   "execution_count": 17,
   "metadata": {},
   "outputs": [],
   "source": [
    "ret1 = next(tfds)"
   ]
  },
  {
   "cell_type": "code",
   "execution_count": 18,
   "metadata": {},
   "outputs": [
    {
     "data": {
      "text/plain": [
       "(2, 3, 500)"
      ]
     },
     "execution_count": 18,
     "metadata": {},
     "output_type": "execute_result"
    }
   ],
   "source": [
    "ret1[\"psi_label\"].shape"
   ]
  },
  {
   "cell_type": "code",
   "execution_count": 24,
   "metadata": {},
   "outputs": [
    {
     "data": {
      "text/plain": [
       "True"
      ]
     },
     "execution_count": 24,
     "metadata": {},
     "output_type": "execute_result"
    }
   ],
   "source": [
    "np.allclose(ret1[\"position_coords\"][0],ret1[\"position_coords\"][1])"
   ]
  },
  {
   "cell_type": "code",
   "execution_count": 25,
   "metadata": {},
   "outputs": [],
   "source": [
    "ret2 = next(tfds)"
   ]
  },
  {
   "cell_type": "code",
   "execution_count": 28,
   "metadata": {},
   "outputs": [
    {
     "data": {
      "text/plain": [
       "True"
      ]
     },
     "execution_count": 28,
     "metadata": {},
     "output_type": "execute_result"
    }
   ],
   "source": [
    "np.allclose(ret2[\"position_coords\"][0],ret2[\"position_coords\"][1])"
   ]
  },
  {
   "cell_type": "code",
   "execution_count": 29,
   "metadata": {},
   "outputs": [
    {
     "data": {
      "text/plain": [
       "True"
      ]
     },
     "execution_count": 29,
     "metadata": {},
     "output_type": "execute_result"
    }
   ],
   "source": [
    "np.allclose(ret1[\"position_coords\"][0],ret2[\"position_coords\"][1])"
   ]
  },
  {
   "cell_type": "code",
   "execution_count": null,
   "metadata": {},
   "outputs": [],
   "source": []
  }
 ],
 "metadata": {
  "kernelspec": {
   "display_name": "Python 3.10.7 64-bit",
   "language": "python",
   "name": "python3"
  },
  "language_info": {
   "codemirror_mode": {
    "name": "ipython",
    "version": 3
   },
   "file_extension": ".py",
   "mimetype": "text/x-python",
   "name": "python",
   "nbconvert_exporter": "python",
   "pygments_lexer": "ipython3",
   "version": "3.10.8"
  },
  "orig_nbformat": 4,
  "vscode": {
   "interpreter": {
    "hash": "949777d72b0d2535278d3dc13498b2535136f6dfe0678499012e853ee9abcab1"
   }
  }
 },
 "nbformat": 4,
 "nbformat_minor": 2
}

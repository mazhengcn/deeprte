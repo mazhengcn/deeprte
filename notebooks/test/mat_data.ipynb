{
 "cells": [
  {
   "cell_type": "code",
   "execution_count": 1,
   "metadata": {},
   "outputs": [],
   "source": [
    "from pathlib import Path\n",
    "\n",
    "import numpy as np\n",
    "import tree\n",
    "import scipy.io as sio\n",
    "from deeprte.data.tool.matlab import mat_loader\n"
   ]
  },
  {
   "cell_type": "code",
   "execution_count": 2,
   "metadata": {},
   "outputs": [],
   "source": [
    "source_dir = Path(\"/workspaces/deeprte/rte_data/matlab/eval-data/scattering-kernel/0311\")\n",
    "data_name_list = [\"test_bc1.mat\"]"
   ]
  },
  {
   "cell_type": "code",
   "execution_count": 3,
   "metadata": {},
   "outputs": [],
   "source": [
    "BATCH_FEAT_LIST = [\n",
    "    \"sigma_a\",\n",
    "    \"sigma_t\",\n",
    "    \"psi_label\",\n",
    "    \"psi_bc\",\n",
    "    \"scattering_kernel\",\n",
    "]\n",
    "def mat_loader(source_dir: str, data_name_list: list[str]) -> dict[str, np.ndarray]:\n",
    "    data_list = []\n",
    "    for filename in data_name_list:\n",
    "        data_path = source_dir / filename\n",
    "        mat_dict = sio.loadmat(data_path)\n",
    "        if \"scattering_kernel\" not in mat_dict.keys():\n",
    "            rng = np.random.default_rng(12345)\n",
    "            num_sample = mat_dict[\"sigma_a\"].shape[0]\n",
    "            num_vec = mat_dict[\"ct\"].shape[0]\n",
    "            mat_dict[\"scattering_kernel\"] = rng.uniform(\n",
    "                0, 1, (num_sample, num_vec, num_vec)\n",
    "            )\n",
    "        data_list.append(mat_dict)\n",
    "    data = data_list[0]\n",
    "\n",
    "    for k in BATCH_FEAT_LIST:\n",
    "        data[k] = np.concatenate([d[k] for d in data_list], axis=0)\n",
    "\n",
    "    unused_keys = [k for k in data.keys() if k.startswith(\"__\")]\n",
    "    # for k in unused_keys\n",
    "    for k in unused_keys:\n",
    "        del data[k]\n",
    "\n",
    "    return data"
   ]
  },
  {
   "cell_type": "code",
   "execution_count": 4,
   "metadata": {},
   "outputs": [],
   "source": [
    "data = mat_loader(source_dir, data_name_list)"
   ]
  },
  {
   "cell_type": "code",
   "execution_count": 5,
   "metadata": {},
   "outputs": [
    {
     "data": {
      "text/plain": [
       "dict_keys(['ct', 'omega', 'omega_prime', 'phi', 'psi_bc', 'psi_label', 'r', 'rv', 'rv_prime', 'sigma_a', 'sigma_t', 'st', 'w_angle', 'x', 'y', 'scattering_kernel'])"
      ]
     },
     "execution_count": 5,
     "metadata": {},
     "output_type": "execute_result"
    }
   ],
   "source": [
    "data.keys()"
   ]
  },
  {
   "cell_type": "code",
   "execution_count": 7,
   "metadata": {},
   "outputs": [],
   "source": [
    "def interpolate(data):\n",
    "    list_omega = [data[\"omega_prime\"][41*i:41*(i+1),:] for i in range(4)]\n",
    "    list_omega = [(omega[1:]+omega[:-1])/2 for omega in list_omega]\n",
    "    data[\"omega_prime\"] = np.concatenate(list_omega, axis=0)\n",
    "\n",
    "    phi = data[\"phi\"]\n",
    "    phi = (phi[:,:-1,:]+phi[:,1:,:])/2\n",
    "    data[\"phi\"] = (phi[:,:,:-1]+phi[:,:,1:])/2\n",
    "\n",
    "    list_psi_bc = [data[\"psi_bc\"][:,41*i:41*(i+1),:] for i in range(4)]\n",
    "    list_psi_bc = [(psi_bc[:,1:,:]+psi_bc[:,:-1,:])/2 for psi_bc in list_psi_bc]\n",
    "    data[\"psi_bc\"] = np.concatenate(list_psi_bc, axis=-2)\n",
    "\n",
    "    psi = data[\"psi_label\"]\n",
    "    psi = (psi[:,:-1,:,:]+psi[:,1:,:,:])/2\n",
    "    data[\"psi_label\"] = (psi[:,:,:-1,:]+psi[:,:,1:,:])/2\n",
    "\n",
    "    list_rv_prime = [data[\"rv_prime\"][41*i:41*(i+1),:,:] for i in range(4)]\n",
    "    list_rv_prime = [(rv_prime[1:,:,:]+rv_prime[:-1,:,:])/2 for rv_prime in list_rv_prime]\n",
    "    data[\"rv_prime\"] = np.concatenate(list_rv_prime, axis=0)\n",
    "\n",
    "    sigma_a = data[\"sigma_a\"]\n",
    "    sigma_a = (sigma_a[:,:-1,:]+sigma_a[:,1:,:])/2\n",
    "    data[\"sigma_a\"] = (sigma_a[:,:,:-1]+sigma_a[:,:,1:])/2\n",
    "\n",
    "    sigma_t = data[\"sigma_t\"]\n",
    "    sigma_t = (sigma_t[:,:-1,:]+sigma_t[:,1:,:])/2\n",
    "    data[\"sigma_t\"] = (sigma_t[:,:,:-1]+sigma_t[:,:,1:])/2\n",
    "\n",
    "    x = np.squeeze(data[\"x\"])\n",
    "    x = (x[1:]+x[:-1])/2\n",
    "    data[\"x\"] = x\n",
    "\n",
    "    y = np.squeeze(data[\"y\"])\n",
    "    y = (y[1:]+y[:-1])/2\n",
    "    data[\"y\"] = y\n",
    "\n",
    "    return data"
   ]
  },
  {
   "cell_type": "code",
   "execution_count": 8,
   "metadata": {},
   "outputs": [],
   "source": [
    "data = interpolate(data)"
   ]
  },
  {
   "cell_type": "code",
   "execution_count": 9,
   "metadata": {},
   "outputs": [
    {
     "data": {
      "text/plain": [
       "{'ct': (24, 1),\n",
       " 'omega': (24, 1),\n",
       " 'omega_prime': (160, 12),\n",
       " 'phi': (10, 40, 40),\n",
       " 'psi_bc': (10, 160, 12),\n",
       " 'psi_label': (10, 40, 40, 24),\n",
       " 'r': (41, 41, 2),\n",
       " 'rv': (41, 41, 24, 4),\n",
       " 'rv_prime': (160, 12, 4),\n",
       " 'sigma_a': (10, 40, 40),\n",
       " 'sigma_t': (10, 40, 40),\n",
       " 'st': (24, 1),\n",
       " 'w_angle': (24, 1),\n",
       " 'x': (40,),\n",
       " 'y': (40,),\n",
       " 'scattering_kernel': (10, 24, 24)}"
      ]
     },
     "execution_count": 9,
     "metadata": {},
     "output_type": "execute_result"
    }
   ],
   "source": [
    "tree.map_structure(lambda x: x.shape, data)"
   ]
  },
  {
   "cell_type": "code",
   "execution_count": 24,
   "metadata": {},
   "outputs": [
    {
     "data": {
      "text/plain": [
       "True"
      ]
     },
     "execution_count": 24,
     "metadata": {},
     "output_type": "execute_result"
    }
   ],
   "source": [
    "np.allclose(data[\"psi_bc\"][9, 40:, :],  np.zeros((120, 12)))"
   ]
  },
  {
   "cell_type": "code",
   "execution_count": 10,
   "metadata": {},
   "outputs": [],
   "source": [
    "def standardization(data):\n",
    "    mu = np.mean(data)\n",
    "    sigma = np.std(data)\n",
    "    return (data - mu) / sigma\n",
    "\n",
    "\n",
    "def normalization(data):\n",
    "    _range = np.max(data) - np.min(data)\n",
    "    return (data - np.min(data)) / _range"
   ]
  },
  {
   "cell_type": "code",
   "execution_count": 11,
   "metadata": {},
   "outputs": [],
   "source": [
    "std_data = normalization(data[\"psi_label\"])"
   ]
  },
  {
   "cell_type": "code",
   "execution_count": 12,
   "metadata": {},
   "outputs": [
    {
     "data": {
      "text/plain": [
       "1.0"
      ]
     },
     "execution_count": 12,
     "metadata": {},
     "output_type": "execute_result"
    }
   ],
   "source": [
    "np.max(std_data)"
   ]
  },
  {
   "cell_type": "code",
   "execution_count": 13,
   "metadata": {},
   "outputs": [
    {
     "data": {
      "text/plain": [
       "0.0"
      ]
     },
     "execution_count": 13,
     "metadata": {},
     "output_type": "execute_result"
    }
   ],
   "source": [
    "np.min(std_data)"
   ]
  },
  {
   "cell_type": "code",
   "execution_count": null,
   "metadata": {},
   "outputs": [],
   "source": []
  }
 ],
 "metadata": {
  "kernelspec": {
   "display_name": "Python 3",
   "language": "python",
   "name": "python3"
  },
  "language_info": {
   "codemirror_mode": {
    "name": "ipython",
    "version": 3
   },
   "file_extension": ".py",
   "mimetype": "text/x-python",
   "name": "python",
   "nbconvert_exporter": "python",
   "pygments_lexer": "ipython3",
   "version": "3.10.8"
  },
  "orig_nbformat": 4,
  "vscode": {
   "interpreter": {
    "hash": "949777d72b0d2535278d3dc13498b2535136f6dfe0678499012e853ee9abcab1"
   }
  }
 },
 "nbformat": 4,
 "nbformat_minor": 2
}

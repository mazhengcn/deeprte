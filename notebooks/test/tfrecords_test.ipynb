{
 "cells": [
  {
   "cell_type": "code",
   "execution_count": 1,
   "metadata": {},
   "outputs": [
    {
     "name": "stderr",
     "output_type": "stream",
     "text": [
      "2023-03-01 12:56:16.255879: I tensorflow/core/platform/cpu_feature_guard.cc:193] This TensorFlow binary is optimized with oneAPI Deep Neural Network Library (oneDNN) to use the following CPU instructions in performance-critical operations:  AVX2 AVX512F AVX512_VNNI FMA\n",
      "To enable them in other operations, rebuild TensorFlow with the appropriate compiler flags.\n",
      "2023-03-01 12:56:16.427336: I tensorflow/core/util/port.cc:104] oneDNN custom operations are on. You may see slightly different numerical results due to floating-point round-off errors from different computation orders. To turn them off, set the environment variable `TF_ENABLE_ONEDNN_OPTS=0`.\n"
     ]
    }
   ],
   "source": [
    "import numpy as np\n",
    "import tensorflow as tf\n",
    "\n",
    "from deeprte.data import pipeline\n",
    "from deeprte.model.tf.rte_features import BATCH_FEATURE_NAMES, FEATURE_NAMES\n",
    "from deeprte.model.tf.rte_features import FEATURES"
   ]
  },
  {
   "cell_type": "code",
   "execution_count": 2,
   "metadata": {},
   "outputs": [],
   "source": [
    "\"\"\"A Python wrapper for matlab files\"\"\"\n",
    "\n",
    "from pathlib import Path\n",
    "\n",
    "import numpy as np\n",
    "import scipy.io as sio\n",
    "import tree\n",
    "\n",
    "BATCH_FEAT_LIST = [\n",
    "    \"sigma_a\",\n",
    "    \"sigma_t\",\n",
    "    \"psi_label\",\n",
    "    \"psi_bc\",\n",
    "    \"scattering_kernel\",\n",
    "]\n",
    "\n",
    "\n",
    "def mat_loader(\n",
    "    source_dir: str, data_name_list: list[str], seed: int = 12345\n",
    ") -> dict[str, np.ndarray]:\n",
    "\n",
    "    dir_path = Path(source_dir)\n",
    "    data_list = []\n",
    "    for filename in data_name_list:\n",
    "        data_path = dir_path / filename\n",
    "        mat_dict = sio.loadmat(data_path)\n",
    "        if \"scattering_kernel\" not in mat_dict.keys():\n",
    "            rng = np.random.default_rng(seed)\n",
    "            num_sample = mat_dict[\"sigma_a\"].shape[0]\n",
    "            num_vec = mat_dict[\"ct\"].shape[0]\n",
    "            mat_dict[\"scattering_kernel\"] = rng.uniform(\n",
    "                0, 1, (num_sample, num_vec, num_vec)\n",
    "            )\n",
    "        data_list.append(mat_dict)\n",
    "    data = data_list[0]\n",
    "\n",
    "    for k in BATCH_FEAT_LIST:\n",
    "        data[k] = np.concatenate([d[k] for d in data_list], axis=0)\n",
    "\n",
    "    unused_keys = [k for k in data.keys() if k.startswith(\"__\")]\n",
    "    # for k in unused_keys\n",
    "    for k in unused_keys:\n",
    "        del data[k]\n",
    "    print(mat_dict.keys())\n",
    "    mat_dict = tree.map_structure(\n",
    "        lambda x: np.array(x, dtype=np.float32), mat_dict\n",
    "    )\n",
    "\n",
    "    return data"
   ]
  },
  {
   "cell_type": "code",
   "execution_count": 3,
   "metadata": {},
   "outputs": [
    {
     "name": "stdout",
     "output_type": "stream",
     "text": [
      "dict_keys(['__header__', '__version__', '__globals__', 'ct', 'omega', 'omega_prime', 'phi', 'psi_bc', 'psi_label', 'r', 'rv', 'rv_prime', 'scattering_kernel', 'sigma_a', 'sigma_t', 'st', 'w_angle', 'x', 'y'])\n"
     ]
    }
   ],
   "source": [
    "source_dir = \"../rte_data/matlab/train-scattering-kernel-0204/\"\n",
    "# source_dir = \"../rte_data/matlab/eval-data/scattering-kernel/\"\n",
    "# data_name_list = [\"test_bc1_scattering_kernel.mat\"]\n",
    "data_name_list = [\n",
    "    \"train_random_kernel_1.mat\",\n",
    "    \"train_random_kernel_2.mat\",\n",
    "    \"train_random_kernel_3.mat\",\n",
    "    \"train_random_kernel_4.mat\",\n",
    "]\n",
    "data_pipeline = pipeline.DataPipeline(source_dir, data_name_list)\n",
    "data = data_pipeline.process(\n",
    "    pre_shuffle=False,\n",
    "    pre_shuffle_seed=0,\n",
    "    is_split_test_samples=False,\n",
    "    num_test_samples=None,\n",
    "    save_path=None,\n",
    ")"
   ]
  },
  {
   "cell_type": "code",
   "execution_count": 4,
   "metadata": {},
   "outputs": [
    {
     "name": "stdout",
     "output_type": "stream",
     "text": [
      "sigma: float32\n",
      "psi_label: float32\n",
      "scattering_kernel: float32\n",
      "self_scattering_kernel: float32\n",
      "boundary: float32\n",
      "position_coords: float32\n",
      "velocity_coords: float32\n",
      "phase_coords: float32\n",
      "boundary_coords: float32\n",
      "boundary_weights: float32\n",
      "velocity_weights: float32\n",
      "num_x: 41\n",
      "num_y: 41\n",
      "num_v: 24\n",
      "num_examples: 2000\n",
      "num_train_and_val: 2000\n"
     ]
    }
   ],
   "source": [
    "for k, v in data.items():\n",
    "    if isinstance(v, np.ndarray):\n",
    "        print(f\"{k}: {v.dtype}\")\n",
    "    else:\n",
    "        print(f\"{k}: {v}\")"
   ]
  },
  {
   "cell_type": "code",
   "execution_count": 5,
   "metadata": {},
   "outputs": [
    {
     "name": "stderr",
     "output_type": "stream",
     "text": [
      "2023-03-01 12:56:26.178982: W external/org_tensorflow/tensorflow/compiler/xla/service/platform_util.cc:198] unable to create StreamExecutor for CUDA:0: failed initializing StreamExecutor for CUDA device ordinal 0: INTERNAL: failed call to cuDevicePrimaryCtxRetain: CUDA_ERROR_OUT_OF_MEMORY: out of memory; total memory reported: 25438126080\n"
     ]
    },
    {
     "data": {
      "text/plain": [
       "dtype('float32')"
      ]
     },
     "execution_count": 5,
     "metadata": {},
     "output_type": "execute_result"
    }
   ],
   "source": [
    "import jax.numpy as jnp\n",
    "jnp.sum(data[\"sigma\"].astype(int) + data[\"sigma\"], axis=-1).dtype"
   ]
  }
 ],
 "metadata": {
  "kernelspec": {
   "display_name": "Python 3",
   "language": "python",
   "name": "python3"
  },
  "language_info": {
   "codemirror_mode": {
    "name": "ipython",
    "version": 3
   },
   "file_extension": ".py",
   "mimetype": "text/x-python",
   "name": "python",
   "nbconvert_exporter": "python",
   "pygments_lexer": "ipython3",
   "version": "3.10.8"
  },
  "orig_nbformat": 4,
  "vscode": {
   "interpreter": {
    "hash": "949777d72b0d2535278d3dc13498b2535136f6dfe0678499012e853ee9abcab1"
   }
  }
 },
 "nbformat": 4,
 "nbformat_minor": 2
}

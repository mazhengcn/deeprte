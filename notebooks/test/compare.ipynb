{
 "cells": [
  {
   "cell_type": "code",
   "execution_count": 1,
   "metadata": {},
   "outputs": [
    {
     "name": "stderr",
     "output_type": "stream",
     "text": [
      "/usr/local/lib/python3.10/site-packages/tqdm/auto.py:22: TqdmWarning: IProgress not found. Please update jupyter and ipywidgets. See https://ipywidgets.readthedocs.io/en/stable/user_install.html\n",
      "  from .autonotebook import tqdm as notebook_tqdm\n"
     ]
    }
   ],
   "source": [
    "import numpy as np\n",
    "import jax.numpy as jnp\n",
    "import jax\n",
    "import os\n",
    "import json\n",
    "\n",
    "os.environ[\"CUDA_VISIBLE_DEVICES\"] = \"2\"\n",
    "\n",
    "import haiku as hk\n",
    "import functools\n",
    "from deeprte.config import get_config\n",
    "from deeprte.model.modules import DeepRTE\n",
    "from deeprte.model.tf.input_pipeline import load_tf_data\n",
    "from deeprte.model.data import flat_params_to_haiku\n",
    "\n",
    "from deeprte.model.tf.rte_features import BATCH_FEATURE_NAMES"
   ]
  },
  {
   "cell_type": "code",
   "execution_count": 2,
   "metadata": {},
   "outputs": [],
   "source": [
    "def slice_batch(i: int, feat: dict):\n",
    "    return {\n",
    "        k: feat[k][i:i+1] if k in BATCH_FEATURE_NAMES else feat[k] for k in feat\n",
    "    }\n",
    "\n",
    "rng = hk.PRNGSequence(jax.random.PRNGKey(42))"
   ]
  },
  {
   "cell_type": "code",
   "execution_count": 3,
   "metadata": {},
   "outputs": [],
   "source": [
    "source_dir = \"/workspaces/deeprte/rte_data/matlab/eval-data/scattering-kernel/0311\"\n",
    "# source_dir = \"/workspaces/deeprte/rte_data/matlab/train-scattering-kernel-0309\"\n",
    "# data_name_list = [\"test_random_kernel_0311.mat\"]\n",
    "# data_name_list = [\"train_random_kernel_1.mat\"]\n",
    "data_name_list_bc1 = [\"test_bc1.mat\"]\n",
    "data_name_list_v1 = [\"test_deltax_fixsk_v1.mat\"]\n",
    "\n",
    "PARAMS_FILE = \"/workspaces/deeprte/ckpts/train_scattering_kernel_2023-03-28T04:14:34/models/latest/step_570000_2023-03-30T05:30:18/params.npz\"\n",
    "# PARAMS_FILE = \"/workspaces/deeprte/ckpts/train_scattering_kernel_2023-03-09T07:12:20/models/latest/step_555000_2023-03-11T06:44:08/params.npz\"\n",
    "CONFIG_PATH = \"/workspaces/deeprte/ckpts/train_scattering_kernel_2023-03-09T07:12:20/config.json\""
   ]
  },
  {
   "cell_type": "code",
   "execution_count": 4,
   "metadata": {},
   "outputs": [],
   "source": [
    "idx = 0"
   ]
  },
  {
   "cell_type": "code",
   "execution_count": 5,
   "metadata": {},
   "outputs": [
    {
     "data": {
      "text/plain": [
       "{'boundary': (1, 1920),\n",
       " 'boundary_coords': (1920, 4),\n",
       " 'boundary_scattering_kernel': (1, 1920, 24),\n",
       " 'boundary_weights': (1920,),\n",
       " 'phase_coords': (38400, 4),\n",
       " 'position_coords': (1600, 2),\n",
       " 'psi_label': (1, 38400),\n",
       " 'scattering_kernel': (1, 38400, 24),\n",
       " 'self_scattering_kernel': (1, 24, 24),\n",
       " 'sigma': (1, 1600, 2),\n",
       " 'velocity_coords': (24, 2),\n",
       " 'velocity_weights': (24,)}"
      ]
     },
     "execution_count": 5,
     "metadata": {},
     "output_type": "execute_result"
    }
   ],
   "source": [
    "from deeprte.data.pipeline import DataPipeline\n",
    "\n",
    "data_pipeline = DataPipeline(source_dir, data_name_list_bc1)\n",
    "\n",
    "data = data_pipeline.process(\n",
    "    pre_shuffle=False,\n",
    "    pre_shuffle_seed=0,\n",
    "    is_split_test_samples=False,\n",
    "    num_test_samples=None,\n",
    "    normalization=False,\n",
    "    save_path=None,\n",
    ")\n",
    "tf_data = load_tf_data(source_dir, data_name_list_bc1, normalization=False)\n",
    "features = jax.tree_map(lambda x: jnp.array(x), tf_data)\n",
    "# jax.tree_util.tree_map(lambda x: x.shape, features)\n",
    "\n",
    "data_feature = features[0]\n",
    "batch_bc1 = slice_batch(idx, data_feature)\n",
    "jax.tree_util.tree_map(lambda x: x.shape, batch_bc1)"
   ]
  },
  {
   "cell_type": "code",
   "execution_count": 6,
   "metadata": {},
   "outputs": [
    {
     "data": {
      "text/plain": [
       "{'boundary': (1, 1920),\n",
       " 'boundary_coords': (1920, 4),\n",
       " 'boundary_scattering_kernel': (1, 1920, 24),\n",
       " 'boundary_weights': (1920,),\n",
       " 'phase_coords': (38400, 4),\n",
       " 'position_coords': (1600, 2),\n",
       " 'psi_label': (1, 38400),\n",
       " 'scattering_kernel': (1, 38400, 24),\n",
       " 'self_scattering_kernel': (1, 24, 24),\n",
       " 'sigma': (1, 1600, 2),\n",
       " 'velocity_coords': (24, 2),\n",
       " 'velocity_weights': (24,)}"
      ]
     },
     "execution_count": 6,
     "metadata": {},
     "output_type": "execute_result"
    }
   ],
   "source": [
    "data_pipeline = DataPipeline(source_dir, data_name_list_v1)\n",
    "\n",
    "data = data_pipeline.process(\n",
    "    pre_shuffle=False,\n",
    "    pre_shuffle_seed=0,\n",
    "    is_split_test_samples=False,\n",
    "    num_test_samples=None,\n",
    "    normalization=False,\n",
    "    save_path=None,\n",
    ")\n",
    "tf_data = load_tf_data(source_dir, data_name_list_v1, normalization=False)\n",
    "features = jax.tree_map(lambda x: jnp.array(x), tf_data)\n",
    "# jax.tree_util.tree_map(lambda x: x.shape, features)\n",
    "\n",
    "data_feature = features[0]\n",
    "batch_v1 = slice_batch(idx, data_feature)\n",
    "jax.tree_util.tree_map(lambda x: x.shape, batch_v1)"
   ]
  },
  {
   "cell_type": "code",
   "execution_count": 7,
   "metadata": {},
   "outputs": [
    {
     "name": "stdout",
     "output_type": "stream",
     "text": [
      "boundary False\n",
      "boundary_coords True\n",
      "boundary_scattering_kernel False\n",
      "boundary_weights True\n",
      "phase_coords True\n",
      "position_coords True\n",
      "psi_label False\n",
      "scattering_kernel False\n",
      "self_scattering_kernel False\n",
      "sigma True\n",
      "velocity_coords True\n",
      "velocity_weights True\n"
     ]
    }
   ],
   "source": [
    "for keys in batch_v1.keys():\n",
    "    print(keys, np.allclose(batch_bc1[keys], batch_v1[keys]))"
   ]
  },
  {
   "cell_type": "code",
   "execution_count": 8,
   "metadata": {},
   "outputs": [
    {
     "data": {
      "text/plain": [
       "DeviceArray([[[1.0797689 , 1.1066376 , 1.1066376 , 1.0989072 ,\n",
       "               1.1177467 , 1.0989072 , 1.0245289 , 1.043865  ,\n",
       "               0.96030015, 1.0490503 , 0.98438615, 0.9231771 ,\n",
       "               0.97192734, 0.9043545 , 0.9043545 , 0.88027394,\n",
       "               0.86493325, 0.88027394, 1.0245289 , 0.96030015,\n",
       "               1.043865  , 0.9231771 , 0.98438615, 1.0490503 ],\n",
       "              [1.1040435 , 1.2325007 , 1.1556625 , 1.2792213 ,\n",
       "               1.2562976 , 1.1557316 , 0.9613707 , 0.9884659 ,\n",
       "               0.8404819 , 1.0193497 , 0.88928044, 0.79427195,\n",
       "               0.90694857, 0.78341657, 0.8404931 , 0.75075686,\n",
       "               0.76545   , 0.8361339 , 1.0427945 , 0.98848176,\n",
       "               1.1556737 , 0.951418  , 1.0891303 , 1.2134529 ],\n",
       "              [1.1040435 , 1.1556625 , 1.2325007 , 1.1557316 ,\n",
       "               1.2562976 , 1.2792213 , 1.0427945 , 1.1556737 ,\n",
       "               0.98848176, 1.2134529 , 1.0891303 , 0.951418  ,\n",
       "               0.90694857, 0.8404931 , 0.78341657, 0.8361339 ,\n",
       "               0.76545   , 0.75075686, 0.9613707 , 0.8404819 ,\n",
       "               0.9884659 , 0.79427195, 0.88928044, 1.0193497 ],\n",
       "              [1.1042439 , 1.2993923 , 1.1681162 , 1.3810419 ,\n",
       "               1.3171127 , 1.1606905 , 0.92008984, 0.94874156,\n",
       "               0.7781271 , 0.97870505, 0.82149047, 0.7173787 ,\n",
       "               0.87493736, 0.7305857 , 0.8237492 , 0.6810904 ,\n",
       "               0.71738976, 0.8215155 , 1.0521376 , 1.0220262 ,\n",
       "               1.2295978 , 0.9787315 , 1.1607113 , 1.317128  ],\n",
       "              [1.1239026 , 1.2750812 , 1.2750812 , 1.3170995 ,\n",
       "               1.3810148 , 1.3170995 , 0.98438615, 1.096901  ,\n",
       "               0.8815096 , 1.1606884 , 0.97871405, 0.82151335,\n",
       "               0.85877734, 0.74666643, 0.74666643, 0.71740294,\n",
       "               0.6811091 , 0.71740294, 0.98438615, 0.8815096 ,\n",
       "               1.096901  , 0.82151335, 0.97871405, 1.1606884 ],\n",
       "              [1.1042439 , 1.1681162 , 1.2993923 , 1.1606905 ,\n",
       "               1.3171127 , 1.3810419 , 1.0521376 , 1.2295978 ,\n",
       "               1.0220262 , 1.317128  , 1.1607113 , 0.9787315 ,\n",
       "               0.87493736, 0.8237492 , 0.7305857 , 0.8215155 ,\n",
       "               0.71738976, 0.6810904 , 0.92008984, 0.7781271 ,\n",
       "               0.94874156, 0.7173787 , 0.82149047, 0.97870505],\n",
       "              [1.0245289 , 0.96030015, 1.043865  , 0.9231771 ,\n",
       "               0.98438615, 1.0490503 , 1.0797689 , 1.1066376 ,\n",
       "               1.1066376 , 1.0989072 , 1.1177467 , 1.0989072 ,\n",
       "               1.0245289 , 1.043865  , 0.96030015, 1.0490503 ,\n",
       "               0.98438615, 0.9231771 , 0.97192734, 0.9043545 ,\n",
       "               0.9043545 , 0.88027394, 0.86493325, 0.88027394],\n",
       "              [1.0427945 , 0.98848176, 1.1556737 , 0.951418  ,\n",
       "               1.0891303 , 1.2134529 , 1.1040435 , 1.2325007 ,\n",
       "               1.1556625 , 1.2792213 , 1.2562976 , 1.1557316 ,\n",
       "               0.9613707 , 0.9884659 , 0.8404819 , 1.0193497 ,\n",
       "               0.88928044, 0.79427195, 0.90694857, 0.78341657,\n",
       "               0.8404931 , 0.75075686, 0.76545   , 0.8361339 ],\n",
       "              [0.9613707 , 0.8404819 , 0.9884659 , 0.79427195,\n",
       "               0.88928044, 1.0193497 , 1.1040435 , 1.1556625 ,\n",
       "               1.2325007 , 1.1557316 , 1.2562976 , 1.2792213 ,\n",
       "               1.0427945 , 1.1556737 , 0.98848176, 1.2134529 ,\n",
       "               1.0891303 , 0.951418  , 0.90694857, 0.8404931 ,\n",
       "               0.78341657, 0.8361339 , 0.76545   , 0.75075686],\n",
       "              [1.0521376 , 1.0220262 , 1.2295978 , 0.9787315 ,\n",
       "               1.1607113 , 1.317128  , 1.1042439 , 1.2993923 ,\n",
       "               1.1681162 , 1.3810419 , 1.3171127 , 1.1606905 ,\n",
       "               0.92008984, 0.94874156, 0.7781271 , 0.97870505,\n",
       "               0.82149047, 0.7173787 , 0.87493736, 0.7305857 ,\n",
       "               0.8237492 , 0.6810904 , 0.71738976, 0.8215155 ],\n",
       "              [0.98438615, 0.8815096 , 1.096901  , 0.82151335,\n",
       "               0.97871405, 1.1606884 , 1.1239026 , 1.2750812 ,\n",
       "               1.2750812 , 1.3170995 , 1.3810148 , 1.3170995 ,\n",
       "               0.98438615, 1.096901  , 0.8815096 , 1.1606884 ,\n",
       "               0.97871405, 0.82151335, 0.85877734, 0.74666643,\n",
       "               0.74666643, 0.71740294, 0.6811091 , 0.71740294],\n",
       "              [0.92008984, 0.7781271 , 0.94874156, 0.7173787 ,\n",
       "               0.82149047, 0.97870505, 1.1042439 , 1.1681162 ,\n",
       "               1.2993923 , 1.1606905 , 1.3171127 , 1.3810419 ,\n",
       "               1.0521376 , 1.2295978 , 1.0220262 , 1.317128  ,\n",
       "               1.1607113 , 0.9787315 , 0.87493736, 0.8237492 ,\n",
       "               0.7305857 , 0.8215155 , 0.71738976, 0.6810904 ],\n",
       "              [0.97192734, 0.9043545 , 0.9043545 , 0.88027394,\n",
       "               0.86493325, 0.88027394, 1.0245289 , 0.96030015,\n",
       "               1.043865  , 0.9231771 , 0.98438615, 1.0490503 ,\n",
       "               1.0797689 , 1.1066376 , 1.1066376 , 1.0989072 ,\n",
       "               1.1177467 , 1.0989072 , 1.0245289 , 1.043865  ,\n",
       "               0.96030015, 1.0490503 , 0.98438615, 0.9231771 ],\n",
       "              [0.90694857, 0.78341657, 0.8404931 , 0.75075686,\n",
       "               0.76545   , 0.8361339 , 1.0427945 , 0.98848176,\n",
       "               1.1556737 , 0.951418  , 1.0891303 , 1.2134529 ,\n",
       "               1.1040435 , 1.2325007 , 1.1556625 , 1.2792213 ,\n",
       "               1.2562976 , 1.1557316 , 0.9613707 , 0.9884659 ,\n",
       "               0.8404819 , 1.0193497 , 0.88928044, 0.79427195],\n",
       "              [0.90694857, 0.8404931 , 0.78341657, 0.8361339 ,\n",
       "               0.76545   , 0.75075686, 0.9613707 , 0.8404819 ,\n",
       "               0.9884659 , 0.79427195, 0.88928044, 1.0193497 ,\n",
       "               1.1040435 , 1.1556625 , 1.2325007 , 1.1557316 ,\n",
       "               1.2562976 , 1.2792213 , 1.0427945 , 1.1556737 ,\n",
       "               0.98848176, 1.2134529 , 1.0891303 , 0.951418  ],\n",
       "              [0.87493736, 0.7305857 , 0.8237492 , 0.6810904 ,\n",
       "               0.71738976, 0.8215155 , 1.0521376 , 1.0220262 ,\n",
       "               1.2295978 , 0.9787315 , 1.1607113 , 1.317128  ,\n",
       "               1.1042439 , 1.2993923 , 1.1681162 , 1.3810419 ,\n",
       "               1.3171127 , 1.1606905 , 0.92008984, 0.94874156,\n",
       "               0.7781271 , 0.97870505, 0.82149047, 0.7173787 ],\n",
       "              [0.85877734, 0.74666643, 0.74666643, 0.71740294,\n",
       "               0.6811091 , 0.71740294, 0.98438615, 0.8815096 ,\n",
       "               1.096901  , 0.82151335, 0.97871405, 1.1606884 ,\n",
       "               1.1239026 , 1.2750812 , 1.2750812 , 1.3170995 ,\n",
       "               1.3810148 , 1.3170995 , 0.98438615, 1.096901  ,\n",
       "               0.8815096 , 1.1606884 , 0.97871405, 0.82151335],\n",
       "              [0.87493736, 0.8237492 , 0.7305857 , 0.8215155 ,\n",
       "               0.71738976, 0.6810904 , 0.92008984, 0.7781271 ,\n",
       "               0.94874156, 0.7173787 , 0.82149047, 0.97870505,\n",
       "               1.1042439 , 1.1681162 , 1.2993923 , 1.1606905 ,\n",
       "               1.3171127 , 1.3810419 , 1.0521376 , 1.2295978 ,\n",
       "               1.0220262 , 1.317128  , 1.1607113 , 0.9787315 ],\n",
       "              [1.0245289 , 1.043865  , 0.96030015, 1.0490503 ,\n",
       "               0.98438615, 0.9231771 , 0.97192734, 0.9043545 ,\n",
       "               0.9043545 , 0.88027394, 0.86493325, 0.88027394,\n",
       "               1.0245289 , 0.96030015, 1.043865  , 0.9231771 ,\n",
       "               0.98438615, 1.0490503 , 1.0797689 , 1.1066376 ,\n",
       "               1.1066376 , 1.0989072 , 1.1177467 , 1.0989072 ],\n",
       "              [0.9613707 , 0.9884659 , 0.8404819 , 1.0193497 ,\n",
       "               0.88928044, 0.79427195, 0.90694857, 0.78341657,\n",
       "               0.8404931 , 0.75075686, 0.76545   , 0.8361339 ,\n",
       "               1.0427945 , 0.98848176, 1.1556737 , 0.951418  ,\n",
       "               1.0891303 , 1.2134529 , 1.1040435 , 1.2325007 ,\n",
       "               1.1556625 , 1.2792213 , 1.2562976 , 1.1557316 ],\n",
       "              [1.0427945 , 1.1556737 , 0.98848176, 1.2134529 ,\n",
       "               1.0891303 , 0.951418  , 0.90694857, 0.8404931 ,\n",
       "               0.78341657, 0.8361339 , 0.76545   , 0.75075686,\n",
       "               0.9613707 , 0.8404819 , 0.9884659 , 0.79427195,\n",
       "               0.88928044, 1.0193497 , 1.1040435 , 1.1556625 ,\n",
       "               1.2325007 , 1.1557316 , 1.2562976 , 1.2792213 ],\n",
       "              [0.92008984, 0.94874156, 0.7781271 , 0.97870505,\n",
       "               0.82149047, 0.7173787 , 0.87493736, 0.7305857 ,\n",
       "               0.8237492 , 0.6810904 , 0.71738976, 0.8215155 ,\n",
       "               1.0521376 , 1.0220262 , 1.2295978 , 0.9787315 ,\n",
       "               1.1607113 , 1.317128  , 1.1042439 , 1.2993923 ,\n",
       "               1.1681162 , 1.3810419 , 1.3171127 , 1.1606905 ],\n",
       "              [0.98438615, 1.096901  , 0.8815096 , 1.1606884 ,\n",
       "               0.97871405, 0.82151335, 0.85877734, 0.74666643,\n",
       "               0.74666643, 0.71740294, 0.6811091 , 0.71740294,\n",
       "               0.98438615, 0.8815096 , 1.096901  , 0.82151335,\n",
       "               0.97871405, 1.1606884 , 1.1239026 , 1.2750812 ,\n",
       "               1.2750812 , 1.3170995 , 1.3810148 , 1.3170995 ],\n",
       "              [1.0521376 , 1.2295978 , 1.0220262 , 1.317128  ,\n",
       "               1.1607113 , 0.9787315 , 0.87493736, 0.8237492 ,\n",
       "               0.7305857 , 0.8215155 , 0.71738976, 0.6810904 ,\n",
       "               0.92008984, 0.7781271 , 0.94874156, 0.7173787 ,\n",
       "               0.82149047, 0.97870505, 1.1042439 , 1.1681162 ,\n",
       "               1.2993923 , 1.1606905 , 1.3171127 , 1.3810419 ]]],            dtype=float32)"
      ]
     },
     "execution_count": 8,
     "metadata": {},
     "output_type": "execute_result"
    }
   ],
   "source": [
    "batch_bc1[\"self_scattering_kernel\"]"
   ]
  },
  {
   "cell_type": "code",
   "execution_count": null,
   "metadata": {},
   "outputs": [],
   "source": []
  }
 ],
 "metadata": {
  "kernelspec": {
   "display_name": "Python 3",
   "language": "python",
   "name": "python3"
  },
  "language_info": {
   "codemirror_mode": {
    "name": "ipython",
    "version": 3
   },
   "file_extension": ".py",
   "mimetype": "text/x-python",
   "name": "python",
   "nbconvert_exporter": "python",
   "pygments_lexer": "ipython3",
   "version": "3.10.8"
  },
  "orig_nbformat": 4
 },
 "nbformat": 4,
 "nbformat_minor": 2
}

{
 "cells": [
  {
   "cell_type": "code",
   "execution_count": 1,
   "metadata": {},
   "outputs": [
    {
     "name": "stderr",
     "output_type": "stream",
     "text": [
      "/usr/local/lib/python3.10/site-packages/tqdm/auto.py:22: TqdmWarning: IProgress not found. Please update jupyter and ipywidgets. See https://ipywidgets.readthedocs.io/en/stable/user_install.html\n",
      "  from .autonotebook import tqdm as notebook_tqdm\n"
     ]
    }
   ],
   "source": [
    "import numpy as np\n",
    "import jax.numpy as jnp\n",
    "import jax\n",
    "import os\n",
    "import json\n",
    "os.environ[\"CUDA_VISIBLE_DEVICES\"] = '0,1'\n",
    "\n",
    "import haiku as hk\n",
    "import functools\n",
    "from deeprte.config import get_config\n",
    "from deeprte.model.modules import DeepRTE\n",
    "from deeprte.model.tf.input_pipeline import load_tf_data\n",
    "from deeprte.model.data import flat_params_to_haiku\n",
    "\n",
    "from deeprte.model.tf.rte_features import BATCH_FEATURE_NAMES"
   ]
  },
  {
   "attachments": {},
   "cell_type": "markdown",
   "metadata": {},
   "source": [
    "test_example -> scattering kernel -> matlab generates coefficient and bc conditions -> use deeprte to solve each bc condition -> sum\n",
    "\n",
    "test_example -> generates coefficient and bc conditions -> use deeprte to solve each bc condition -> sum"
   ]
  },
  {
   "cell_type": "code",
   "execution_count": 2,
   "metadata": {},
   "outputs": [],
   "source": [
    "var_x = 0.020\n",
    "var_v = 0.010\n",
    "n = 40\n",
    "nv = 12\n",
    "\n",
    "mesh_x = np.linspace(0,1,n+1)\n",
    "mesh_ct = np.squeeze(np.array([[ 0.25544139],\n",
    "       [ 0.69309572],\n",
    "       [ 0.28708965],\n",
    "       [ 0.93802334],\n",
    "       [ 0.68668074],\n",
    "       [ 0.2513426 ],\n",
    "       [-0.25544139],\n",
    "       [-0.28708965],\n",
    "       [-0.69309572],\n",
    "       [-0.2513426 ],\n",
    "       [-0.68668074],\n",
    "       [-0.93802334],\n",
    "       [-0.25544139],\n",
    "       [-0.69309572],\n",
    "       [-0.28708965],\n",
    "       [-0.93802334],\n",
    "       [-0.68668074],\n",
    "       [-0.2513426 ],\n",
    "       [ 0.25544139],\n",
    "       [ 0.28708965],\n",
    "       [ 0.69309572],\n",
    "       [ 0.2513426 ],\n",
    "       [ 0.68668074],\n",
    "       [ 0.93802334]]))\n",
    "mesh_st = np.squeeze(np.array([[ 0.25544139],\n",
    "       [ 0.28708965],\n",
    "       [ 0.69309572],\n",
    "       [ 0.2513426 ],\n",
    "       [ 0.68668074],\n",
    "       [ 0.93802334],\n",
    "       [ 0.25544139],\n",
    "       [ 0.69309572],\n",
    "       [ 0.28708965],\n",
    "       [ 0.93802334],\n",
    "       [ 0.68668074],\n",
    "       [ 0.2513426 ],\n",
    "       [-0.25544139],\n",
    "       [-0.28708965],\n",
    "       [-0.69309572],\n",
    "       [-0.2513426 ],\n",
    "       [-0.68668074],\n",
    "       [-0.93802334],\n",
    "       [-0.25544139],\n",
    "       [-0.69309572],\n",
    "       [-0.28708965],\n",
    "       [-0.93802334],\n",
    "       [-0.68668074],\n",
    "       [-0.2513426 ]]))"
   ]
  },
  {
   "cell_type": "code",
   "execution_count": 3,
   "metadata": {},
   "outputs": [],
   "source": [
    "def bc_func_x(x, x_c):\n",
    "    def f(x):\n",
    "        return np.exp(-(x-x_c)**2/2/var_x)\n",
    "    sum = np.sum(f(mesh_x))\n",
    "    return np.exp(-(x-x_c)**2/2/var_x)/sum\n",
    "\n",
    "\n",
    "def bc_func_v(ct,st, ct_c, st_c):\n",
    "    def f(_ct,_st):\n",
    "        return np.exp(-(_ct-ct_c)**2/2/var_v)*np.exp(-(_st-st_c)**2/2/var_v)\n",
    "    sum = np.sqrt(np.sum(f(mesh_ct, mesh_st)))\n",
    "    return f(ct,st)/sum\n"
   ]
  },
  {
   "cell_type": "code",
   "execution_count": 4,
   "metadata": {},
   "outputs": [],
   "source": [
    "idx = (mesh_ct>0)*(mesh_st>0)+(mesh_ct>0)*(mesh_st<0)\n",
    "mesh_ct_L = [ct for ct in idx*mesh_ct if ct != 0]\n",
    "mesh_st_L = [st for st in idx*mesh_st if st != 0]\n",
    "idx_list = [i for i in range(2*nv) if idx[i] != 0]"
   ]
  },
  {
   "cell_type": "code",
   "execution_count": 5,
   "metadata": {},
   "outputs": [],
   "source": [
    "psi_bc = []\n",
    "\n",
    "for x_c in mesh_x:\n",
    "    for i, ct_c in enumerate(mesh_ct_L):\n",
    "        st_c = mesh_st_L[i]\n",
    "        bc = bc_func_x(mesh_x, x_c)[...,None]*bc_func_v(mesh_ct_L, mesh_st_L, ct_c, st_c)\n",
    "        psi_bc.append(bc)\n",
    "\n",
    "psi_bc = np.stack(psi_bc, axis=0)"
   ]
  },
  {
   "cell_type": "code",
   "execution_count": 6,
   "metadata": {},
   "outputs": [],
   "source": [
    "num = psi_bc.shape[0]\n",
    "psi_bc = psi_bc.reshape(num,-1)"
   ]
  },
  {
   "cell_type": "code",
   "execution_count": 7,
   "metadata": {},
   "outputs": [],
   "source": [
    "from scipy import linalg\n",
    "\n",
    "coef = linalg.inv(psi_bc)"
   ]
  },
  {
   "cell_type": "code",
   "execution_count": 8,
   "metadata": {},
   "outputs": [
    {
     "data": {
      "text/plain": [
       "array([[-4.09175307e+11, -8.18153135e+09,  1.27477010e+09, ...,\n",
       "        -3.27862725e+02, -3.64722795e+01, -4.37243089e+03],\n",
       "       [ 2.77188168e+08,  1.90986357e+11, -4.41889090e+05, ...,\n",
       "         3.40267333e-01,  2.70465087e+02,  2.06520578e+05],\n",
       "       [-9.09849590e+07, -1.53080325e+06,  8.31839281e+10, ...,\n",
       "        -5.23209392e-02, -6.28297497e-03, -1.01656715e+00],\n",
       "       ...,\n",
       "       [ 1.70205660e+02, -3.85960402e+00,  1.98856826e-01, ...,\n",
       "         2.87301859e+10, -4.22828216e+07,  2.84477209e+04],\n",
       "       [-1.72390546e+00, -3.06287753e+02,  1.79463711e-03, ...,\n",
       "         2.66271844e+07,  5.57692033e+10, -1.40735846e+07],\n",
       "       [-2.47875251e+02, -1.23854561e+06,  1.17135639e+00, ...,\n",
       "        -4.30909478e+03,  1.61090473e+06,  5.01133444e+09]])"
      ]
     },
     "execution_count": 8,
     "metadata": {},
     "output_type": "execute_result"
    }
   ],
   "source": [
    "coef"
   ]
  },
  {
   "cell_type": "code",
   "execution_count": 9,
   "metadata": {},
   "outputs": [
    {
     "name": "stderr",
     "output_type": "stream",
     "text": [
      "/tmp/ipykernel_3057897/3017254065.py:2: LinAlgWarning: Ill-conditioned matrix (rcond=4.92974e-20): result may not be accurate.\n",
      "  coef = linalg.solve(psi_bc, np.ones((num,)))\n"
     ]
    }
   ],
   "source": [
    "from scipy import linalg\n",
    "coef = linalg.solve(psi_bc, np.ones((num,)))"
   ]
  },
  {
   "cell_type": "code",
   "execution_count": 10,
   "metadata": {},
   "outputs": [
    {
     "data": {
      "text/plain": [
       "True"
      ]
     },
     "execution_count": 10,
     "metadata": {},
     "output_type": "execute_result"
    }
   ],
   "source": [
    "np.allclose(psi_bc.dot(coef), np.ones((num,)))"
   ]
  },
  {
   "cell_type": "code",
   "execution_count": 11,
   "metadata": {},
   "outputs": [
    {
     "data": {
      "text/plain": [
       "array([1.31746543e-01, 8.68405840e-06, 8.68405840e-06, 1.29704002e-01,\n",
       "       8.54942455e-06, 8.54942455e-06, 1.23764423e-01, 8.15791790e-06,\n",
       "       8.15791790e-06, 1.14463380e-01, 7.54484069e-06, 7.54484069e-06,\n",
       "       1.02604310e-01, 6.76315148e-06, 6.76315148e-06, 8.91441698e-02,\n",
       "       5.87592783e-06, 5.87592783e-06, 7.50669171e-02, 4.94802732e-06,\n",
       "       4.94802732e-06, 6.12678322e-02, 4.03846220e-06, 4.03846220e-06,\n",
       "       4.84668444e-02, 3.19468655e-06, 3.19468655e-06, 3.71608187e-02,\n",
       "       2.44945114e-06, 2.44945114e-06, 2.76155755e-02, 1.82027753e-06,\n",
       "       1.82027753e-06, 1.98907529e-02, 1.31109672e-06, 1.31109672e-06,\n",
       "       1.38859834e-02, 9.39572637e-03, 6.16186779e-03, 3.91672147e-03,\n",
       "       2.41302210e-03, 1.44088131e-03, 8.33918123e-04, 4.67785671e-04,\n",
       "       2.54330658e-04, 1.34022839e-04, 6.84521680e-05, 3.38862804e-05,\n",
       "       1.62588150e-05, 7.56105116e-06, 3.40803277e-06, 1.48885925e-06])"
      ]
     },
     "execution_count": 11,
     "metadata": {},
     "output_type": "execute_result"
    }
   ],
   "source": [
    "psi_bc[0][psi_bc[0]>1e-6]"
   ]
  },
  {
   "cell_type": "code",
   "execution_count": 12,
   "metadata": {},
   "outputs": [
    {
     "data": {
      "text/plain": [
       "array([1., 1., 1., 1., 1., 1., 1., 1., 1., 1., 1., 1., 1., 1., 1., 1., 1.,\n",
       "       1., 1., 1., 1., 1., 1., 1., 1., 1., 1., 1., 1., 1., 1., 1., 1., 1.,\n",
       "       1., 1., 1., 1., 1., 1., 1., 1., 1., 1., 1., 1., 1., 1., 1., 1., 1.,\n",
       "       1., 1., 1., 1., 1., 1., 1., 1., 1., 1., 1., 1., 1., 1., 1., 1., 1.,\n",
       "       1., 1., 1., 1., 1., 1., 1., 1., 1., 1., 1., 1., 1., 1., 1., 1., 1.,\n",
       "       1., 1., 1., 1., 1., 1., 1., 1., 1., 1., 1., 1., 1., 1., 1., 1., 1.,\n",
       "       1., 1., 1., 1., 1., 1., 1., 1., 1., 1., 1., 1., 1., 1., 1., 1., 1.,\n",
       "       1., 1., 1., 1., 1., 1., 1., 1., 1., 1., 1., 1., 1., 1., 1., 1., 1.,\n",
       "       1., 1., 1., 1., 1., 1., 1., 1., 1., 1., 1., 1., 1., 1., 1., 1., 1.,\n",
       "       1., 1., 1., 1., 1., 1., 1., 1., 1., 1., 1., 1., 1., 1., 1., 1., 1.,\n",
       "       1., 1., 1., 1., 1., 1., 1., 1., 1., 1., 1., 1., 1., 1., 1., 1., 1.,\n",
       "       1., 1., 1., 1., 1., 1., 1., 1., 1., 1., 1., 1., 1., 1., 1., 1., 1.,\n",
       "       1., 1., 1., 1., 1., 1., 1., 1., 1., 1., 1., 1., 1., 1., 1., 1., 1.,\n",
       "       1., 1., 1., 1., 1., 1., 1., 1., 1., 1., 1., 1., 1., 1., 1., 1., 1.,\n",
       "       1., 1., 1., 1., 1., 1., 1., 1., 1., 1., 1., 1., 1., 1., 1., 1., 1.,\n",
       "       1., 1., 1., 1., 1., 1., 1., 1., 1., 1., 1., 1., 1., 1., 1., 1., 1.,\n",
       "       1., 1., 1., 1., 1., 1., 1., 1., 1., 1., 1., 1., 1., 1., 1., 1., 1.,\n",
       "       1., 1., 1., 1., 1., 1., 1., 1., 1., 1., 1., 1., 1., 1., 1., 1., 1.,\n",
       "       1., 1., 1., 1., 1., 1., 1., 1., 1., 1., 1., 1., 1., 1., 1., 1., 1.,\n",
       "       1., 1., 1., 1., 1., 1., 1., 1., 1., 1., 1., 1., 1., 1., 1., 1., 1.,\n",
       "       1., 1., 1., 1., 1., 1., 1., 1., 1., 1., 1., 1., 1., 1., 1., 1., 1.,\n",
       "       1., 1., 1., 1., 1., 1., 1., 1., 1., 1., 1., 1., 1., 1., 1., 1., 1.,\n",
       "       1., 1., 1., 1., 1., 1., 1., 1., 1., 1., 1., 1., 1., 1., 1., 1., 1.,\n",
       "       1., 1., 1., 1., 1., 1., 1., 1., 1., 1., 1., 1., 1., 1., 1., 1., 1.,\n",
       "       1., 1., 1., 1., 1., 1., 1., 1., 1., 1., 1., 1., 1., 1., 1., 1., 1.,\n",
       "       1., 1., 1., 1., 1., 1., 1., 1., 1., 1., 1., 1., 1., 1., 1., 1., 1.,\n",
       "       1., 1., 1., 1., 1., 1., 1., 1., 1., 1., 1., 1., 1., 1., 1., 1., 1.,\n",
       "       1., 1., 1., 1., 1., 1., 1., 1., 1., 1., 1., 1., 1., 1., 1., 1., 1.,\n",
       "       1., 1., 1., 1., 1., 1., 1., 1., 1., 1., 1., 1., 1., 1., 1., 1.])"
      ]
     },
     "execution_count": 12,
     "metadata": {},
     "output_type": "execute_result"
    }
   ],
   "source": [
    "psi_bc@coef"
   ]
  },
  {
   "cell_type": "code",
   "execution_count": 13,
   "metadata": {},
   "outputs": [
    {
     "data": {
      "text/plain": [
       "array([ 7.89748663e-01,  1.03709135e+00,  9.82312115e-01,  9.63574518e-01,\n",
       "        1.04863582e+00,  1.02090800e+00,  1.03049204e+00,  1.10277033e+00,\n",
       "        9.01767496e-01,  9.92099533e-01,  1.01537973e+00,  1.01180950e+00,\n",
       "        3.07953542e+00,  3.50996838e-01,  9.06407622e-01,  1.11983011e+00,\n",
       "        5.01473938e-01,  5.34870309e-01,  6.63077385e-01, -4.55489432e-01,\n",
       "        1.75769655e+00,  7.64862863e-01,  8.48242465e-01,  6.69933716e-01,\n",
       "       -8.30430977e+00,  3.99974269e+00,  1.43717601e+00,  3.27348143e-01,\n",
       "        3.32284445e+00,  3.05923033e+00,  2.76155100e+00,  8.67058419e+00,\n",
       "       -2.72019905e+00,  2.33466329e+00,  1.64478022e+00,  2.13983662e+00,\n",
       "        2.51025347e+01, -7.77131357e+00, -8.74236240e-01,  2.61922908e+00,\n",
       "       -5.42294651e+00, -4.94838641e+00, -4.80330261e+00, -2.45922485e+01,\n",
       "        1.13644065e+01, -4.12248630e+00, -4.95094235e-01, -1.12573581e+00,\n",
       "       -3.64152413e+01,  1.72933441e+01,  6.10755495e+00, -1.12675148e+00,\n",
       "        1.22015604e+01,  1.22053898e+01,  1.45231883e+01,  5.90600633e+01,\n",
       "       -1.75020515e+01,  1.34527599e+01,  2.58497659e+00,  1.38511797e+00,\n",
       "        2.96264074e+01, -1.78605620e+01, -9.22769046e+00,  6.85779052e-01,\n",
       "       -1.05129988e+01, -1.37958174e+01, -2.27995414e+01, -9.27077805e+01,\n",
       "        2.07183927e+01, -1.93512366e+01,  2.35866627e+00,  8.00493175e+00,\n",
       "        9.05095198e+00,  1.00968961e+01,  1.55155704e+01,  7.34500447e+00,\n",
       "        4.79164862e+00,  1.51465890e+01,  3.39383479e+01,  1.08497156e+02,\n",
       "       -7.16856504e+00,  2.18194932e+01, -7.50619388e+00, -1.61810217e+01,\n",
       "       -3.63829291e+01,  1.03796945e+01, -1.28258196e+01, -1.05396132e+01,\n",
       "        7.09455942e+00, -1.07303874e+01, -3.51021166e+01, -8.44776870e+01,\n",
       "       -6.67917884e+00, -8.83148153e+00,  1.82844954e+01,  1.95622747e+01,\n",
       "        1.52374184e+01, -2.02306914e+01,  6.91196245e+00,  9.04355464e+00,\n",
       "       -4.48150733e+00,  1.19094721e+01,  2.97205447e+01,  4.72181636e+01,\n",
       "        9.85741406e+00, -2.96780582e+00, -2.18943032e+01, -3.08786677e+00,\n",
       "        4.61203653e+01,  1.61064318e+01,  5.98314861e+00,  5.36728420e+00,\n",
       "       -8.12511841e+00, -8.07205475e+00, -7.65315827e+00, -2.32632547e+01,\n",
       "        9.55267981e+00,  6.41861379e+00,  2.44121888e+01, -1.31562667e+01,\n",
       "       -6.35894764e+01,  1.33846005e+00, -1.02182422e+01, -1.30560881e+01,\n",
       "        2.43463907e+01,  1.26263806e+00, -1.72060278e+01,  2.76524182e+01,\n",
       "       -2.30634805e+01,  6.83048761e+00, -2.03651821e+01,  1.48950081e+01,\n",
       "        1.61466351e+01, -6.29035416e+00,  1.01796027e+01,  1.04152143e+01,\n",
       "       -2.00381646e+01,  1.09790216e+01,  3.60649889e+01, -2.63277019e+01,\n",
       "        2.12625354e+01, -1.14785303e+01,  2.02914833e+01,  6.31472728e+00,\n",
       "        2.97561805e+01,  3.30742951e+00, -3.27223328e+00,  5.21778756e+00,\n",
       "        7.20974215e+00, -4.63653412e+00, -2.57741190e+01,  1.05120253e+01,\n",
       "       -9.58163399e+00,  5.41365628e+00, -1.60613531e+01, -1.52599075e+01,\n",
       "        1.29299571e+00,  1.04826070e+00,  4.60937566e+00, -1.04587943e+01,\n",
       "        3.53565662e+00, -1.55203343e+01,  1.87678838e+00,  1.07784926e+01,\n",
       "        1.74217227e+01,  4.84171255e+00,  1.59598162e+01,  2.61168124e+00,\n",
       "       -4.46029499e+01,  1.00356428e+01, -6.24111158e+00,  9.58161486e+00,\n",
       "        1.89639633e+00,  3.42592535e+01,  1.50694622e+01, -1.27663940e+01,\n",
       "       -2.82076935e+01,  3.83430005e+00, -1.35312095e+01,  1.69441388e+01,\n",
       "        1.27863971e+01, -1.88811931e+01,  9.58906417e+00, -5.89477017e+00,\n",
       "       -1.45069915e+00, -2.13184540e+01, -1.07535502e+00,  1.33731664e+01,\n",
       "        2.39358854e+01, -1.32352800e+01,  1.49466070e+01, -4.50458205e+00,\n",
       "        6.97420306e+01,  2.02372970e+01, -4.24879090e+00,  9.87109333e+00,\n",
       "       -7.24178687e+00, -4.50409938e+00, -1.66486491e+01, -1.41447456e+01,\n",
       "       -2.64762359e-02,  1.31677578e+01, -8.31120656e+00, -2.25243819e+01,\n",
       "       -7.30065444e+01, -9.01986056e+00,  2.35958233e+00,  8.57630550e-03,\n",
       "        2.08529085e+01,  1.88498546e+01,  1.80166494e+01,  9.26946106e+00,\n",
       "       -6.84289280e+00, -2.42171907e+00,  5.24125975e+00,  3.26887117e+01,\n",
       "       -9.75533192e+00,  6.02054011e+00,  9.41879656e-01, -1.98791495e+01,\n",
       "       -1.43133444e+01, -2.48887676e+00,  1.16305311e+00,  1.17863721e+01,\n",
       "        6.59992073e-02,  6.10497562e+00, -7.77739813e+00, -6.32173755e+00,\n",
       "        6.57033600e+01, -7.64253711e+00, -8.00789711e-01,  3.57259484e+01,\n",
       "       -1.49885954e+00, -1.65582679e+01, -4.39482647e+00, -1.31457446e+01,\n",
       "        1.54079181e+00, -8.42400821e+00,  2.27818466e+01, -1.80200570e+01,\n",
       "       -2.00844905e+01,  1.28050291e+01,  6.52303601e+00, -2.06793228e+01,\n",
       "        1.40046077e+01,  2.51200865e+01, -8.66723483e+00, -6.89893704e+00,\n",
       "        1.71728400e+01, -2.95262700e+00, -2.42486595e+01,  2.15431500e+01,\n",
       "       -4.05696432e+01, -5.69921594e+00, -5.33763205e+00, -2.39654994e+00,\n",
       "       -3.27774465e+00, -1.60271697e+01,  2.24105882e+01,  1.88941636e+01,\n",
       "       -2.12093307e+01,  2.45899498e+01,  8.46043629e+00, -6.58250751e+00,\n",
       "        4.40559112e+01, -1.20681303e+00,  2.15390757e+00,  1.17480609e+01,\n",
       "       -1.14641150e+01,  7.89215206e+00, -1.13815834e+01,  4.05367350e+00,\n",
       "        5.61818402e+00, -1.63184083e+01,  1.85246740e+01,  2.53985281e+00,\n",
       "       -1.93541740e+01,  4.40738327e+00,  4.44535633e+00,  2.17202922e+00,\n",
       "        1.86534869e+01,  1.98723195e+00, -2.46402659e+00, -8.09232212e+00,\n",
       "        1.21603307e+01, -1.12280993e+01, -2.61387598e+01, -1.84341633e+00,\n",
       "        3.80456833e+01,  6.17336388e+00,  2.69656807e-02, -6.95239441e+00,\n",
       "       -6.13572230e+00, -3.77606484e+00,  6.50653058e+00, -3.37062721e+01,\n",
       "       -5.39128611e+00,  2.46854971e+01,  1.99527706e+01,  8.04859482e-01,\n",
       "       -6.80430145e+01, -1.16882753e+01, -3.44189331e+00, -1.60171709e-01,\n",
       "       -3.59197296e+00,  2.18052499e+00,  4.67911581e+00,  7.50117992e+01,\n",
       "       -8.16324796e-01, -6.16590282e-01, -6.14084136e+00,  6.91902604e+00,\n",
       "        6.04701876e+01,  1.01624805e+01,  5.09032120e+00,  1.03468459e+01,\n",
       "        5.18222801e+00,  7.87446071e+00, -7.99444916e+00, -3.85020810e+01,\n",
       "       -1.19944513e+00, -1.70808725e+01, -9.43704364e-01, -2.85448500e+00,\n",
       "       -2.00858005e+01,  1.35864052e+00,  1.54301841e+00, -2.59285826e+00,\n",
       "        4.99250478e+00, -7.98243468e+00,  9.71569633e+00, -3.64295926e+01,\n",
       "        4.65175896e-01,  5.27554538e+00,  1.32200959e+01, -5.01475449e+00,\n",
       "        7.27733903e+00, -3.79416462e+00, -3.42873910e-01, -4.19481214e+00,\n",
       "       -4.75151760e+00, -8.73978108e-02, -1.10441276e+01,  6.59890491e+01,\n",
       "        2.82062867e+01,  2.23254478e+01, -1.92412895e+01,  1.28281364e+01,\n",
       "       -1.47536285e+01,  5.13603476e+00, -1.56635325e+00,  2.14524858e+00,\n",
       "       -1.66986196e+00,  1.67435396e+01,  1.98487110e+01, -2.82409902e+01,\n",
       "       -5.23540739e+01, -1.92029292e+01,  1.65032236e+01, -5.93392809e+00,\n",
       "        6.50215008e+00, -8.11654445e+00,  4.11795601e+00,  1.27269453e+01,\n",
       "        1.13506612e+01, -2.15762066e+01, -1.76328323e+01,  4.25948957e+00,\n",
       "        4.25135997e+01, -6.01713092e+00,  3.45450522e-01, -3.13191624e+00,\n",
       "        3.67092242e+01,  2.27925741e+01,  3.05867408e+00, -1.68865869e+01,\n",
       "       -6.62940372e+00,  1.78698462e+01,  8.90602854e+00, -2.23592726e+01,\n",
       "        4.06973874e+00,  2.77042267e+01, -4.67298538e+00,  1.42589918e+01,\n",
       "       -6.95637351e+01, -2.90511013e+01, -4.43469129e+00,  1.27663196e+01,\n",
       "       -7.19665485e-01, -3.31436674e+00,  4.99174880e+00,  3.82681277e+01,\n",
       "       -3.69017083e+01, -2.04126663e+01, -6.66088236e+00, -1.61577438e+01,\n",
       "        7.01068222e+01,  2.41911224e+01,  1.50615169e+00, -1.10022875e+00,\n",
       "        8.36707122e+00, -6.08950535e+00, -6.64722163e+00,  5.32113302e+00,\n",
       "        3.69596603e+01,  5.90678034e+00,  3.03744513e+01,  1.71675735e+01,\n",
       "       -4.08336205e+01, -5.56296767e+00,  9.42555644e+00, -1.64066752e+00,\n",
       "       -4.55650175e+00,  1.34441536e+01,  4.83542997e+00, -7.18457690e+01,\n",
       "       -1.02037438e+01,  4.79136633e+00, -3.91839131e+01, -1.12086694e+01,\n",
       "        1.66728146e+01, -5.54239473e+00, -1.21468948e+01,  3.02859661e+00,\n",
       "        1.82162282e+00, -1.08032970e+01,  1.77180607e+00,  1.07097330e+02,\n",
       "       -7.69913234e+00, -1.53211413e+00,  3.50453560e+01,  8.19287668e+00,\n",
       "       -1.97627308e+00,  1.04829771e+01,  1.19427047e+01,  6.91391449e-01,\n",
       "        2.82246239e+00,  8.77006027e+00, -1.32013709e+00, -8.58188377e+01,\n",
       "        1.36712917e+01,  5.29547672e-02, -1.88334682e+01, -2.23679900e+00,\n",
       "        9.12252764e-01, -5.15042879e+00, -4.91083259e+00,  5.71707442e-01,\n",
       "       -7.40104032e-01, -2.73354293e+00,  2.60414342e+00,  4.70528935e+01,\n",
       "       -6.77954102e+00,  2.78854468e+00,  9.07515284e+00,  1.98543746e+00,\n",
       "        1.14510690e+00,  3.33000891e+00,  3.03456362e+00,  1.26189527e+00,\n",
       "        1.78383055e+00,  2.20083691e+00,  3.90053817e-01, -1.49950033e+01,\n",
       "        3.76750168e+00, -2.32741660e-02, -1.22290716e+00,  7.78797710e-01,\n",
       "        9.89665138e-01,  4.52460376e-01,  5.44896052e-01,  8.95524366e-01,\n",
       "        8.08021554e-01,  7.26032712e-01,  1.13074960e+00,  4.31221717e+00,\n",
       "        3.96755169e-01,  1.25036479e+00,  1.37421167e+00,  9.96162728e-01,\n",
       "        9.96864642e-01,  1.03034216e+00,  1.01916519e+00,  9.86973773e-01,\n",
       "        1.02027470e+00,  1.00179506e+00,  9.87383941e-01,  6.55399216e-01,\n",
       "        1.03192801e+00,  9.45949657e-01,  9.70340067e-01,  9.77359211e-01])"
      ]
     },
     "execution_count": 13,
     "metadata": {},
     "output_type": "execute_result"
    }
   ],
   "source": [
    "coef"
   ]
  },
  {
   "cell_type": "code",
   "execution_count": 14,
   "metadata": {},
   "outputs": [],
   "source": [
    "def slice_batch(i: int, feat: dict):\n",
    "    return {\n",
    "        k: feat[k][i:i+1] if k in BATCH_FEATURE_NAMES else feat[k] for k in feat\n",
    "    }\n",
    "\n",
    "rng = hk.PRNGSequence(jax.random.PRNGKey(42))"
   ]
  },
  {
   "cell_type": "code",
   "execution_count": 15,
   "metadata": {},
   "outputs": [],
   "source": [
    "config = get_config()\n",
    "config = config.experiment_kwargs.config\n",
    "# config.model.green_function.scattering.res_block_depth = 2"
   ]
  },
  {
   "cell_type": "code",
   "execution_count": 16,
   "metadata": {},
   "outputs": [
    {
     "data": {
      "text/plain": [
       "attenuation:\n",
       "  attention:\n",
       "    key_chunk_size: 128\n",
       "    key_dim: 32\n",
       "    num_head: 2\n",
       "    output_dim: 2\n",
       "    value_dim: null\n",
       "  latent_dim: 128\n",
       "  num_layer: 4\n",
       "  output_dim: 16\n",
       "scattering:\n",
       "  latent_dim: 16\n",
       "  num_layer: 2"
      ]
     },
     "execution_count": 16,
     "metadata": {},
     "output_type": "execute_result"
    }
   ],
   "source": [
    "config.model.green_function"
   ]
  },
  {
   "cell_type": "code",
   "execution_count": 17,
   "metadata": {},
   "outputs": [],
   "source": [
    "# config.model.green_function.attenuation.output_dim = 32\n",
    "# config.model.green_function.scattering.latent_dim = 32"
   ]
  },
  {
   "cell_type": "code",
   "execution_count": 18,
   "metadata": {},
   "outputs": [],
   "source": [
    "source_dir = \"/workspaces/deeprte/rte_data/matlab/eval-data/scattering-kernel\"\n",
    "data_name_list = [\"test_bc1_fixedvar_scattering_kernel.mat\"]\n",
    "\n",
    "# source_dir = \"/workspaces/deeprte/rte_data/matlab/train-scattering-kernel\"\n",
    "# data_name_list = [\"test_random_kernel_scale5.mat\"]\n",
    "\n",
    "PARAMS_FILE = \"/workspaces/deeprte/ckpts/train_scattering_kernel_2023-02-16T14:04:06/models/latest/step_1200000_2023-02-19T22:37:17/params.npz\"\n",
    "CONFIG_PATH = \"/workspaces/deeprte/ckpts/train_scattering_kernel_2023-02-16T14:04:06/config.json\""
   ]
  },
  {
   "cell_type": "code",
   "execution_count": 19,
   "metadata": {},
   "outputs": [
    {
     "data": {
      "text/plain": [
       "({'boundary': (10, 1968),\n",
       "  'boundary_coords': (1968, 4),\n",
       "  'boundary_weights': (1968,),\n",
       "  'phase_coords': (40344, 4),\n",
       "  'position_coords': (1681, 2),\n",
       "  'psi_label': (10, 40344),\n",
       "  'scattering_kernel': (10, 40344, 24),\n",
       "  'self_scattering_kernel': (10, 24, 24),\n",
       "  'sigma': (10, 1681, 2),\n",
       "  'velocity_coords': (24, 2),\n",
       "  'velocity_weights': (24,)},\n",
       " {})"
      ]
     },
     "execution_count": 19,
     "metadata": {},
     "output_type": "execute_result"
    }
   ],
   "source": [
    "tf_data = load_tf_data(source_dir, data_name_list, normalization=False)\n",
    "features = jax.tree_map(lambda x: np.array(x), tf_data)\n",
    "jax.tree_util.tree_map(lambda x: x.shape, features)"
   ]
  },
  {
   "cell_type": "code",
   "execution_count": 20,
   "metadata": {},
   "outputs": [],
   "source": [
    "data_feature = features[0]"
   ]
  },
  {
   "cell_type": "code",
   "execution_count": 21,
   "metadata": {},
   "outputs": [
    {
     "data": {
      "text/plain": [
       "{'boundary': (1, 1968),\n",
       " 'boundary_coords': (1968, 4),\n",
       " 'boundary_weights': (1968,),\n",
       " 'phase_coords': (40344, 4),\n",
       " 'position_coords': (1681, 2),\n",
       " 'psi_label': (1, 40344),\n",
       " 'scattering_kernel': (1, 40344, 24),\n",
       " 'self_scattering_kernel': (1, 24, 24),\n",
       " 'sigma': (1, 1681, 2),\n",
       " 'velocity_coords': (24, 2),\n",
       " 'velocity_weights': (24,)}"
      ]
     },
     "execution_count": 21,
     "metadata": {},
     "output_type": "execute_result"
    }
   ],
   "source": [
    "idx = 0\n",
    "batch = slice_batch(idx, data_feature)\n",
    "jax.tree_util.tree_map(lambda x: x.shape, batch)"
   ]
  },
  {
   "cell_type": "code",
   "execution_count": 22,
   "metadata": {},
   "outputs": [
    {
     "name": "stderr",
     "output_type": "stream",
     "text": [
      "/tmp/ipykernel_3057897/4259819679.py:6: LinAlgWarning: Ill-conditioned matrix (rcond=4.92974e-20): result may not be accurate.\n",
      "  coef = linalg.solve(psi_bc, psiL)\n"
     ]
    }
   ],
   "source": [
    "num = psi_bc.shape[0]\n",
    "psiL = batch[\"boundary\"][0][:num]\n",
    "psi_bc = psi_bc.reshape(num,-1)\n",
    "\n",
    "coef = linalg.solve(psi_bc, psiL)"
   ]
  },
  {
   "cell_type": "code",
   "execution_count": 23,
   "metadata": {},
   "outputs": [],
   "source": [
    "psi_bc = np.concatenate([psi_bc,np.zeros((num, batch[\"boundary\"].shape[1]-num))],axis=1)"
   ]
  },
  {
   "cell_type": "code",
   "execution_count": 24,
   "metadata": {},
   "outputs": [
    {
     "data": {
      "text/plain": [
       "(492, 1968)"
      ]
     },
     "execution_count": 24,
     "metadata": {},
     "output_type": "execute_result"
    }
   ],
   "source": [
    "psi_bc.shape"
   ]
  },
  {
   "cell_type": "code",
   "execution_count": 25,
   "metadata": {},
   "outputs": [],
   "source": [
    "with open(CONFIG_PATH,'r',encoding='utf8') as fp:\n",
    "    json_data = json.load(fp)"
   ]
  },
  {
   "cell_type": "code",
   "execution_count": 26,
   "metadata": {},
   "outputs": [],
   "source": [
    "normalization_dict = json_data[\"experiment_kwargs\"][\"config\"][\"model\"][\"data\"][\"normalization_dict\"]"
   ]
  },
  {
   "cell_type": "code",
   "execution_count": 27,
   "metadata": {},
   "outputs": [
    {
     "data": {
      "text/plain": [
       "{'deeprte/green_function/attenuation/attention_v2/key': {'b': (64,),\n",
       "  'w': (2, 64)},\n",
       " 'deeprte/green_function/attenuation/attention_v2/output_projection': {'b': (2,),\n",
       "  'w': (64, 2)},\n",
       " 'deeprte/green_function/attenuation/attention_v2/query': {'b': (64,),\n",
       "  'w': (4, 64)},\n",
       " 'deeprte/green_function/attenuation/attention_v2/value': {'b': (64,),\n",
       "  'w': (2, 64)},\n",
       " 'deeprte/green_function/attenuation/attenuation_linear': {'b': (128,),\n",
       "  'w': (10, 128)},\n",
       " 'deeprte/green_function/attenuation/attenuation_linear_1': {'b': (128,),\n",
       "  'w': (128, 128)},\n",
       " 'deeprte/green_function/attenuation/attenuation_linear_2': {'b': (128,),\n",
       "  'w': (128, 128)},\n",
       " 'deeprte/green_function/attenuation/output_projection': {'b': (16,),\n",
       "  'w': (128, 16)},\n",
       " 'deeprte/green_function/output_projection': {'w': (16, 1)},\n",
       " 'deeprte/green_function/scattering_module/__layer_stack_no_per_layer/scattering_layer/linear': {'b': (2,\n",
       "   16),\n",
       "  'w': (2, 16, 16)}}"
      ]
     },
     "execution_count": 27,
     "metadata": {},
     "output_type": "execute_result"
    }
   ],
   "source": [
    "np_params = np.load(PARAMS_FILE)\n",
    "params = flat_params_to_haiku(np_params)\n",
    "jax.tree_util.tree_map(lambda x: x.shape, params)"
   ]
  },
  {
   "cell_type": "code",
   "execution_count": 28,
   "metadata": {},
   "outputs": [],
   "source": [
    "dev_num = 2\n",
    "params_dev = jax.tree_map(lambda x: np.stack([x for i in range(dev_num)]), params)"
   ]
  },
  {
   "cell_type": "code",
   "execution_count": 29,
   "metadata": {},
   "outputs": [
    {
     "data": {
      "text/plain": [
       "{'deeprte/green_function/attenuation/attention_v2/key': {'b': (2, 64),\n",
       "  'w': (2, 2, 64)},\n",
       " 'deeprte/green_function/attenuation/attention_v2/output_projection': {'b': (2,\n",
       "   2),\n",
       "  'w': (2, 64, 2)},\n",
       " 'deeprte/green_function/attenuation/attention_v2/query': {'b': (2, 64),\n",
       "  'w': (2, 4, 64)},\n",
       " 'deeprte/green_function/attenuation/attention_v2/value': {'b': (2, 64),\n",
       "  'w': (2, 2, 64)},\n",
       " 'deeprte/green_function/attenuation/attenuation_linear': {'b': (2, 128),\n",
       "  'w': (2, 10, 128)},\n",
       " 'deeprte/green_function/attenuation/attenuation_linear_1': {'b': (2, 128),\n",
       "  'w': (2, 128, 128)},\n",
       " 'deeprte/green_function/attenuation/attenuation_linear_2': {'b': (2, 128),\n",
       "  'w': (2, 128, 128)},\n",
       " 'deeprte/green_function/attenuation/output_projection': {'b': (2, 16),\n",
       "  'w': (2, 128, 16)},\n",
       " 'deeprte/green_function/output_projection': {'w': (2, 16, 1)},\n",
       " 'deeprte/green_function/scattering_module/__layer_stack_no_per_layer/scattering_layer/linear': {'b': (2,\n",
       "   2,\n",
       "   16),\n",
       "  'w': (2, 2, 16, 16)}}"
      ]
     },
     "execution_count": 29,
     "metadata": {},
     "output_type": "execute_result"
    }
   ],
   "source": [
    "jax.tree_util.tree_map(lambda x: x.shape, params_dev)"
   ]
  },
  {
   "cell_type": "code",
   "execution_count": 30,
   "metadata": {},
   "outputs": [],
   "source": [
    "def forward_fn(batch, is_training):\n",
    "    out = DeepRTE(config.model)(batch, is_training=is_training, compute_loss=True, compute_metrics=False)\n",
    "    return out\n",
    "\n",
    "forward = hk.transform(forward_fn)\n",
    "apply = jax.pmap(functools.partial(forward.apply, is_training = False))\n",
    "# init = jax.jit(functools.partial(forward.init, is_training = True))"
   ]
  },
  {
   "cell_type": "code",
   "execution_count": 31,
   "metadata": {},
   "outputs": [],
   "source": [
    "phi_label = jnp.dot(batch[\"psi_label\"].reshape(41,41,24),batch[\"velocity_weights\"])"
   ]
  },
  {
   "cell_type": "code",
   "execution_count": 32,
   "metadata": {},
   "outputs": [
    {
     "data": {
      "text/plain": [
       "{'boundary': (1, 1968),\n",
       " 'boundary_coords': (1968, 4),\n",
       " 'boundary_weights': (1968,),\n",
       " 'phase_coords': (40344, 4),\n",
       " 'position_coords': (1681, 2),\n",
       " 'psi_label': (1, 40344),\n",
       " 'scattering_kernel': (1, 40344, 24),\n",
       " 'self_scattering_kernel': (1, 24, 24),\n",
       " 'sigma': (1, 1681, 2),\n",
       " 'velocity_coords': (24, 2),\n",
       " 'velocity_weights': (24,)}"
      ]
     },
     "execution_count": 32,
     "metadata": {},
     "output_type": "execute_result"
    }
   ],
   "source": [
    "jax.tree_map(lambda x: x.shape, batch)"
   ]
  },
  {
   "cell_type": "code",
   "execution_count": 33,
   "metadata": {},
   "outputs": [
    {
     "data": {
      "text/plain": [
       "(492, 1968)"
      ]
     },
     "execution_count": 33,
     "metadata": {},
     "output_type": "execute_result"
    }
   ],
   "source": [
    "psi_bc.shape"
   ]
  },
  {
   "cell_type": "code",
   "execution_count": 34,
   "metadata": {},
   "outputs": [],
   "source": [
    "batch_num = coef.shape[0]\n",
    "eval_batch = {\n",
    "        k: np.repeat(batch[k],batch_num, axis=0)  if k in BATCH_FEATURE_NAMES else batch[k] for k in batch\n",
    "    }\n",
    "eval_batch[\"boundary\"] = psi_bc"
   ]
  },
  {
   "cell_type": "code",
   "execution_count": 35,
   "metadata": {},
   "outputs": [
    {
     "data": {
      "text/plain": [
       "{'boundary': dtype('float64'),\n",
       " 'boundary_coords': dtype('float32'),\n",
       " 'boundary_weights': dtype('float32'),\n",
       " 'phase_coords': dtype('float32'),\n",
       " 'position_coords': dtype('float32'),\n",
       " 'psi_label': dtype('float32'),\n",
       " 'scattering_kernel': dtype('float32'),\n",
       " 'self_scattering_kernel': dtype('float32'),\n",
       " 'sigma': dtype('float32'),\n",
       " 'velocity_coords': dtype('float32'),\n",
       " 'velocity_weights': dtype('float32')}"
      ]
     },
     "execution_count": 35,
     "metadata": {},
     "output_type": "execute_result"
    }
   ],
   "source": [
    "jax.tree_map(lambda x: x.dtype, eval_batch)"
   ]
  },
  {
   "cell_type": "code",
   "execution_count": 36,
   "metadata": {},
   "outputs": [],
   "source": [
    "def split_subbatch(feat):\n",
    "    # print(*(feat[\"boundary\"].shape[1:]))\n",
    "    if feat.shape[0] == num:\n",
    "        return feat.reshape(-1, dev_num, 1, *feat.shape[1:])\n",
    "    else:\n",
    "        return feat"
   ]
  },
  {
   "cell_type": "code",
   "execution_count": 37,
   "metadata": {},
   "outputs": [
    {
     "data": {
      "text/plain": [
       "2"
      ]
     },
     "execution_count": 37,
     "metadata": {},
     "output_type": "execute_result"
    }
   ],
   "source": [
    "dev_num"
   ]
  },
  {
   "cell_type": "code",
   "execution_count": 38,
   "metadata": {},
   "outputs": [],
   "source": [
    "_eval_batch = jax.tree_util.tree_map(split_subbatch, eval_batch)"
   ]
  },
  {
   "cell_type": "code",
   "execution_count": 39,
   "metadata": {},
   "outputs": [
    {
     "data": {
      "text/plain": [
       "{'boundary': (246, 2, 1, 1968),\n",
       " 'boundary_coords': (1968, 4),\n",
       " 'boundary_weights': (1968,),\n",
       " 'phase_coords': (40344, 4),\n",
       " 'position_coords': (1681, 2),\n",
       " 'psi_label': (246, 2, 1, 40344),\n",
       " 'scattering_kernel': (246, 2, 1, 40344, 24),\n",
       " 'self_scattering_kernel': (246, 2, 1, 24, 24),\n",
       " 'sigma': (246, 2, 1, 1681, 2),\n",
       " 'velocity_coords': (24, 2),\n",
       " 'velocity_weights': (24,)}"
      ]
     },
     "execution_count": 39,
     "metadata": {},
     "output_type": "execute_result"
    }
   ],
   "source": [
    "jax.tree_util.tree_map(lambda x: x.shape, _eval_batch)"
   ]
  },
  {
   "cell_type": "code",
   "execution_count": 40,
   "metadata": {},
   "outputs": [],
   "source": [
    "from jaxline import utils as jl_utils\n",
    "import tensorflow as tf"
   ]
  },
  {
   "cell_type": "code",
   "execution_count": 41,
   "metadata": {},
   "outputs": [],
   "source": [
    "# _batch = jax.tree_util.tree_map(lambda x: x[0] if x.shape[0] == num/dev_num else np.stack([x for i in range(dev_num)]), _eval_batch)"
   ]
  },
  {
   "cell_type": "code",
   "execution_count": 42,
   "metadata": {},
   "outputs": [],
   "source": [
    "# r = next(rng)"
   ]
  },
  {
   "cell_type": "code",
   "execution_count": 43,
   "metadata": {},
   "outputs": [],
   "source": [
    "# _, ret = apply(params_dev, jl_utils.bcast_local_devices(next(rng)), _batch)"
   ]
  },
  {
   "cell_type": "code",
   "execution_count": 44,
   "metadata": {},
   "outputs": [],
   "source": [
    "psi = []\n",
    "for i in range(int(num/dev_num)):\n",
    "    _batch = jax.tree_util.tree_map(lambda x: x[i] if x.shape[0] == num/dev_num else np.stack([x for _ in range(dev_num)]), _eval_batch)\n",
    "    _, ret = apply(params_dev, jl_utils.bcast_local_devices(next(rng)), _batch)\n",
    "    psi.append(ret[\"predicted_solution\"])\n",
    "psi = np.stack(psi)"
   ]
  },
  {
   "cell_type": "code",
   "execution_count": 45,
   "metadata": {},
   "outputs": [],
   "source": [
    "# psi = 0\n",
    "# for i, a in enumerate(coef):\n",
    "#     batch[\"boundary\"] = batch[\"boundary\"].at[0].set(psi_bc[i])\n",
    "#     _, ret = apply(params, next(rng), batch)\n",
    "#     psi += ret[\"predicted_solution\"].reshape(41,41,24)*coef[i]"
   ]
  },
  {
   "cell_type": "code",
   "execution_count": 46,
   "metadata": {},
   "outputs": [],
   "source": [
    "predicted_solution = psi.reshape(-1,41,41,24)"
   ]
  },
  {
   "cell_type": "code",
   "execution_count": 47,
   "metadata": {},
   "outputs": [
    {
     "data": {
      "text/plain": [
       "(492, 41, 41, 24)"
      ]
     },
     "execution_count": 47,
     "metadata": {},
     "output_type": "execute_result"
    }
   ],
   "source": [
    "predicted_solution.shape"
   ]
  },
  {
   "cell_type": "code",
   "execution_count": 48,
   "metadata": {},
   "outputs": [],
   "source": [
    "# predicted_solution = ret[\"predicted_solution\"].reshape(-1,41,41,24)\n",
    "psi = jnp.einsum(\"ijkl,i->jkl\", predicted_solution, coef)"
   ]
  },
  {
   "cell_type": "code",
   "execution_count": 49,
   "metadata": {},
   "outputs": [
    {
     "data": {
      "text/plain": [
       "(41, 41, 24)"
      ]
     },
     "execution_count": 49,
     "metadata": {},
     "output_type": "execute_result"
    }
   ],
   "source": [
    "psi.shape"
   ]
  },
  {
   "cell_type": "code",
   "execution_count": 50,
   "metadata": {},
   "outputs": [
    {
     "name": "stdout",
     "output_type": "stream",
     "text": [
      "0.79748124 0\n"
     ]
    }
   ],
   "source": [
    "phi_pre = jnp.dot(psi.reshape(41,41,24),batch[\"velocity_weights\"])\n",
    "print(jnp.sqrt(jnp.mean((phi_label - phi_pre)**2)/jnp.mean(phi_label**2)), idx)"
   ]
  },
  {
   "cell_type": "code",
   "execution_count": 51,
   "metadata": {},
   "outputs": [
    {
     "data": {
      "image/png": "[encoded data removed]",
      "text/plain": [
       "<Figure size 2000x600 with 6 Axes>"
      ]
     },
     "metadata": {},
     "output_type": "display_data"
    },
    {
     "name": "stdout",
     "output_type": "stream",
     "text": [
      "0.7974813\n"
     ]
    }
   ],
   "source": [
    "import matplotlib.pyplot as plt\n",
    "# import plotly.express as px\n",
    "import matplotlib as mpl\n",
    "from matplotlib.colors import ListedColormap, LinearSegmentedColormap\n",
    "\n",
    "viridis = mpl.colormaps['viridis'](np.linspace(0, 1.2, 128))\n",
    "r = batch['position_coords'].reshape(41,41,2)\n",
    "\n",
    "\n",
    "fig, _axs = plt.subplots(nrows=1, ncols=3, figsize=(20, 6) )\n",
    "fig.subplots_adjust(hspace=0.3)\n",
    "axs = _axs.flatten()\n",
    "\n",
    "# fig = px.density_contour(phi_label)\n",
    "# fig.show()\n",
    "\n",
    "cs_1 = axs[0].contourf(\n",
    "    r[..., 0],\n",
    "    r[..., 1],\n",
    "    phi_label,\n",
    "    cmap = ListedColormap(viridis)\n",
    ")\n",
    "axs[0].set_title(r\"Exact $f(x,v)$\", fontsize=20)\n",
    "axs[0].tick_params(axis='both', labelsize=15)\n",
    "cbar = fig.colorbar(cs_1)\n",
    "cbar.ax.tick_params(labelsize=16) \n",
    "\n",
    "\n",
    "# fig = px.density_contour(phi_pre)\n",
    "cs_2 = axs[1].contourf(\n",
    "    r[..., 0],\n",
    "    r[..., 1],\n",
    "    phi_pre,\n",
    "        cmap = ListedColormap(viridis)\n",
    ")\n",
    "axs[1].set_title(r\"Predict $f(x,v)$\", fontsize=20)\n",
    "axs[1].tick_params(axis='both', labelsize=15)\n",
    "cbar = fig.colorbar(cs_2)\n",
    "cbar.ax.tick_params(labelsize=16) \n",
    "\n",
    "cs_3 = axs[2].contourf(\n",
    "    r[..., 0],\n",
    "    r[..., 1],\n",
    "    abs(phi_pre-phi_label),\n",
    "    cmap = ListedColormap(viridis)\n",
    ")\n",
    "axs[2].set_title(r\"Absolute error\", fontsize=20)\n",
    "axs[2].tick_params(axis='both', labelsize=15)\n",
    "cbar = fig.colorbar(cs_3)\n",
    "cbar.ax.tick_params(labelsize=16) \n",
    "\n",
    "plt.tight_layout()\n",
    "\n",
    "plt.show()\n",
    "print(np.sqrt(np.mean((phi_label - phi_pre)**2)/np.mean(phi_label**2)))"
   ]
  },
  {
   "cell_type": "code",
   "execution_count": null,
   "metadata": {},
   "outputs": [],
   "source": []
  },
  {
   "cell_type": "markdown",
   "metadata": {},
   "source": []
  }
 ],
 "metadata": {
  "kernelspec": {
   "display_name": "Python 3",
   "language": "python",
   "name": "python3"
  },
  "language_info": {
   "codemirror_mode": {
    "name": "ipython",
    "version": 3
   },
   "file_extension": ".py",
   "mimetype": "text/x-python",
   "name": "python",
   "nbconvert_exporter": "python",
   "pygments_lexer": "ipython3",
   "version": "3.10.8"
  },
  "orig_nbformat": 4,
  "vscode": {
   "interpreter": {
    "hash": "949777d72b0d2535278d3dc13498b2535136f6dfe0678499012e853ee9abcab1"
   }
  }
 },
 "nbformat": 4,
 "nbformat_minor": 2
}

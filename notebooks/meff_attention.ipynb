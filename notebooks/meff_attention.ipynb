{
 "cells": [
  {
   "attachments": {},
   "cell_type": "markdown",
   "metadata": {},
   "source": [
    "# Import Package"
   ]
  },
  {
   "cell_type": "code",
   "execution_count": 1,
   "metadata": {},
   "outputs": [],
   "source": [
    "import os\n",
    "os.environ[\"CUDA_VISIBLE_DEVICES\"] = '1'\n",
    "import haiku as hk\n",
    "import jax\n",
    "import jax.numpy as jnp\n",
    "from deeprte.model.modules import Attention,Attention_v2\n",
    "from deeprte.model.config import CONFIG"
   ]
  },
  {
   "cell_type": "code",
   "execution_count": 3,
   "metadata": {},
   "outputs": [],
   "source": [
    "c = CONFIG.green_function.attenuation.attention\n",
    "gc = CONFIG.global_config"
   ]
  },
  {
   "attachments": {},
   "cell_type": "markdown",
   "metadata": {},
   "source": [
    "# Define hk module"
   ]
  },
  {
   "cell_type": "code",
   "execution_count": 18,
   "metadata": {},
   "outputs": [],
   "source": [
    "def forward_v1(*arg):\n",
    "    out = Attention(c, gc)(*arg)\n",
    "    return out\n",
    "attn_v1 = hk.transform(forward_v1)\n",
    "\n",
    "def forward_v2(*arg):\n",
    "    out = Attention_v2(c, gc)(*arg)\n",
    "    return out\n",
    "attn_v2 = hk.transform(forward_v2)"
   ]
  },
  {
   "cell_type": "code",
   "execution_count": 19,
   "metadata": {},
   "outputs": [],
   "source": [
    "rng = hk.PRNGSequence(jax.random.PRNGKey(42))"
   ]
  },
  {
   "attachments": {},
   "cell_type": "markdown",
   "metadata": {},
   "source": [
    "# Generate Q, K, V"
   ]
  },
  {
   "cell_type": "code",
   "execution_count": 20,
   "metadata": {},
   "outputs": [],
   "source": [
    "q_dim = 2\n",
    "num_seq = 4000\n",
    "k_dim = 3\n",
    "v_dim = 3\n",
    "\n",
    "q = jax.random.uniform(next(rng), [q_dim,])\n",
    "k = jax.random.uniform(next(rng), [num_seq, k_dim])\n",
    "v = jax.random.uniform(next(rng), [num_seq, v_dim])\n",
    "\n",
    "mask = jax.random.randint(next(rng), [1, num_seq,], 0, 2)"
   ]
  },
  {
   "attachments": {},
   "cell_type": "markdown",
   "metadata": {},
   "source": [
    "# Init params"
   ]
  },
  {
   "cell_type": "code",
   "execution_count": 21,
   "metadata": {},
   "outputs": [
    {
     "data": {
      "text/plain": [
       "{'attention/key': {'b': (64,), 'w': (3, 64)},\n",
       " 'attention/output_projection': {'b': (64,), 'w': (64, 64)},\n",
       " 'attention/query': {'b': (64,), 'w': (2, 64)},\n",
       " 'attention/value': {'b': (64,), 'w': (3, 64)}}"
      ]
     },
     "execution_count": 21,
     "metadata": {},
     "output_type": "execute_result"
    }
   ],
   "source": [
    "params = attn_v1.init(next(rng), q, k, v, mask)\n",
    "jax.tree_util.tree_map(lambda x: x.shape, params_1)"
   ]
  },
  {
   "attachments": {},
   "cell_type": "markdown",
   "metadata": {},
   "source": [
    "# Compare output"
   ]
  },
  {
   "cell_type": "code",
   "execution_count": 27,
   "metadata": {},
   "outputs": [],
   "source": [
    "logits_v2 = attn_v2.apply(params, next(rng), q, k ,v, mask)\n",
    "logits_v1 = attn_v1.apply(params, next(rng), q, k ,v, mask)"
   ]
  },
  {
   "cell_type": "code",
   "execution_count": 26,
   "metadata": {},
   "outputs": [
    {
     "data": {
      "text/plain": [
       "DeviceArray(False, dtype=bool)"
      ]
     },
     "execution_count": 26,
     "metadata": {},
     "output_type": "execute_result"
    }
   ],
   "source": [
    "jnp.allclose(logits_v2, logits_v1)"
   ]
  },
  {
   "cell_type": "code",
   "execution_count": 35,
   "metadata": {},
   "outputs": [
    {
     "data": {
      "text/plain": [
       "DeviceArray(0.00295489, dtype=float32)"
      ]
     },
     "execution_count": 35,
     "metadata": {},
     "output_type": "execute_result"
    }
   ],
   "source": [
    "jnp.sqrt(jnp.mean((logits_v2-logits_v1)**2)/jnp.mean(logits_v1**2))"
   ]
  }
 ],
 "metadata": {
  "kernelspec": {
   "display_name": "Python 3",
   "language": "python",
   "name": "python3"
  },
  "language_info": {
   "codemirror_mode": {
    "name": "ipython",
    "version": 3
   },
   "file_extension": ".py",
   "mimetype": "text/x-python",
   "name": "python",
   "nbconvert_exporter": "python",
   "pygments_lexer": "ipython3",
   "version": "3.10.8"
  },
  "orig_nbformat": 4,
  "vscode": {
   "interpreter": {
    "hash": "949777d72b0d2535278d3dc13498b2535136f6dfe0678499012e853ee9abcab1"
   }
  }
 },
 "nbformat": 4,
 "nbformat_minor": 2
}

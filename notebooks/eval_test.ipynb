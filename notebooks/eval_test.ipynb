{
 "cells": [
  {
   "cell_type": "code",
   "execution_count": 1,
   "metadata": {},
   "outputs": [
    {
     "name": "stderr",
     "output_type": "stream",
     "text": [
      "/usr/local/lib/python3.10/site-packages/tqdm/auto.py:22: TqdmWarning: IProgress not found. Please update jupyter and ipywidgets. See https://ipywidgets.readthedocs.io/en/stable/user_install.html\n",
      "  from .autonotebook import tqdm as notebook_tqdm\n"
     ]
    }
   ],
   "source": [
    "import numpy as np\n",
    "\n",
    "from deeprte.utils import flat_dict_to_rte_data\n",
    "from deeprte.model.config import CONFIG\n",
    "from deeprte.model.rte import RTEOperator\n",
    "from deeprte.model.data import flat_params_to_haiku\n",
    "from deeprte.model.modules import FunctionInputs\n"
   ]
  },
  {
   "cell_type": "code",
   "execution_count": 2,
   "metadata": {},
   "outputs": [],
   "source": [
    "PARAMS_FILE = \"../data/experiments/square_full_1_2022-02-09T00:04:32/models/latest/step_500000_2022-02-10T08:51:07/params.npz\"\n",
    "DATA_FILE = \"../data/train/square_full_1.npz\"\n",
    "\n",
    "np_params = np.load(PARAMS_FILE)\n",
    "params = flat_params_to_haiku(np_params)\n",
    "\n",
    "np_data = np.load(DATA_FILE)\n",
    "rte_data = flat_dict_to_rte_data(np_data)\n",
    "data, grid = rte_data[\"data\"], rte_data[\"grid\"]\n",
    "\n",
    "sigma_t, sigma_a, psi_raw = data[\"sigma_t\"], data[\"sigma_a\"], data[\"psi_bc\"]\n",
    "sigma_raw = np.stack([sigma_a, sigma_t], axis=-1)\n",
    "r, v, w_angle, rv_prime, w_prime = grid[\"r\"], grid[\"v\"], grid[\"w_angle\"], grid[\"rv_prime\"], grid[\"w_prime\"]"
   ]
  },
  {
   "cell_type": "code",
   "execution_count": 3,
   "metadata": {},
   "outputs": [],
   "source": [
    "solution = RTEOperator(CONFIG.rte_operator, use_jit=True)"
   ]
  },
  {
   "cell_type": "code",
   "execution_count": 6,
   "metadata": {},
   "outputs": [],
   "source": [
    "sigma = FunctionInputs(x=r.reshape(-1, 2), f=sigma_raw[0:1].reshape(1, -1, 2))\n",
    "psi_bc = FunctionInputs(x=rv_prime.reshape(-1, 4), f=psi_raw[0:1].reshape(1, -1) * w_prime.flatten())\n",
    "out, state = solution.vrho(params, None, 0, r.reshape(-1, 2), sigma, psi_bc, [v, w_angle])"
   ]
  }
 ],
 "metadata": {
  "kernelspec": {
   "display_name": "Python 3.10.7 64-bit",
   "language": "python",
   "name": "python3"
  },
  "language_info": {
   "codemirror_mode": {
    "name": "ipython",
    "version": 3
   },
   "file_extension": ".py",
   "mimetype": "text/x-python",
   "name": "python",
   "nbconvert_exporter": "python",
   "pygments_lexer": "ipython3",
   "version": "3.10.7"
  },
  "orig_nbformat": 4,
  "vscode": {
   "interpreter": {
    "hash": "949777d72b0d2535278d3dc13498b2535136f6dfe0678499012e853ee9abcab1"
   }
  }
 },
 "nbformat": 4,
 "nbformat_minor": 2
}

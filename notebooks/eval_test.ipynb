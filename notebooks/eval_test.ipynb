{
 "cells": [
  {
   "cell_type": "code",
   "execution_count": 27,
   "metadata": {},
   "outputs": [],
   "source": [
    "import numpy as np\n",
    "import jax.numpy as jnp\n",
    "import jax\n",
    "import os\n",
    "os.environ[\"CUDA_VISIBLE_DEVICES\"] = '1'\n",
    "\n",
    "import haiku as hk\n",
    "import functools\n",
    "from deeprte.config import get_config\n",
    "from deeprte.model.modules_v2 import DeepRTE\n",
    "from deeprte.model.tf.input_pipeline import load_tf_data\n",
    "from deeprte.model.data import flat_params_to_haiku\n",
    "\n",
    "from deeprte.model.tf.rte_features import _BATCH_FEATURE_NAMES"
   ]
  },
  {
   "cell_type": "code",
   "execution_count": 12,
   "metadata": {},
   "outputs": [],
   "source": [
    "def slice_batch(i: int, feat: dict):\n",
    "    return {\n",
    "        k: feat[k][i:i+1] if k in _BATCH_FEATURE_NAMES else feat[k] for k in feat\n",
    "    }\n",
    "\n",
    "rng = hk.PRNGSequence(jax.random.PRNGKey(42))"
   ]
  },
  {
   "cell_type": "code",
   "execution_count": 13,
   "metadata": {},
   "outputs": [],
   "source": [
    "config = get_config()\n",
    "config = config.experiment_kwargs.config\n",
    "config.model.model_structure.green_function.scattering_module.res_block_depth = 2"
   ]
  },
  {
   "cell_type": "code",
   "execution_count": 14,
   "metadata": {},
   "outputs": [],
   "source": [
    "source_dir = \"/workspaces/deeprte/rte_data/rte_data/matlab/eval-data/delta/\"\n",
    "data_name_list = [\"test_bc_1.mat\"]\n",
    "\n",
    "PARAMS_FILE = \"/workspaces/deeprte/ckpts/train_delta_2022-11-15T17:50:42/models/latest/step_1000000_2022-11-17T05:40:43/params.npz\""
   ]
  },
  {
   "cell_type": "code",
   "execution_count": 15,
   "metadata": {},
   "outputs": [
    {
     "data": {
      "text/plain": [
       "{'boundary': (10, 1920),\n",
       " 'boundary_coords': (1920, 4),\n",
       " 'boundary_weights': (1920,),\n",
       " 'phase_coords': (38400, 4),\n",
       " 'position_coords': (1600, 2),\n",
       " 'psi_label': (10, 38400),\n",
       " 'scattering_kernel': (10, 38400, 24),\n",
       " 'self_scattering_kernel': (10, 24, 24),\n",
       " 'sigma': (10, 1600, 2),\n",
       " 'velocity_coords': (24, 2),\n",
       " 'velocity_weights': (24,)}"
      ]
     },
     "execution_count": 15,
     "metadata": {},
     "output_type": "execute_result"
    }
   ],
   "source": [
    "tf_data = load_tf_data(source_dir, data_name_list)\n",
    "features = jax.tree_map(lambda x: jnp.array(x), tf_data)\n",
    "jax.tree_util.tree_map(lambda x: x.shape, features)"
   ]
  },
  {
   "cell_type": "code",
   "execution_count": 32,
   "metadata": {},
   "outputs": [
    {
     "data": {
      "text/plain": [
       "{'green_function/coefficient_net/attention_net/linear': {'bias': (64,),\n",
       "  'weights': (6, 64)},\n",
       " 'green_function/coefficient_net/attention_net/linear_1': {'bias': (1,),\n",
       "  'weights': (64, 1)},\n",
       " 'green_function/green_function_mlp/linear': {'bias': (128,),\n",
       "  'weights': (10, 128)},\n",
       " 'green_function/green_function_mlp/linear_1': {'bias': (128,),\n",
       "  'weights': (128, 128)},\n",
       " 'green_function/green_function_mlp/linear_2': {'bias': (128,),\n",
       "  'weights': (128, 128)},\n",
       " 'green_function/green_function_mlp/linear_3': {'bias': (128,),\n",
       "  'weights': (128, 128)},\n",
       " 'green_function/green_function_mlp/linear_4': {'bias': (1,),\n",
       "  'weights': (128, 1)}}"
      ]
     },
     "execution_count": 32,
     "metadata": {},
     "output_type": "execute_result"
    }
   ],
   "source": [
    "np_params = np.load(PARAMS_FILE)\n",
    "params = flat_params_to_haiku(np_params)\n",
    "jax.tree_util.tree_map(lambda x: x.shape, params)"
   ]
  },
  {
   "cell_type": "code",
   "execution_count": 28,
   "metadata": {},
   "outputs": [],
   "source": [
    "def forward_fn(batch, is_training):\n",
    "    out = DeepRTE(config.model.model_structure, config.model.global_config)(batch, is_training=is_training, compute_loss=True, compute_metrics=False)\n",
    "    return out\n",
    "\n",
    "forward = hk.transform(forward_fn)\n",
    "apply = jax.jit(functools.partial(forward.apply, is_training = False))\n",
    "init = jax.jit(functools.partial(forward.init, is_training = True))"
   ]
  },
  {
   "cell_type": "code",
   "execution_count": 29,
   "metadata": {},
   "outputs": [],
   "source": [
    "idx = 0"
   ]
  },
  {
   "cell_type": "code",
   "execution_count": 30,
   "metadata": {},
   "outputs": [
    {
     "data": {
      "text/plain": [
       "{'boundary': (1, 1920),\n",
       " 'boundary_coords': (1920, 4),\n",
       " 'boundary_weights': (1920,),\n",
       " 'phase_coords': (38400, 4),\n",
       " 'position_coords': (1600, 2),\n",
       " 'psi_label': (1, 38400),\n",
       " 'scattering_kernel': (1, 38400, 24),\n",
       " 'self_scattering_kernel': (1, 24, 24),\n",
       " 'sigma': (1, 1600, 2),\n",
       " 'velocity_coords': (24, 2),\n",
       " 'velocity_weights': (24,)}"
      ]
     },
     "execution_count": 30,
     "metadata": {},
     "output_type": "execute_result"
    }
   ],
   "source": [
    "batch = slice_batch(idx, features)\n",
    "jax.tree_util.tree_map(lambda x: x.shape, batch)"
   ]
  },
  {
   "cell_type": "code",
   "execution_count": 37,
   "metadata": {},
   "outputs": [],
   "source": [
    "# _params = init(next(rng), batch)\n",
    "# jax.tree_util.tree_map(lambda x: x.shape, _params)"
   ]
  },
  {
   "cell_type": "code",
   "execution_count": null,
   "metadata": {},
   "outputs": [],
   "source": [
    "phi_pre = apply(params, next(rng), batch)\n",
    "phi_label = jnp.dot(batch[\"psi_label\"],batch[\"velocity_weights\"])\n",
    "print(jnp.sqrt(jnp.mean((phi_label - phi_pre)**2)/jnp.mean(phi_label**2)), idx)"
   ]
  },
  {
   "cell_type": "code",
   "execution_count": null,
   "metadata": {},
   "outputs": [],
   "source": [
    "import matplotlib.pyplot as plt\n",
    "import plotly.express as px\n",
    "import matplotlib as mpl\n",
    "from matplotlib.colors import ListedColormap, LinearSegmentedColormap\n",
    "\n",
    "viridis = mpl.colormaps['viridis'](np.linspace(0, 1.2, 128))\n",
    "r = batch['phase_coords']\n",
    "\n",
    "\n",
    "fig, _axs = plt.subplots(nrows=1, ncols=3, figsize=(20, 6) )\n",
    "fig.subplots_adjust(hspace=0.3)\n",
    "axs = _axs.flatten()\n",
    "\n",
    "# fig = px.density_contour(phi_label)\n",
    "# fig.show()\n",
    "\n",
    "cs_1 = axs[0].contourf(\n",
    "    r[..., 0],\n",
    "    r[..., 1],\n",
    "    phi_label,\n",
    "    cmap = ListedColormap(viridis)\n",
    ")\n",
    "axs[0].set_title(r\"Exact $f(x,v)$\", fontsize=20)\n",
    "axs[0].tick_params(axis='both', labelsize=15)\n",
    "cbar = fig.colorbar(cs_1)\n",
    "cbar.ax.tick_params(labelsize=16) \n",
    "\n",
    "\n",
    "# fig = px.density_contour(phi_pre)\n",
    "cs_2 = axs[1].contourf(\n",
    "    r[..., 0],\n",
    "    r[..., 1],\n",
    "    phi_pre,\n",
    "        cmap = ListedColormap(viridis)\n",
    ")\n",
    "axs[1].set_title(r\"Predict $f(x,v)$\", fontsize=20)\n",
    "axs[1].tick_params(axis='both', labelsize=15)\n",
    "cbar = fig.colorbar(cs_2)\n",
    "cbar.ax.tick_params(labelsize=16) \n",
    "\n",
    "cs_3 = axs[2].contourf(\n",
    "    r[..., 0],\n",
    "    r[..., 1],\n",
    "    abs(phi_pre-phi_label),\n",
    "    cmap = ListedColormap(viridis)\n",
    ")\n",
    "axs[2].set_title(r\"Absolute error\", fontsize=20)\n",
    "axs[2].tick_params(axis='both', labelsize=15)\n",
    "cbar = fig.colorbar(cs_3)\n",
    "cbar.ax.tick_params(labelsize=16) \n",
    "\n",
    "plt.tight_layout()\n",
    "\n",
    "plt.show()\n",
    "print(np.sqrt(np.mean((phi_label - phi_pre)**2)/np.mean(phi_label**2)))"
   ]
  },
  {
   "cell_type": "code",
   "execution_count": null,
   "metadata": {},
   "outputs": [],
   "source": []
  },
  {
   "cell_type": "code",
   "execution_count": null,
   "metadata": {},
   "outputs": [],
   "source": []
  }
 ],
 "metadata": {
  "kernelspec": {
   "display_name": "Python 3",
   "language": "python",
   "name": "python3"
  },
  "language_info": {
   "codemirror_mode": {
    "name": "ipython",
    "version": 3
   },
   "file_extension": ".py",
   "mimetype": "text/x-python",
   "name": "python",
   "nbconvert_exporter": "python",
   "pygments_lexer": "ipython3",
   "version": "3.10.8"
  },
  "orig_nbformat": 4,
  "vscode": {
   "interpreter": {
    "hash": "949777d72b0d2535278d3dc13498b2535136f6dfe0678499012e853ee9abcab1"
   }
  }
 },
 "nbformat": 4,
 "nbformat_minor": 2
}

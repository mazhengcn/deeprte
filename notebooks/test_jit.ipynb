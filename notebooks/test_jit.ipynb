{
 "cells": [
  {
   "cell_type": "code",
   "execution_count": 1,
   "metadata": {},
   "outputs": [],
   "source": [
    "import jax"
   ]
  },
  {
   "cell_type": "code",
   "execution_count": 15,
   "metadata": {},
   "outputs": [],
   "source": [
    "from functools import partial\n",
    "\n",
    "def unjitted_loop_body(prev_i, i):\n",
    "  return prev_i + 1 + i"
   ]
  },
  {
   "cell_type": "code",
   "execution_count": 19,
   "metadata": {},
   "outputs": [
    {
     "name": "stdout",
     "output_type": "stream",
     "text": [
      "jit called in a loop with partials:\n",
      "79.1 ms ± 1.32 ms per loop (mean ± std. dev. of 7 runs, 10 loops each)\n",
      "jit called in a loop with lambdas:\n",
      "79.3 ms ± 1.06 ms per loop (mean ± std. dev. of 7 runs, 10 loops each)\n",
      "jit called in a loop with caching:\n",
      "79.1 ms ± 1.83 ms per loop (mean ± std. dev. of 7 runs, 10 loops each)\n"
     ]
    }
   ],
   "source": [
    "def g_inner_jitted_partial(x, n):\n",
    "  i = 0\n",
    "  while i < n:\n",
    "    # Don't do this! each time the partial returns\n",
    "    # a function with different hash\n",
    "    i = jax.jit(partial(unjitted_loop_body, i=9))(i)\n",
    "  return x + i\n",
    "\n",
    "def g_inner_jitted_lambda(x, n):\n",
    "  i = 0\n",
    "  while i < n:\n",
    "    # Don't do this!, lambda will also return\n",
    "    # a function with a different hash\n",
    "    i = jax.jit(lambda x: unjitted_loop_body(x, i=9))(i)\n",
    "  return x + i\n",
    "\n",
    "def g_inner_jitted_normal(x, n):\n",
    "  i = 0\n",
    "  while i < n:\n",
    "    # this is OK, since JAX can find the\n",
    "    # cached, compiled function\n",
    "    func = partial(unjitted_loop_body, i=9)\n",
    "    i = jax.jit(func)(i)\n",
    "  return x + i\n",
    "\n",
    "print(\"jit called in a loop with partials:\")\n",
    "%timeit -n 10 g_inner_jitted_partial(10, 20).block_until_ready()\n",
    "\n",
    "# print(\"jit called in a loop with lambdas:\")\n",
    "# %timeit -n 10 g_inner_jitted_lambda(10, 20).block_until_ready()\n",
    "\n",
    "print(\"jit called in a loop with caching:\")\n",
    "%timeit -n 10 g_inner_jitted_normal(10, 20).block_until_ready()"
   ]
  },
  {
   "cell_type": "code",
   "execution_count": 28,
   "metadata": {},
   "outputs": [],
   "source": [
    "from typing import Optional\n",
    "import jax.numpy as jnp\n",
    "import haiku as hk\n",
    "\n",
    "class MyToyModel(hk.Module):\n",
    "    def __init__(self, name: str | None = None, is_training: bool = False):\n",
    "        super().__init__(name=name)\n",
    "        self.is_training = is_training\n",
    "    def __call__(self, x: jnp.ndarray) -> jnp.ndarray:\n",
    "        if self.is_training:\n",
    "            x = hk.dropout(hk.next_rng_key(), 0.2, x)\n",
    "            return hk.Linear(100)(x)\n",
    "        else:\n",
    "            return hk.Linear(1000)(x)"
   ]
  },
  {
   "cell_type": "code",
   "execution_count": null,
   "metadata": {},
   "outputs": [],
   "source": []
  }
 ],
 "metadata": {
  "kernelspec": {
   "display_name": "venv",
   "language": "python",
   "name": "python3"
  },
  "language_info": {
   "codemirror_mode": {
    "name": "ipython",
    "version": 3
   },
   "file_extension": ".py",
   "mimetype": "text/x-python",
   "name": "python",
   "nbconvert_exporter": "python",
   "pygments_lexer": "ipython3",
   "version": "3.11.3"
  },
  "orig_nbformat": 4
 },
 "nbformat": 4,
 "nbformat_minor": 2
}

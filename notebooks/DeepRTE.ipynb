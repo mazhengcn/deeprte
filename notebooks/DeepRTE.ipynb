{
 "cells": [
  {
   "attachments": {},
   "cell_type": "markdown",
   "metadata": {},
   "source": [
    "## Setup\n",
    "\n",
    "The cell below downloads the code from Github and install necessary dependencies."
   ]
  },
  {
   "cell_type": "code",
   "execution_count": null,
   "metadata": {},
   "outputs": [],
   "source": [
    "# ![ -d deeprte] || git clone --depth=1 https://github.com/mazhengcn/deeprte.git\n",
    "# !cd deeprte && git pull\n",
    "# !pip install -e \".[dev]\""
   ]
  },
  {
   "attachments": {},
   "cell_type": "markdown",
   "metadata": {},
   "source": [
    "### Import Packages"
   ]
  },
  {
   "cell_type": "code",
   "execution_count": null,
   "metadata": {},
   "outputs": [],
   "source": [
    "import os\n",
    "os.environ[\"CUDA_VISIBLE_DEVICES\"] = \"4,5,6,7\"\n",
    "\n",
    "%load_ext autoreload\n",
    "%autoreload 2\n",
    "\n",
    "import json\n",
    "import os\n",
    "import time\n",
    "from typing import Any\n",
    "\n",
    "import jax\n",
    "import jax.numpy as jnp\n",
    "import matplotlib\n",
    "import matplotlib.pyplot as plt\n",
    "import ml_collections\n",
    "import numpy as np\n",
    "from absl import logging\n",
    "from matplotlib.colors import ListedColormap\n",
    "\n",
    "from deeprte.data import pipeline\n",
    "from deeprte.model import model\n",
    "from deeprte.model.data import flat_params_to_haiku\n",
    "\n",
    "logging.set_verbosity(logging.INFO)\n",
    "\n",
    "jax.local_devices()"
   ]
  },
  {
   "attachments": {},
   "cell_type": "markdown",
   "metadata": {},
   "source": [
    "### Utility functions"
   ]
  },
  {
   "cell_type": "code",
   "execution_count": null,
   "metadata": {},
   "outputs": [],
   "source": [
    "def rmse(pred, target):\n",
    "    return np.sqrt(np.mean((pred - target) ** 2) / np.mean(target**2))\n",
    "\n",
    "\n",
    "def get_normalization_ratio(psi_range, boundary_range):\n",
    "    psi_range = float(psi_range.split(\" \")[-1])\n",
    "    boundary_range = float(boundary_range.split(\" \")[-1])\n",
    "    return psi_range / boundary_range\n",
    "\n",
    "\n",
    "def jnp_to_np(output: dict[str, Any]) -> dict[str, Any]:\n",
    "    \"\"\"Recursively changes jax arrays to numpy arrays.\"\"\"\n",
    "    for k, v in output.items():\n",
    "        if isinstance(v, dict):\n",
    "            output[k] = jnp_to_np(v)\n",
    "        elif isinstance(v, jnp.ndarray):\n",
    "            output[k] = np.array(v)\n",
    "    return output\n",
    "\n",
    "\n",
    "def plot_phi(r, phi_pre, phi_label):\n",
    "    fig, _axs = plt.subplots(nrows=1, ncols=3, figsize=(20, 6))\n",
    "    fig.subplots_adjust(hspace=0.3)\n",
    "    axs = _axs.flatten()\n",
    "\n",
    "    viridis = matplotlib.colormaps[\"viridis\"](np.linspace(0, 1.2, 128))\n",
    "    cs_1 = axs[0].contourf(\n",
    "        r[..., 0], r[..., 1], phi_label, cmap=ListedColormap(viridis)\n",
    "    )\n",
    "    axs[0].set_title(r\"Exact $f(x,v)$\", fontsize=20)\n",
    "    axs[0].tick_params(axis=\"both\", labelsize=15)\n",
    "    cbar = fig.colorbar(cs_1)\n",
    "    cbar.ax.tick_params(labelsize=16)\n",
    "\n",
    "    cs_2 = axs[1].contourf(\n",
    "        r[..., 0], r[..., 1], phi_pre, cmap=ListedColormap(viridis)\n",
    "    )\n",
    "    axs[1].set_title(r\"Predict $f(x,v)$\", fontsize=20)\n",
    "    axs[1].tick_params(axis=\"both\", labelsize=15)\n",
    "    cbar = fig.colorbar(cs_2)\n",
    "    cbar.ax.tick_params(labelsize=16)\n",
    "\n",
    "    cs_3 = axs[2].contourf(\n",
    "        r[..., 0],\n",
    "        r[..., 1],\n",
    "        abs(phi_pre - phi_label),\n",
    "        cmap=ListedColormap(viridis),\n",
    "    )\n",
    "    axs[2].set_title(r\"Absolute error\", fontsize=20)\n",
    "    axs[2].tick_params(axis=\"both\", labelsize=15)\n",
    "    cbar = fig.colorbar(cs_3)\n",
    "    cbar.ax.tick_params(labelsize=16)\n",
    "\n",
    "    plt.tight_layout()"
   ]
  },
  {
   "attachments": {},
   "cell_type": "markdown",
   "metadata": {},
   "source": [
    "## Load Dataset"
   ]
  },
  {
   "cell_type": "code",
   "execution_count": null,
   "metadata": {},
   "outputs": [],
   "source": [
    "# Path to the dataset\n",
    "DATA_DIR = \"/workspaces/deeprte/data/raw_data/eval_data/0311\"\n",
    "DATA_NAME = \"test_random_kernel_0311.mat\"\n",
    "\n",
    "data_pipeline = pipeline.DataPipeline(DATA_DIR, [DATA_NAME])\n",
    "raw_feature_dict = data_pipeline.process()\n",
    "num_examples = raw_feature_dict[\"shape\"][\"num_examples\"]\n",
    "\n",
    "jax.tree_map(lambda x: x.shape, raw_feature_dict[\"functions\"])"
   ]
  },
  {
   "attachments": {},
   "cell_type": "markdown",
   "metadata": {},
   "source": [
    "## Import Pre-trained model"
   ]
  },
  {
   "attachments": {},
   "cell_type": "markdown",
   "metadata": {},
   "source": [
    "#### Load model config"
   ]
  },
  {
   "cell_type": "code",
   "execution_count": null,
   "metadata": {},
   "outputs": [],
   "source": [
    "MODEL_DIR = \"/workspaces/deeprte/ckpts/saved_model\"\n",
    "\n",
    "model_config_path = os.path.join(MODEL_DIR, \"config.json\")\n",
    "with open(model_config_path) as f:\n",
    "    str = f.read()\n",
    "    config = ml_collections.ConfigDict(json.loads(str))\n",
    "model_config = config.experiment_kwargs.config.model\n",
    "\n",
    "model_config"
   ]
  },
  {
   "attachments": {},
   "cell_type": "markdown",
   "metadata": {},
   "source": [
    "#### Load model parameters"
   ]
  },
  {
   "cell_type": "code",
   "execution_count": null,
   "metadata": {},
   "outputs": [],
   "source": [
    "params_path = os.path.join(MODEL_DIR, \"params.npz\")\n",
    "\n",
    "np_params = np.load(params_path, allow_pickle=True)\n",
    "params = flat_params_to_haiku(np_params)\n",
    "\n",
    "jax.tree_map(lambda x: x.shape, params)"
   ]
  },
  {
   "attachments": {},
   "cell_type": "markdown",
   "metadata": {},
   "source": [
    "#### Construct model runner"
   ]
  },
  {
   "cell_type": "code",
   "execution_count": null,
   "metadata": {},
   "outputs": [],
   "source": [
    "model_runner = model.RunModel(model_config, params, multi_devices=True)\n",
    "\n",
    "\n",
    "def get_normalization_ratio(psi_range, boundary_range):\n",
    "    psi_range = float(psi_range.split(\" \")[-1])\n",
    "    boundary_range = float(boundary_range.split(\" \")[-1])\n",
    "    return psi_range / boundary_range\n",
    "\n",
    "\n",
    "if model_config.data.is_normalization:\n",
    "    normalization_dict = model_config.data.normalization_dict\n",
    "    normalization_ratio = get_normalization_ratio(\n",
    "        normalization_dict[\"psi_range\"],\n",
    "        normalization_dict[\"boundary_range\"],\n",
    "    )\n",
    "else:\n",
    "    normalization_ratio = None"
   ]
  },
  {
   "attachments": {},
   "cell_type": "markdown",
   "metadata": {},
   "source": [
    "## Predict and Evaluate"
   ]
  },
  {
   "attachments": {},
   "cell_type": "markdown",
   "metadata": {},
   "source": [
    "#### Predict and Evaluate i-th example in the dataset"
   ]
  },
  {
   "cell_type": "code",
   "execution_count": null,
   "metadata": {},
   "outputs": [],
   "source": [
    "i = 1"
   ]
  },
  {
   "attachments": {},
   "cell_type": "markdown",
   "metadata": {},
   "source": [
    "#### Run prediction"
   ]
  },
  {
   "cell_type": "code",
   "execution_count": null,
   "metadata": {},
   "outputs": [],
   "source": [
    "logging.info(\"Predicting example %d/%d\", i + 1, num_examples)\n",
    "\n",
    "random_seed = 1\n",
    "benchmark = True\n",
    "\n",
    "feature_dict = {\n",
    "    \"functions\": jax.tree_map(\n",
    "        lambda x: x[i : i + 1], raw_feature_dict[\"functions\"]\n",
    "    ),\n",
    "    \"grid\": raw_feature_dict[\"grid\"],\n",
    "    \"shape\": raw_feature_dict[\"shape\"],\n",
    "}\n",
    "\n",
    "# Run the model.\n",
    "logging.info(\"Running model...\")\n",
    "processed_feature_dict = model_runner.process_features(feature_dict)\n",
    "t_0 = time.time()\n",
    "prediction_result = model_runner.predict(\n",
    "    processed_feature_dict, random_seed=random_seed\n",
    ")\n",
    "t_diff = time.time() - t_0\n",
    "logging.info(\n",
    "    \"Total JAX model predict time \"\n",
    "    \"(includes compilation time, see --benchmark): %.1fs\",\n",
    "    t_diff,\n",
    ")\n",
    "\n",
    "if benchmark:\n",
    "    t_0 = time.time()\n",
    "    model_runner.predict(processed_feature_dict, random_seed=random_seed)\n",
    "    t_diff = time.time() - t_0\n",
    "    logging.info(\n",
    "        \"Total JAX model predict time \" \"(excludes compilation time): %.1fs\",\n",
    "        t_diff,\n",
    "    )\n",
    "\n",
    "psi_shape = feature_dict[\"functions\"][\"psi_label\"].shape\n",
    "t_0 = time.time()\n",
    "predicted_psi = (\n",
    "    prediction_result[\"predicted_psi\"]\n",
    "    .reshape(1, -1)  # reshape multi_devices to single device\n",
    "    .reshape(psi_shape)\n",
    ")\n",
    "if normalization_ratio:\n",
    "    predicted_psi = predicted_psi * normalization_ratio\n",
    "\n",
    "predicted_phi = jnp.sum(\n",
    "    predicted_psi * feature_dict[\"grid\"][\"velocity_weights\"],\n",
    "    axis=-1,\n",
    ")\n",
    "t_diff = time.time() - t_0\n",
    "\n",
    "# Remove jax dependency from results.\n",
    "np_prediction_result = jnp_to_np(dict(prediction_result))\n",
    "\n",
    "# Compute metrics.\n",
    "metrics = {}\n",
    "psi_label = feature_dict[\"functions\"][\"psi_label\"]\n",
    "phi_label = np.sum(\n",
    "    psi_label * feature_dict[\"grid\"][\"velocity_weights\"], axis=-1\n",
    ")\n",
    "psi_rmse = rmse(predicted_psi, psi_label)\n",
    "phi_rmse = rmse(predicted_phi, phi_label)\n",
    "logging.info(\"RMSE of psi: %f, RMSE of phi: %f\\n\", psi_rmse, phi_rmse)"
   ]
  },
  {
   "attachments": {},
   "cell_type": "markdown",
   "metadata": {},
   "source": [
    "### Visualize result"
   ]
  },
  {
   "cell_type": "code",
   "execution_count": null,
   "metadata": {},
   "outputs": [],
   "source": [
    "plot_phi(\n",
    "    feature_dict[\"grid\"][\"position_coords\"].reshape(*psi_shape[1:-1], -1),\n",
    "    predicted_phi[0],\n",
    "    phi_label[0],\n",
    ")"
   ]
  }
 ],
 "metadata": {
  "kernelspec": {
   "display_name": "Python 3",
   "language": "python",
   "name": "python3"
  },
  "language_info": {
   "codemirror_mode": {
    "name": "ipython",
    "version": 3
   },
   "file_extension": ".py",
   "mimetype": "text/x-python",
   "name": "python",
   "nbconvert_exporter": "python",
   "pygments_lexer": "ipython3",
   "version": "3.11.3"
  },
  "orig_nbformat": 4,
  "vscode": {
   "interpreter": {
    "hash": "949777d72b0d2535278d3dc13498b2535136f6dfe0678499012e853ee9abcab1"
   }
  }
 },
 "nbformat": 4,
 "nbformat_minor": 2
}

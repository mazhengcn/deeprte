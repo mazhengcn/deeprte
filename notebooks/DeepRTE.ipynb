{
 "cells": [
  {
   "attachments": {},
   "cell_type": "markdown",
   "metadata": {},
   "source": [
    "## Setup\n",
    "\n",
    "The cell below downloads the code from Github and install necessary dependencies."
   ]
  },
  {
   "attachments": {},
   "cell_type": "markdown",
   "metadata": {},
   "source": [
    "### Import Packages"
   ]
  },
  {
   "cell_type": "code",
   "execution_count": null,
   "metadata": {},
   "outputs": [],
   "source": [
    "%load_ext autoreload\n",
    "%autoreload 2\n",
    "\n",
    "import os\n",
    "\n",
    "# os.environ[\"CUDA_VISIBLE_DEVICES\"] = \"0,1,2\"\n"
   ]
  },
  {
   "cell_type": "code",
   "execution_count": null,
   "metadata": {},
   "outputs": [],
   "source": [
    "import json\n",
    "import os\n",
    "import time\n",
    "from typing import Any\n",
    "\n",
    "import jax\n",
    "import jax.numpy as jnp\n",
    "import matplotlib\n",
    "import matplotlib.pyplot as plt\n",
    "import numpy as np\n",
    "from absl import logging\n",
    "from matplotlib.colors import ListedColormap\n",
    "from deeprte.model.engine import RteEngine\n",
    "\n",
    "from deeprte.data import pipeline\n",
    "\n",
    "logging.set_verbosity(logging.INFO)\n",
    "\n",
    "jax.local_devices()"
   ]
  },
  {
   "attachments": {},
   "cell_type": "markdown",
   "metadata": {},
   "source": [
    "### Utility functions"
   ]
  },
  {
   "cell_type": "code",
   "execution_count": null,
   "metadata": {},
   "outputs": [],
   "source": [
    "def rmse(pred, target):\n",
    "    return np.sqrt(np.mean((pred - target) ** 2) / np.mean(target**2))\n",
    "\n",
    "\n",
    "def get_normalization_ratio(psi_range, boundary_range):\n",
    "    psi_range = float(psi_range.split(\" \")[-1])\n",
    "    boundary_range = float(boundary_range.split(\" \")[-1])\n",
    "    return psi_range / boundary_range\n",
    "\n",
    "\n",
    "def jnp_to_np(output: dict[str, Any]) -> dict[str, Any]:\n",
    "    \"\"\"Recursively changes jax arrays to numpy arrays.\"\"\"\n",
    "    for k, v in output.items():\n",
    "        if isinstance(v, dict):\n",
    "            output[k] = jnp_to_np(v)\n",
    "        elif isinstance(v, jnp.ndarray):\n",
    "            output[k] = np.array(v)\n",
    "    return output\n",
    "\n",
    "\n",
    "def plot_phi(r, phi_pre, phi_label):\n",
    "    fig, _axs = plt.subplots(nrows=1, ncols=3, figsize=(20, 6))\n",
    "    fig.subplots_adjust(hspace=0.3)\n",
    "    axs = _axs.flatten()\n",
    "\n",
    "    viridis = matplotlib.colormaps[\"viridis\"](np.linspace(0, 1.2, 128))\n",
    "    cs_1 = axs[0].contourf(\n",
    "        r[..., 0], r[..., 1], phi_label, cmap=ListedColormap(viridis)\n",
    "    )\n",
    "    axs[0].set_title(r\"Exact $f(x,v)$\", fontsize=20)\n",
    "    axs[0].tick_params(axis=\"both\", labelsize=15)\n",
    "    cbar = fig.colorbar(cs_1)\n",
    "    cbar.ax.tick_params(labelsize=16)\n",
    "\n",
    "    cs_2 = axs[1].contourf(r[..., 0], r[..., 1], phi_pre, cmap=ListedColormap(viridis))\n",
    "    axs[1].set_title(r\"Predict $f(x,v)$\", fontsize=20)\n",
    "    axs[1].tick_params(axis=\"both\", labelsize=15)\n",
    "    cbar = fig.colorbar(cs_2)\n",
    "    cbar.ax.tick_params(labelsize=16)\n",
    "\n",
    "    cs_3 = axs[2].contourf(\n",
    "        r[..., 0],\n",
    "        r[..., 1],\n",
    "        abs(phi_pre - phi_label),\n",
    "        cmap=ListedColormap(viridis),\n",
    "    )\n",
    "    axs[2].set_title(r\"Absolute error\", fontsize=20)\n",
    "    axs[2].tick_params(axis=\"both\", labelsize=15)\n",
    "    cbar = fig.colorbar(cs_3)\n",
    "    cbar.ax.tick_params(labelsize=16)\n",
    "\n",
    "    plt.tight_layout()"
   ]
  },
  {
   "attachments": {},
   "cell_type": "markdown",
   "metadata": {},
   "source": [
    "## Load Dataset"
   ]
  },
  {
   "cell_type": "code",
   "execution_count": null,
   "metadata": {},
   "outputs": [],
   "source": [
    "# Path to the dataset\n",
    "DATA_DIR = \"/workspaces/deeprte/data/raw_data/test/bc1-g0.5\"\n",
    "DATA_NAME = [\"bc1-g0.5.mat\"]\n",
    "\n",
    "data_pipeline = pipeline.DataPipeline(DATA_DIR, DATA_NAME)\n",
    "raw_feature_dict = data_pipeline.process()\n",
    "num_examples = raw_feature_dict[\"shape\"][\"num_examples\"]\n",
    "\n",
    "del data_pipeline\n",
    "\n",
    "jax.tree.map(lambda x: x.shape, raw_feature_dict[\"functions\"])"
   ]
  },
  {
   "attachments": {},
   "cell_type": "markdown",
   "metadata": {},
   "source": [
    "## Import Pre-trained model"
   ]
  },
  {
   "attachments": {},
   "cell_type": "markdown",
   "metadata": {},
   "source": [
    "#### Load model config"
   ]
  },
  {
   "cell_type": "code",
   "execution_count": null,
   "metadata": {},
   "outputs": [],
   "source": [
    "import imp\n",
    "\n",
    "MODEL_DIR = \"/workspaces/deeprte/ckpts/g0.5/infer/params\"\n",
    "CONFIG_PATH = \"/workspaces/deeprte/deeprte/configs/default.py\"\n",
    "\n",
    "config_module = imp.load_source(\"config\", CONFIG_PATH)\n",
    "config = config_module.get_config()\n",
    "config.load_parameters_path = MODEL_DIR\n",
    "\n",
    "config"
   ]
  },
  {
   "attachments": {},
   "cell_type": "markdown",
   "metadata": {},
   "source": [
    "#### Load model parameters"
   ]
  },
  {
   "cell_type": "code",
   "execution_count": null,
   "metadata": {},
   "outputs": [],
   "source": [
    "rte_engine = RteEngine(config)"
   ]
  },
  {
   "attachments": {},
   "cell_type": "markdown",
   "metadata": {},
   "source": [
    "#### Construct model runner"
   ]
  },
  {
   "cell_type": "code",
   "execution_count": null,
   "metadata": {},
   "outputs": [],
   "source": [
    "\n",
    "def get_normalization_ratio(psi_range, boundary_range):\n",
    "    psi_range = float(psi_range.split(\" \")[-1])\n",
    "    boundary_range = float(boundary_range.split(\" \")[-1])\n",
    "    return psi_range / boundary_range\n",
    "\n",
    "\n",
    "normalization_dict = {\"psi_min\": \"7.593978e-11\", \"psi_range\": \"0.14345199\", \"boundary_min\": \"0.0\", \"boundary_range\": \"0.19116795\"}\n",
    "normalization_ratio = get_normalization_ratio(\n",
    "    normalization_dict[\"psi_range\"],\n",
    "    normalization_dict[\"boundary_range\"],\n",
    ")\n",
    "\n",
    "normalization_ratio"
   ]
  },
  {
   "attachments": {},
   "cell_type": "markdown",
   "metadata": {},
   "source": [
    "## Predict and Evaluate"
   ]
  },
  {
   "attachments": {},
   "cell_type": "markdown",
   "metadata": {},
   "source": [
    "#### Predict and Evaluate i-th example in the dataset"
   ]
  },
  {
   "cell_type": "code",
   "execution_count": null,
   "metadata": {},
   "outputs": [],
   "source": [
    "# i = 1\n",
    "i = np.random.randint(100)"
   ]
  },
  {
   "attachments": {},
   "cell_type": "markdown",
   "metadata": {},
   "source": [
    "#### Run prediction"
   ]
  },
  {
   "cell_type": "code",
   "execution_count": null,
   "metadata": {},
   "outputs": [],
   "source": [
    "logging.info(\"Predicting example %d/%d\", i + 1, num_examples)\n",
    "\n",
    "benchmark = True\n",
    "\n",
    "feature_dict = {\n",
    "    \"functions\": jax.tree.map(lambda x: x[i : i + 1], raw_feature_dict[\"functions\"]),\n",
    "    \"grid\": raw_feature_dict[\"grid\"],\n",
    "    \"shape\": raw_feature_dict[\"shape\"],\n",
    "}\n",
    "\n",
    "# Run the model.\n",
    "logging.info(\"Running rte engine...\")\n",
    "processed_feature_dict = rte_engine.process_features(feature_dict)\n",
    "\n",
    "\n",
    "t_0 = time.time()\n",
    "prediction = rte_engine.predict(processed_feature_dict)\n",
    "t_diff = time.time() - t_0\n",
    "\n",
    "if benchmark:\n",
    "    t_0 = time.time()\n",
    "    rte_engine.predict(processed_feature_dict)\n",
    "    t_diff = time.time() - t_0\n",
    "    logging.info(\n",
    "        \"Total JAX model predict time \" \"(excludes compilation time): %.6fs\",\n",
    "        t_diff,\n",
    "    )\n",
    "\n",
    "psi_shape = feature_dict[\"functions\"][\"psi_label\"].shape\n",
    "t_0 = time.time()\n",
    "predicted_psi = (\n",
    "    prediction\n",
    "    .reshape(1, -1)  # reshape multi_devices to single device\n",
    "    .reshape(psi_shape)\n",
    ")\n",
    "if normalization_ratio:\n",
    "    predicted_psi = predicted_psi * normalization_ratio\n",
    "\n",
    "predicted_phi = jnp.sum(\n",
    "    predicted_psi * feature_dict[\"grid\"][\"velocity_weights\"],\n",
    "    axis=-1,\n",
    ")\n",
    "t_diff = time.time() - t_0\n",
    "\n",
    "# Compute metrics.\n",
    "metrics = {}\n",
    "psi_label = feature_dict[\"functions\"][\"psi_label\"]\n",
    "phi_label = np.sum(psi_label * feature_dict[\"grid\"][\"velocity_weights\"], axis=-1)\n",
    "psi_rmse = rmse(predicted_psi, psi_label)\n",
    "phi_rmse = rmse(predicted_phi, phi_label)\n",
    "logging.info(\"RMSE of psi: %f, RMSE of phi: %f\\n\", psi_rmse, phi_rmse)"
   ]
  },
  {
   "attachments": {},
   "cell_type": "markdown",
   "metadata": {},
   "source": [
    "### Visualize result"
   ]
  },
  {
   "cell_type": "code",
   "execution_count": null,
   "metadata": {},
   "outputs": [],
   "source": [
    "plot_phi(\n",
    "    feature_dict[\"grid\"][\"position_coords\"].reshape(*psi_shape[1:-1], -1),\n",
    "    predicted_phi[0],\n",
    "    phi_label[0],\n",
    ")"
   ]
  }
 ],
 "metadata": {
  "kernelspec": {
   "display_name": "Python 3",
   "language": "python",
   "name": "python3"
  },
  "language_info": {
   "codemirror_mode": {
    "name": "ipython",
    "version": 3
   },
   "file_extension": ".py",
   "mimetype": "text/x-python",
   "name": "python",
   "nbconvert_exporter": "python",
   "pygments_lexer": "ipython3",
   "version": "3.10.14"
  },
  "orig_nbformat": 4,
  "vscode": {
   "interpreter": {
    "hash": "949777d72b0d2535278d3dc13498b2535136f6dfe0678499012e853ee9abcab1"
   }
  }
 },
 "nbformat": 4,
 "nbformat_minor": 2
}

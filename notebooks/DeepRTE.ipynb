{
 "cells": [
  {
   "attachments": {},
   "cell_type": "markdown",
   "metadata": {},
   "source": [
    "## Setup\n",
    "\n",
    "The cell below downloads the code from Github and install necessary dependencies."
   ]
  },
  {
   "cell_type": "code",
   "execution_count": 1,
   "metadata": {},
   "outputs": [],
   "source": [
    "# !cd .. && pip install -e \".\"\n",
    "# !pip install matplotlib"
   ]
  },
  {
   "attachments": {},
   "cell_type": "markdown",
   "metadata": {},
   "source": [
    "### Import Packages"
   ]
  },
  {
   "cell_type": "code",
   "execution_count": 1,
   "metadata": {},
   "outputs": [
    {
     "data": {
      "text/plain": [
       "[cuda(id=0)]"
      ]
     },
     "execution_count": 1,
     "metadata": {},
     "output_type": "execute_result"
    }
   ],
   "source": [
    "%load_ext autoreload\n",
    "%autoreload 2\n",
    "\n",
    "import os\n",
    "\n",
    "# os.environ[\"CUDA_VISIBLE_DEVICES\"] = \"4,5,6,7\"\n",
    "\n",
    "import json\n",
    "import os\n",
    "import time\n",
    "from typing import Any\n",
    "\n",
    "import jax\n",
    "import jax.numpy as jnp\n",
    "import matplotlib\n",
    "import matplotlib.pyplot as plt\n",
    "import ml_collections\n",
    "import numpy as np\n",
    "from absl import logging\n",
    "from matplotlib.colors import ListedColormap\n",
    "\n",
    "import sys\n",
    "sys.path.append(\"/root/projects/deeprte\")\n",
    "\n",
    "from deeprte.data import pipeline\n",
    "from deeprte.model import model\n",
    "from deeprte.model.utils import flat_params_to_haiku\n",
    "\n",
    "logging.set_verbosity(logging.INFO)\n",
    "\n",
    "jax.local_devices()"
   ]
  },
  {
   "attachments": {},
   "cell_type": "markdown",
   "metadata": {},
   "source": [
    "### Utility functions"
   ]
  },
  {
   "cell_type": "code",
   "execution_count": 2,
   "metadata": {},
   "outputs": [],
   "source": [
    "def rmse(pred, target):\n",
    "    return np.sqrt(np.mean((pred - target) ** 2) / np.mean(target**2))\n",
    "\n",
    "\n",
    "def get_normalization_ratio(psi_range, boundary_range):\n",
    "    psi_range = float(psi_range.split(\" \")[-1])\n",
    "    boundary_range = float(boundary_range.split(\" \")[-1])\n",
    "    return psi_range / boundary_range\n",
    "\n",
    "\n",
    "def jnp_to_np(output: dict[str, Any]) -> dict[str, Any]:\n",
    "    \"\"\"Recursively changes jax arrays to numpy arrays.\"\"\"\n",
    "    for k, v in output.items():\n",
    "        if isinstance(v, dict):\n",
    "            output[k] = jnp_to_np(v)\n",
    "        elif isinstance(v, jnp.ndarray):\n",
    "            output[k] = np.array(v)\n",
    "    return output\n",
    "\n",
    "\n",
    "def plot_phi(r, phi_pre, phi_label):\n",
    "    fig, _axs = plt.subplots(nrows=1, ncols=3, figsize=(20, 6))\n",
    "    fig.subplots_adjust(hspace=0.3)\n",
    "    axs = _axs.flatten()\n",
    "\n",
    "    viridis = matplotlib.colormaps[\"viridis\"](np.linspace(0, 1.2, 128))\n",
    "    cs_1 = axs[0].contourf(\n",
    "        r[..., 0], r[..., 1], phi_label, cmap=ListedColormap(viridis)\n",
    "    )\n",
    "    axs[0].set_title(r\"Exact $f(x,v)$\", fontsize=20)\n",
    "    axs[0].tick_params(axis=\"both\", labelsize=15)\n",
    "    cbar = fig.colorbar(cs_1)\n",
    "    cbar.ax.tick_params(labelsize=16)\n",
    "\n",
    "    cs_2 = axs[1].contourf(r[..., 0], r[..., 1], phi_pre, cmap=ListedColormap(viridis))\n",
    "    axs[1].set_title(r\"Predict $f(x,v)$\", fontsize=20)\n",
    "    axs[1].tick_params(axis=\"both\", labelsize=15)\n",
    "    cbar = fig.colorbar(cs_2)\n",
    "    cbar.ax.tick_params(labelsize=16)\n",
    "\n",
    "    cs_3 = axs[2].contourf(\n",
    "        r[..., 0],\n",
    "        r[..., 1],\n",
    "        abs(phi_pre - phi_label),\n",
    "        cmap=ListedColormap(viridis),\n",
    "    )\n",
    "    axs[2].set_title(r\"Absolute error\", fontsize=20)\n",
    "    axs[2].tick_params(axis=\"both\", labelsize=15)\n",
    "    cbar = fig.colorbar(cs_3)\n",
    "    cbar.ax.tick_params(labelsize=16)\n",
    "\n",
    "    plt.tight_layout()"
   ]
  },
  {
   "attachments": {},
   "cell_type": "markdown",
   "metadata": {},
   "source": [
    "## Load Dataset"
   ]
  },
  {
   "cell_type": "code",
   "execution_count": 7,
   "metadata": {},
   "outputs": [
    {
     "data": {
      "text/plain": [
       "{'boundary': (100, 160, 12),\n",
       " 'boundary_scattering_kernel': (100, 160, 12, 24),\n",
       " 'psi_label': (100, 40, 40, 24),\n",
       " 'scattering_kernel': (100, 40, 40, 24, 24),\n",
       " 'self_scattering_kernel': (100, 24, 24),\n",
       " 'sigma': (100, 20, 20, 2)}"
      ]
     },
     "execution_count": 7,
     "metadata": {},
     "output_type": "execute_result"
    }
   ],
   "source": [
    "# Path to the dataset\n",
    "DATA_DIR = \"/root/projects/deeprte/data/test/bc1-g0.1\"\n",
    "DATA_NAME = [\"bc1-g0.1_downsampling.mat\"]\n",
    "\n",
    "data_pipeline = pipeline.DataPipeline(DATA_DIR, DATA_NAME)\n",
    "raw_feature_dict = data_pipeline.process()\n",
    "num_examples = raw_feature_dict[\"shape\"][\"num_examples\"]\n",
    "\n",
    "del data_pipeline\n",
    "\n",
    "jax.tree_map(lambda x: x.shape, raw_feature_dict[\"functions\"])"
   ]
  },
  {
   "attachments": {},
   "cell_type": "markdown",
   "metadata": {},
   "source": [
    "## Import Pre-trained model"
   ]
  },
  {
   "attachments": {},
   "cell_type": "markdown",
   "metadata": {},
   "source": [
    "#### Load model config"
   ]
  },
  {
   "cell_type": "code",
   "execution_count": 8,
   "metadata": {},
   "outputs": [
    {
     "data": {
      "text/plain": [
       "data:\n",
       "  is_normalization: true\n",
       "  normalization_dict:\n",
       "    boundary_min: '0.0'\n",
       "    boundary_range: '0.19474658'\n",
       "    psi_min: '3.8484396e-10'\n",
       "    psi_range: '0.14552617'\n",
       "global_config:\n",
       "  bc_loss_weights: 1.0\n",
       "  deterministic: true\n",
       "  loss_weights: 5.0\n",
       "  subcollocation_size: 128\n",
       "  w_init: glorot_uniform\n",
       "green_function:\n",
       "  attenuation:\n",
       "    attention:\n",
       "      key_chunk_size: 128\n",
       "      key_dim: 32\n",
       "      num_head: 2\n",
       "      output_dim: 2\n",
       "      value_dim: null\n",
       "    latent_dim: 128\n",
       "    num_layer: 4\n",
       "    output_dim: 16\n",
       "  scattering:\n",
       "    latent_dim: 16\n",
       "    num_layer: 2"
      ]
     },
     "execution_count": 8,
     "metadata": {},
     "output_type": "execute_result"
    }
   ],
   "source": [
    "MODEL_DIR = \"/root/projects/deeprte/data/ckpts/g0.1-sigma_a3-sigma_t6_2023-05-14T18:50:04/models/latest/step_500000_2023-05-23T12:05:36\"\n",
    "\n",
    "model_config_path = os.path.join(MODEL_DIR, \"model.json\")\n",
    "with open(model_config_path) as f:\n",
    "    str = f.read()\n",
    "    model_config = ml_collections.ConfigDict(json.loads(str))\n",
    "\n",
    "model_config"
   ]
  },
  {
   "attachments": {},
   "cell_type": "markdown",
   "metadata": {},
   "source": [
    "#### Load model parameters"
   ]
  },
  {
   "cell_type": "code",
   "execution_count": 9,
   "metadata": {},
   "outputs": [
    {
     "name": "stderr",
     "output_type": "stream",
     "text": [
      "2024-03-06 05:43:44.745098: W external/xla/xla/service/gpu/nvptx_compiler.cc:698] The NVIDIA driver's CUDA version is 12.2 which is older than the ptxas CUDA version (12.3.103). Because the driver is older than the ptxas version, XLA is disabling parallel compilation, which may slow down compilation. You should update your NVIDIA driver or use the NVIDIA-provided CUDA forward compatibility packages.\n"
     ]
    },
    {
     "data": {
      "text/plain": [
       "{'deeprte/green_function/attenuation/attention/key': {'b': (64,),\n",
       "  'w': (2, 64)},\n",
       " 'deeprte/green_function/attenuation/attention/output_projection': {'b': (2,),\n",
       "  'w': (64, 2)},\n",
       " 'deeprte/green_function/attenuation/attention/query': {'b': (64,),\n",
       "  'w': (4, 64)},\n",
       " 'deeprte/green_function/attenuation/attention/value': {'b': (64,),\n",
       "  'w': (2, 64)},\n",
       " 'deeprte/green_function/attenuation/attenuation_linear': {'b': (128,),\n",
       "  'w': (10, 128)},\n",
       " 'deeprte/green_function/attenuation/attenuation_linear_1': {'b': (128,),\n",
       "  'w': (128, 128)},\n",
       " 'deeprte/green_function/attenuation/attenuation_linear_2': {'b': (128,),\n",
       "  'w': (128, 128)},\n",
       " 'deeprte/green_function/attenuation/output_projection': {'b': (16,),\n",
       "  'w': (128, 16)},\n",
       " 'deeprte/green_function/output_projection': {'w': (16, 1)},\n",
       " 'deeprte/green_function/scattering_module/__layer_stack_no_per_layer/layer_norm': {'offset': (2,\n",
       "   16),\n",
       "  'scale': (2, 16)},\n",
       " 'deeprte/green_function/scattering_module/__layer_stack_no_per_layer/scattering_layer/linear': {'b': (2,\n",
       "   16),\n",
       "  'w': (2, 16, 16)}}"
      ]
     },
     "execution_count": 9,
     "metadata": {},
     "output_type": "execute_result"
    }
   ],
   "source": [
    "params_path = os.path.join(MODEL_DIR, \"params.npz\")\n",
    "\n",
    "np_params = np.load(params_path, allow_pickle=True)\n",
    "params = flat_params_to_haiku(np_params)\n",
    "\n",
    "jax.tree_map(lambda x: x.shape, params)"
   ]
  },
  {
   "cell_type": "code",
   "execution_count": 10,
   "metadata": {},
   "outputs": [
    {
     "data": {
      "text/plain": [
       "37954"
      ]
     },
     "execution_count": 10,
     "metadata": {},
     "output_type": "execute_result"
    }
   ],
   "source": [
    "import haiku as hk\n",
    "\n",
    "hk.data_structures.tree_size(params)"
   ]
  },
  {
   "attachments": {},
   "cell_type": "markdown",
   "metadata": {},
   "source": [
    "#### Construct model runner"
   ]
  },
  {
   "cell_type": "code",
   "execution_count": 8,
   "metadata": {},
   "outputs": [],
   "source": [
    "model_runner = model.RunModel(model_config, params, multi_devices=False)\n",
    "\n",
    "\n",
    "def get_normalization_ratio(psi_range, boundary_range):\n",
    "    psi_range = float(psi_range.split(\" \")[-1])\n",
    "    boundary_range = float(boundary_range.split(\" \")[-1])\n",
    "    return psi_range / boundary_range\n",
    "\n",
    "\n",
    "if model_config.data.is_normalization:\n",
    "    normalization_dict = model_config.data.normalization_dict\n",
    "    normalization_ratio = get_normalization_ratio(\n",
    "        normalization_dict[\"psi_range\"],\n",
    "        normalization_dict[\"boundary_range\"],\n",
    "    )\n",
    "else:\n",
    "    normalization_ratio = None"
   ]
  },
  {
   "attachments": {},
   "cell_type": "markdown",
   "metadata": {},
   "source": [
    "## Predict and Evaluate"
   ]
  },
  {
   "attachments": {},
   "cell_type": "markdown",
   "metadata": {},
   "source": [
    "#### Predict and Evaluate i-th example in the dataset"
   ]
  },
  {
   "cell_type": "code",
   "execution_count": 9,
   "metadata": {},
   "outputs": [],
   "source": [
    "# i = 1\n",
    "i = np.random.randint(100)"
   ]
  },
  {
   "attachments": {},
   "cell_type": "markdown",
   "metadata": {},
   "source": [
    "#### Run prediction"
   ]
  },
  {
   "cell_type": "code",
   "execution_count": 10,
   "metadata": {},
   "outputs": [
    {
     "name": "stderr",
     "output_type": "stream",
     "text": [
      "INFO:absl:Predicting example 30/100\n",
      "INFO:absl:Running model...\n"
     ]
    },
    {
     "name": "stderr",
     "output_type": "stream",
     "text": [
      "INFO:absl:Running predict with shape(feat) = {'boundary': (1, 1920), 'boundary_coords': (1, 1920, 4), 'boundary_weights': (1, 1920), 'phase_coords': (1, 38400, 4), 'position_coords': (1, 1600, 2), 'scattering_kernel': (1, 38400, 24), 'self_scattering_kernel': (1, 24, 24), 'sigma': (1, 1600, 2), 'velocity_coords': (1, 24, 2), 'velocity_weights': (1, 24)}\n",
      "INFO:absl:Output shape was {'predicted_psi': (1, 38400)}\n",
      "INFO:absl:Total JAX model predict time (includes compilation time, see --benchmark): 34.7s\n",
      "INFO:absl:Running predict with shape(feat) = {'boundary': (1, 1920), 'boundary_coords': (1, 1920, 4), 'boundary_weights': (1, 1920), 'phase_coords': (1, 38400, 4), 'position_coords': (1, 1600, 2), 'scattering_kernel': (1, 38400, 24), 'self_scattering_kernel': (1, 24, 24), 'sigma': (1, 1600, 2), 'velocity_coords': (1, 24, 2), 'velocity_weights': (1, 24)}\n"
     ]
    }
   ],
   "source": [
    "logging.info(\"Predicting example %d/%d\", i + 1, num_examples)\n",
    "\n",
    "random_seed = 1\n",
    "benchmark = True\n",
    "\n",
    "feature_dict = {\n",
    "    \"functions\": jax.tree_map(lambda x: x[i : i + 1], raw_feature_dict[\"functions\"]),\n",
    "    \"grid\": raw_feature_dict[\"grid\"],\n",
    "    \"shape\": raw_feature_dict[\"shape\"],\n",
    "}\n",
    "\n",
    "# Run the model.\n",
    "logging.info(\"Running model...\")\n",
    "processed_feature_dict = model_runner.process_features(feature_dict)\n",
    "t_0 = time.time()\n",
    "prediction_result = model_runner.predict(\n",
    "    processed_feature_dict, random_seed=random_seed\n",
    ")\n",
    "t_diff = time.time() - t_0\n",
    "logging.info(\n",
    "    \"Total JAX model predict time \"\n",
    "    \"(includes compilation time, see --benchmark): %.1fs\",\n",
    "    t_diff,\n",
    ")\n",
    "\n",
    "if benchmark:\n",
    "    t_0 = time.time()\n",
    "    model_runner.predict(processed_feature_dict, random_seed=random_seed)\n",
    "    t_diff = time.time() - t_0\n",
    "    logging.info(\n",
    "        \"Total JAX model predict time \" \"(excludes compilation time): %.1fs\",\n",
    "        t_diff,\n",
    "    )\n",
    "\n",
    "psi_shape = feature_dict[\"functions\"][\"psi_label\"].shape\n",
    "t_0 = time.time()\n",
    "predicted_psi = (\n",
    "    prediction_result[\"predicted_psi\"]\n",
    "    .reshape(1, -1)  # reshape multi_devices to single device\n",
    "    .reshape(psi_shape)\n",
    ")\n",
    "if normalization_ratio:\n",
    "    predicted_psi = predicted_psi * normalization_ratio\n",
    "\n",
    "predicted_phi = jnp.sum(\n",
    "    predicted_psi * feature_dict[\"grid\"][\"velocity_weights\"],\n",
    "    axis=-1,\n",
    ")\n",
    "t_diff = time.time() - t_0\n",
    "\n",
    "# Remove jax dependency from results.\n",
    "np_prediction_result = jnp_to_np(dict(prediction_result))\n",
    "\n",
    "# Compute metrics.\n",
    "metrics = {}\n",
    "psi_label = feature_dict[\"functions\"][\"psi_label\"]\n",
    "phi_label = np.sum(psi_label * feature_dict[\"grid\"][\"velocity_weights\"], axis=-1)\n",
    "psi_rmse = rmse(predicted_psi, psi_label)\n",
    "phi_rmse = rmse(predicted_phi, phi_label)\n",
    "logging.info(\"RMSE of psi: %f, RMSE of phi: %f\\n\", psi_rmse, phi_rmse)"
   ]
  },
  {
   "attachments": {},
   "cell_type": "markdown",
   "metadata": {},
   "source": [
    "### Visualize result"
   ]
  },
  {
   "cell_type": "code",
   "execution_count": null,
   "metadata": {},
   "outputs": [
    {
     "data": {
      "image/png": "[encoded data removed]",
      "text/plain": [
       "<Figure size 2000x600 with 6 Axes>"
      ]
     },
     "metadata": {},
     "output_type": "display_data"
    },
    {
     "ename": "",
     "evalue": "",
     "output_type": "error",
     "traceback": [
      "\u001b[1;31mThe Kernel crashed while executing code in the the current cell or a previous cell. Please review the code in the cell(s) to identify a possible cause of the failure. Click <a href='https://aka.ms/vscodeJupyterKernelCrash'>here</a> for more info. View Jupyter <a href='command:jupyter.viewOutput'>log</a> for further details."
     ]
    }
   ],
   "source": [
    "plot_phi(\n",
    "    feature_dict[\"grid\"][\"position_coords\"].reshape(*psi_shape[1:-1], -1),\n",
    "    predicted_phi[0],\n",
    "    phi_label[0],\n",
    ")"
   ]
  }
 ],
 "metadata": {
  "kernelspec": {
   "display_name": "Python 3",
   "language": "python",
   "name": "python3"
  },
  "language_info": {
   "codemirror_mode": {
    "name": "ipython",
    "version": 3
   },
   "file_extension": ".py",
   "mimetype": "text/x-python",
   "name": "python",
   "nbconvert_exporter": "python",
   "pygments_lexer": "ipython3",
   "version": "3.12.1"
  },
  "orig_nbformat": 4,
  "vscode": {
   "interpreter": {
    "hash": "949777d72b0d2535278d3dc13498b2535136f6dfe0678499012e853ee9abcab1"
   }
  }
 },
 "nbformat": 4,
 "nbformat_minor": 2
}

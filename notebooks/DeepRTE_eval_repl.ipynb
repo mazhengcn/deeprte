{
 "cells": [
  {
   "attachments": {},
   "cell_type": "markdown",
   "metadata": {},
   "source": [
    "### Setup\n",
    "\n",
    "The cell below downloads the code from Github and install necessary dependencies."
   ]
  },
  {
   "cell_type": "code",
   "execution_count": 1,
   "metadata": {},
   "outputs": [],
   "source": [
    "# ![ -d deeprte] || git clone --depth=1 https://github.com/mazhengcn/deeprte.git\n",
    "# !cd deeprte && git pull\n",
    "# !pip install -qr deeprte/requirements.txt"
   ]
  },
  {
   "attachments": {},
   "cell_type": "markdown",
   "metadata": {},
   "source": [
    "### Import Packages"
   ]
  },
  {
   "cell_type": "code",
   "execution_count": 2,
   "metadata": {},
   "outputs": [
    {
     "name": "stderr",
     "output_type": "stream",
     "text": [
      "/usr/local/lib/python3.10/site-packages/tqdm/auto.py:22: TqdmWarning: IProgress not found. Please update jupyter and ipywidgets. See https://ipywidgets.readthedocs.io/en/stable/user_install.html\n",
      "  from .autonotebook import tqdm as notebook_tqdm\n"
     ]
    }
   ],
   "source": [
    "import os\n",
    "os.environ[\"CUDA_VISIBLE_DEVICES\"] = \"4,5\"\n",
    "# os.environ[\"XLA_PYTHON_CLIENT_PREALLOCATE\"] = \"false\"\n",
    "# os.environ[\"XLA_PYTHON_CLIENT_MEM_FRACTION\"] = \".70\"\n",
    "\n",
    "%load_ext autoreload\n",
    "%autoreload 2\n",
    "\n",
    "import jax.numpy as jnp\n",
    "import numpy as np\n",
    "import jax\n",
    "import time\n",
    "import haiku as hk\n",
    "import json\n",
    "import ml_collections\n",
    "from test import utils\n",
    "from deeprte.model.modules import DeepRTE\n",
    "from deeprte.model.tf.input_pipeline import load_tf_data\n",
    "from deeprte.model.data import flat_params_to_haiku"
   ]
  },
  {
   "cell_type": "code",
   "execution_count": 3,
   "metadata": {},
   "outputs": [
    {
     "data": {
      "text/plain": [
       "[StreamExecutorGpuDevice(id=0, process_index=0, slice_index=0),\n",
       " StreamExecutorGpuDevice(id=1, process_index=0, slice_index=0)]"
      ]
     },
     "execution_count": 3,
     "metadata": {},
     "output_type": "execute_result"
    }
   ],
   "source": [
    "jax.local_devices()"
   ]
  },
  {
   "attachments": {},
   "cell_type": "markdown",
   "metadata": {},
   "source": [
    "### Import Pre-trained model"
   ]
  },
  {
   "cell_type": "code",
   "execution_count": 4,
   "metadata": {},
   "outputs": [],
   "source": [
    "# Path to the model parameters\n",
    "# PARAMS_DIR = \"/workspaces/deeprte/ckpts/ckpt/square_full_it_2023-04-03T12:47:33/models/latest/step_375000_2023-04-07T00:31:21\"\n",
    "PARAMS_DIR = \"/workspaces/deeprte/rte_data/model_params\"\n",
    "PARAMS_NAME = \"params.npz\"\n",
    "CONFIG_NAME = \"config.json\"\n",
    "\n",
    "config_path = os.path.join(PARAMS_DIR, CONFIG_NAME)\n",
    "assert os.path.exists(f\"{config_path}\")\n",
    "\n",
    "param_path = os.path.join(PARAMS_DIR, PARAMS_NAME)\n",
    "assert os.path.exists(f\"{param_path}\")"
   ]
  },
  {
   "cell_type": "code",
   "execution_count": 5,
   "metadata": {},
   "outputs": [
    {
     "data": {
      "text/plain": [
       "attenuation:\n",
       "  attention:\n",
       "    key_chunk_size: 128\n",
       "    key_dim: 32\n",
       "    num_head: 2\n",
       "    output_dim: 2\n",
       "    value_dim: null\n",
       "  latent_dim: 128\n",
       "  num_layer: 4\n",
       "  output_dim: 16\n",
       "scattering:\n",
       "  latent_dim: 16\n",
       "  num_layer: 2"
      ]
     },
     "execution_count": 5,
     "metadata": {},
     "output_type": "execute_result"
    }
   ],
   "source": [
    "# load and visualize the model config\n",
    "with open(config_path) as f:\n",
    "    str = f.read()\n",
    "    config = json.loads(str)\n",
    "\n",
    "config = ml_collections.ConfigDict(config[\"experiment_kwargs\"][\"config\"])\n",
    "\n",
    "config.model.green_function"
   ]
  },
  {
   "cell_type": "code",
   "execution_count": 6,
   "metadata": {},
   "outputs": [],
   "source": [
    "# Load the model parameters\n",
    "np_params = np.load(param_path)\n",
    "params = flat_params_to_haiku(np_params)"
   ]
  },
  {
   "cell_type": "code",
   "execution_count": 7,
   "metadata": {},
   "outputs": [],
   "source": [
    "# set up the model and transform it into a jax function\n",
    "def forward_fn(batch):\n",
    "    out = DeepRTE(config.model)(\n",
    "        batch, is_training=False, compute_loss=False, compute_metrics=False\n",
    "    )\n",
    "    return out\n",
    "\n",
    "\n",
    "forward = hk.transform(forward_fn)\n",
    "# apply = jax.jit(forward.apply)"
   ]
  },
  {
   "cell_type": "code",
   "execution_count": 8,
   "metadata": {},
   "outputs": [],
   "source": [
    "keys = list(params.keys())\n",
    "for k in keys:\n",
    "    if \"attention\" in k and \"attention_v2\" not in k:\n",
    "        str = k.replace(\"attention\", \"attention_v2\")\n",
    "        params[str] = params[k]\n",
    "        del params[k]"
   ]
  },
  {
   "cell_type": "code",
   "execution_count": 9,
   "metadata": {},
   "outputs": [
    {
     "data": {
      "text/plain": [
       "{'deeprte/green_function/attenuation/attention_v2/key': {'b': (64,),\n",
       "  'w': (2, 64)},\n",
       " 'deeprte/green_function/attenuation/attention_v2/output_projection': {'b': (2,),\n",
       "  'w': (64, 2)},\n",
       " 'deeprte/green_function/attenuation/attention_v2/query': {'b': (64,),\n",
       "  'w': (4, 64)},\n",
       " 'deeprte/green_function/attenuation/attention_v2/value': {'b': (64,),\n",
       "  'w': (2, 64)},\n",
       " 'deeprte/green_function/attenuation/attenuation_linear': {'b': (128,),\n",
       "  'w': (10, 128)},\n",
       " 'deeprte/green_function/attenuation/attenuation_linear_1': {'b': (128,),\n",
       "  'w': (128, 128)},\n",
       " 'deeprte/green_function/attenuation/attenuation_linear_2': {'b': (128,),\n",
       "  'w': (128, 128)},\n",
       " 'deeprte/green_function/attenuation/output_projection': {'b': (16,),\n",
       "  'w': (128, 16)},\n",
       " 'deeprte/green_function/output_projection': {'w': (16, 1)},\n",
       " 'deeprte/green_function/scattering_module/__layer_stack_no_per_layer/scattering_layer/linear': {'b': (2,\n",
       "   16),\n",
       "  'w': (2, 16, 16)}}"
      ]
     },
     "execution_count": 9,
     "metadata": {},
     "output_type": "execute_result"
    }
   ],
   "source": [
    "jax.tree_map(lambda x: x.shape, params)"
   ]
  },
  {
   "attachments": {},
   "cell_type": "markdown",
   "metadata": {},
   "source": [
    "### Load dataset"
   ]
  },
  {
   "cell_type": "code",
   "execution_count": 10,
   "metadata": {},
   "outputs": [],
   "source": [
    "# Path to the dataset\n",
    "DATA_DIR = (\n",
    "    \"/workspaces/deeprte/rte_data/matlab/eval-data/scattering-kernel/0311\"\n",
    ")\n",
    "DATA_NAME = \"test_bc1.mat\"\n",
    "\n",
    "# slice batch by index\n",
    "idx = 0\n",
    "\n",
    "data_path = os.path.join(DATA_DIR, DATA_NAME)\n",
    "assert os.path.exists(f\"{data_path}\")"
   ]
  },
  {
   "cell_type": "code",
   "execution_count": 11,
   "metadata": {},
   "outputs": [
    {
     "data": {
      "text/plain": [
       "{'boundary': (1, 1920),\n",
       " 'boundary_coords': (1920, 4),\n",
       " 'boundary_scattering_kernel': (1, 1920, 24),\n",
       " 'boundary_weights': (1920,),\n",
       " 'phase_coords': (38400, 4),\n",
       " 'position_coords': (1600, 2),\n",
       " 'psi_label': (1, 38400),\n",
       " 'scattering_kernel': (1, 38400, 24),\n",
       " 'self_scattering_kernel': (1, 24, 24),\n",
       " 'sigma': (1, 1600, 2),\n",
       " 'velocity_coords': (24, 2),\n",
       " 'velocity_weights': (24,)}"
      ]
     },
     "execution_count": 11,
     "metadata": {},
     "output_type": "execute_result"
    }
   ],
   "source": [
    "# load and slice batch by index\n",
    "tf_data = load_tf_data(\n",
    "    DATA_DIR,\n",
    "    [\n",
    "        DATA_NAME,\n",
    "    ],\n",
    "    normalization=False,\n",
    ")\n",
    "features = jax.tree_map(lambda x: jnp.array(x), tf_data)\n",
    "data_feature = features[0]\n",
    "batch = utils.slice_batch(idx, data_feature)\n",
    "\n",
    "# visualize shape\n",
    "jax.tree_util.tree_map(lambda x: x.shape, batch)"
   ]
  },
  {
   "attachments": {},
   "cell_type": "markdown",
   "metadata": {},
   "source": [
    "### Evaluate"
   ]
  },
  {
   "cell_type": "code",
   "execution_count": 12,
   "metadata": {},
   "outputs": [],
   "source": [
    "# set rng seed\n",
    "rng = hk.PRNGSequence(42)"
   ]
  },
  {
   "cell_type": "code",
   "execution_count": 13,
   "metadata": {},
   "outputs": [],
   "source": [
    "axis_dict = utils.make_collocation_axis()\n",
    "batch_in_axes = {\n",
    "    k: axis_dict[k] if k in axis_dict else None for k in batch.keys()\n",
    "}\n",
    "apply = jax.pmap(\n",
    "    lambda params, inputs: forward.apply(\n",
    "        params, jax.random.PRNGKey(0), inputs\n",
    "    ),\n",
    "    axis_name=\"batch\",\n",
    ")"
   ]
  },
  {
   "cell_type": "code",
   "execution_count": 14,
   "metadata": {},
   "outputs": [],
   "source": [
    "# get psi shape\n",
    "psi_shape = utils.get_psi_shape(\n",
    "    DATA_DIR,\n",
    "    [\n",
    "        DATA_NAME,\n",
    "    ],\n",
    ")\n",
    "normalize_rate = utils.get_normalized_rate(config)\n",
    "\n",
    "# get psi\n",
    "def get_psi(params, batch):\n",
    "    ret = apply(params, batch)\n",
    "    psi = ret[\"predicted_solution\"]\n",
    "    psi = psi * normalize_rate\n",
    "\n",
    "    return psi\n",
    "\n",
    "\n",
    "# print rmse\n",
    "def print_rmse(dict):\n",
    "    print(\n",
    "        \"phi rmse:\",\n",
    "        jnp.sqrt(\n",
    "            jnp.mean((dict[\"phi_label\"] - dict[\"phi_pre\"]) ** 2)\n",
    "            / jnp.mean(dict[\"phi_label\"] ** 2)\n",
    "        ),\n",
    "        \"psi rmse:\",\n",
    "        jnp.sqrt(\n",
    "            jnp.mean((dict[\"psi_label\"] - dict[\"psi_pre\"]) ** 2)\n",
    "            / jnp.mean(dict[\"psi_label\"] ** 2)\n",
    "        ),\n",
    "    )\n",
    "\n",
    "\n",
    "# get ret, which contains the predicted solution phi, psi.\n",
    "def get_ret(psi_pre, psi_label):\n",
    "    # psi_1 = psi_pre.copy()\n",
    "    # psi_2 = psi_label.copy()\n",
    "    dict = {}\n",
    "    dict[\"psi_pre\"] = psi_pre.reshape(*psi_shape)\n",
    "    dict[\"psi_label\"] = psi_label.reshape(*psi_shape)\n",
    "    dict[\"phi_pre\"] = jnp.dot(dict[\"psi_pre\"], batch[\"velocity_weights\"])\n",
    "    dict[\"phi_label\"] = jnp.dot(dict[\"psi_label\"], batch[\"velocity_weights\"])\n",
    "\n",
    "    return dict"
   ]
  },
  {
   "cell_type": "code",
   "execution_count": 15,
   "metadata": {},
   "outputs": [
    {
     "data": {
      "text/plain": [
       "{'boundary': (2, 1, 1920),\n",
       " 'boundary_coords': (2, 1920, 4),\n",
       " 'boundary_scattering_kernel': (2, 1, 1920, 24),\n",
       " 'boundary_weights': (2, 1920),\n",
       " 'phase_coords': (2, 19200, 4),\n",
       " 'position_coords': (2, 1600, 2),\n",
       " 'psi_label': (2, 1, 19200),\n",
       " 'scattering_kernel': (2, 1, 19200, 24),\n",
       " 'self_scattering_kernel': (2, 1, 24, 24),\n",
       " 'sigma': (2, 1, 1600, 2),\n",
       " 'velocity_coords': (2, 24, 2),\n",
       " 'velocity_weights': (2, 24)}"
      ]
     },
     "execution_count": 15,
     "metadata": {},
     "output_type": "execute_result"
    }
   ],
   "source": [
    "# set up replicated batch and model parameters\n",
    "n_devices = jax.local_device_count()\n",
    "repl_params = jax.device_put_replicated(params, jax.local_devices())\n",
    "\n",
    "repl_batch = {}\n",
    "\n",
    "batch_num = batch[\"psi_label\"].shape[1]\n",
    "assert batch_num % n_devices == 0\n",
    "step_size = batch_num // n_devices\n",
    "\n",
    "for k in batch:\n",
    "    if k in axis_dict:\n",
    "        # batch[k] = jnp.swapaxes(batch[k], axis_dict[k], 0)\n",
    "        repl_batch[k] = jax.device_put_sharded(\n",
    "            [\n",
    "                jnp.take(\n",
    "                    batch[k],\n",
    "                    jnp.arange(step_size * i, step_size * (i + 1)),\n",
    "                    axis=axis_dict[k],\n",
    "                )\n",
    "                for i in range(n_devices)\n",
    "            ],\n",
    "            jax.local_devices(),\n",
    "        )\n",
    "    else:\n",
    "        repl_batch[k] = jax.device_put_replicated(\n",
    "            batch[k], jax.local_devices()\n",
    "        )\n",
    "\n",
    "jax.tree_map(lambda x: x.shape, repl_batch)"
   ]
  },
  {
   "cell_type": "code",
   "execution_count": 16,
   "metadata": {},
   "outputs": [
    {
     "name": "stdout",
     "output_type": "stream",
     "text": [
      "gpu:0 gpu:1\n"
     ]
    }
   ],
   "source": [
    "print(*[repl_batch[\"psi_label\"][i].device() for i in range(n_devices)])"
   ]
  },
  {
   "cell_type": "code",
   "execution_count": 17,
   "metadata": {},
   "outputs": [],
   "source": [
    "# t1 = time.time()\n",
    "# jax.block_until_ready(apply(repl_params, repl_batch))\n",
    "# t2 = time.time()\n",
    "# print(t2 - t1)"
   ]
  },
  {
   "cell_type": "code",
   "execution_count": 18,
   "metadata": {},
   "outputs": [],
   "source": [
    "# evaluate and get psi_pre\n",
    "psi_pre = get_psi(repl_params, repl_batch)"
   ]
  },
  {
   "cell_type": "code",
   "execution_count": 19,
   "metadata": {},
   "outputs": [
    {
     "name": "stdout",
     "output_type": "stream",
     "text": [
      "phi rmse: 0.028054422 psi rmse: 0.037182804\n"
     ]
    }
   ],
   "source": [
    "# get ret and print rmse\n",
    "ret = get_ret(psi_pre, repl_batch[\"psi_label\"])\n",
    "print_rmse(ret)"
   ]
  },
  {
   "cell_type": "code",
   "execution_count": 20,
   "metadata": {},
   "outputs": [
    {
     "data": {
      "image/png": "[encoded data removed]",
      "text/plain": [
       "<Figure size 2000x600 with 6 Axes>"
      ]
     },
     "metadata": {},
     "output_type": "display_data"
    },
    {
     "name": "stdout",
     "output_type": "stream",
     "text": [
      "rmse: 0.028054424\n"
     ]
    }
   ],
   "source": [
    "# plot phi and absolute error\n",
    "r = batch[\"position_coords\"].reshape(*psi_shape[:-1], 2)\n",
    "utils.plot_phi(r, ret[\"phi_label\"], ret[\"phi_pre\"])"
   ]
  },
  {
   "cell_type": "code",
   "execution_count": null,
   "metadata": {},
   "outputs": [],
   "source": []
  }
 ],
 "metadata": {
  "kernelspec": {
   "display_name": "Python 3",
   "language": "python",
   "name": "python3"
  },
  "language_info": {
   "codemirror_mode": {
    "name": "ipython",
    "version": 3
   },
   "file_extension": ".py",
   "mimetype": "text/x-python",
   "name": "python",
   "nbconvert_exporter": "python",
   "pygments_lexer": "ipython3",
   "version": "3.10.8"
  },
  "orig_nbformat": 4,
  "vscode": {
   "interpreter": {
    "hash": "949777d72b0d2535278d3dc13498b2535136f6dfe0678499012e853ee9abcab1"
   }
  }
 },
 "nbformat": 4,
 "nbformat_minor": 2
}

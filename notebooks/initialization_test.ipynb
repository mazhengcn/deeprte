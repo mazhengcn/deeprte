{
 "cells": [
  {
   "cell_type": "code",
   "execution_count": null,
   "metadata": {},
   "outputs": [],
   "source": [
    "import jax\n",
    "import optax\n",
    "from flax import nnx\n",
    "from jax.experimental import mesh_utils\n",
    "from jax.sharding import Mesh\n",
    "\n",
    "from deeprte.model import modules\n",
    "from deeprte.train_lib import checkpointing\n",
    "from deeprte.train_lib import utils as train_utils\n",
    "\n",
    "config = modules.DeepRTEConfig()\n",
    "config.load_parameters_path = \"\"\n",
    "config.load_full_state_path = \"\"\n",
    "config.enable_single_replica_ckpt_restoring = False\n",
    "config.dataset_type = \"tfds\"\n",
    "\n",
    "rng = jax.random.PRNGKey(42)\n",
    "rng, init_rng = jax.random.split(rng)\n",
    "\n",
    "devices_array = mesh_utils.create_device_mesh((1, 2))\n",
    "mesh = Mesh(devices_array, (\"data\", \"fsdp\"))\n",
    "\n",
    "\n",
    "def constructor(config, key: jax.Array):\n",
    "    return modules.DeepRTE(config, rngs=nnx.Rngs(params=key))"
   ]
  },
  {
   "cell_type": "code",
   "execution_count": null,
   "metadata": {},
   "outputs": [],
   "source": [
    "abstract_state, state_shardings = train_utils.get_abstract_state(\n",
    "    constructor, optax.adam(1e-3), config, init_rng, mesh\n",
    ")\n",
    "\n",
    "len(jax.live_arrays())"
   ]
  },
  {
   "cell_type": "code",
   "execution_count": null,
   "metadata": {},
   "outputs": [],
   "source": [
    "abstract_state.params"
   ]
  },
  {
   "cell_type": "code",
   "execution_count": null,
   "metadata": {},
   "outputs": [],
   "source": [
    "jax.tree.map(lambda x: x.sharding, abstract_state)"
   ]
  },
  {
   "cell_type": "code",
   "execution_count": null,
   "metadata": {},
   "outputs": [],
   "source": [
    "init_state, state_sharding, data_iter = train_utils.setup_initial_state(\n",
    "    constructor, None, optax.adam(1e-3), config, init_rng, mesh, None\n",
    ")"
   ]
  },
  {
   "cell_type": "code",
   "execution_count": null,
   "metadata": {},
   "outputs": [],
   "source": [
    "checkpointing.save_params_to_path(\"/workspaces/deeprte/test\", init_state.params)"
   ]
  }
 ],
 "metadata": {
  "kernelspec": {
   "display_name": "Python 3",
   "language": "python",
   "name": "python3"
  },
  "language_info": {
   "codemirror_mode": {
    "name": "ipython",
    "version": 3
   },
   "file_extension": ".py",
   "mimetype": "text/x-python",
   "name": "python",
   "nbconvert_exporter": "python",
   "pygments_lexer": "ipython3",
   "version": "3.10.12"
  }
 },
 "nbformat": 4,
 "nbformat_minor": 2
}

{
 "cells": [
  {
   "cell_type": "code",
   "execution_count": 1,
   "metadata": {},
   "outputs": [],
   "source": [
    "import os\n",
    "os.environ[\"CUDA_VISIBLE_DEVICES\"] = '6'"
   ]
  },
  {
   "cell_type": "markdown",
   "metadata": {},
   "source": [
    "# Import and Build Model"
   ]
  },
  {
   "cell_type": "code",
   "execution_count": 2,
   "metadata": {},
   "outputs": [
    {
     "name": "stderr",
     "output_type": "stream",
     "text": [
      "/usr/local/lib/python3.10/site-packages/tqdm/auto.py:22: TqdmWarning: IProgress not found. Please update jupyter and ipywidgets. See https://ipywidgets.readthedocs.io/en/stable/user_install.html\n",
      "  from .autonotebook import tqdm as notebook_tqdm\n"
     ]
    }
   ],
   "source": [
    "from deeprte.experiment import Trainer\n",
    "import jax\n",
    "import haiku as hk"
   ]
  },
  {
   "cell_type": "code",
   "execution_count": 3,
   "metadata": {},
   "outputs": [],
   "source": [
    "from deeprte.config import get_config\n",
    "config = get_config()\n",
    "config = config.experiment_kwargs.config\n",
    "config.dataset.data_path = \"/workspaces/deeprte/rte_data/rte_data/matlab/eval-data/test_shape.mat\"\n",
    "rng = hk.PRNGSequence(jax.random.PRNGKey(42))\n",
    "e = Trainer(mode = \"train\", init_rng=0, config = config)"
   ]
  },
  {
   "cell_type": "markdown",
   "metadata": {},
   "source": [
    "# Data Shape Visualization"
   ]
  },
  {
   "cell_type": "code",
   "execution_count": 4,
   "metadata": {},
   "outputs": [
    {
     "data": {
      "text/plain": [
       "{'sigma': TensorShape([8, 1681, 2]),\n",
       " 'psi_label': TensorShape([8, 40344]),\n",
       " 'scattering_kernel': TensorShape([8, 40344, 24]),\n",
       " 'self_scattering_kernel': TensorShape([8, 24, 24]),\n",
       " 'boundary': TensorShape([8, 1968]),\n",
       " 'position_coords': TensorShape([1681, 2]),\n",
       " 'velocity_coords': TensorShape([24, 2]),\n",
       " 'phase_coords': TensorShape([40344, 4]),\n",
       " 'boundary_coords': TensorShape([1968, 4]),\n",
       " 'boundary_weights': TensorShape([1968]),\n",
       " 'velocity_weights': TensorShape([24])}"
      ]
     },
     "execution_count": 4,
     "metadata": {},
     "output_type": "execute_result"
    }
   ],
   "source": [
    "import tensorflow as tf\n",
    "tf.nest.map_structure(lambda x: x.shape, (e.tf_data))"
   ]
  },
  {
   "cell_type": "markdown",
   "metadata": {},
   "source": [
    "## Train Input"
   ]
  },
  {
   "cell_type": "code",
   "execution_count": 5,
   "metadata": {},
   "outputs": [
    {
     "name": "stderr",
     "output_type": "stream",
     "text": [
      "WARNING:tensorflow:From /usr/local/lib/python3.10/site-packages/tensorflow/python/autograph/pyct/static_analysis/liveness.py:83: Analyzer.lamba_check (from tensorflow.python.autograph.pyct.static_analysis.liveness) is deprecated and will be removed after 2023-09-23.\n",
      "Instructions for updating:\n",
      "Lambda fuctions will be no more assumed to be used in the statement where they are used, or at least in the same block. https://github.com/tensorflow/tensorflow/issues/56089\n"
     ]
    },
    {
     "data": {
      "text/plain": [
       "{'sigma': (1, 2, 1681, 2),\n",
       " 'psi_label': (1, 2, 300),\n",
       " 'scattering_kernel': (1, 2, 300, 24),\n",
       " 'self_scattering_kernel': (1, 2, 24, 24),\n",
       " 'boundary': (1, 2, 1968),\n",
       " 'position_coords': (1, 1681, 2),\n",
       " 'velocity_coords': (1, 24, 2),\n",
       " 'phase_coords': (1, 300, 4),\n",
       " 'boundary_coords': (1, 1968, 4),\n",
       " 'boundary_weights': (1, 1968),\n",
       " 'velocity_weights': (1, 24)}"
      ]
     },
     "execution_count": 5,
     "metadata": {},
     "output_type": "execute_result"
    }
   ],
   "source": [
    "train_input = e._build_train_input()\n",
    "tf.nest.map_structure(lambda x: x.shape, next(train_input))"
   ]
  },
  {
   "cell_type": "markdown",
   "metadata": {},
   "source": [
    "## Val Input"
   ]
  },
  {
   "cell_type": "code",
   "execution_count": 6,
   "metadata": {},
   "outputs": [
    {
     "data": {
      "text/plain": [
       "{'sigma': (1, 2, 1681, 2),\n",
       " 'psi_label': (1, 2, 40344),\n",
       " 'scattering_kernel': (1, 2, 40344, 24),\n",
       " 'self_scattering_kernel': (1, 2, 24, 24),\n",
       " 'boundary': (1, 2, 1968),\n",
       " 'position_coords': (1, 1681, 2),\n",
       " 'velocity_coords': (1, 24, 2),\n",
       " 'phase_coords': (1, 40344, 4),\n",
       " 'boundary_coords': (1, 1968, 4),\n",
       " 'boundary_weights': (1, 1968),\n",
       " 'velocity_weights': (1, 24)}"
      ]
     },
     "execution_count": 6,
     "metadata": {},
     "output_type": "execute_result"
    }
   ],
   "source": [
    "val_input = e._build_eval_input()\n",
    "tf.nest.map_structure(lambda x: x.shape, next(val_input))"
   ]
  },
  {
   "cell_type": "markdown",
   "metadata": {},
   "source": [
    "## Dummy Input for Model Init"
   ]
  },
  {
   "cell_type": "code",
   "execution_count": 7,
   "metadata": {},
   "outputs": [],
   "source": [
    "ds = e._build_dummy_input()"
   ]
  },
  {
   "cell_type": "code",
   "execution_count": 8,
   "metadata": {},
   "outputs": [
    {
     "data": {
      "text/plain": [
       "{'sigma': (1, 1, 1681, 2),\n",
       " 'psi_label': (1, 1, 1),\n",
       " 'scattering_kernel': (1, 1, 1, 24),\n",
       " 'self_scattering_kernel': (1, 1, 24, 24),\n",
       " 'boundary': (1, 1, 1968),\n",
       " 'position_coords': (1, 1681, 2),\n",
       " 'velocity_coords': (1, 24, 2),\n",
       " 'phase_coords': (1, 1, 4),\n",
       " 'boundary_coords': (1, 1968, 4),\n",
       " 'boundary_weights': (1, 1968),\n",
       " 'velocity_weights': (1, 24)}"
      ]
     },
     "execution_count": 8,
     "metadata": {},
     "output_type": "execute_result"
    }
   ],
   "source": [
    "tf.nest.map_structure(lambda x: x.shape, ds)"
   ]
  },
  {
   "cell_type": "markdown",
   "metadata": {},
   "source": [
    "# Test Train Step"
   ]
  },
  {
   "cell_type": "code",
   "execution_count": 9,
   "metadata": {},
   "outputs": [],
   "source": [
    "from jaxline import utils as jl_utils\n",
    "init_rng = jl_utils.bcast_local_devices(next(rng))\n",
    "e._initialize_training()\n",
    "iterator=tf.data.Dataset.from_tensors(ds).as_numpy_iterator()\n",
    "e._train_input = iterator"
   ]
  },
  {
   "cell_type": "code",
   "execution_count": 10,
   "metadata": {},
   "outputs": [
    {
     "name": "stdout",
     "output_type": "stream",
     "text": [
      "CPU times: user 32.6 s, sys: 3.45 s, total: 36.1 s\n",
      "Wall time: 23.6 s\n"
     ]
    }
   ],
   "source": [
    "%time scalars = e.step(jl_utils.bcast_local_devices(0), jl_utils.bcast_local_devices(next(rng)))"
   ]
  },
  {
   "cell_type": "markdown",
   "metadata": {},
   "source": [
    "# Test Evaluation"
   ]
  },
  {
   "cell_type": "code",
   "execution_count": 11,
   "metadata": {},
   "outputs": [],
   "source": [
    "e._eval_input = iterator"
   ]
  },
  {
   "cell_type": "code",
   "execution_count": 12,
   "metadata": {},
   "outputs": [],
   "source": [
    "%time metrics = e.evaluate(jl_utils.bcast_local_devices(0), jl_utils.bcast_local_devices(next(rng)))"
   ]
  },
  {
   "cell_type": "code",
   "execution_count": null,
   "metadata": {},
   "outputs": [],
   "source": []
  }
 ],
 "metadata": {
  "kernelspec": {
   "display_name": "Python 3.10.7 64-bit",
   "language": "python",
   "name": "python3"
  },
  "language_info": {
   "codemirror_mode": {
    "name": "ipython",
    "version": 3
   },
   "file_extension": ".py",
   "mimetype": "text/x-python",
   "name": "python",
   "nbconvert_exporter": "python",
   "pygments_lexer": "ipython3",
   "version": "3.10.8"
  },
  "orig_nbformat": 4,
  "vscode": {
   "interpreter": {
    "hash": "949777d72b0d2535278d3dc13498b2535136f6dfe0678499012e853ee9abcab1"
   }
  }
 },
 "nbformat": 4,
 "nbformat_minor": 2
}

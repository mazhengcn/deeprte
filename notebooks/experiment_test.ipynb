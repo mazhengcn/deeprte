{
 "cells": [
  {
   "cell_type": "code",
   "execution_count": 1,
   "metadata": {},
   "outputs": [],
   "source": [
    "import os\n",
    "os.environ[\"CUDA_VISIBLE_DEVICES\"] = '6'"
   ]
  },
  {
   "cell_type": "code",
   "execution_count": 2,
   "metadata": {},
   "outputs": [
    {
     "name": "stderr",
     "output_type": "stream",
     "text": [
      "/usr/local/lib/python3.10/site-packages/tqdm/auto.py:22: TqdmWarning: IProgress not found. Please update jupyter and ipywidgets. See https://ipywidgets.readthedocs.io/en/stable/user_install.html\n",
      "  from .autonotebook import tqdm as notebook_tqdm\n"
     ]
    }
   ],
   "source": [
    "from deeprte.experiment import Trainer\n",
    "import jax\n",
    "import haiku as hk"
   ]
  },
  {
   "cell_type": "code",
   "execution_count": 3,
   "metadata": {},
   "outputs": [],
   "source": [
    "from deeprte.config import make_config\n",
    "config = make_config()\n",
    "rng = hk.PRNGSequence(jax.random.PRNGKey(42))"
   ]
  },
  {
   "cell_type": "code",
   "execution_count": 4,
   "metadata": {},
   "outputs": [],
   "source": [
    "e = Trainer(mode = \"train\", init_rng=0, config = config)"
   ]
  },
  {
   "cell_type": "code",
   "execution_count": 5,
   "metadata": {},
   "outputs": [
    {
     "data": {
      "text/plain": [
       "{'sigma': TensorShape([8, 1681, 2]),\n",
       " 'psi_label': TensorShape([8, 40344]),\n",
       " 'scattering_kernel': TensorShape([8, 40344, 24]),\n",
       " 'self_scattering_kernel': TensorShape([8, 24, 24]),\n",
       " 'boundary': TensorShape([8, 1968]),\n",
       " 'position_coords': TensorShape([1681, 2]),\n",
       " 'velocity_coords': TensorShape([24, 2]),\n",
       " 'phase_coords': TensorShape([40344, 4]),\n",
       " 'boundary_coords': TensorShape([1968, 4]),\n",
       " 'boundary_weights': TensorShape([1968]),\n",
       " 'velocity_weights': TensorShape([24])}"
      ]
     },
     "execution_count": 5,
     "metadata": {},
     "output_type": "execute_result"
    }
   ],
   "source": [
    "import tensorflow as tf\n",
    "tf.nest.map_structure(lambda x: x.shape, (e.tf_data))"
   ]
  },
  {
   "cell_type": "code",
   "execution_count": 6,
   "metadata": {},
   "outputs": [],
   "source": [
    "train_input = e._build_train_input()"
   ]
  },
  {
   "cell_type": "code",
   "execution_count": 7,
   "metadata": {},
   "outputs": [
    {
     "name": "stderr",
     "output_type": "stream",
     "text": [
      "WARNING:tensorflow:From /usr/local/lib/python3.10/site-packages/tensorflow/python/autograph/pyct/static_analysis/liveness.py:83: Analyzer.lamba_check (from tensorflow.python.autograph.pyct.static_analysis.liveness) is deprecated and will be removed after 2023-09-23.\n",
      "Instructions for updating:\n",
      "Lambda fuctions will be no more assumed to be used in the statement where they are used, or at least in the same block. https://github.com/tensorflow/tensorflow/issues/56089\n"
     ]
    },
    {
     "data": {
      "text/plain": [
       "{'sigma': (1, 6, 1681, 2),\n",
       " 'psi_label': (1, 6, 500),\n",
       " 'scattering_kernel': (1, 6, 500, 24),\n",
       " 'self_scattering_kernel': (1, 6, 24, 24),\n",
       " 'boundary': (1, 6, 1968),\n",
       " 'position_coords': (1, 1681, 2),\n",
       " 'velocity_coords': (1, 24, 2),\n",
       " 'phase_coords': (1, 500, 4),\n",
       " 'boundary_coords': (1, 1968, 4),\n",
       " 'boundary_weights': (1, 1968),\n",
       " 'velocity_weights': (1, 24)}"
      ]
     },
     "execution_count": 7,
     "metadata": {},
     "output_type": "execute_result"
    }
   ],
   "source": [
    "tf.nest.map_structure(lambda x: x.shape, next(train_input))"
   ]
  },
  {
   "cell_type": "code",
   "execution_count": 8,
   "metadata": {},
   "outputs": [],
   "source": [
    "val_input = e._build_eval_input()"
   ]
  },
  {
   "cell_type": "code",
   "execution_count": 9,
   "metadata": {},
   "outputs": [
    {
     "data": {
      "text/plain": [
       "{'sigma': (1, 2, 1681, 2),\n",
       " 'psi_label': (1, 2, 40344),\n",
       " 'scattering_kernel': (1, 2, 40344, 24),\n",
       " 'self_scattering_kernel': (1, 2, 24, 24),\n",
       " 'boundary': (1, 2, 1968),\n",
       " 'position_coords': (1, 1681, 2),\n",
       " 'velocity_coords': (1, 24, 2),\n",
       " 'phase_coords': (1, 40344, 4),\n",
       " 'boundary_coords': (1, 1968, 4),\n",
       " 'boundary_weights': (1, 1968),\n",
       " 'velocity_weights': (1, 24)}"
      ]
     },
     "execution_count": 9,
     "metadata": {},
     "output_type": "execute_result"
    }
   ],
   "source": [
    "tf.nest.map_structure(lambda x: x.shape, next(val_input))"
   ]
  },
  {
   "cell_type": "code",
   "execution_count": 10,
   "metadata": {},
   "outputs": [],
   "source": [
    "ds = e._build_dummy_input()"
   ]
  },
  {
   "cell_type": "code",
   "execution_count": 11,
   "metadata": {},
   "outputs": [
    {
     "data": {
      "text/plain": [
       "{'sigma': (1, 1, 1681, 2),\n",
       " 'psi_label': (1, 1, 1),\n",
       " 'scattering_kernel': (1, 1, 1, 24),\n",
       " 'self_scattering_kernel': (1, 1, 24, 24),\n",
       " 'boundary': (1, 1, 1968),\n",
       " 'position_coords': (1, 1681, 2),\n",
       " 'velocity_coords': (1, 24, 2),\n",
       " 'phase_coords': (1, 1, 4),\n",
       " 'boundary_coords': (1, 1968, 4),\n",
       " 'boundary_weights': (1, 1968),\n",
       " 'velocity_weights': (1, 24)}"
      ]
     },
     "execution_count": 11,
     "metadata": {},
     "output_type": "execute_result"
    }
   ],
   "source": [
    "tf.nest.map_structure(lambda x: x.shape, ds)"
   ]
  },
  {
   "cell_type": "code",
   "execution_count": 12,
   "metadata": {},
   "outputs": [],
   "source": [
    "model_init = jax.pmap(e.train_model.init)"
   ]
  },
  {
   "cell_type": "code",
   "execution_count": 13,
   "metadata": {},
   "outputs": [],
   "source": [
    "from jaxline import utils as jl_utils\n",
    "init_rng = jl_utils.bcast_local_devices(next(rng))"
   ]
  },
  {
   "cell_type": "code",
   "execution_count": 14,
   "metadata": {},
   "outputs": [],
   "source": [
    "params, state = model_init(init_rng, ds)"
   ]
  },
  {
   "cell_type": "code",
   "execution_count": 15,
   "metadata": {},
   "outputs": [],
   "source": [
    "apply = jax.pmap(e.train_model.apply)"
   ]
  },
  {
   "cell_type": "code",
   "execution_count": 16,
   "metadata": {},
   "outputs": [],
   "source": [
    "# logits = apply(params, state, init_rng, ds)"
   ]
  },
  {
   "cell_type": "code",
   "execution_count": 17,
   "metadata": {},
   "outputs": [],
   "source": [
    "e._initialize_training()"
   ]
  },
  {
   "cell_type": "code",
   "execution_count": 32,
   "metadata": {},
   "outputs": [],
   "source": [
    "iterator=tf.data.Dataset.from_tensors(ds).as_numpy_iterator()"
   ]
  },
  {
   "cell_type": "code",
   "execution_count": 33,
   "metadata": {},
   "outputs": [],
   "source": [
    "e._train_input = iterator"
   ]
  },
  {
   "cell_type": "code",
   "execution_count": 34,
   "metadata": {},
   "outputs": [],
   "source": [
    "# scalars = e.step(jl_utils.bcast_local_devices(0), jl_utils.bcast_local_devices(next(rng)))\n",
    "# scalars"
   ]
  },
  {
   "cell_type": "code",
   "execution_count": 35,
   "metadata": {},
   "outputs": [],
   "source": [
    "e._eval_input = iterator"
   ]
  },
  {
   "cell_type": "code",
   "execution_count": 22,
   "metadata": {},
   "outputs": [
    {
     "ename": "KeyError",
     "evalue": "'psi_labels'",
     "output_type": "error",
     "traceback": [
      "\u001b[0;31m---------------------------------------------------------------------------\u001b[0m",
      "\u001b[0;31mKeyError\u001b[0m                                  Traceback (most recent call last)",
      "Cell \u001b[0;32mIn[22], line 1\u001b[0m\n\u001b[0;32m----> 1\u001b[0m metrics \u001b[39m=\u001b[39m e\u001b[39m.\u001b[39;49mevaluate(jl_utils\u001b[39m.\u001b[39;49mbcast_local_devices(\u001b[39m0\u001b[39;49m), jl_utils\u001b[39m.\u001b[39;49mbcast_local_devices(\u001b[39mnext\u001b[39;49m(rng)))\n",
      "File \u001b[0;32m/workspaces/deeprte/deeprte/experiment.py:296\u001b[0m, in \u001b[0;36mTrainer.evaluate\u001b[0;34m(self, global_step, rng, **unused_args)\u001b[0m\n\u001b[1;32m    294\u001b[0m t_0 \u001b[39m=\u001b[39m time\u001b[39m.\u001b[39mtime()\n\u001b[1;32m    295\u001b[0m \u001b[39m# Run evaluation for an epoch\u001b[39;00m\n\u001b[0;32m--> 296\u001b[0m metrics \u001b[39m=\u001b[39m \u001b[39mself\u001b[39;49m\u001b[39m.\u001b[39;49m_eval_epoch(\u001b[39mself\u001b[39;49m\u001b[39m.\u001b[39;49m_params, \u001b[39mself\u001b[39;49m\u001b[39m.\u001b[39;49m_state, rng)\n\u001b[1;32m    297\u001b[0m \u001b[39m# Covert jnp.ndarry to list to have less verbose.\u001b[39;00m\n\u001b[1;32m    298\u001b[0m metrics \u001b[39m=\u001b[39m jax\u001b[39m.\u001b[39mtree_util\u001b[39m.\u001b[39mtree_map(\n\u001b[1;32m    299\u001b[0m     \u001b[39mlambda\u001b[39;00m x: x\u001b[39m.\u001b[39mtolist() \u001b[39mif\u001b[39;00m \u001b[39misinstance\u001b[39m(x, jax\u001b[39m.\u001b[39mArray) \u001b[39melse\u001b[39;00m x, metrics\n\u001b[1;32m    300\u001b[0m )\n",
      "File \u001b[0;32m/workspaces/deeprte/deeprte/experiment.py:319\u001b[0m, in \u001b[0;36mTrainer._eval_epoch\u001b[0;34m(self, params, state, rng)\u001b[0m\n\u001b[1;32m    315\u001b[0m summed_metrics \u001b[39m=\u001b[39m \u001b[39mNone\u001b[39;00m\n\u001b[1;32m    317\u001b[0m \u001b[39mfor\u001b[39;00m batch \u001b[39min\u001b[39;00m \u001b[39mself\u001b[39m\u001b[39m.\u001b[39m_eval_input:\n\u001b[1;32m    318\u001b[0m     \u001b[39m# Account for pmaps\u001b[39;00m\n\u001b[0;32m--> 319\u001b[0m     num_examples \u001b[39m+\u001b[39m\u001b[39m=\u001b[39m jnp\u001b[39m.\u001b[39mprod(batch[\u001b[39m\"\u001b[39;49m\u001b[39mpsi_labels\u001b[39;49m\u001b[39m\"\u001b[39;49m]\u001b[39m.\u001b[39mshape[:\u001b[39m2\u001b[39m])\n\u001b[1;32m    320\u001b[0m     metrics \u001b[39m=\u001b[39m \u001b[39mself\u001b[39m\u001b[39m.\u001b[39meval_fn(params, state, rng, batch)\n\u001b[1;32m    321\u001b[0m     \u001b[39m# Accumulate the sum of scalars for each step.\u001b[39;00m\n",
      "\u001b[0;31mKeyError\u001b[0m: 'psi_labels'"
     ]
    }
   ],
   "source": [
    "metrics = e.evaluate(jl_utils.bcast_local_devices(0), jl_utils.bcast_local_devices(next(rng)))"
   ]
  },
  {
   "cell_type": "code",
   "execution_count": 36,
   "metadata": {},
   "outputs": [
    {
     "ename": "KeyError",
     "evalue": "'psi_labels'",
     "output_type": "error",
     "traceback": [
      "\u001b[0;31m---------------------------------------------------------------------------\u001b[0m",
      "\u001b[0;31mKeyError\u001b[0m                                  Traceback (most recent call last)",
      "Cell \u001b[0;32mIn[36], line 2\u001b[0m\n\u001b[1;32m      1\u001b[0m \u001b[39mfor\u001b[39;00m i \u001b[39min\u001b[39;00m e\u001b[39m.\u001b[39m_eval_input:\n\u001b[0;32m----> 2\u001b[0m     \u001b[39mprint\u001b[39m(i[\u001b[39m\"\u001b[39;49m\u001b[39mpsi_labels\u001b[39;49m\u001b[39m\"\u001b[39;49m]\u001b[39m.\u001b[39mshape)\n",
      "\u001b[0;31mKeyError\u001b[0m: 'psi_labels'"
     ]
    }
   ],
   "source": [
    "for i in e._eval_input:\n",
    "    print(i[\"psi_labels\"].shape)"
   ]
  },
  {
   "cell_type": "code",
   "execution_count": null,
   "metadata": {},
   "outputs": [],
   "source": []
  }
 ],
 "metadata": {
  "kernelspec": {
   "display_name": "Python 3.10.7 64-bit",
   "language": "python",
   "name": "python3"
  },
  "language_info": {
   "codemirror_mode": {
    "name": "ipython",
    "version": 3
   },
   "file_extension": ".py",
   "mimetype": "text/x-python",
   "name": "python",
   "nbconvert_exporter": "python",
   "pygments_lexer": "ipython3",
   "version": "3.10.8"
  },
  "orig_nbformat": 4,
  "vscode": {
   "interpreter": {
    "hash": "949777d72b0d2535278d3dc13498b2535136f6dfe0678499012e853ee9abcab1"
   }
  }
 },
 "nbformat": 4,
 "nbformat_minor": 2
}

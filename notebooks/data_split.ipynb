{
 "cells": [
  {
   "cell_type": "code",
   "execution_count": 1,
   "metadata": {},
   "outputs": [],
   "source": [
    "import scipy.io\n",
    "import numpy as np\n",
    "\n",
    "import sys\n",
    "\n",
    "sys.path.append(\"/root/projects/deeprte\")\n",
    "\n",
    "from deeprte.data import pipeline\n",
    "from deeprte.model import model\n",
    "from deeprte.model.utils import flat_params_to_haiku"
   ]
  },
  {
   "cell_type": "code",
   "execution_count": 2,
   "metadata": {},
   "outputs": [],
   "source": [
    "DATA_DIR = \"/root/projects/deeprte/data/raw_data/train/g0.1-sigma_a3-sigma_t6\"\n",
    "DATA_NAME = [\"g0.1-sigma_a3-sigma_t6.mat\"]\n",
    "BATCH_FEAT_LIST = [\n",
    "    \"sigma_a\",\n",
    "    \"sigma_t\",\n",
    "    \"psi_label\",\n",
    "    \"psi_bc\",\n",
    "    \"scattering_kernel\",\n",
    "    \"phi\",\n",
    "]\n",
    "\n",
    "# 加载.mat文件\n",
    "mat = scipy.io.loadmat(DATA_DIR + \"/\" + DATA_NAME[0])\n",
    "\n",
    "# 获取最后100条数据\n",
    "last_200 = {\n",
    "    k: v[-200:] if isinstance(v, np.ndarray) and k in BATCH_FEAT_LIST else v\n",
    "    for k, v in mat.items()\n",
    "}\n",
    "\n",
    "# 保存最后100条数据到新的.mat文件\n",
    "scipy.io.savemat(DATA_DIR + \"/g0.1-sigma_a3-sigma_t6_eval.mat\", last_200)"
   ]
  },
  {
   "cell_type": "code",
   "execution_count": 3,
   "metadata": {},
   "outputs": [
    {
     "data": {
      "text/plain": [
       "{'boundary': (1000, 160, 12),\n",
       " 'boundary_scattering_kernel': (1000, 160, 12, 24),\n",
       " 'psi_label': (1000, 40, 40, 24),\n",
       " 'scattering_kernel': (1000, 40, 40, 24, 24),\n",
       " 'self_scattering_kernel': (1000, 24, 24),\n",
       " 'sigma': (1000, 40, 40, 2)}"
      ]
     },
     "execution_count": 3,
     "metadata": {},
     "output_type": "execute_result"
    }
   ],
   "source": [
    "# Path to the dataset\n",
    "import jax\n",
    "DATA_DIR = \"/root/projects/deeprte/data/raw_data/train/g0.8-sigma_a3-sigma_t6\"\n",
    "DATA_NAME = [\"g0.1-sigma_a3-sigma_t6.mat\"]\n",
    "\n",
    "data_pipeline = pipeline.DataPipeline(DATA_DIR, DATA_NAME)\n",
    "raw_feature_dict = data_pipeline.process()\n",
    "num_examples = raw_feature_dict[\"shape\"][\"num_examples\"]\n",
    "\n",
    "# del _raw_feature_dict\n",
    "jax.tree_map(lambda x: x.shape, raw_feature_dict[\"functions\"])"
   ]
  },
  {
   "cell_type": "code",
   "execution_count": 4,
   "metadata": {},
   "outputs": [
    {
     "data": {
      "text/plain": [
       "{'boundary_coords': (160, 12, 4),\n",
       " 'boundary_weights': (160, 12),\n",
       " 'phase_coords': (40, 40, 24, 4),\n",
       " 'position_coords': (40, 40, 2),\n",
       " 'velocity_coords': (24, 2),\n",
       " 'velocity_weights': (24,)}"
      ]
     },
     "execution_count": 4,
     "metadata": {},
     "output_type": "execute_result"
    }
   ],
   "source": [
    "jax.tree_map(lambda x: x.shape, raw_feature_dict[\"grid\"])"
   ]
  },
  {
   "cell_type": "code",
   "execution_count": 5,
   "metadata": {},
   "outputs": [
    {
     "data": {
      "text/plain": [
       "{'num_examples': 1000,\n",
       " 'num_position_coords': 1600,\n",
       " 'num_velocity_coords': 24,\n",
       " 'num_phase_coords': 38400,\n",
       " 'num_boundary_coords': 1920}"
      ]
     },
     "execution_count": 5,
     "metadata": {},
     "output_type": "execute_result"
    }
   ],
   "source": [
    "raw_feature_dict[\"shape\"]"
   ]
  },
  {
   "cell_type": "code",
   "execution_count": 4,
   "metadata": {},
   "outputs": [
    {
     "data": {
      "text/plain": [
       "{'boundary': (200, 160, 12),\n",
       " 'boundary_scattering_kernel': (200, 160, 12, 24),\n",
       " 'psi_label': (200, 40, 40, 24),\n",
       " 'scattering_kernel': (200, 40, 40, 24, 24),\n",
       " 'self_scattering_kernel': (200, 24, 24),\n",
       " 'sigma': (200, 40, 40, 2)}"
      ]
     },
     "execution_count": 4,
     "metadata": {},
     "output_type": "execute_result"
    }
   ],
   "source": [
    "import jax\n",
    "\n",
    "DATA_NAME = [\"g0.1-sigma_a3-sigma_t6_eval.mat\"]\n",
    "\n",
    "data_pipeline = pipeline.DataPipeline(DATA_DIR, DATA_NAME)\n",
    "raw_feature_dict = data_pipeline.process()\n",
    "num_examples = raw_feature_dict[\"shape\"][\"num_examples\"]\n",
    "\n",
    "# del _raw_feature_dict\n",
    "jax.tree_map(lambda x: x.shape, raw_feature_dict[\"functions\"])"
   ]
  },
  {
   "cell_type": "code",
   "execution_count": 5,
   "metadata": {},
   "outputs": [
    {
     "data": {
      "text/plain": [
       "{'boundary_coords': (160, 12, 4),\n",
       " 'boundary_weights': (160, 12),\n",
       " 'phase_coords': (40, 40, 24, 4),\n",
       " 'position_coords': (40, 40, 2),\n",
       " 'velocity_coords': (24, 2),\n",
       " 'velocity_weights': (24,)}"
      ]
     },
     "execution_count": 5,
     "metadata": {},
     "output_type": "execute_result"
    }
   ],
   "source": [
    "jax.tree_map(lambda x: x.shape, raw_feature_dict[\"grid\"])"
   ]
  },
  {
   "cell_type": "code",
   "execution_count": 9,
   "metadata": {},
   "outputs": [
    {
     "data": {
      "text/plain": [
       "{'num_examples': 100,\n",
       " 'num_position_coords': 1600,\n",
       " 'num_velocity_coords': 24,\n",
       " 'num_phase_coords': 38400,\n",
       " 'num_boundary_coords': 1920}"
      ]
     },
     "execution_count": 9,
     "metadata": {},
     "output_type": "execute_result"
    }
   ],
   "source": [
    "raw_feature_dict[\"shape\"]"
   ]
  },
  {
   "cell_type": "code",
   "execution_count": 1,
   "metadata": {},
   "outputs": [],
   "source": [
    "from deeprte.model import model"
   ]
  },
  {
   "cell_type": "code",
   "execution_count": null,
   "metadata": {},
   "outputs": [],
   "source": []
  }
 ],
 "metadata": {
  "kernelspec": {
   "display_name": "Python 3",
   "language": "python",
   "name": "python3"
  },
  "language_info": {
   "codemirror_mode": {
    "name": "ipython",
    "version": 3
   },
   "file_extension": ".py",
   "mimetype": "text/x-python",
   "name": "python",
   "nbconvert_exporter": "python",
   "pygments_lexer": "ipython3",
   "version": "3.12.1"
  }
 },
 "nbformat": 4,
 "nbformat_minor": 2
}

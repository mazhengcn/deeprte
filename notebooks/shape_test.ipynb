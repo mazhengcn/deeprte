{
 "cells": [
  {
   "cell_type": "code",
   "execution_count": 1,
   "metadata": {},
   "outputs": [],
   "source": [
    "import pathlib\n",
    "\n",
    "import jax\n",
    "import jax.numpy as jnp\n",
    "import numpy as np\n",
    "from flax import nnx\n",
    "from jax.sharding import PartitionSpec as P\n",
    "from rte_dataset.builders import pipeline\n",
    "\n",
    "from deeprte.configs import default\n",
    "from deeprte.model import features\n",
    "from deeprte.model.mapping import inference_subbatch\n",
    "from deeprte.model.tf import rte_features\n",
    "from deeprte.train_lib import utils\n"
   ]
  },
  {
   "cell_type": "code",
   "execution_count": 2,
   "metadata": {},
   "outputs": [],
   "source": [
    "data_path = pathlib.Path(\n",
    "    \"/workspaces/deeprte/data/raw_data/train/g0.1-gaussian/g0.1-gaussian.npz\"\n",
    ")\n",
    "data_pipeline = pipeline.DataPipeline(data_path.parent, [data_path.name])\n",
    "raw_feature_dict = data_pipeline.process()\n",
    "del data_pipeline\n"
   ]
  },
  {
   "cell_type": "code",
   "execution_count": 3,
   "metadata": {},
   "outputs": [
    {
     "data": {
      "text/plain": [
       "{'num_examples': 500,\n",
       " 'num_position_coords': 1600,\n",
       " 'num_velocity_coords': 24,\n",
       " 'num_phase_coords': 38400,\n",
       " 'num_boundary_coords': 38400,\n",
       " 'num_source_coords': 38400}"
      ]
     },
     "execution_count": 3,
     "metadata": {},
     "output_type": "execute_result"
    }
   ],
   "source": [
    "raw_feature_dict[\"shape\"]"
   ]
  },
  {
   "cell_type": "code",
   "execution_count": 4,
   "metadata": {},
   "outputs": [
    {
     "data": {
      "text/plain": [
       "[38400, 4]"
      ]
     },
     "execution_count": 4,
     "metadata": {},
     "output_type": "execute_result"
    }
   ],
   "source": [
    "rte_features.shape(\"phase_coords\", **raw_feature_dict[\"shape\"])"
   ]
  },
  {
   "cell_type": "code",
   "execution_count": null,
   "metadata": {},
   "outputs": [],
   "source": []
  }
 ],
 "metadata": {
  "kernelspec": {
   "display_name": "Python 3",
   "language": "python",
   "name": "python3"
  },
  "language_info": {
   "codemirror_mode": {
    "name": "ipython",
    "version": 3
   },
   "file_extension": ".py",
   "mimetype": "text/x-python",
   "name": "python",
   "nbconvert_exporter": "python",
   "pygments_lexer": "ipython3",
   "version": "3.10.14"
  }
 },
 "nbformat": 4,
 "nbformat_minor": 2
}

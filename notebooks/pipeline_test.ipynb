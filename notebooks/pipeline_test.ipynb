{
 "cells": [
  {
   "cell_type": "code",
   "execution_count": 1,
   "metadata": {},
   "outputs": [],
   "source": [
    "import pathlib\n",
    "\n",
    "import jax\n",
    "import jax.numpy as jnp\n",
    "import numpy as np\n",
    "from flax import nnx\n",
    "from jax.sharding import PartitionSpec as P\n",
    "from rte_dataset.builders import pipeline\n",
    "\n",
    "from deeprte.configs import default\n",
    "from deeprte.model import features\n",
    "from deeprte.model.mapping import inference_subbatch\n",
    "from deeprte.model.tf import rte_features\n",
    "from deeprte.train_lib import utils\n"
   ]
  },
  {
   "cell_type": "code",
   "execution_count": 2,
   "metadata": {},
   "outputs": [],
   "source": [
    "config = default.Config()"
   ]
  },
  {
   "cell_type": "code",
   "execution_count": 3,
   "metadata": {},
   "outputs": [],
   "source": [
    "config.load_parameters_path = \"/workspaces/deeprte/ckpts/g0.1-test1112/infer/params\""
   ]
  },
  {
   "cell_type": "code",
   "execution_count": 4,
   "metadata": {},
   "outputs": [],
   "source": [
    "rngs = jax.random.key(0)"
   ]
  },
  {
   "cell_type": "code",
   "execution_count": 5,
   "metadata": {},
   "outputs": [],
   "source": [
    "# params\n",
    "data_path = pathlib.Path(\n",
    "    \"/workspaces/deeprte/data/raw_data/test/source-g0.1-qconstant/g0.1-qconstant.npz\"\n",
    ")\n",
    "data_pipeline = pipeline.DataPipeline(data_path.parent, [data_path.name])\n",
    "raw_feature_dict = data_pipeline.process()\n",
    "del data_pipeline"
   ]
  },
  {
   "cell_type": "code",
   "execution_count": 6,
   "metadata": {},
   "outputs": [
    {
     "data": {
      "text/plain": [
       "{'functions': {'boundary': (100, 40, 40, 24),\n",
       "  'boundary_scattering_kernel': (100, 1600, 24, 24),\n",
       "  'psi_label': (100, 40, 40, 24),\n",
       "  'scattering_kernel': (100, 40, 40, 24, 24),\n",
       "  'self_scattering_kernel': (100, 24, 24),\n",
       "  'sigma': (100, 40, 40, 2),\n",
       "  'source': (100, 40, 40, 24),\n",
       "  'source_label': (100, 40, 40, 24)},\n",
       " 'grid': {'boundary_coords': (40, 40, 24, 4),\n",
       "  'boundary_weights': (40, 40, 24),\n",
       "  'phase_coords': (40, 40, 24, 4),\n",
       "  'position_coords': (40, 40, 2),\n",
       "  'source_coords': (40, 40, 24, 4),\n",
       "  'source_weights': (40, 40, 24),\n",
       "  'velocity_coords': (24, 2),\n",
       "  'velocity_weights': (24,)},\n",
       " 'shape': {'num_boundary_coords': 38400,\n",
       "  'num_examples': 100,\n",
       "  'num_phase_coords': 38400,\n",
       "  'num_position_coords': 1600,\n",
       "  'num_source_coords': 38400,\n",
       "  'num_velocity_coords': 24}}"
      ]
     },
     "execution_count": 6,
     "metadata": {},
     "output_type": "execute_result"
    }
   ],
   "source": [
    "jax.tree.map(lambda x: x.shape if isinstance(x, np.ndarray) else x, raw_feature_dict)"
   ]
  },
  {
   "cell_type": "code",
   "execution_count": 7,
   "metadata": {},
   "outputs": [],
   "source": [
    "i = 0\n",
    "\n",
    "feature_dict = {\n",
    "    \"functions\": jax.tree.map(lambda x: x[i : i + 1], raw_feature_dict[\"functions\"]),\n",
    "    \"grid\": raw_feature_dict[\"grid\"],\n",
    "    \"shape\": raw_feature_dict[\"shape\"],\n",
    "}\n",
    "batch = {}"
   ]
  }
 ],
 "metadata": {
  "kernelspec": {
   "display_name": "Python 3",
   "language": "python",
   "name": "python3"
  },
  "language_info": {
   "codemirror_mode": {
    "name": "ipython",
    "version": 3
   },
   "file_extension": ".py",
   "mimetype": "text/x-python",
   "name": "python",
   "nbconvert_exporter": "python",
   "pygments_lexer": "ipython3",
   "version": "3.10.14"
  }
 },
 "nbformat": 4,
 "nbformat_minor": 2
}

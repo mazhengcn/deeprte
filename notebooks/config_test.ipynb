{
 "cells": [
  {
   "cell_type": "code",
   "execution_count": 1,
   "metadata": {},
   "outputs": [],
   "source": [
    "import os\n",
    "os.environ[\"CUDA_VISIBLE_DEVICES\"] = '6'"
   ]
  },
  {
   "cell_type": "code",
   "execution_count": 2,
   "metadata": {},
   "outputs": [],
   "source": [
    "from deeprte.config import get_config\n",
    "import ml_collections"
   ]
  },
  {
   "cell_type": "code",
   "execution_count": 3,
   "metadata": {},
   "outputs": [],
   "source": [
    "cfg = ml_collections.config_dict.ConfigDict()\n",
    "\n",
    "cfg.experiment_kwargs = ml_collections.config_dict.ConfigDict()\n"
   ]
  },
  {
   "cell_type": "code",
   "execution_count": 4,
   "metadata": {},
   "outputs": [],
   "source": [
    "config = get_config()"
   ]
  },
  {
   "cell_type": "code",
   "execution_count": 5,
   "metadata": {},
   "outputs": [
    {
     "data": {
      "text/plain": [
       "best_model_eval_metric: ''\n",
       "best_model_eval_metric_higher_is_better: true\n",
       "checkpoint_dir: ''\n",
       "checkpoint_interval_type: null\n",
       "eval_initial_weights: false\n",
       "experiment_kwargs:\n",
       "  config:\n",
       "    dataset:\n",
       "      buffer_size: 5000\n",
       "      data_path: ''\n",
       "      data_split:\n",
       "        is_split_datasets: true\n",
       "        num_test_samples: 2\n",
       "        num_train_samples: 6\n",
       "        num_val_samples: 2\n",
       "        save_path: ''\n",
       "        train_validation_split_rate: 0.8\n",
       "      max_intra_op_parallelism: 1\n",
       "      num_samples: 10\n",
       "      pre_shuffle: true\n",
       "      pre_shuffle_seed: 42\n",
       "      threadpool_size: 48\n",
       "      train:\n",
       "        batch_size: 6\n",
       "        collocation_sizes: 500\n",
       "        repeat: 1\n",
       "      validation:\n",
       "        batch_size: 2\n",
       "    model:\n",
       "      green_function:\n",
       "        activation: gelu\n",
       "        scatter_model:\n",
       "          res_block_depth: 2\n",
       "          transport_model:\n",
       "            coefficient_net:\n",
       "              attention_net:\n",
       "                widths:\n",
       "                - 64\n",
       "                - 1\n",
       "            transport_block_mlp:\n",
       "              widths:\n",
       "              - 128\n",
       "              - 128\n",
       "              - 128\n",
       "              - 128\n",
       "    training:\n",
       "      num_epochs: 5000\n",
       "      optimizer:\n",
       "        adam_kwargs: {}\n",
       "        base_lr: 0.001\n",
       "        decay_kwargs:\n",
       "          decay_rate: 0.96\n",
       "          transition_steps: 200\n",
       "        optimizer: adam\n",
       "        scale_by_batch: true\n",
       "        schedule_type: exponential\n",
       "interval_type: secs\n",
       "log_all_train_data: false\n",
       "log_tensors_interval: 1\n",
       "log_train_data_interval: 2.0\n",
       "logging_interval_type: null\n",
       "max_checkpoints_to_keep: 5\n",
       "one_off_evaluate: false\n",
       "random_mode_eval: same_host_same_device\n",
       "random_mode_train: unique_host_unique_device\n",
       "random_seed: 42\n",
       "restore_dir: ''\n",
       "save_checkpoint_interval: 40\n",
       "train_checkpoint_all_hosts: false\n",
       "training_steps: 10000"
      ]
     },
     "execution_count": 5,
     "metadata": {},
     "output_type": "execute_result"
    }
   ],
   "source": [
    "config"
   ]
  },
  {
   "cell_type": "code",
   "execution_count": null,
   "metadata": {},
   "outputs": [],
   "source": []
  }
 ],
 "metadata": {
  "kernelspec": {
   "display_name": "Python 3.10.8 64-bit",
   "language": "python",
   "name": "python3"
  },
  "language_info": {
   "codemirror_mode": {
    "name": "ipython",
    "version": 3
   },
   "file_extension": ".py",
   "mimetype": "text/x-python",
   "name": "python",
   "nbconvert_exporter": "python",
   "pygments_lexer": "ipython3",
   "version": "3.10.8"
  },
  "orig_nbformat": 4,
  "vscode": {
   "interpreter": {
    "hash": "949777d72b0d2535278d3dc13498b2535136f6dfe0678499012e853ee9abcab1"
   }
  }
 },
 "nbformat": 4,
 "nbformat_minor": 2
}

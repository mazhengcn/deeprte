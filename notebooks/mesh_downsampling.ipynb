{
 "cells": [
  {
   "cell_type": "code",
   "execution_count": 1,
   "metadata": {},
   "outputs": [],
   "source": [
    "import scipy.io\n",
    "import numpy as np\n",
    "\n",
    "import sys\n",
    "\n",
    "sys.path.append(\"/root/projects/deeprte\")\n",
    "\n",
    "from deeprte.data import pipeline"
   ]
  },
  {
   "cell_type": "code",
   "execution_count": 2,
   "metadata": {},
   "outputs": [],
   "source": [
    "DATA_DIR = \"/root/projects/deeprte/data/test/bc1-g0.1\"\n",
    "DATA_NAME = [\"bc1-g0.1.mat\"]\n",
    "OUT_NAME = \"bc1-g0.1_meshdownsampling.mat\""
   ]
  },
  {
   "cell_type": "code",
   "execution_count": 3,
   "metadata": {},
   "outputs": [],
   "source": [
    "data = scipy.io.loadmat(DATA_DIR + \"/\" + DATA_NAME[0])"
   ]
  },
  {
   "cell_type": "code",
   "execution_count": 4,
   "metadata": {},
   "outputs": [
    {
     "data": {
      "text/plain": [
       "dict_keys(['__header__', '__version__', '__globals__', 'config', 'ct', 'omega_prime', 'phi', 'psi_bc', 'psi_label', 'rand_params', 'rv_prime', 'scattering_kernel', 'sigma_a', 'sigma_t', 'st', 'w_angle', 'x', 'y', '__function_workspace__'])"
      ]
     },
     "execution_count": 4,
     "metadata": {},
     "output_type": "execute_result"
    }
   ],
   "source": [
    "data.keys()"
   ]
  },
  {
   "cell_type": "code",
   "execution_count": 5,
   "metadata": {},
   "outputs": [
    {
     "data": {
      "text/plain": [
       "(164, 12, 4)"
      ]
     },
     "execution_count": 5,
     "metadata": {},
     "output_type": "execute_result"
    }
   ],
   "source": [
    "data[\"rv_prime\"].shape"
   ]
  },
  {
   "cell_type": "code",
   "execution_count": 6,
   "metadata": {},
   "outputs": [],
   "source": [
    "n = 41\n",
    "\n",
    "data[\"phi\"] = data[\"phi\"][:, ::2, ::2]\n",
    "data[\"psi_label\"] = data[\"psi_label\"][:, ::2, ::2]\n",
    "data[\"x\"] = np.squeeze(data[\"x\"])[::2]\n",
    "data[\"y\"] = np.squeeze(data[\"y\"])[::2]\n",
    "data[\"sigma_a\"] = data[\"sigma_a\"][:, ::2, ::2]\n",
    "data[\"sigma_t\"] = data[\"sigma_t\"][:, ::2, ::2]\n",
    "\n",
    "list_psi_bc = [data[\"psi_bc\"][:, n * i : n * (i + 1), :][:, ::2] for i in range(4)]\n",
    "data[\"psi_bc\"] = np.concatenate(list_psi_bc, axis=-2)\n",
    "# data[\"psi_bc\"] = data[\"psi_bc\"][:, ::2]\n",
    "\n",
    "list_omega_prime = [data[\"omega_prime\"][n * i : n * (i + 1),:][::2] for i in range(4)]\n",
    "data[\"omega_prime\"] = np.concatenate(list_omega_prime, axis=-1)\n",
    "\n",
    "list_rv_prime = [data[\"rv_prime\"][n * i : n * (i + 1),:,:][::2] for i in range(4)]\n",
    "data[\"rv_prime\"] = np.concatenate(list_rv_prime, axis=0)"
   ]
  },
  {
   "cell_type": "code",
   "execution_count": 7,
   "metadata": {},
   "outputs": [],
   "source": [
    "scipy.io.savemat(DATA_DIR + \"/\" + OUT_NAME, data)"
   ]
  },
  {
   "cell_type": "code",
   "execution_count": 8,
   "metadata": {},
   "outputs": [
    {
     "data": {
      "text/plain": [
       "(100, 84, 12)"
      ]
     },
     "execution_count": 8,
     "metadata": {},
     "output_type": "execute_result"
    }
   ],
   "source": [
    "data[\"psi_bc\"].shape"
   ]
  },
  {
   "cell_type": "code",
   "execution_count": 9,
   "metadata": {},
   "outputs": [
    {
     "data": {
      "text/plain": [
       "(100, 21, 21)"
      ]
     },
     "execution_count": 9,
     "metadata": {},
     "output_type": "execute_result"
    }
   ],
   "source": [
    "data[\"phi\"].shape"
   ]
  },
  {
   "cell_type": "code",
   "execution_count": 10,
   "metadata": {},
   "outputs": [
    {
     "data": {
      "text/plain": [
       "{'boundary': (100, 80, 12),\n",
       " 'boundary_scattering_kernel': (100, 80, 12, 24),\n",
       " 'psi_label': (100, 20, 20, 24),\n",
       " 'scattering_kernel': (100, 20, 20, 24, 24),\n",
       " 'self_scattering_kernel': (100, 24, 24),\n",
       " 'sigma': (100, 20, 20, 2)}"
      ]
     },
     "execution_count": 10,
     "metadata": {},
     "output_type": "execute_result"
    }
   ],
   "source": [
    "import jax\n",
    "\n",
    "DATA_DIR = \"/root/projects/deeprte/data/test/bc1-g0.1\"\n",
    "DATA_NAME = [\"bc1-g0.1_meshdownsampling.mat\"]\n",
    "OUT_NAME = \"bc1-g0.1_meshdownsampling.mat\"\n",
    "\n",
    "data_pipeline = pipeline.DataPipeline(DATA_DIR, DATA_NAME)\n",
    "raw_feature_dict = data_pipeline.process()\n",
    "num_examples = raw_feature_dict[\"shape\"][\"num_examples\"]\n",
    "\n",
    "del data_pipeline\n",
    "# del _raw_feature_dict\n",
    "jax.tree_map(lambda x: x.shape, raw_feature_dict[\"functions\"])"
   ]
  },
  {
   "cell_type": "code",
   "execution_count": 11,
   "metadata": {},
   "outputs": [
    {
     "data": {
      "text/plain": [
       "{'boundary_coords': (80, 12, 4),\n",
       " 'boundary_weights': (20, 48),\n",
       " 'phase_coords': (20, 20, 24, 4),\n",
       " 'position_coords': (20, 20, 2),\n",
       " 'velocity_coords': (24, 2),\n",
       " 'velocity_weights': (24,)}"
      ]
     },
     "execution_count": 11,
     "metadata": {},
     "output_type": "execute_result"
    }
   ],
   "source": [
    "jax.tree_map(lambda x: x.shape, raw_feature_dict[\"grid\"])"
   ]
  },
  {
   "cell_type": "code",
   "execution_count": 12,
   "metadata": {},
   "outputs": [
    {
     "data": {
      "text/plain": [
       "{'num_examples': 100,\n",
       " 'num_position_coords': 400,\n",
       " 'num_velocity_coords': 24,\n",
       " 'num_phase_coords': 9600,\n",
       " 'num_boundary_coords': 960}"
      ]
     },
     "execution_count": 12,
     "metadata": {},
     "output_type": "execute_result"
    }
   ],
   "source": [
    "raw_feature_dict[\"shape\"]"
   ]
  },
  {
   "cell_type": "code",
   "execution_count": 13,
   "metadata": {},
   "outputs": [
    {
     "data": {
      "text/plain": [
       "array([[[ 0.        ,  0.025     ,  0.2554414 , -0.2554414 ],\n",
       "        [ 0.        ,  0.025     ,  0.28708965, -0.69309574],\n",
       "        [ 0.        ,  0.025     ,  0.69309574, -0.28708965],\n",
       "        ...,\n",
       "        [ 0.        ,  0.025     ,  0.9380233 ,  0.2513426 ],\n",
       "        [ 0.        ,  0.025     ,  0.68668073,  0.68668073],\n",
       "        [ 0.        ,  0.025     ,  0.2513426 ,  0.9380233 ]],\n",
       "\n",
       "       [[ 0.        ,  0.075     ,  0.2554414 , -0.2554414 ],\n",
       "        [ 0.        ,  0.075     ,  0.28708965, -0.69309574],\n",
       "        [ 0.        ,  0.075     ,  0.69309574, -0.28708965],\n",
       "        ...,\n",
       "        [ 0.        ,  0.075     ,  0.9380233 ,  0.2513426 ],\n",
       "        [ 0.        ,  0.075     ,  0.68668073,  0.68668073],\n",
       "        [ 0.        ,  0.075     ,  0.2513426 ,  0.9380233 ]],\n",
       "\n",
       "       [[ 0.        ,  0.125     ,  0.2554414 , -0.2554414 ],\n",
       "        [ 0.        ,  0.125     ,  0.28708965, -0.69309574],\n",
       "        [ 0.        ,  0.125     ,  0.69309574, -0.28708965],\n",
       "        ...,\n",
       "        [ 0.        ,  0.125     ,  0.9380233 ,  0.2513426 ],\n",
       "        [ 0.        ,  0.125     ,  0.68668073,  0.68668073],\n",
       "        [ 0.        ,  0.125     ,  0.2513426 ,  0.9380233 ]],\n",
       "\n",
       "       ...,\n",
       "\n",
       "       [[ 0.875     ,  1.        , -0.2554414 , -0.2554414 ],\n",
       "        [ 0.875     ,  1.        , -0.69309574, -0.28708965],\n",
       "        [ 0.875     ,  1.        , -0.28708965, -0.69309574],\n",
       "        ...,\n",
       "        [ 0.875     ,  1.        ,  0.2513426 , -0.9380233 ],\n",
       "        [ 0.875     ,  1.        ,  0.68668073, -0.68668073],\n",
       "        [ 0.875     ,  1.        ,  0.9380233 , -0.2513426 ]],\n",
       "\n",
       "       [[ 0.92499995,  1.        , -0.2554414 , -0.2554414 ],\n",
       "        [ 0.92499995,  1.        , -0.69309574, -0.28708965],\n",
       "        [ 0.92499995,  1.        , -0.28708965, -0.69309574],\n",
       "        ...,\n",
       "        [ 0.92499995,  1.        ,  0.2513426 , -0.9380233 ],\n",
       "        [ 0.92499995,  1.        ,  0.68668073, -0.68668073],\n",
       "        [ 0.92499995,  1.        ,  0.9380233 , -0.2513426 ]],\n",
       "\n",
       "       [[ 0.975     ,  1.        , -0.2554414 , -0.2554414 ],\n",
       "        [ 0.975     ,  1.        , -0.69309574, -0.28708965],\n",
       "        [ 0.975     ,  1.        , -0.28708965, -0.69309574],\n",
       "        ...,\n",
       "        [ 0.975     ,  1.        ,  0.2513426 , -0.9380233 ],\n",
       "        [ 0.975     ,  1.        ,  0.68668073, -0.68668073],\n",
       "        [ 0.975     ,  1.        ,  0.9380233 , -0.2513426 ]]],\n",
       "      dtype=float32)"
      ]
     },
     "execution_count": 13,
     "metadata": {},
     "output_type": "execute_result"
    }
   ],
   "source": [
    "raw_feature_dict[\"grid\"][\"boundary_coords\"]"
   ]
  },
  {
   "cell_type": "code",
   "execution_count": null,
   "metadata": {},
   "outputs": [],
   "source": []
  }
 ],
 "metadata": {
  "kernelspec": {
   "display_name": "Python 3",
   "language": "python",
   "name": "python3"
  },
  "language_info": {
   "codemirror_mode": {
    "name": "ipython",
    "version": 3
   },
   "file_extension": ".py",
   "mimetype": "text/x-python",
   "name": "python",
   "nbconvert_exporter": "python",
   "pygments_lexer": "ipython3",
   "version": "3.12.1"
  }
 },
 "nbformat": 4,
 "nbformat_minor": 2
}

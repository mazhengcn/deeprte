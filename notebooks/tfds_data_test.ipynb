{
 "cells": [
  {
   "cell_type": "code",
   "execution_count": 1,
   "metadata": {},
   "outputs": [],
   "source": [
    "import os\n",
    "os.environ[\"CUDA_VISIBLE_DEVICES\"] = \"7\""
   ]
  },
  {
   "cell_type": "code",
   "execution_count": 5,
   "metadata": {},
   "outputs": [],
   "source": [
    "import pathlib"
   ]
  },
  {
   "cell_type": "code",
   "execution_count": 12,
   "metadata": {},
   "outputs": [],
   "source": [
    "path = \"/workspaces/deeprte/data/raw_data/g0.1-sigma_a3-sigma_t6\""
   ]
  },
  {
   "cell_type": "code",
   "execution_count": 13,
   "metadata": {},
   "outputs": [],
   "source": [
    "path = pathlib.Path(path)"
   ]
  },
  {
   "cell_type": "code",
   "execution_count": 14,
   "metadata": {},
   "outputs": [
    {
     "data": {
      "text/plain": [
       "['g0.1-sigma_a3-sigma_t6.mat']"
      ]
     },
     "execution_count": 14,
     "metadata": {},
     "output_type": "execute_result"
    }
   ],
   "source": [
    "[file.name for file in path.iterdir() if file.name.endswith(\".mat\")]"
   ]
  },
  {
   "cell_type": "code",
   "execution_count": 2,
   "metadata": {},
   "outputs": [
    {
     "name": "stderr",
     "output_type": "stream",
     "text": [
      "/opt/deeprteenv/lib/python3.11/site-packages/tqdm/auto.py:21: TqdmWarning: IProgress not found. Please update jupyter and ipywidgets. See https://ipywidgets.readthedocs.io/en/stable/user_install.html\n",
      "  from .autonotebook import tqdm as notebook_tqdm\n"
     ]
    }
   ],
   "source": [
    "import tensorflow_datasets as tfds"
   ]
  },
  {
   "cell_type": "code",
   "execution_count": 3,
   "metadata": {},
   "outputs": [
    {
     "name": "stderr",
     "output_type": "stream",
     "text": [
      "2023-05-09 23:16:56.738503: I tensorflow/core/util/port.cc:110] oneDNN custom operations are on. You may see slightly different numerical results due to floating-point round-off errors from different computation orders. To turn them off, set the environment variable `TF_ENABLE_ONEDNN_OPTS=0`.\n",
      "2023-05-09 23:16:56.773531: I tensorflow/core/platform/cpu_feature_guard.cc:182] This TensorFlow binary is optimized to use available CPU instructions in performance-critical operations.\n",
      "To enable the following instructions: AVX2 AVX512F AVX512_VNNI FMA, in other operations, rebuild TensorFlow with the appropriate compiler flags.\n"
     ]
    }
   ],
   "source": [
    "ds, info = tfds.load(\n",
    "        \"rte\",\n",
    "        data_dir=\"/workspaces/deeprte/data/tfds\",\n",
    "        split=\"train[:1%]\",\n",
    "        shuffle_files=False,\n",
    "        with_info=True,\n",
    "    )"
   ]
  },
  {
   "cell_type": "code",
   "execution_count": 4,
   "metadata": {},
   "outputs": [
    {
     "data": {
      "text/plain": [
       "tfds.core.DatasetInfo(\n",
       "    name='rte',\n",
       "    full_name='rte/g0.0-0.2/0.0.2',\n",
       "    description=\"\"\"\n",
       "    TODO(rte): Markdown description of that will appear on the catalog page.\n",
       "    Description is **formatted** as markdown.\n",
       "    \n",
       "    It should also contain any processing which has been applied (if any),\n",
       "    (e.g. corrupted example skipped, images cropped,...):\n",
       "    \"\"\",\n",
       "    config_description=\"\"\"\n",
       "    g0.0-0.2 dataset.\n",
       "    \"\"\",\n",
       "    homepage='https://github.com/mazhengcn/deeprte',\n",
       "    data_path='/workspaces/deeprte/data/tfds/rte/g0.0-0.2/0.0.2',\n",
       "    file_format=tfrecord,\n",
       "    download_size=Unknown size,\n",
       "    dataset_size=265.83 MiB,\n",
       "    features=FeaturesDict({\n",
       "        'boundary': Tensor(shape=(None,), dtype=float32),\n",
       "        'boundary_coords': Tensor(shape=(None, 4), dtype=float32),\n",
       "        'boundary_scattering_kernel': Tensor(shape=(None, None), dtype=float32),\n",
       "        'boundary_weights': Tensor(shape=(None,), dtype=float32),\n",
       "        'phase_coords': Tensor(shape=(None, 4), dtype=float32),\n",
       "        'position_coords': Tensor(shape=(None, 2), dtype=float32),\n",
       "        'psi_label': Tensor(shape=(None,), dtype=float32),\n",
       "        'scattering_kernel': Tensor(shape=(None, None), dtype=float32),\n",
       "        'self_scattering_kernel': Tensor(shape=(None, None), dtype=float32),\n",
       "        'sigma': Tensor(shape=(None, 2), dtype=float32),\n",
       "        'velocity_coords': Tensor(shape=(None, 2), dtype=float32),\n",
       "        'velocity_weights': Tensor(shape=(None,), dtype=float32),\n",
       "    }),\n",
       "    supervised_keys=None,\n",
       "    disable_shuffling=False,\n",
       "    splits={\n",
       "        'train': <SplitInfo num_examples=1000, num_shards=4>,\n",
       "    },\n",
       "    citation=\"\"\"// TODO(rte): BibTeX citation\"\"\",\n",
       ")"
      ]
     },
     "execution_count": 4,
     "metadata": {},
     "output_type": "execute_result"
    }
   ],
   "source": [
    "info"
   ]
  },
  {
   "cell_type": "code",
   "execution_count": 8,
   "metadata": {},
   "outputs": [],
   "source": [
    "i = 10"
   ]
  },
  {
   "cell_type": "code",
   "execution_count": 9,
   "metadata": {},
   "outputs": [],
   "source": [
    "batch = ds.take(i)"
   ]
  },
  {
   "cell_type": "code",
   "execution_count": 12,
   "metadata": {},
   "outputs": [
    {
     "name": "stderr",
     "output_type": "stream",
     "text": [
      "2023-05-09 21:27:27.089380: I tensorflow/core/common_runtime/executor.cc:1197] [/device:CPU:0] (DEBUG INFO) Executor start aborting (this does not indicate an error and you can ignore this message): INVALID_ARGUMENT: You must feed a value for placeholder tensor 'Placeholder/_0' with dtype string and shape [1]\n",
      "\t [[{{node Placeholder/_0}}]]\n",
      "2023-05-09 21:27:27.089840: I tensorflow/core/common_runtime/executor.cc:1197] [/device:CPU:0] (DEBUG INFO) Executor start aborting (this does not indicate an error and you can ignore this message): INVALID_ARGUMENT: You must feed a value for placeholder tensor 'Placeholder/_4' with dtype int64 and shape [1]\n",
      "\t [[{{node Placeholder/_4}}]]\n"
     ]
    }
   ],
   "source": [
    "batch = next(batch.as_numpy_iterator())"
   ]
  },
  {
   "cell_type": "code",
   "execution_count": 14,
   "metadata": {},
   "outputs": [
    {
     "data": {
      "text/plain": [
       "dict_keys(['boundary', 'boundary_coords', 'boundary_scattering_kernel', 'boundary_weights', 'phase_coords', 'position_coords', 'psi_label', 'scattering_kernel', 'self_scattering_kernel', 'sigma', 'velocity_coords', 'velocity_weights'])"
      ]
     },
     "execution_count": 14,
     "metadata": {},
     "output_type": "execute_result"
    }
   ],
   "source": [
    "batch.keys()"
   ]
  },
  {
   "cell_type": "code",
   "execution_count": 4,
   "metadata": {},
   "outputs": [],
   "source": [
    "BATCH_FEAT_LIST = [\n",
    "    \"sigma_a\",\n",
    "    \"sigma_t\",\n",
    "    \"psi_label\",\n",
    "    \"psi_bc\",\n",
    "    \"scattering_kernel\",\n",
    "    \"phi\",\n",
    "]"
   ]
  },
  {
   "cell_type": "code",
   "execution_count": 9,
   "metadata": {},
   "outputs": [],
   "source": [
    "source_dir = \"/workspaces/deeprte/data/matlab/train-scattering-kernel-0508/g0.0-0.2\"\n",
    "data_name_list = [\"train_kernel_g0.0-0.2.mat\"]"
   ]
  },
  {
   "cell_type": "code",
   "execution_count": null,
   "metadata": {},
   "outputs": [],
   "source": []
  }
 ],
 "metadata": {
  "kernelspec": {
   "display_name": "deeprteenv",
   "language": "python",
   "name": "python3"
  },
  "language_info": {
   "codemirror_mode": {
    "name": "ipython",
    "version": 3
   },
   "file_extension": ".py",
   "mimetype": "text/x-python",
   "name": "python",
   "nbconvert_exporter": "python",
   "pygments_lexer": "ipython3",
   "version": "3.11.3"
  },
  "orig_nbformat": 4
 },
 "nbformat": 4,
 "nbformat_minor": 2
}

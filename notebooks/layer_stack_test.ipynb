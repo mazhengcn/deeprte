{
 "cells": [
  {
   "cell_type": "code",
   "execution_count": 1,
   "metadata": {},
   "outputs": [],
   "source": [
    "import os\n",
    "\n",
    "import functools\n",
    "import jax.numpy as jnp\n",
    "\n",
    "os.environ[\"CUDA_VISIBLE_DEVICES\"] = \"1\"\n",
    "\n",
    "import haiku as hk\n",
    "import jax\n",
    "import numpy as np\n",
    "\n",
    "from deeprte.data.pipeline import DataPipeline\n",
    "from deeprte.model.tf.rte_dataset import np_to_tensor_dict, divide_batch_feat\n",
    "from deeprte.model.tf.rte_features import _BATCH_FEATURE_NAMES, _COLLOCATION_FEATURE_NAMES\n",
    "from deeprte.config import get_config"
   ]
  },
  {
   "cell_type": "code",
   "execution_count": 2,
   "metadata": {},
   "outputs": [],
   "source": [
    "import functools\n",
    "import haiku as hk\n",
    "import jax\n",
    "import jax.numpy as jnp\n",
    "\n",
    "\n",
    "def parameter_shapes(params):\n",
    "  \"\"\"Make printing parameters a little more readable.\"\"\"\n",
    "  return jax.tree_util.tree_map(lambda p: p.shape, params)\n",
    "\n",
    "\n",
    "def transform_and_print_shapes(fn, x_shape=(2, 3)):\n",
    "  \"\"\"Print name and shape of the parameters.\"\"\"\n",
    "  rng = jax.random.PRNGKey(42)\n",
    "  x = jnp.ones(x_shape)\n",
    "\n",
    "  transformed_fn = hk.transform(fn)\n",
    "  params = transformed_fn.init(rng, x)\n",
    "  print('\\nThe name and shape of the parameters are:')\n",
    "  print(parameter_shapes(params))\n",
    "\n",
    "def assert_all_equal(params_1, params_2):\n",
    "  assert all(jax.tree_util.tree_leaves(\n",
    "      jax.tree_util.tree_map(lambda a, b: (a == b).all(), params_1, params_2)))"
   ]
  },
  {
   "cell_type": "code",
   "execution_count": 3,
   "metadata": {},
   "outputs": [],
   "source": [
    "w_init = hk.initializers.TruncatedNormal(stddev=1)\n",
    "\n",
    "class SimpleModule(hk.Module):\n",
    "  \"\"\"A simple module class with one variable.\"\"\"\n",
    "\n",
    "  def __init__(self, output_channels, name=None):\n",
    "    super().__init__(name)\n",
    "    assert isinstance(output_channels, int)\n",
    "    self._output_channels = output_channels\n",
    "\n",
    "  def __call__(self, x):\n",
    "    w_shape = (x.shape[-1], self._output_channels)\n",
    "    w = hk.get_parameter(\"w\", w_shape, x.dtype, init=w_init)\n",
    "    return jnp.dot(x, w)"
   ]
  },
  {
   "cell_type": "code",
   "execution_count": 4,
   "metadata": {},
   "outputs": [],
   "source": [
    "from deeprte.model.layer_stack_alphafold import layer_stack"
   ]
  },
  {
   "cell_type": "code",
   "execution_count": 9,
   "metadata": {},
   "outputs": [],
   "source": [
    "def f1(x):\n",
    "  def f(x):\n",
    "    simple_one = SimpleModule(output_channels=3)\n",
    "    return simple_one(x)\n",
    "  stack = hk.experimental.layer_stack(2)(f)\n",
    "  # simple_one = SimpleModule(output_channels=3)\n",
    "  # stack = hk.experimental.layer_stack(2)(simple_one)\n",
    "  x = stack(x)\n",
    "  return x\n",
    "\n",
    "def f2(x):\n",
    "  def f(x):\n",
    "    simple_one = SimpleModule(output_channels=3)\n",
    "    return simple_one(x)\n",
    "  stack = layer_stack(2)(f)\n",
    "  # simple_one = SimpleModule(output_channels=3)\n",
    "  # stack = layer_stack(2)(simple_one)\n",
    "  x = stack(x)\n",
    "  return x\n",
    "\n",
    "# transform_and_print_shapes(f)"
   ]
  },
  {
   "cell_type": "code",
   "execution_count": 10,
   "metadata": {},
   "outputs": [],
   "source": [
    "rng = jax.random.PRNGKey(42)\n",
    "x = jnp.ones((3,3))\n",
    "\n",
    "transformed_fn = hk.transform(f1)\n",
    "params_1 = transformed_fn.init(rng, x)\n",
    "\n",
    "transformed_fn = hk.transform(f2)\n",
    "params_2 = transformed_fn.init(rng, x)"
   ]
  },
  {
   "cell_type": "code",
   "execution_count": 11,
   "metadata": {},
   "outputs": [
    {
     "data": {
      "text/plain": [
       "DeviceArray(False, dtype=bool)"
      ]
     },
     "execution_count": 11,
     "metadata": {},
     "output_type": "execute_result"
    }
   ],
   "source": [
    "jnp.allclose(params_1['__layer_stack_no_per_layer/simple_module'][\"w\"], params_2['__layer_stack_no_state/simple_module'][\"w\"])"
   ]
  },
  {
   "cell_type": "code",
   "execution_count": 12,
   "metadata": {},
   "outputs": [
    {
     "data": {
      "text/plain": [
       "{'__layer_stack_no_state/simple_module': {'w': DeviceArray([[[-1.1022383 , -1.0554173 ,  0.63827467],\n",
       "                [ 0.17438962, -0.1926215 , -0.52258176],\n",
       "                [-0.1787666 ,  1.1934166 , -0.30565965]],\n",
       "  \n",
       "               [[ 1.463427  , -0.10136782, -0.76178634],\n",
       "                [ 1.030862  ,  1.0989444 , -0.48557475],\n",
       "                [-0.01121216, -0.9829121 , -0.76874983]]], dtype=float32)}}"
      ]
     },
     "execution_count": 12,
     "metadata": {},
     "output_type": "execute_result"
    }
   ],
   "source": [
    "params_2"
   ]
  },
  {
   "cell_type": "code",
   "execution_count": null,
   "metadata": {},
   "outputs": [],
   "source": []
  }
 ],
 "metadata": {
  "kernelspec": {
   "display_name": "Python 3",
   "language": "python",
   "name": "python3"
  },
  "language_info": {
   "codemirror_mode": {
    "name": "ipython",
    "version": 3
   },
   "file_extension": ".py",
   "mimetype": "text/x-python",
   "name": "python",
   "nbconvert_exporter": "python",
   "pygments_lexer": "ipython3",
   "version": "3.10.8 (main, Nov 15 2022, 21:06:05) [GCC 10.2.1 20210110]"
  },
  "orig_nbformat": 4,
  "vscode": {
   "interpreter": {
    "hash": "949777d72b0d2535278d3dc13498b2535136f6dfe0678499012e853ee9abcab1"
   }
  }
 },
 "nbformat": 4,
 "nbformat_minor": 2
}

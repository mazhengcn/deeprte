{
 "cells": [
  {
   "cell_type": "code",
   "execution_count": 2,
   "metadata": {},
   "outputs": [],
   "source": [
    "import os\n",
    "os.environ[\"CUDA_VISIBLE_DEVICES\"] = '7'"
   ]
  },
  {
   "cell_type": "code",
   "execution_count": 3,
   "metadata": {},
   "outputs": [],
   "source": [
    "from deeprte.config import get_config\n",
    "config = get_config()"
   ]
  },
  {
   "cell_type": "code",
   "execution_count": 4,
   "metadata": {},
   "outputs": [],
   "source": [
    "source_dir = \"/workspaces/deeprte/rte_data/rte_data/matlab/train-delta\"\n",
    "data_name_list = [\"train_delta_1.mat\",\"train_delta_2.mat\"]"
   ]
  },
  {
   "cell_type": "code",
   "execution_count": 4,
   "metadata": {},
   "outputs": [],
   "source": [
    "from deeprte.data.pipeline import DataPipeline\n",
    "data_pipeline = DataPipeline(source_dir, data_name_list)\n",
    "data = data_pipeline.process(pre_shuffle=True, is_split_test_samples=True, num_test_samples= 2)\n",
    "\n",
    "from deeprte.model.tf.rte_dataset import np_to_tensor_dict\n",
    "\n",
    "tf_data = np_to_tensor_dict(data)\n",
    "\n",
    "from deeprte.model.tf.rte_dataset import divide_batch_feat\n",
    "batched_data, unbatched_data = divide_batch_feat(tf_data)"
   ]
  },
  {
   "cell_type": "code",
   "execution_count": 5,
   "metadata": {},
   "outputs": [
    {
     "data": {
      "text/plain": [
       "{'sigma': TensorShape([998, 1600, 2]),\n",
       " 'psi_label': TensorShape([998, 38400]),\n",
       " 'scattering_kernel': TensorShape([998, 38400, 24]),\n",
       " 'self_scattering_kernel': TensorShape([998, 24, 24]),\n",
       " 'boundary': TensorShape([998, 1920]),\n",
       " 'position_coords': TensorShape([1600, 2]),\n",
       " 'velocity_coords': TensorShape([24, 2]),\n",
       " 'phase_coords': TensorShape([38400, 4]),\n",
       " 'boundary_coords': TensorShape([1920, 4]),\n",
       " 'boundary_weights': TensorShape([1920]),\n",
       " 'velocity_weights': TensorShape([24])}"
      ]
     },
     "execution_count": 5,
     "metadata": {},
     "output_type": "execute_result"
    }
   ],
   "source": [
    "import tensorflow as tf\n",
    "\n",
    "tf.nest.map_structure(lambda x:x.shape, tf_data)"
   ]
  },
  {
   "cell_type": "code",
   "execution_count": 6,
   "metadata": {},
   "outputs": [
    {
     "name": "stderr",
     "output_type": "stream",
     "text": [
      "/usr/local/lib/python3.10/site-packages/tqdm/auto.py:22: TqdmWarning: IProgress not found. Please update jupyter and ipywidgets. See https://ipywidgets.readthedocs.io/en/stable/user_install.html\n",
      "  from .autonotebook import tqdm as notebook_tqdm\n"
     ]
    }
   ],
   "source": [
    "from deeprte.model.tf.input_pipeline import split_feat,process_features, make_device_batch\n",
    "import jax\n",
    "train_feat = split_feat(tf_data, 0.8, True)\n",
    "# ds, unbatched_feat = load_and_split_data(tf_data, data_config, True)"
   ]
  },
  {
   "cell_type": "code",
   "execution_count": 7,
   "metadata": {},
   "outputs": [
    {
     "data": {
      "text/plain": [
       "{'sigma': TensorShape([6, 1681, 2]),\n",
       " 'psi_label': TensorShape([6, 40344]),\n",
       " 'scattering_kernel': TensorShape([6, 40344, 24]),\n",
       " 'self_scattering_kernel': TensorShape([6, 24, 24]),\n",
       " 'boundary': TensorShape([6, 1968]),\n",
       " 'position_coords': TensorShape([1681, 2]),\n",
       " 'velocity_coords': TensorShape([24, 2]),\n",
       " 'phase_coords': TensorShape([40344, 4]),\n",
       " 'boundary_coords': TensorShape([1968, 4]),\n",
       " 'boundary_weights': TensorShape([1968]),\n",
       " 'velocity_weights': TensorShape([24])}"
      ]
     },
     "execution_count": 7,
     "metadata": {},
     "output_type": "execute_result"
    }
   ],
   "source": [
    "tf.nest.map_structure(lambda x:x.shape, train_feat)"
   ]
  },
  {
   "cell_type": "code",
   "execution_count": 8,
   "metadata": {},
   "outputs": [],
   "source": [
    "data_config = config.dataset"
   ]
  },
  {
   "cell_type": "code",
   "execution_count": 9,
   "metadata": {},
   "outputs": [],
   "source": [
    "train_ds = process_features(train_feat, is_training=True, batch_sizes= make_device_batch(data_config.train.batch_size, jax.device_count()),collocation_sizes=data_config.train.collocation_sizes)\n",
    "# train_ds = process_features(train_feat, is_training=True, batch_sizes= [2,3],collocation_sizes=data_config.train.collocation_sizes)"
   ]
  },
  {
   "cell_type": "code",
   "execution_count": 10,
   "metadata": {},
   "outputs": [
    {
     "name": "stderr",
     "output_type": "stream",
     "text": [
      "WARNING:tensorflow:From /usr/local/lib/python3.10/site-packages/tensorflow/python/autograph/pyct/static_analysis/liveness.py:83: Analyzer.lamba_check (from tensorflow.python.autograph.pyct.static_analysis.liveness) is deprecated and will be removed after 2023-09-23.\n",
      "Instructions for updating:\n",
      "Lambda fuctions will be no more assumed to be used in the statement where they are used, or at least in the same block. https://github.com/tensorflow/tensorflow/issues/56089\n"
     ]
    },
    {
     "data": {
      "text/plain": [
       "{'sigma': (1, 6, 1681, 2),\n",
       " 'psi_label': (1, 6, 500),\n",
       " 'scattering_kernel': (1, 6, 500, 24),\n",
       " 'self_scattering_kernel': (1, 6, 24, 24),\n",
       " 'boundary': (1, 6, 1968),\n",
       " 'position_coords': (1, 1681, 2),\n",
       " 'velocity_coords': (1, 24, 2),\n",
       " 'phase_coords': (1, 500, 4),\n",
       " 'boundary_coords': (1, 1968, 4),\n",
       " 'boundary_weights': (1, 1968),\n",
       " 'velocity_weights': (1, 24)}"
      ]
     },
     "execution_count": 10,
     "metadata": {},
     "output_type": "execute_result"
    }
   ],
   "source": [
    "tf.nest.map_structure(lambda x:x.shape, next(train_ds))"
   ]
  },
  {
   "cell_type": "code",
   "execution_count": 11,
   "metadata": {},
   "outputs": [],
   "source": [
    "val_feat = split_feat(tf_data, 0.8, False)"
   ]
  },
  {
   "cell_type": "code",
   "execution_count": 12,
   "metadata": {},
   "outputs": [],
   "source": [
    "val_ds = process_features(val_feat, is_training=False, batch_sizes= make_device_batch(data_config.validation.batch_size, jax.device_count()))"
   ]
  },
  {
   "cell_type": "code",
   "execution_count": 13,
   "metadata": {},
   "outputs": [
    {
     "data": {
      "text/plain": [
       "{'sigma': (1, 2, 1681, 2),\n",
       " 'psi_label': (1, 2, 40344),\n",
       " 'scattering_kernel': (1, 2, 40344, 24),\n",
       " 'self_scattering_kernel': (1, 2, 24, 24),\n",
       " 'boundary': (1, 2, 1968),\n",
       " 'position_coords': (1, 1681, 2),\n",
       " 'velocity_coords': (1, 24, 2),\n",
       " 'phase_coords': (1, 40344, 4),\n",
       " 'boundary_coords': (1, 1968, 4),\n",
       " 'boundary_weights': (1, 1968),\n",
       " 'velocity_weights': (1, 24)}"
      ]
     },
     "execution_count": 13,
     "metadata": {},
     "output_type": "execute_result"
    }
   ],
   "source": [
    "tf.nest.map_structure(lambda x:x.shape, next(val_ds))"
   ]
  },
  {
   "cell_type": "code",
   "execution_count": 5,
   "metadata": {},
   "outputs": [
    {
     "name": "stderr",
     "output_type": "stream",
     "text": [
      "/usr/local/lib/python3.10/site-packages/tqdm/auto.py:22: TqdmWarning: IProgress not found. Please update jupyter and ipywidgets. See https://ipywidgets.readthedocs.io/en/stable/user_install.html\n",
      "  from .autonotebook import tqdm as notebook_tqdm\n"
     ]
    }
   ],
   "source": [
    "from deeprte.model.tf.input_pipeline import load_tf_data, tf_data_to_generator"
   ]
  },
  {
   "cell_type": "code",
   "execution_count": 6,
   "metadata": {},
   "outputs": [],
   "source": [
    "ds = load_tf_data(source_dir, data_name_list, pre_shuffle=True,is_split_test_samples=True, num_test_samples = 2)"
   ]
  },
  {
   "cell_type": "code",
   "execution_count": 8,
   "metadata": {},
   "outputs": [],
   "source": [
    "import tensorflow as tf"
   ]
  },
  {
   "cell_type": "code",
   "execution_count": 9,
   "metadata": {},
   "outputs": [
    {
     "data": {
      "text/plain": [
       "{'sigma': TensorShape([998, 1600, 2]),\n",
       " 'psi_label': TensorShape([998, 38400]),\n",
       " 'scattering_kernel': TensorShape([998, 38400, 24]),\n",
       " 'self_scattering_kernel': TensorShape([998, 24, 24]),\n",
       " 'boundary': TensorShape([998, 1920]),\n",
       " 'position_coords': TensorShape([1600, 2]),\n",
       " 'velocity_coords': TensorShape([24, 2]),\n",
       " 'phase_coords': TensorShape([38400, 4]),\n",
       " 'boundary_coords': TensorShape([1920, 4]),\n",
       " 'boundary_weights': TensorShape([1920]),\n",
       " 'velocity_weights': TensorShape([24])}"
      ]
     },
     "execution_count": 9,
     "metadata": {},
     "output_type": "execute_result"
    }
   ],
   "source": [
    "tf.nest.map_structure(lambda x:x.shape, ds)"
   ]
  },
  {
   "cell_type": "code",
   "execution_count": 18,
   "metadata": {},
   "outputs": [],
   "source": [
    "tfds = tf_data_to_generator(ds,True, [2,3],0.8,collocation_sizes=500)"
   ]
  },
  {
   "cell_type": "code",
   "execution_count": 19,
   "metadata": {},
   "outputs": [
    {
     "data": {
      "text/plain": [
       "{'sigma': (2, 3, 1681, 2),\n",
       " 'psi_label': (2, 3, 500),\n",
       " 'scattering_kernel': (2, 3, 500, 24),\n",
       " 'self_scattering_kernel': (2, 3, 24, 24),\n",
       " 'boundary': (2, 3, 1968),\n",
       " 'position_coords': (2, 1681, 2),\n",
       " 'velocity_coords': (2, 24, 2),\n",
       " 'phase_coords': (2, 500, 4),\n",
       " 'boundary_coords': (2, 1968, 4),\n",
       " 'boundary_weights': (2, 1968),\n",
       " 'velocity_weights': (2, 24)}"
      ]
     },
     "execution_count": 19,
     "metadata": {},
     "output_type": "execute_result"
    }
   ],
   "source": [
    "tf.nest.map_structure(lambda x:x.shape, next(tfds))"
   ]
  },
  {
   "cell_type": "code",
   "execution_count": null,
   "metadata": {},
   "outputs": [],
   "source": []
  }
 ],
 "metadata": {
  "kernelspec": {
   "display_name": "Python 3.10.7 64-bit",
   "language": "python",
   "name": "python3"
  },
  "language_info": {
   "codemirror_mode": {
    "name": "ipython",
    "version": 3
   },
   "file_extension": ".py",
   "mimetype": "text/x-python",
   "name": "python",
   "nbconvert_exporter": "python",
   "pygments_lexer": "ipython3",
   "version": "3.10.9 (main, Dec  8 2022, 01:46:27) [GCC 10.2.1 20210110]"
  },
  "orig_nbformat": 4,
  "vscode": {
   "interpreter": {
    "hash": "949777d72b0d2535278d3dc13498b2535136f6dfe0678499012e853ee9abcab1"
   }
  }
 },
 "nbformat": 4,
 "nbformat_minor": 2
}

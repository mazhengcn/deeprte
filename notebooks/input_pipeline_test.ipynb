{
 "cells": [
  {
   "cell_type": "code",
   "execution_count": null,
   "metadata": {},
   "outputs": [],
   "source": [
    "import numpy as np\n",
    "import tensorflow as tf\n",
    "\n",
    "from deeprte.model.tf import input_pipeline"
   ]
  },
  {
   "cell_type": "code",
   "execution_count": null,
   "metadata": {},
   "outputs": [],
   "source": [
    "split = input_pipeline.Split.TRAIN\n",
    "\n",
    "ds = input_pipeline.load(\n",
    "    split=split,\n",
    "    split_ratio=0.8,\n",
    "    is_training=True,\n",
    "    batch_sizes=[2, 3],\n",
    "    collocation_sizes=[120, 30],\n",
    ")"
   ]
  },
  {
   "cell_type": "code",
   "execution_count": null,
   "metadata": {},
   "outputs": [],
   "source": [
    "for i in range(3):\n",
    "    print(tf.nest.map_structure(lambda x: x.shape, next(iter(ds))))"
   ]
  }
 ],
 "metadata": {
  "kernelspec": {
   "display_name": "deeprteenv",
   "language": "python",
   "name": "python3"
  },
  "language_info": {
   "codemirror_mode": {
    "name": "ipython",
    "version": 3
   },
   "file_extension": ".py",
   "mimetype": "text/x-python",
   "name": "python",
   "nbconvert_exporter": "python",
   "pygments_lexer": "ipython3",
   "version": "3.11.2"
  },
  "orig_nbformat": 4
 },
 "nbformat": 4,
 "nbformat_minor": 2
}

{
 "cells": [
  {
   "cell_type": "code",
   "execution_count": 1,
   "metadata": {},
   "outputs": [],
   "source": [
    "import os\n",
    "os.environ[\"CUDA_VISIBLE_DEVICES\"] = '7'"
   ]
  },
  {
   "cell_type": "code",
   "execution_count": 2,
   "metadata": {},
   "outputs": [
    {
     "name": "stderr",
     "output_type": "stream",
     "text": [
      "/usr/local/lib/python3.10/site-packages/tqdm/auto.py:22: TqdmWarning: IProgress not found. Please update jupyter and ipywidgets. See https://ipywidgets.readthedocs.io/en/stable/user_install.html\n",
      "  from .autonotebook import tqdm as notebook_tqdm\n"
     ]
    }
   ],
   "source": [
    "from deeprte.config import make_config\n",
    "from deeprte.model.tf.input_pipeline import shard\n",
    "config = make_config()"
   ]
  },
  {
   "cell_type": "code",
   "execution_count": 3,
   "metadata": {},
   "outputs": [
    {
     "data": {
      "text/plain": [
       "best_model_eval_metric: ''\n",
       "best_model_eval_metric_higher_is_better: true\n",
       "checkpoint_interval_type: null\n",
       "data:\n",
       "  buffer_size: 5000\n",
       "  evaluation:\n",
       "    batch_size: 4\n",
       "  is_split_datasets: false\n",
       "  max_intra_op_parallelism: 1\n",
       "  seed: 42\n",
       "  threadpool_size: 48\n",
       "  training:\n",
       "    batch_size: 8\n",
       "    collocation_sizes: 500\n",
       "    num_epochs: 100\n",
       "    num_train_examples: 6\n",
       "    repeat: 1\n",
       "eval_initial_weights: false\n",
       "experiment_kwargs: {}\n",
       "interval_type: secs\n",
       "log_all_train_data: false\n",
       "log_tensors_interval: 60\n",
       "log_train_data_interval: 120.0\n",
       "logging_interval_type: null\n",
       "max_checkpoints_to_keep: 5\n",
       "one_off_evaluate: false\n",
       "random_mode_eval: same_host_same_device\n",
       "random_mode_train: unique_host_unique_device\n",
       "random_seed: 42\n",
       "save_checkpoint_interval: 300\n",
       "train_checkpoint_all_hosts: false\n",
       "training_steps: 10000"
      ]
     },
     "execution_count": 3,
     "metadata": {},
     "output_type": "execute_result"
    }
   ],
   "source": [
    "config"
   ]
  },
  {
   "cell_type": "code",
   "execution_count": 4,
   "metadata": {},
   "outputs": [
    {
     "data": {
      "text/plain": [
       "(<tf.Tensor: shape=(), dtype=int32, numpy=4>,\n",
       " <tf.Tensor: shape=(), dtype=int32, numpy=7>)"
      ]
     },
     "execution_count": 4,
     "metadata": {},
     "output_type": "execute_result"
    }
   ],
   "source": [
    "shard(config.data,0,2,True)"
   ]
  },
  {
   "cell_type": "code",
   "execution_count": 5,
   "metadata": {},
   "outputs": [],
   "source": [
    "data_path = \"/workspaces/deeprte/rte_data/rte_data/matlab/eval-data/test_shape.mat\"\n",
    "\n",
    "from deeprte.data.pipeline import DataPipeline\n",
    "data_pipeline = DataPipeline()\n",
    "data = data_pipeline.process(data_path)\n",
    "\n",
    "from deeprte.model.tf.rte_dataset import np_to_tensor_dict\n",
    "\n",
    "tf_data = np_to_tensor_dict(data)\n",
    "\n",
    "from deeprte.model.tf.rte_dataset import divide_batch_feat\n",
    "batched_data, unbatched_data = divide_batch_feat(tf_data)"
   ]
  },
  {
   "cell_type": "code",
   "execution_count": 6,
   "metadata": {},
   "outputs": [
    {
     "data": {
      "text/plain": [
       "{'sigma': TensorShape([10, 1681, 2]),\n",
       " 'psi_label': TensorShape([10, 40344]),\n",
       " 'boundary': TensorShape([10, 1968]),\n",
       " 'position_coords': TensorShape([1681, 2]),\n",
       " 'velocity_coords': TensorShape([24, 2]),\n",
       " 'phase_coords': TensorShape([40344, 4]),\n",
       " 'scattering_kernel': TensorShape([10, 40344, 24]),\n",
       " 'boundary_coords': TensorShape([1968, 4]),\n",
       " 'boundary_weights': TensorShape([1968]),\n",
       " 'velocity_weights': TensorShape([24])}"
      ]
     },
     "execution_count": 6,
     "metadata": {},
     "output_type": "execute_result"
    }
   ],
   "source": [
    "import tensorflow as tf\n",
    "\n",
    "tf.nest.map_structure(lambda x:x.shape, tf_data)"
   ]
  },
  {
   "cell_type": "code",
   "execution_count": 7,
   "metadata": {},
   "outputs": [],
   "source": [
    "from deeprte.model.tf.input_pipeline import load_and_split_data,process_features,np_example_to_features\n",
    "\n",
    "ds, unbatched_feat = load_and_split_data(tf_data, config.data, True)"
   ]
  },
  {
   "cell_type": "code",
   "execution_count": 8,
   "metadata": {},
   "outputs": [],
   "source": [
    "tfds_feat = process_features(ds, unbatched_feat, is_training = True, batch_sizes=[2,3], collocation_sizes=500)"
   ]
  },
  {
   "cell_type": "code",
   "execution_count": 9,
   "metadata": {},
   "outputs": [
    {
     "data": {
      "text/plain": [
       "{'sigma': (2, 3, 1681, 2),\n",
       " 'psi_label': (2, 3, 500),\n",
       " 'boundary': (2, 3, 1968),\n",
       " 'scattering_kernel': (2, 3, 500, 24),\n",
       " 'position_coords': (2, 1681, 2),\n",
       " 'velocity_coords': (2, 24, 2),\n",
       " 'phase_coords': (2, 500, 4),\n",
       " 'boundary_coords': (2, 1968, 4),\n",
       " 'boundary_weights': (2, 1968),\n",
       " 'velocity_weights': (2, 24)}"
      ]
     },
     "execution_count": 9,
     "metadata": {},
     "output_type": "execute_result"
    }
   ],
   "source": [
    "tf.nest.map_structure(lambda x:x.shape, next(tfds_feat))"
   ]
  },
  {
   "cell_type": "code",
   "execution_count": 10,
   "metadata": {},
   "outputs": [],
   "source": [
    "data_config = config.data"
   ]
  },
  {
   "cell_type": "code",
   "execution_count": 13,
   "metadata": {},
   "outputs": [],
   "source": [
    "tfds_input = np_example_to_features(data, batch_sizes=[2,5], data_config = data_config)"
   ]
  },
  {
   "cell_type": "code",
   "execution_count": 14,
   "metadata": {},
   "outputs": [
    {
     "data": {
      "text/plain": [
       "{'sigma': (2, 5, 1681, 2),\n",
       " 'psi_label': (2, 5, 40344),\n",
       " 'boundary': (2, 5, 1968),\n",
       " 'scattering_kernel': (2, 5, 40344, 24),\n",
       " 'position_coords': (2, 1681, 2),\n",
       " 'velocity_coords': (2, 24, 2),\n",
       " 'phase_coords': (2, 40344, 4),\n",
       " 'boundary_coords': (2, 1968, 4),\n",
       " 'boundary_weights': (2, 1968),\n",
       " 'velocity_weights': (2, 24)}"
      ]
     },
     "execution_count": 14,
     "metadata": {},
     "output_type": "execute_result"
    }
   ],
   "source": [
    "tf.nest.map_structure(lambda x:x.shape, next(tfds_input))"
   ]
  },
  {
   "cell_type": "code",
   "execution_count": 15,
   "metadata": {},
   "outputs": [],
   "source": [
    "data_config.is_split_datasets = True"
   ]
  },
  {
   "cell_type": "code",
   "execution_count": 22,
   "metadata": {},
   "outputs": [],
   "source": [
    "tfds_train_input, tfds_eval_input = np_example_to_features(data, batch_sizes=[2,2], data_config = data_config)"
   ]
  },
  {
   "cell_type": "code",
   "execution_count": 23,
   "metadata": {},
   "outputs": [
    {
     "data": {
      "text/plain": [
       "{'sigma': (2, 2, 1681, 2),\n",
       " 'psi_label': (2, 2, 40344),\n",
       " 'boundary': (2, 2, 1968),\n",
       " 'scattering_kernel': (2, 2, 40344, 24),\n",
       " 'position_coords': (2, 1681, 2),\n",
       " 'velocity_coords': (2, 24, 2),\n",
       " 'phase_coords': (2, 40344, 4),\n",
       " 'boundary_coords': (2, 1968, 4),\n",
       " 'boundary_weights': (2, 1968),\n",
       " 'velocity_weights': (2, 24)}"
      ]
     },
     "execution_count": 23,
     "metadata": {},
     "output_type": "execute_result"
    }
   ],
   "source": [
    "tf.nest.map_structure(lambda x:x.shape, next(tfds_eval_input))"
   ]
  },
  {
   "cell_type": "code",
   "execution_count": 24,
   "metadata": {},
   "outputs": [
    {
     "data": {
      "text/plain": [
       "{'sigma': (2, 2, 1681, 2),\n",
       " 'psi_label': (2, 2, 500),\n",
       " 'boundary': (2, 2, 1968),\n",
       " 'scattering_kernel': (2, 2, 500, 24),\n",
       " 'position_coords': (2, 1681, 2),\n",
       " 'velocity_coords': (2, 24, 2),\n",
       " 'phase_coords': (2, 500, 4),\n",
       " 'boundary_coords': (2, 1968, 4),\n",
       " 'boundary_weights': (2, 1968),\n",
       " 'velocity_weights': (2, 24)}"
      ]
     },
     "execution_count": 24,
     "metadata": {},
     "output_type": "execute_result"
    }
   ],
   "source": [
    "tf.nest.map_structure(lambda x:x.shape, next(tfds_train_input))"
   ]
  },
  {
   "cell_type": "code",
   "execution_count": null,
   "metadata": {},
   "outputs": [],
   "source": []
  }
 ],
 "metadata": {
  "kernelspec": {
   "display_name": "Python 3.10.7 64-bit",
   "language": "python",
   "name": "python3"
  },
  "language_info": {
   "codemirror_mode": {
    "name": "ipython",
    "version": 3
   },
   "file_extension": ".py",
   "mimetype": "text/x-python",
   "name": "python",
   "nbconvert_exporter": "python",
   "pygments_lexer": "ipython3",
   "version": "3.10.7"
  },
  "orig_nbformat": 4,
  "vscode": {
   "interpreter": {
    "hash": "949777d72b0d2535278d3dc13498b2535136f6dfe0678499012e853ee9abcab1"
   }
  }
 },
 "nbformat": 4,
 "nbformat_minor": 2
}

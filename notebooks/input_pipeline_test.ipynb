{
 "cells": [
  {
   "cell_type": "code",
   "execution_count": 1,
   "metadata": {},
   "outputs": [],
   "source": [
    "import os\n",
    "os.environ[\"CUDA_VISIBLE_DEVICES\"] = '7'"
   ]
  },
  {
   "cell_type": "code",
   "execution_count": 2,
   "metadata": {},
   "outputs": [
    {
     "name": "stderr",
     "output_type": "stream",
     "text": [
      "/usr/local/lib/python3.10/site-packages/tqdm/auto.py:22: TqdmWarning: IProgress not found. Please update jupyter and ipywidgets. See https://ipywidgets.readthedocs.io/en/stable/user_install.html\n",
      "  from .autonotebook import tqdm as notebook_tqdm\n"
     ]
    }
   ],
   "source": [
    "from deeprte.config import make_config\n",
    "from deeprte.model.tf.input_pipeline import shard\n",
    "config = make_config()"
   ]
  },
  {
   "cell_type": "code",
   "execution_count": 3,
   "metadata": {},
   "outputs": [
    {
     "data": {
      "text/plain": [
       "best_model_eval_metric: ''\n",
       "best_model_eval_metric_higher_is_better: true\n",
       "checkpoint_interval_type: null\n",
       "dataset:\n",
       "  buffer_size: 5000\n",
       "  data_split:\n",
       "    is_split_datasets: false\n",
       "    num_samples: 10\n",
       "    num_test_samples: 2\n",
       "    train_validation_split_rate: 0.8\n",
       "  max_intra_op_parallelism: 1\n",
       "  seed: 42\n",
       "  threadpool_size: 48\n",
       "  train:\n",
       "    batch_size: 6\n",
       "    collocation_sizes: 500\n",
       "    repeat: 1\n",
       "  validation:\n",
       "    batch_size: 2\n",
       "eval_initial_weights: false\n",
       "experiment_kwargs: {}\n",
       "interval_type: secs\n",
       "log_all_train_data: false\n",
       "log_tensors_interval: 60\n",
       "log_train_data_interval: 120.0\n",
       "logging_interval_type: null\n",
       "max_checkpoints_to_keep: 5\n",
       "one_off_evaluate: false\n",
       "random_mode_eval: same_host_same_device\n",
       "random_mode_train: unique_host_unique_device\n",
       "random_seed: 42\n",
       "save_checkpoint_interval: 300\n",
       "train_checkpoint_all_hosts: false\n",
       "training_steps: 10000"
      ]
     },
     "execution_count": 3,
     "metadata": {},
     "output_type": "execute_result"
    }
   ],
   "source": [
    "config"
   ]
  },
  {
   "cell_type": "code",
   "execution_count": 4,
   "metadata": {},
   "outputs": [],
   "source": [
    "data_path = \"/workspaces/deeprte/rte_data/rte_data/matlab/eval-data/test_shape.mat\"\n",
    "\n",
    "from deeprte.data.pipeline import DataPipeline\n",
    "data_pipeline = DataPipeline()\n",
    "data = data_pipeline.process(data_path)\n",
    "\n",
    "from deeprte.model.tf.rte_dataset import np_to_tensor_dict\n",
    "\n",
    "tf_data = np_to_tensor_dict(data)\n",
    "\n",
    "from deeprte.model.tf.rte_dataset import divide_batch_feat\n",
    "batched_data, unbatched_data = divide_batch_feat(tf_data)"
   ]
  },
  {
   "cell_type": "code",
   "execution_count": 5,
   "metadata": {},
   "outputs": [
    {
     "data": {
      "text/plain": [
       "{'sigma': TensorShape([10, 1681, 2]),\n",
       " 'psi_label': TensorShape([10, 40344]),\n",
       " 'boundary': TensorShape([10, 1968]),\n",
       " 'position_coords': TensorShape([1681, 2]),\n",
       " 'velocity_coords': TensorShape([24, 2]),\n",
       " 'phase_coords': TensorShape([40344, 4]),\n",
       " 'scattering_kernel': TensorShape([10, 40344, 24]),\n",
       " 'boundary_coords': TensorShape([1968, 4]),\n",
       " 'boundary_weights': TensorShape([1968]),\n",
       " 'velocity_weights': TensorShape([24])}"
      ]
     },
     "execution_count": 5,
     "metadata": {},
     "output_type": "execute_result"
    }
   ],
   "source": [
    "import tensorflow as tf\n",
    "\n",
    "tf.nest.map_structure(lambda x:x.shape, tf_data)"
   ]
  },
  {
   "cell_type": "code",
   "execution_count": 8,
   "metadata": {},
   "outputs": [],
   "source": [
    "data_config = config.dataset"
   ]
  },
  {
   "cell_type": "code",
   "execution_count": 27,
   "metadata": {},
   "outputs": [],
   "source": [
    "from deeprte.model.tf.input_pipeline import load_and_split_data,process_features,np_example_to_features\n",
    "\n",
    "ds, unbatched_feat = load_and_split_data(tf_data, data_config, True)"
   ]
  },
  {
   "cell_type": "code",
   "execution_count": 32,
   "metadata": {},
   "outputs": [],
   "source": [
    "data_config.data_split.is_split_datasets = False"
   ]
  },
  {
   "cell_type": "code",
   "execution_count": 33,
   "metadata": {},
   "outputs": [],
   "source": [
    "ds_without_split, unbatched_feat = load_and_split_data(\n",
    "        features=tf_data,\n",
    "        config=data_config,\n",
    "        pre_shuffle=True,\n",
    "        seed=data_config.seed,\n",
    "    )"
   ]
  },
  {
   "cell_type": "code",
   "execution_count": 34,
   "metadata": {},
   "outputs": [],
   "source": [
    "tfds_without_split = process_features(\n",
    "            ds=ds_without_split,\n",
    "            unbatched_feat=unbatched_feat,\n",
    "            is_training=False,\n",
    "            batch_sizes=[2,5],\n",
    "            seed=data_config.seed,\n",
    "            buffer_size=data_config.buffer_size,\n",
    "            threadpool_size=data_config.threadpool_size,\n",
    "            max_intra_op_parallelism=data_config.max_intra_op_parallelism,\n",
    "        )"
   ]
  },
  {
   "cell_type": "code",
   "execution_count": 35,
   "metadata": {},
   "outputs": [
    {
     "data": {
      "text/plain": [
       "{'sigma': (2, 5, 1681, 2),\n",
       " 'psi_label': (2, 5, 40344),\n",
       " 'boundary': (2, 5, 1968),\n",
       " 'scattering_kernel': (2, 5, 40344, 24),\n",
       " 'position_coords': (2, 1681, 2),\n",
       " 'velocity_coords': (2, 24, 2),\n",
       " 'phase_coords': (2, 40344, 4),\n",
       " 'boundary_coords': (2, 1968, 4),\n",
       " 'boundary_weights': (2, 1968),\n",
       " 'velocity_weights': (2, 24)}"
      ]
     },
     "execution_count": 35,
     "metadata": {},
     "output_type": "execute_result"
    }
   ],
   "source": [
    "tf.nest.map_structure(lambda x:x.shape, next(tfds_without_split))"
   ]
  },
  {
   "cell_type": "code",
   "execution_count": 37,
   "metadata": {},
   "outputs": [
    {
     "data": {
      "text/plain": [
       "buffer_size: 5000\n",
       "data_split:\n",
       "  is_split_datasets: true\n",
       "  num_samples: 10\n",
       "  num_test_samples: 2\n",
       "  train_validation_split_rate: 0.8\n",
       "max_intra_op_parallelism: 1\n",
       "seed: 42\n",
       "threadpool_size: 48\n",
       "train:\n",
       "  batch_size: 6\n",
       "  collocation_sizes: 500\n",
       "  repeat: 1\n",
       "validation:\n",
       "  batch_size: 2"
      ]
     },
     "execution_count": 37,
     "metadata": {},
     "output_type": "execute_result"
    }
   ],
   "source": [
    "data_config.data_split.is_split_datasets = True\n",
    "data_config"
   ]
  },
  {
   "cell_type": "code",
   "execution_count": 38,
   "metadata": {},
   "outputs": [],
   "source": [
    "ds_with_split, unbatched_feat = load_and_split_data(\n",
    "        features=tf_data,\n",
    "        config=data_config,\n",
    "        pre_shuffle=True,\n",
    "        seed=data_config.seed,\n",
    "    )"
   ]
  },
  {
   "cell_type": "code",
   "execution_count": 39,
   "metadata": {},
   "outputs": [
    {
     "data": {
      "text/plain": [
       "3"
      ]
     },
     "execution_count": 39,
     "metadata": {},
     "output_type": "execute_result"
    }
   ],
   "source": [
    "len(ds_with_split)"
   ]
  },
  {
   "cell_type": "code",
   "execution_count": 40,
   "metadata": {},
   "outputs": [],
   "source": [
    "train_ds = process_features(\n",
    "            ds=ds_with_split[1],\n",
    "            unbatched_feat=unbatched_feat,\n",
    "            is_training=True,\n",
    "            batch_sizes=[2,3],\n",
    "            seed=data_config.seed,\n",
    "            buffer_size=data_config.buffer_size,\n",
    "            threadpool_size=data_config.threadpool_size,\n",
    "            max_intra_op_parallelism=data_config.max_intra_op_parallelism,\n",
    "            collocation_sizes=data_config.train.collocation_sizes,\n",
    "            repeat=data_config.train.repeat,\n",
    "        )"
   ]
  },
  {
   "cell_type": "code",
   "execution_count": 41,
   "metadata": {},
   "outputs": [
    {
     "data": {
      "text/plain": [
       "{'sigma': (2, 3, 1681, 2),\n",
       " 'psi_label': (2, 3, 500),\n",
       " 'boundary': (2, 3, 1968),\n",
       " 'scattering_kernel': (2, 3, 500, 24),\n",
       " 'position_coords': (2, 1681, 2),\n",
       " 'velocity_coords': (2, 24, 2),\n",
       " 'phase_coords': (2, 500, 4),\n",
       " 'boundary_coords': (2, 1968, 4),\n",
       " 'boundary_weights': (2, 1968),\n",
       " 'velocity_weights': (2, 24)}"
      ]
     },
     "execution_count": 41,
     "metadata": {},
     "output_type": "execute_result"
    }
   ],
   "source": [
    "tf.nest.map_structure(lambda x:x.shape, next(train_ds))"
   ]
  },
  {
   "cell_type": "code",
   "execution_count": 46,
   "metadata": {},
   "outputs": [],
   "source": [
    "val_ds = process_features(\n",
    "            ds=ds_with_split[2],\n",
    "            unbatched_feat=unbatched_feat,\n",
    "            is_training=False,\n",
    "            batch_sizes=[2,1],\n",
    "            seed=data_config.seed,\n",
    "            buffer_size=data_config.buffer_size,\n",
    "            threadpool_size=data_config.threadpool_size,\n",
    "            max_intra_op_parallelism=data_config.max_intra_op_parallelism,\n",
    "            collocation_sizes=data_config.train.collocation_sizes,\n",
    "            repeat=data_config.train.repeat,\n",
    "        )"
   ]
  },
  {
   "cell_type": "code",
   "execution_count": 47,
   "metadata": {},
   "outputs": [
    {
     "data": {
      "text/plain": [
       "{'sigma': (2, 1, 1681, 2),\n",
       " 'psi_label': (2, 1, 40344),\n",
       " 'boundary': (2, 1, 1968),\n",
       " 'scattering_kernel': (2, 1, 40344, 24),\n",
       " 'position_coords': (2, 1681, 2),\n",
       " 'velocity_coords': (2, 24, 2),\n",
       " 'phase_coords': (2, 40344, 4),\n",
       " 'boundary_coords': (2, 1968, 4),\n",
       " 'boundary_weights': (2, 1968),\n",
       " 'velocity_weights': (2, 24)}"
      ]
     },
     "execution_count": 47,
     "metadata": {},
     "output_type": "execute_result"
    }
   ],
   "source": [
    "tf.nest.map_structure(lambda x:x.shape, next(val_ds))"
   ]
  },
  {
   "cell_type": "code",
   "execution_count": 51,
   "metadata": {},
   "outputs": [],
   "source": [
    "test_ds = process_features(\n",
    "            ds=ds_with_split[0],\n",
    "            unbatched_feat=unbatched_feat,\n",
    "            is_training=False,\n",
    "            batch_sizes=[2,1],\n",
    "            seed=data_config.seed,\n",
    "            buffer_size=data_config.buffer_size,\n",
    "            threadpool_size=data_config.threadpool_size,\n",
    "            max_intra_op_parallelism=data_config.max_intra_op_parallelism,\n",
    "            collocation_sizes=data_config.train.collocation_sizes,\n",
    "            repeat=data_config.train.repeat,\n",
    "        )"
   ]
  },
  {
   "cell_type": "code",
   "execution_count": 52,
   "metadata": {},
   "outputs": [
    {
     "data": {
      "text/plain": [
       "{'sigma': (2, 1, 1681, 2),\n",
       " 'psi_label': (2, 1, 40344),\n",
       " 'boundary': (2, 1, 1968),\n",
       " 'scattering_kernel': (2, 1, 40344, 24),\n",
       " 'position_coords': (2, 1681, 2),\n",
       " 'velocity_coords': (2, 24, 2),\n",
       " 'phase_coords': (2, 40344, 4),\n",
       " 'boundary_coords': (2, 1968, 4),\n",
       " 'boundary_weights': (2, 1968),\n",
       " 'velocity_weights': (2, 24)}"
      ]
     },
     "execution_count": 52,
     "metadata": {},
     "output_type": "execute_result"
    }
   ],
   "source": [
    "tf.nest.map_structure(lambda x:x.shape, next(test_ds))"
   ]
  },
  {
   "cell_type": "code",
   "execution_count": null,
   "metadata": {},
   "outputs": [],
   "source": []
  }
 ],
 "metadata": {
  "kernelspec": {
   "display_name": "Python 3.10.7 64-bit",
   "language": "python",
   "name": "python3"
  },
  "language_info": {
   "codemirror_mode": {
    "name": "ipython",
    "version": 3
   },
   "file_extension": ".py",
   "mimetype": "text/x-python",
   "name": "python",
   "nbconvert_exporter": "python",
   "pygments_lexer": "ipython3",
   "version": "3.10.7"
  },
  "orig_nbformat": 4,
  "vscode": {
   "interpreter": {
    "hash": "949777d72b0d2535278d3dc13498b2535136f6dfe0678499012e853ee9abcab1"
   }
  }
 },
 "nbformat": 4,
 "nbformat_minor": 2
}

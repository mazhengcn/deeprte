{
 "cells": [
  {
   "cell_type": "code",
   "execution_count": 1,
   "metadata": {},
   "outputs": [
    {
     "name": "stderr",
     "output_type": "stream",
     "text": [
      "2023-04-07 17:55:33.249050: I tensorflow/core/util/port.cc:110] oneDNN custom operations are on. You may see slightly different numerical results due to floating-point round-off errors from different computation orders. To turn them off, set the environment variable `TF_ENABLE_ONEDNN_OPTS=0`.\n",
      "2023-04-07 17:55:33.299608: I tensorflow/core/platform/cpu_feature_guard.cc:182] This TensorFlow binary is optimized to use available CPU instructions in performance-critical operations.\n",
      "To enable the following instructions: AVX2 AVX512F AVX512_VNNI FMA, in other operations, rebuild TensorFlow with the appropriate compiler flags.\n",
      "/opt/deeprteenv/lib/python3.11/site-packages/tqdm/auto.py:21: TqdmWarning: IProgress not found. Please update jupyter and ipywidgets. See https://ipywidgets.readthedocs.io/en/stable/user_install.html\n",
      "  from .autonotebook import tqdm as notebook_tqdm\n"
     ]
    }
   ],
   "source": [
    "import numpy as np\n",
    "import tensorflow as tf\n",
    "\n",
    "from deeprte.model.tf import input_pipeline"
   ]
  },
  {
   "cell_type": "code",
   "execution_count": 2,
   "metadata": {},
   "outputs": [],
   "source": [
    "split = input_pipeline.Split.TRAIN\n",
    "\n",
    "ds = input_pipeline.load(\n",
    "    split=split,\n",
    "    split_ratio=0.8,\n",
    "    is_training=True,\n",
    "    batch_sizes=[2, 3],\n",
    "    collocation_sizes=[120, 30],\n",
    ")"
   ]
  },
  {
   "cell_type": "code",
   "execution_count": 4,
   "metadata": {},
   "outputs": [
    {
     "ename": "AttributeError",
     "evalue": "'tuple' object has no attribute 'with_options'",
     "output_type": "error",
     "traceback": [
      "\u001b[0;31m---------------------------------------------------------------------------\u001b[0m",
      "\u001b[0;31mAttributeError\u001b[0m                            Traceback (most recent call last)",
      "Cell \u001b[0;32mIn[4], line 3\u001b[0m\n\u001b[1;32m      1\u001b[0m \u001b[39mimport\u001b[39;00m \u001b[39mjax\u001b[39;00m\n\u001b[0;32m----> 3\u001b[0m dummy_ds, info \u001b[39m=\u001b[39m input_pipeline\u001b[39m.\u001b[39mload(\n\u001b[1;32m      4\u001b[0m     split\u001b[39m=\u001b[39minput_pipeline\u001b[39m.\u001b[39mSplit\u001b[39m.\u001b[39mTRAIN,\n\u001b[1;32m      5\u001b[0m     split_ratio\u001b[39m=\u001b[39m\u001b[39m0.8\u001b[39m,\n\u001b[1;32m      6\u001b[0m     is_training\u001b[39m=\u001b[39m\u001b[39mTrue\u001b[39;00m,\n\u001b[1;32m      7\u001b[0m     batch_sizes\u001b[39m=\u001b[39m[jax\u001b[39m.\u001b[39mlocal_device_count(), \u001b[39m1\u001b[39m],\n\u001b[1;32m      8\u001b[0m     collocation_sizes\u001b[39m=\u001b[39m[\u001b[39m1\u001b[39m],\n\u001b[1;32m      9\u001b[0m     with_info\u001b[39m=\u001b[39m\u001b[39mTrue\u001b[39;00m\n\u001b[1;32m     10\u001b[0m )\n",
      "File \u001b[0;32m/workspaces/deeprte/deeprte/model/tf/input_pipeline.py:79\u001b[0m, in \u001b[0;36mload\u001b[0;34m(split, split_ratio, is_training, batch_sizes, collocation_sizes, repeat, name, data_dir, **kwargs)\u001b[0m\n\u001b[1;32m     77\u001b[0m \u001b[39mif\u001b[39;00m is_training:\n\u001b[1;32m     78\u001b[0m     options\u001b[39m.\u001b[39mdeterministic \u001b[39m=\u001b[39m \u001b[39mFalse\u001b[39;00m\n\u001b[0;32m---> 79\u001b[0m ds \u001b[39m=\u001b[39m ds\u001b[39m.\u001b[39;49mwith_options(options)\n\u001b[1;32m     81\u001b[0m \u001b[39mif\u001b[39;00m is_training:\n\u001b[1;32m     82\u001b[0m     ds \u001b[39m=\u001b[39m ds\u001b[39m.\u001b[39mcache()\n",
      "\u001b[0;31mAttributeError\u001b[0m: 'tuple' object has no attribute 'with_options'"
     ]
    }
   ],
   "source": [
    "import jax\n",
    "\n",
    "dummy_ds = input_pipeline.load(\n",
    "    split=input_pipeline.Split.TRAIN,\n",
    "    split_ratio=0.8,\n",
    "    is_training=True,\n",
    "    batch_sizes=[jax.local_device_count(), 1],\n",
    "    collocation_sizes=[1],\n",
    "    with_info=True,\n",
    ")"
   ]
  },
  {
   "cell_type": "code",
   "execution_count": 3,
   "metadata": {},
   "outputs": [
    {
     "name": "stderr",
     "output_type": "stream",
     "text": [
      "2023-04-07 17:44:06.260074: I tensorflow/core/common_runtime/executor.cc:1197] [/device:CPU:0] (DEBUG INFO) Executor start aborting (this does not indicate an error and you can ignore this message): INVALID_ARGUMENT: You must feed a value for placeholder tensor 'Placeholder/_41' with dtype resource\n",
      "\t [[{{node Placeholder/_41}}]]\n",
      "2023-04-07 17:44:06.260665: I tensorflow/core/common_runtime/executor.cc:1197] [/device:CPU:0] (DEBUG INFO) Executor start aborting (this does not indicate an error and you can ignore this message): INVALID_ARGUMENT: You must feed a value for placeholder tensor 'Placeholder/_4' with dtype int64 and shape [7]\n",
      "\t [[{{node Placeholder/_4}}]]\n"
     ]
    },
    {
     "name": "stdout",
     "output_type": "stream",
     "text": [
      "{'boundary': (2, 3, 1920), 'boundary_coords': (2, 3, 1920, 4), 'boundary_scattering_kernel': (2, 3, 1920, 24), 'boundary_weights': (2, 3, 1920), 'phase_coords': (2, 3, 120, 4), 'position_coords': (2, 3, 1600, 2), 'psi_label': (2, 3, 120), 'scattering_kernel': (2, 3, 120, 24), 'self_scattering_kernel': (2, 3, 24, 24), 'sigma': (2, 3, 1600, 2), 'velocity_coords': (2, 3, 24, 2), 'velocity_weights': (2, 3, 24), 'sampled_boundary': (2, 3, 30), 'sampled_boundary_scattering_kernel': (2, 3, 30, 24), 'sampled_boundary_coords': (2, 3, 30, 4), 'sampled_boundary_weights': (2, 3, 30)}\n",
      "{'boundary': (2, 3, 1920), 'boundary_coords': (2, 3, 1920, 4), 'boundary_scattering_kernel': (2, 3, 1920, 24), 'boundary_weights': (2, 3, 1920), 'phase_coords': (2, 3, 120, 4), 'position_coords': (2, 3, 1600, 2), 'psi_label': (2, 3, 120), 'scattering_kernel': (2, 3, 120, 24), 'self_scattering_kernel': (2, 3, 24, 24), 'sigma': (2, 3, 1600, 2), 'velocity_coords': (2, 3, 24, 2), 'velocity_weights': (2, 3, 24), 'sampled_boundary': (2, 3, 30), 'sampled_boundary_scattering_kernel': (2, 3, 30, 24), 'sampled_boundary_coords': (2, 3, 30, 4), 'sampled_boundary_weights': (2, 3, 30)}\n",
      "{'boundary': (2, 3, 1920), 'boundary_coords': (2, 3, 1920, 4), 'boundary_scattering_kernel': (2, 3, 1920, 24), 'boundary_weights': (2, 3, 1920), 'phase_coords': (2, 3, 120, 4), 'position_coords': (2, 3, 1600, 2), 'psi_label': (2, 3, 120), 'scattering_kernel': (2, 3, 120, 24), 'self_scattering_kernel': (2, 3, 24, 24), 'sigma': (2, 3, 1600, 2), 'velocity_coords': (2, 3, 24, 2), 'velocity_weights': (2, 3, 24), 'sampled_boundary': (2, 3, 30), 'sampled_boundary_scattering_kernel': (2, 3, 30, 24), 'sampled_boundary_coords': (2, 3, 30, 4), 'sampled_boundary_weights': (2, 3, 30)}\n"
     ]
    }
   ],
   "source": [
    "for i in range(3):\n",
    "    print(tf.nest.map_structure(lambda x: x.shape, next(iter(ds))))"
   ]
  }
 ],
 "metadata": {
  "kernelspec": {
   "display_name": "deeprteenv",
   "language": "python",
   "name": "python3"
  },
  "language_info": {
   "codemirror_mode": {
    "name": "ipython",
    "version": 3
   },
   "file_extension": ".py",
   "mimetype": "text/x-python",
   "name": "python",
   "nbconvert_exporter": "python",
   "pygments_lexer": "ipython3",
   "version": "3.11.2"
  },
  "orig_nbformat": 4
 },
 "nbformat": 4,
 "nbformat_minor": 2
}

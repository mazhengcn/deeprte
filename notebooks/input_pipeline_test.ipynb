{
 "cells": [
  {
   "cell_type": "code",
   "execution_count": 1,
   "metadata": {},
   "outputs": [],
   "source": [
    "import jax\n",
    "from jax.sharding import Mesh\n",
    "\n",
    "from deeprte.configs import default\n",
    "from deeprte.input_pipeline import input_pipeline_interface\n",
    "from deeprte.train_lib import utils\n",
    "from deeprte.train_lib.multihost_dataloading import prefetch_to_device"
   ]
  },
  {
   "cell_type": "code",
   "execution_count": 2,
   "metadata": {},
   "outputs": [],
   "source": [
    "config = default.get_config()"
   ]
  },
  {
   "cell_type": "code",
   "execution_count": 3,
   "metadata": {},
   "outputs": [
    {
     "data": {
      "text/plain": [
       "Mesh(device_ids=array([[[0],\n",
       "        [1]]]), axis_names=('data', 'fsdp', 'tensor'))"
      ]
     },
     "execution_count": 3,
     "metadata": {},
     "output_type": "execute_result"
    }
   ],
   "source": [
    "device_array = utils.create_device_mesh(config)\n",
    "global_mesh = Mesh(device_array, config.mesh_axes)\n",
    "global_mesh"
   ]
  },
  {
   "cell_type": "code",
   "execution_count": 4,
   "metadata": {},
   "outputs": [
    {
     "name": "stderr",
     "output_type": "stream",
     "text": [
      "WARNING:absl:`FeatureConnector.dtype` is deprecated. Please change your code to use NumPy with the field `FeatureConnector.np_dtype` or use TensorFlow with the field `FeatureConnector.tf_dtype`.\n",
      "WARNING:absl:`FeatureConnector.dtype` is deprecated. Please change your code to use NumPy with the field `FeatureConnector.np_dtype` or use TensorFlow with the field `FeatureConnector.tf_dtype`.\n",
      "WARNING:absl:`FeatureConnector.dtype` is deprecated. Please change your code to use NumPy with the field `FeatureConnector.np_dtype` or use TensorFlow with the field `FeatureConnector.tf_dtype`.\n",
      "WARNING:absl:`FeatureConnector.dtype` is deprecated. Please change your code to use NumPy with the field `FeatureConnector.np_dtype` or use TensorFlow with the field `FeatureConnector.tf_dtype`.\n",
      "WARNING:absl:`FeatureConnector.dtype` is deprecated. Please change your code to use NumPy with the field `FeatureConnector.np_dtype` or use TensorFlow with the field `FeatureConnector.tf_dtype`.\n",
      "WARNING:absl:`FeatureConnector.dtype` is deprecated. Please change your code to use NumPy with the field `FeatureConnector.np_dtype` or use TensorFlow with the field `FeatureConnector.tf_dtype`.\n",
      "WARNING:absl:`FeatureConnector.dtype` is deprecated. Please change your code to use NumPy with the field `FeatureConnector.np_dtype` or use TensorFlow with the field `FeatureConnector.tf_dtype`.\n",
      "WARNING:absl:`FeatureConnector.dtype` is deprecated. Please change your code to use NumPy with the field `FeatureConnector.np_dtype` or use TensorFlow with the field `FeatureConnector.tf_dtype`.\n",
      "WARNING:absl:`FeatureConnector.dtype` is deprecated. Please change your code to use NumPy with the field `FeatureConnector.np_dtype` or use TensorFlow with the field `FeatureConnector.tf_dtype`.\n",
      "WARNING:absl:`FeatureConnector.dtype` is deprecated. Please change your code to use NumPy with the field `FeatureConnector.np_dtype` or use TensorFlow with the field `FeatureConnector.tf_dtype`.\n"
     ]
    }
   ],
   "source": [
    "(train_iter, eval_iter), data_sharding = input_pipeline_interface.create_data_iterator(\n",
    "    config, global_mesh\n",
    ")\n",
    "\n",
    "if config.prefetch_to_device:\n",
    "    train_iter = prefetch_to_device(train_iter, 4)"
   ]
  },
  {
   "cell_type": "code",
   "execution_count": 5,
   "metadata": {},
   "outputs": [
    {
     "data": {
      "text/plain": [
       "NamedSharding(mesh=Mesh('data': 1, 'fsdp': 2, 'tensor': 1), spec=PartitionSpec(('data', 'fsdp', 'tensor'),))"
      ]
     },
     "execution_count": 5,
     "metadata": {},
     "output_type": "execute_result"
    }
   ],
   "source": [
    "data_sharding"
   ]
  },
  {
   "cell_type": "code",
   "execution_count": 6,
   "metadata": {},
   "outputs": [
    {
     "data": {
      "text/plain": [
       "{'boundary': ((8, 1920),\n",
       "  NamedSharding(mesh=Mesh('data': 1, 'fsdp': 2, 'tensor': 1), spec=PartitionSpec(('data', 'fsdp', 'tensor'),))),\n",
       " 'boundary_coords': ((8, 1920, 4),\n",
       "  NamedSharding(mesh=Mesh('data': 1, 'fsdp': 2, 'tensor': 1), spec=PartitionSpec(('data', 'fsdp', 'tensor'),))),\n",
       " 'boundary_scattering_kernel': ((8, 1920, 24),\n",
       "  NamedSharding(mesh=Mesh('data': 1, 'fsdp': 2, 'tensor': 1), spec=PartitionSpec(('data', 'fsdp', 'tensor'),))),\n",
       " 'boundary_weights': ((8, 1920),\n",
       "  NamedSharding(mesh=Mesh('data': 1, 'fsdp': 2, 'tensor': 1), spec=PartitionSpec(('data', 'fsdp', 'tensor'),))),\n",
       " 'phase_coords': ((8, 128, 4),\n",
       "  NamedSharding(mesh=Mesh('data': 1, 'fsdp': 2, 'tensor': 1), spec=PartitionSpec(('data', 'fsdp', 'tensor'),))),\n",
       " 'position_coords': ((8, 1600, 2),\n",
       "  NamedSharding(mesh=Mesh('data': 1, 'fsdp': 2, 'tensor': 1), spec=PartitionSpec(('data', 'fsdp', 'tensor'),))),\n",
       " 'psi_label': ((8, 128),\n",
       "  NamedSharding(mesh=Mesh('data': 1, 'fsdp': 2, 'tensor': 1), spec=PartitionSpec(('data', 'fsdp', 'tensor'),))),\n",
       " 'scattering_kernel': ((8, 128, 24),\n",
       "  NamedSharding(mesh=Mesh('data': 1, 'fsdp': 2, 'tensor': 1), spec=PartitionSpec(('data', 'fsdp', 'tensor'),))),\n",
       " 'self_scattering_kernel': ((8, 24, 24),\n",
       "  NamedSharding(mesh=Mesh('data': 1, 'fsdp': 2, 'tensor': 1), spec=PartitionSpec(('data', 'fsdp', 'tensor'),))),\n",
       " 'sigma': ((8, 1600, 2),\n",
       "  NamedSharding(mesh=Mesh('data': 1, 'fsdp': 2, 'tensor': 1), spec=PartitionSpec(('data', 'fsdp', 'tensor'),))),\n",
       " 'velocity_coords': ((8, 24, 2),\n",
       "  NamedSharding(mesh=Mesh('data': 1, 'fsdp': 2, 'tensor': 1), spec=PartitionSpec(('data', 'fsdp', 'tensor'),))),\n",
       " 'velocity_weights': ((8, 24),\n",
       "  NamedSharding(mesh=Mesh('data': 1, 'fsdp': 2, 'tensor': 1), spec=PartitionSpec(('data', 'fsdp', 'tensor'),)))}"
      ]
     },
     "execution_count": 6,
     "metadata": {},
     "output_type": "execute_result"
    }
   ],
   "source": [
    "jax.tree.map(lambda x: (x.shape, x.sharding), next(train_iter))"
   ]
  }
 ],
 "metadata": {
  "kernelspec": {
   "display_name": "Python 3",
   "language": "python",
   "name": "python3"
  },
  "language_info": {
   "codemirror_mode": {
    "name": "ipython",
    "version": 3
   },
   "file_extension": ".py",
   "mimetype": "text/x-python",
   "name": "python",
   "nbconvert_exporter": "python",
   "pygments_lexer": "ipython3",
   "version": "3.12.3"
  }
 },
 "nbformat": 4,
 "nbformat_minor": 2
}

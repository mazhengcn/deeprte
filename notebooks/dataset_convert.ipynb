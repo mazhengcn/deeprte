{
 "cells": [
  {
   "cell_type": "code",
   "execution_count": 1,
   "metadata": {},
   "outputs": [],
   "source": [
    "import numpy as np\n",
    "import scipy.io as sio"
   ]
  },
  {
   "cell_type": "code",
   "execution_count": 2,
   "metadata": {},
   "outputs": [],
   "source": [
    "data_path = \"/workspaces/deeprte/rte_data/rte_data/matlab/eval-data/test_shape.mat\"\n",
    "# data_path_tpfm = \"/workspaces/deeprte/data/train/test_sin_1019.npz\""
   ]
  },
  {
   "cell_type": "code",
   "execution_count": 3,
   "metadata": {},
   "outputs": [],
   "source": [
    "data = sio.loadmat(data_path)"
   ]
  },
  {
   "cell_type": "code",
   "execution_count": 4,
   "metadata": {},
   "outputs": [
    {
     "name": "stdout",
     "output_type": "stream",
     "text": [
      "ct (24, 1)\n",
      "omega_prime (164, 12)\n",
      "phi (10, 41, 41)\n",
      "psi_bc (10, 164, 12)\n",
      "psi_label (10, 41, 41, 24)\n",
      "rv_prime (164, 12, 4)\n",
      "scattering_kernel (10, 24, 24)\n",
      "sigma_a (10, 41, 41)\n",
      "sigma_t (10, 41, 41)\n",
      "st (24, 1)\n",
      "w_angle (24, 1)\n",
      "x (1, 41)\n",
      "y (1, 41)\n"
     ]
    }
   ],
   "source": [
    "data.keys()\n",
    "for k,v in data.items():\n",
    "    if isinstance(v, np.ndarray):\n",
    "        print(k , v.shape)"
   ]
  },
  {
   "cell_type": "code",
   "execution_count": 5,
   "metadata": {},
   "outputs": [],
   "source": [
    "from deeprte.data.pipeline import DataPipeline\n",
    "data_pipeline = DataPipeline()\n",
    "data = data_pipeline.process(data_path)"
   ]
  },
  {
   "cell_type": "code",
   "execution_count": 6,
   "metadata": {},
   "outputs": [
    {
     "name": "stdout",
     "output_type": "stream",
     "text": [
      "sigma (10, 41, 41, 2)\n",
      "psi_label (10, 41, 41, 24)\n",
      "phi (10, 41, 41)\n",
      "boundary (10, 164, 12)\n",
      "position_coords (41, 41, 2)\n",
      "velocity_coords (24, 2)\n",
      "phase_coords (41, 41, 24, 4)\n",
      "scattering_kernel (10, 41, 41, 24, 24)\n",
      "boundary_coords (164, 12, 4)\n",
      "boundary_weights (164, 12)\n",
      "velocity_weights (24,)\n"
     ]
    }
   ],
   "source": [
    "for k,v in data.items():\n",
    "    if isinstance(v, np.ndarray):\n",
    "        print(k , v.shape)"
   ]
  },
  {
   "cell_type": "markdown",
   "metadata": {},
   "source": [
    "# batch\n",
    "- sigma [10, 41*41, 2]\n",
    "- boundary [10, 164*12]\n",
    "- scattering_kernel [10, 41\\*41\\*24, 24]\n",
    "\n",
    "# collocation\n",
    "- phase_coords [41\\*41\\*24, 4]\n",
    "- scattering_kernel [10, 41\\*41\\*24, 24]\n",
    "\n",
    "# grid\n",
    "- position_coords [41\\*41, 2]\n",
    "- velocity_coords [24, 2]\n",
    "- boundary_coords [164\\*12, 4]\n",
    "- boundary_weights [164\\*12]\n",
    "- velocity_weights [24]"
   ]
  },
  {
   "cell_type": "code",
   "execution_count": 7,
   "metadata": {},
   "outputs": [
    {
     "name": "stderr",
     "output_type": "stream",
     "text": [
      "2022-11-23 21:42:07.728825: I tensorflow/core/platform/cpu_feature_guard.cc:193] This TensorFlow binary is optimized with oneAPI Deep Neural Network Library (oneDNN) to use the following CPU instructions in performance-critical operations:  AVX2 AVX512F AVX512_VNNI FMA\n",
      "To enable them in other operations, rebuild TensorFlow with the appropriate compiler flags.\n",
      "2022-11-23 21:42:07.918045: I tensorflow/core/util/util.cc:169] oneDNN custom operations are on. You may see slightly different numerical results due to floating-point round-off errors from different computation orders. To turn them off, set the environment variable `TF_ENABLE_ONEDNN_OPTS=0`.\n"
     ]
    }
   ],
   "source": [
    "from deeprte.model.tf.rte_features import FEATURES, shape, _COLLOCATION_FEATURE_NAMES"
   ]
  },
  {
   "cell_type": "code",
   "execution_count": 8,
   "metadata": {},
   "outputs": [
    {
     "data": {
      "text/plain": [
       "{'sigma': (tf.float32,\n",
       "  ['num batch placeholder', 'num position coords placeholder', 2]),\n",
       " 'boundary': (tf.float32,\n",
       "  ['num batch placeholder', 'num boundary placeholder']),\n",
       " 'position_coords': (tf.float32, ['num position coords placeholder', 2]),\n",
       " 'velocity_coords': (tf.float32, ['num velocity placeholder', 2]),\n",
       " 'phase_coords': (tf.float32, ['num phase placeholder', 4]),\n",
       " 'scattering_kernel': (tf.float32,\n",
       "  ['num batch placeholder',\n",
       "   'num phase placeholder',\n",
       "   'num velocity placeholder']),\n",
       " 'boundary_coords': (tf.float32, ['num boundary placeholder', 4]),\n",
       " 'boundary_weights': (tf.float32, ['num boundary placeholder']),\n",
       " 'velocity_weights': (tf.float32, ['num velocity placeholder']),\n",
       " 'psi_label': (tf.float32, ['num batch placeholder', 'num phase placeholder'])}"
      ]
     },
     "execution_count": 8,
     "metadata": {},
     "output_type": "execute_result"
    }
   ],
   "source": [
    "FEATURES"
   ]
  },
  {
   "cell_type": "code",
   "execution_count": 9,
   "metadata": {},
   "outputs": [
    {
     "data": {
      "text/plain": [
       "['phase_coords', 'scattering_kernel', 'psi_label']"
      ]
     },
     "execution_count": 9,
     "metadata": {},
     "output_type": "execute_result"
    }
   ],
   "source": [
    "_COLLOCATION_FEATURE_NAMES"
   ]
  },
  {
   "cell_type": "code",
   "execution_count": 10,
   "metadata": {},
   "outputs": [],
   "source": [
    "from deeprte.model.tf.feature_transform import sample_phase_points\n",
    "from deeprte.model.tf.rte_dataset import np_to_tensor_dict,make_features_shape,make_collocation_axis\n",
    "import tensorflow as tf"
   ]
  },
  {
   "cell_type": "code",
   "execution_count": 11,
   "metadata": {},
   "outputs": [
    {
     "data": {
      "text/plain": [
       "{'num_samples': 10,\n",
       " 'num_position_coords': 1681,\n",
       " 'num_velocity_coords': 24,\n",
       " 'num_phase_coords': 40344,\n",
       " 'num_boundary_coords': 1968}"
      ]
     },
     "execution_count": 11,
     "metadata": {},
     "output_type": "execute_result"
    }
   ],
   "source": [
    "make_features_shape(data)"
   ]
  },
  {
   "cell_type": "code",
   "execution_count": 12,
   "metadata": {},
   "outputs": [
    {
     "name": "stderr",
     "output_type": "stream",
     "text": [
      "2022-11-23 21:42:11.055657: I tensorflow/core/platform/cpu_feature_guard.cc:193] This TensorFlow binary is optimized with oneAPI Deep Neural Network Library (oneDNN) to use the following CPU instructions in performance-critical operations:  AVX2 AVX512F AVX512_VNNI FMA\n",
      "To enable them in other operations, rebuild TensorFlow with the appropriate compiler flags.\n"
     ]
    },
    {
     "data": {
      "text/plain": [
       "{'sigma': TensorShape([10, 1681, 2]),\n",
       " 'psi_label': TensorShape([10, 40344]),\n",
       " 'boundary': TensorShape([10, 1968]),\n",
       " 'position_coords': TensorShape([1681, 2]),\n",
       " 'velocity_coords': TensorShape([24, 2]),\n",
       " 'phase_coords': TensorShape([40344, 4]),\n",
       " 'scattering_kernel': TensorShape([10, 40344, 24]),\n",
       " 'boundary_coords': TensorShape([1968, 4]),\n",
       " 'boundary_weights': TensorShape([1968]),\n",
       " 'velocity_weights': TensorShape([24])}"
      ]
     },
     "execution_count": 12,
     "metadata": {},
     "output_type": "execute_result"
    }
   ],
   "source": [
    "tf_data = np_to_tensor_dict(data)\n",
    "tf.nest.map_structure(lambda x: x.shape, tf_data)"
   ]
  },
  {
   "cell_type": "code",
   "execution_count": 13,
   "metadata": {},
   "outputs": [],
   "source": [
    "from deeprte.model.tf.rte_features import _BATCH_FEATURE_NAMES,_FEATURE_NAMES"
   ]
  },
  {
   "cell_type": "code",
   "execution_count": 14,
   "metadata": {},
   "outputs": [],
   "source": [
    "from deeprte.model.tf.rte_dataset import divide_batch_feat\n",
    "batched_data, unbatched_data = divide_batch_feat(tf_data)"
   ]
  },
  {
   "cell_type": "code",
   "execution_count": 15,
   "metadata": {},
   "outputs": [],
   "source": [
    "ds = tf.data.Dataset.from_tensor_slices(batched_data)"
   ]
  },
  {
   "cell_type": "code",
   "execution_count": 16,
   "metadata": {},
   "outputs": [
    {
     "name": "stderr",
     "output_type": "stream",
     "text": [
      "/usr/local/lib/python3.10/site-packages/tqdm/auto.py:22: TqdmWarning: IProgress not found. Please update jupyter and ipywidgets. See https://ipywidgets.readthedocs.io/en/stable/user_install.html\n",
      "  from .autonotebook import tqdm as notebook_tqdm\n"
     ]
    }
   ],
   "source": [
    "from deeprte.model.tf.input_pipeline import process_features"
   ]
  },
  {
   "cell_type": "code",
   "execution_count": 17,
   "metadata": {},
   "outputs": [],
   "source": [
    "temp = process_features(tf_data, is_training = True, batch_sizes=[2,5], collocation_sizes=500)"
   ]
  },
  {
   "cell_type": "code",
   "execution_count": 21,
   "metadata": {},
   "outputs": [
    {
     "ename": "NameError",
     "evalue": "name 'a' is not defined",
     "output_type": "error",
     "traceback": [
      "\u001b[0;31m---------------------------------------------------------------------------\u001b[0m",
      "\u001b[0;31mNameError\u001b[0m                                 Traceback (most recent call last)",
      "Cell \u001b[0;32mIn [21], line 2\u001b[0m\n\u001b[1;32m      1\u001b[0m slides \u001b[39m=\u001b[39m \u001b[39mnext\u001b[39m(temp)\n\u001b[0;32m----> 2\u001b[0m \u001b[39mprint\u001b[39m(tf\u001b[39m.\u001b[39;49mnest\u001b[39m.\u001b[39;49mmap_structure(\u001b[39mlambda\u001b[39;49;00m x: a\u001b[39m.\u001b[39;49mshape,slides))\n",
      "File \u001b[0;32m/usr/local/lib/python3.10/site-packages/tensorflow/python/util/nest.py:917\u001b[0m, in \u001b[0;36mmap_structure\u001b[0;34m(func, *structure, **kwargs)\u001b[0m\n\u001b[1;32m    913\u001b[0m flat_structure \u001b[39m=\u001b[39m (flatten(s, expand_composites) \u001b[39mfor\u001b[39;00m s \u001b[39min\u001b[39;00m structure)\n\u001b[1;32m    914\u001b[0m entries \u001b[39m=\u001b[39m \u001b[39mzip\u001b[39m(\u001b[39m*\u001b[39mflat_structure)\n\u001b[1;32m    916\u001b[0m \u001b[39mreturn\u001b[39;00m pack_sequence_as(\n\u001b[0;32m--> 917\u001b[0m     structure[\u001b[39m0\u001b[39m], [func(\u001b[39m*\u001b[39mx) \u001b[39mfor\u001b[39;00m x \u001b[39min\u001b[39;00m entries],\n\u001b[1;32m    918\u001b[0m     expand_composites\u001b[39m=\u001b[39mexpand_composites)\n",
      "File \u001b[0;32m/usr/local/lib/python3.10/site-packages/tensorflow/python/util/nest.py:917\u001b[0m, in \u001b[0;36m<listcomp>\u001b[0;34m(.0)\u001b[0m\n\u001b[1;32m    913\u001b[0m flat_structure \u001b[39m=\u001b[39m (flatten(s, expand_composites) \u001b[39mfor\u001b[39;00m s \u001b[39min\u001b[39;00m structure)\n\u001b[1;32m    914\u001b[0m entries \u001b[39m=\u001b[39m \u001b[39mzip\u001b[39m(\u001b[39m*\u001b[39mflat_structure)\n\u001b[1;32m    916\u001b[0m \u001b[39mreturn\u001b[39;00m pack_sequence_as(\n\u001b[0;32m--> 917\u001b[0m     structure[\u001b[39m0\u001b[39m], [func(\u001b[39m*\u001b[39;49mx) \u001b[39mfor\u001b[39;00m x \u001b[39min\u001b[39;00m entries],\n\u001b[1;32m    918\u001b[0m     expand_composites\u001b[39m=\u001b[39mexpand_composites)\n",
      "Cell \u001b[0;32mIn [21], line 2\u001b[0m, in \u001b[0;36m<lambda>\u001b[0;34m(x)\u001b[0m\n\u001b[1;32m      1\u001b[0m slides \u001b[39m=\u001b[39m \u001b[39mnext\u001b[39m(temp)\n\u001b[0;32m----> 2\u001b[0m \u001b[39mprint\u001b[39m(tf\u001b[39m.\u001b[39mnest\u001b[39m.\u001b[39mmap_structure(\u001b[39mlambda\u001b[39;00m x: a\u001b[39m.\u001b[39mshape,slides))\n",
      "\u001b[0;31mNameError\u001b[0m: name 'a' is not defined"
     ]
    }
   ],
   "source": [
    "slides = next(temp)\n",
    "print(tf.nest.map_structure(lambda x: x.shape,slides))"
   ]
  },
  {
   "cell_type": "code",
   "execution_count": null,
   "metadata": {},
   "outputs": [
    {
     "data": {
      "text/plain": [
       "{'phase_coords': TensorShape([500, 4]),\n",
       " 'scattering_kernel': TensorShape([10, 500, 24]),\n",
       " 'psi_label': TensorShape([10, 500])}"
      ]
     },
     "execution_count": 26,
     "metadata": {},
     "output_type": "execute_result"
    }
   ],
   "source": [
    "g = tf.random.Generator.from_seed(0)\n",
    "a = sample_phase_points(collocation_sizes = 500, collocation_features=make_collocation_axis(), total_grid_sizes=1000,generator=g)(tf_data)\n",
    "tf.nest.map_structure(lambda x: x.shape, a)"
   ]
  },
  {
   "cell_type": "code",
   "execution_count": null,
   "metadata": {},
   "outputs": [],
   "source": [
    "a = tf.cast(tf.constant(40344),dtype = tf.int64)\n",
    "b = 500"
   ]
  },
  {
   "cell_type": "code",
   "execution_count": null,
   "metadata": {},
   "outputs": [
    {
     "data": {
      "text/plain": [
       "<tf.Tensor: shape=(), dtype=bool, numpy=True>"
      ]
     },
     "execution_count": 23,
     "metadata": {},
     "output_type": "execute_result"
    }
   ],
   "source": [
    "tf.constant(200, dtype=tf.int32)>1"
   ]
  },
  {
   "cell_type": "code",
   "execution_count": null,
   "metadata": {},
   "outputs": [],
   "source": []
  }
 ],
 "metadata": {
  "kernelspec": {
   "display_name": "Python 3.10.7 64-bit",
   "language": "python",
   "name": "python3"
  },
  "language_info": {
   "codemirror_mode": {
    "name": "ipython",
    "version": 3
   },
   "file_extension": ".py",
   "mimetype": "text/x-python",
   "name": "python",
   "nbconvert_exporter": "python",
   "pygments_lexer": "ipython3",
   "version": "3.10.7"
  },
  "orig_nbformat": 4,
  "vscode": {
   "interpreter": {
    "hash": "949777d72b0d2535278d3dc13498b2535136f6dfe0678499012e853ee9abcab1"
   }
  }
 },
 "nbformat": 4,
 "nbformat_minor": 2
}

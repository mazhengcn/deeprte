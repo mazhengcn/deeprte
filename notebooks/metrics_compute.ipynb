{
 "cells": [
  {
   "cell_type": "code",
   "execution_count": 4,
   "metadata": {},
   "outputs": [],
   "source": [
    "import json\n",
    "import numpy as np\n",
    "import os"
   ]
  },
  {
   "cell_type": "code",
   "execution_count": 5,
   "metadata": {},
   "outputs": [],
   "source": [
    "DATA_DIR = \"/root/projects/deeprte/test/2024-02-28T12:05:24\""
   ]
  },
  {
   "cell_type": "code",
   "execution_count": 17,
   "metadata": {},
   "outputs": [],
   "source": [
    "metrics_dict = {}\n",
    "\n",
    "for item in os.listdir(DATA_DIR):\n",
    "    item_path = os.path.join(DATA_DIR, item)\n",
    "    if os.path.isdir(item_path):\n",
    "        file_path = os.path.join(item_path, \"metrics.json\")\n",
    "        with open(file_path, \"r\") as f:\n",
    "            metrics = json.load(f)\n",
    "            for key, value in metrics.items():\n",
    "                if key not in metrics_dict:\n",
    "                    metrics_dict[key] = []\n",
    "                metrics_dict[key].append(float(value))"
   ]
  },
  {
   "cell_type": "code",
   "execution_count": 21,
   "metadata": {},
   "outputs": [],
   "source": [
    "metrics_dict = {key: np.mean(value) for key, value in metrics_dict.items()}"
   ]
  },
  {
   "cell_type": "code",
   "execution_count": 22,
   "metadata": {},
   "outputs": [
    {
     "data": {
      "text/plain": [
       "{'psi_rmse': 0.03159230849,\n",
       " 'phi_rmse': 0.029952595165,\n",
       " 'psi_mse': 8.210331100000002e-09,\n",
       " 'phi_mse': 6.416013572e-10}"
      ]
     },
     "execution_count": 22,
     "metadata": {},
     "output_type": "execute_result"
    }
   ],
   "source": [
    "metrics_dict"
   ]
  },
  {
   "cell_type": "code",
   "execution_count": null,
   "metadata": {},
   "outputs": [],
   "source": []
  }
 ],
 "metadata": {
  "kernelspec": {
   "display_name": "Python 3",
   "language": "python",
   "name": "python3"
  },
  "language_info": {
   "codemirror_mode": {
    "name": "ipython",
    "version": 3
   },
   "file_extension": ".py",
   "mimetype": "text/x-python",
   "name": "python",
   "nbconvert_exporter": "python",
   "pygments_lexer": "ipython3",
   "version": "3.12.1"
  }
 },
 "nbformat": 4,
 "nbformat_minor": 2
}

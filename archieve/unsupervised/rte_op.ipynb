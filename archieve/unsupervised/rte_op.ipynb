{
 "cells": [
  {
   "cell_type": "code",
   "execution_count": 1,
   "id": "265b5725",
   "metadata": {},
   "outputs": [],
   "source": [
    "import os\n",
    "\n",
    "os.environ[\"CUDA_VISIBLE_DEVICES\"] = \"0\"\n",
    "# os.environ[\"TF_FORCE_UNIFIED_MEMORY\"] = \"1\"\n",
    "# os.environ[\"XLA_PYTHON_CLIENT_MEM_FRACTION\"] = \"0.4\"\n",
    "\n",
    "ROOT_PATH = \"/workspace/modnet/\"\n"
   ]
  },
  {
   "cell_type": "code",
   "execution_count": 2,
   "id": "0b22aa67",
   "metadata": {},
   "outputs": [],
   "source": [
    "import numpy as np\n",
    "import jax\n",
    "import jax.numpy as jnp\n",
    "import tensorflow as tf\n",
    "from input_pipeline import get_numpy_dataset\n",
    "from ml_collections import ConfigDict\n",
    "from modnet.modules.green_fn import GreenFunction\n",
    "from modnet.solver import Solver\n",
    "from rte_op import RTEOperator, RTEModel, RTEOpUnsupervised\n",
    "import optax\n",
    "from input_pipeline import create_tf_dataset\n"
   ]
  },
  {
   "cell_type": "code",
   "execution_count": 3,
   "id": "bc65c1ae",
   "metadata": {},
   "outputs": [
    {
     "name": "stdout",
     "output_type": "stream",
     "text": [
      "Prepare numpy arrays for feeding into neural network.\n",
      "Origin shapes: {'sigma': (500, 38, 38, 2), 'psi_bc': (500, 40, 12), 'psi_label': (500, 38, 38, 24), 'phi': (500, 38, 38), 'xy': (38, 38, 2), 'theta': (24, 1), 'omega': (24,), 'c': (24, 1), 's': (24, 1), 'bc_points': (40, 12, 4), 'bc_weights': (40, 12)}\n",
      "cs shape: (24, 2)\n",
      "Dataset is ready, shapes are: {'psi_label': (500, 34656), 'sigma': (500, 1444, 2), 'phi': (500, 1444), 'bc_psi': (500, 480)}\n"
     ]
    }
   ],
   "source": [
    "# original_ds = get_numpy_dataset(ROOT_PATH + \"data/rte/rte_2d\")\n",
    "\n",
    "train_ds, test_ds, init_ds = create_tf_dataset(\n",
    "    ROOT_PATH + \"data/rte/rte_2d_converted\",\n",
    "    2,\n",
    "    num_collocation_pts=200,\n",
    "    num_boundary_pts=40,\n",
    "    test_batch_size=100,\n",
    ")\n"
   ]
  },
  {
   "cell_type": "code",
   "execution_count": 4,
   "id": "1998d071",
   "metadata": {},
   "outputs": [
    {
     "name": "stdout",
     "output_type": "stream",
     "text": [
      "{'interior': (TensorSpec(shape=(200, 2), dtype=tf.float32, name=None), TensorSpec(shape=(200, 2), dtype=tf.float32, name=None), GraphOfMapping(x=TensorSpec(shape=(1444, 2), dtype=tf.float32, name=None), fx=TensorSpec(shape=(None, 1444, 2), dtype=tf.float32, name=None)), GraphOfMapping(x=TensorSpec(shape=(480, 4), dtype=tf.float32, name=None), fx=TensorSpec(shape=(None, 480), dtype=tf.float32, name=None))), 'boundary': (TensorSpec(shape=(40, 4), dtype=tf.float32, name=None), GraphOfMapping(x=TensorSpec(shape=(1444, 2), dtype=tf.float32, name=None), fx=TensorSpec(shape=(None, 1444, 2), dtype=tf.float32, name=None)), GraphOfMapping(x=TensorSpec(shape=(480, 4), dtype=tf.float32, name=None), fx=TensorSpec(shape=(None, 480), dtype=tf.float32, name=None))), 'label': TensorSpec(shape=(None, 200), dtype=tf.float32, name=None)}\n",
      "{'interior': (TensorSpec(shape=(34656, 2), dtype=tf.float32, name=None), TensorSpec(shape=(34656, 2), dtype=tf.float32, name=None), GraphOfMapping(x=TensorSpec(shape=(1444, 2), dtype=tf.float32, name=None), fx=TensorSpec(shape=(None, 1444, 2), dtype=tf.float32, name=None)), GraphOfMapping(x=TensorSpec(shape=(480, 4), dtype=tf.float32, name=None), fx=TensorSpec(shape=(None, 480), dtype=tf.float32, name=None))), 'label': TensorSpec(shape=(None, 34656), dtype=tf.float32, name=None)}\n",
      "((2,), (2,), GraphOfMapping(x=(1444, 2), fx=(1444, 2)), GraphOfMapping(x=(480, 4), fx=(480,)))\n"
     ]
    }
   ],
   "source": [
    "print(train_ds.element_spec)\n",
    "\n",
    "print(test_ds.element_spec)\n",
    "\n",
    "print(tf.nest.map_structure(lambda x: x.shape, init_ds))\n"
   ]
  },
  {
   "cell_type": "code",
   "execution_count": 5,
   "id": "138622d9",
   "metadata": {},
   "outputs": [
    {
     "name": "stdout",
     "output_type": "stream",
     "text": [
      "{'interior': ((34656, 2), (34656, 2), GraphOfMapping(x=(1444, 2), fx=(100, 1444, 2)), GraphOfMapping(x=(480, 4), fx=(100, 480))), 'label': (100, 34656)}\n"
     ]
    }
   ],
   "source": [
    "for data in test_ds.take(1).as_numpy_iterator():\n",
    "    val_data = data\n",
    "\n",
    "print(jax.tree_map(lambda x: x.shape, val_data))"
   ]
  },
  {
   "cell_type": "code",
   "execution_count": 6,
   "id": "918eeb8e",
   "metadata": {},
   "outputs": [],
   "source": [
    "from modnet.typing import GraphOfMapping\n",
    "\n",
    "idx = np.random.randint(500)\n",
    "\n",
    "data_dict = np.load(ROOT_PATH + \"data/rte/rte_2d_converted.npz\")\n",
    "list(data_dict.keys())\n",
    "\n",
    "xy = data_dict[\"xy\"].reshape(-1, 2)\n",
    "sigma = data_dict[\"sigma\"][idx : idx + 1].reshape(1, -1, 2)\n",
    "bc_pts = data_dict[\"bc_points\"].reshape(-1, 4)\n",
    "bc_weights = (\n",
    "    data_dict[\"psi_bc\"][idx : idx + 1].reshape(1, -1)\n",
    "    * data_dict[\"bc_weights\"].flatten()\n",
    ")\n",
    "c, s, omega = data_dict[\"c\"], data_dict[\"s\"], data_dict[\"omega\"]\n",
    "\n",
    "phi = data_dict[\"phi\"][idx]\n"
   ]
  },
  {
   "cell_type": "code",
   "execution_count": 7,
   "id": "1a0a9f76",
   "metadata": {},
   "outputs": [],
   "source": [
    "config = ConfigDict(\n",
    "    {\n",
    "        \"green_net\": [128, 128, 128, 128, 1],\n",
    "        \"coeffs_net\": {\"weights\": [64, 1], \"coeffs\": [64, 2]},\n",
    "    }\n",
    ")\n",
    "sol = RTEOperator(config, GreenFunction)\n",
    "# eqn = RTEModel(name=\"rte_2d\")\n",
    "eqn = RTEOpUnsupervised(\n",
    "    cs=jnp.concatenate([c, s], axis=-1), omega=omega, name=\"rte_2d\"\n",
    ")\n",
    "\n",
    "solver = Solver(sol, eqn)\n",
    "\n",
    "opt = optax.adam(1e-3)\n",
    "\n",
    "# schedule_fn = optax.exponential_decay(-1e-3, 500, 0.96)\n",
    "# opt = optax.chain(\n",
    "#     optax.scale_by_adam(eps=1e-7), optax.scale_by_schedule(schedule_fn)\n",
    "# )\n",
    "\n",
    "solver.compile(lambda x, y: jnp.mean(jnp.square(x - y)), opt, {\"residual\": 1})\n"
   ]
  },
  {
   "cell_type": "code",
   "execution_count": 8,
   "id": "88e5a1d6",
   "metadata": {},
   "outputs": [
    {
     "name": "stdout",
     "output_type": "stream",
     "text": [
      "Initializing parameters...\n",
      "Parameters are: FlatMap({\n",
      "  'greens_func/coeff_func/attension_net/linear': FlatMap({'weights': (4, 64)}),\n",
      "  'greens_func/coeff_func/attension_net/linear_1': FlatMap({'weights': (64, 1)}),\n",
      "  'greens_func/coeff_func/pointwise_mlp/linear': FlatMap({'bias': (64,), 'weights': (2, 64)}),\n",
      "  'greens_func/coeff_func/pointwise_mlp/linear_1': FlatMap({'bias': (2,), 'weights': (64, 2)}),\n",
      "  'greens_func/green_net/linear': FlatMap({'bias': (128,), 'weights': (10, 128)}),\n",
      "  'greens_func/green_net/linear_1': FlatMap({'bias': (128,), 'weights': (128, 128)}),\n",
      "  'greens_func/green_net/linear_2': FlatMap({'bias': (128,), 'weights': (128, 128)}),\n",
      "  'greens_func/green_net/linear_3': FlatMap({'bias': (128,), 'weights': (128, 128)}),\n",
      "  'greens_func/green_net/linear_4': FlatMap({'bias': (1,), 'weights': (128, 1)}),\n",
      "})\n",
      "Epoch 1/100\n",
      "200/200 [==============================] - 60s 211ms/step - boundary: 0.3591 - residual: 0.1037\n",
      "Epoch 2/100\n",
      "200/200 [==============================] - 66s 332ms/step - boundary: 0.2308 - residual: 0.1825 - val_loss: 0.5861\n",
      "Epoch 3/100\n",
      "200/200 [==============================] - 42s 213ms/step - boundary: 0.1768 - residual: 0.2333\n",
      "Epoch 4/100\n",
      "117/200 [================>.............] - ETA: 17s"
     ]
    }
   ],
   "source": [
    "import random\n",
    "import sys\n",
    "\n",
    "solver.solve(\n",
    "    dataset=train_ds,\n",
    "    init_data=init_ds,\n",
    "    num_epochs=100,\n",
    "    val_data=(val_data[\"interior\"], val_data[\"label\"]),\n",
    "    val_freq=10,\n",
    "    seed=random.randrange(sys.maxsize),\n",
    ")\n"
   ]
  },
  {
   "cell_type": "code",
   "execution_count": null,
   "id": "d4fd4d25",
   "metadata": {},
   "outputs": [],
   "source": [
    "\n",
    "\n",
    "# params = get_model_haiku_params(\"rte_2d_1\", ROOT_PATH + \"data/rte/\")\n",
    "\n",
    "pred_rho = sol.rho(\n",
    "    solver.params,\n",
    "    None,\n",
    "    xy,\n",
    "    GraphOfMapping(xy, sigma),\n",
    "    GraphOfMapping(bc_pts, bc_weights),\n",
    "    (np.concatenate([c, s], axis=-1), omega),\n",
    ")\n",
    "\n",
    "pred_rho = pred_rho.reshape(-1, 38, 38).squeeze()\n",
    "\n",
    "import matplotlib.pyplot as plt\n",
    "\n",
    "\n",
    "fig, _axs = plt.subplots(nrows=1, ncols=2, figsize=(20, 8))\n",
    "fig.subplots_adjust(hspace=0.3)\n",
    "axs = _axs.flatten()\n",
    "\n",
    "cs = axs[0].contour(data_dict[\"xy\"][..., 0], data_dict[\"xy\"][..., 1], np.abs(pred_rho - phi))\n",
    "axs[0].clabel(cs, inline=True, fontsize=10)\n",
    "fig.colorbar(cs, ax=axs[0])\n",
    "\n",
    "axs[1].plot(data_dict[\"xy\"][:, 0, 0], phi[:, 0], data_dict[\"xy\"][:, 0, 0], pred_rho[:, 0], \"*\")\n",
    "\n",
    "plt.show()"
   ]
  },
  {
   "cell_type": "code",
   "execution_count": null,
   "id": "07fa7776",
   "metadata": {},
   "outputs": [],
   "source": [
    "from modnet.utils import to_flat_dict\n",
    "\n",
    "np.savez(ROOT_PATH + \"/data/rte/params/params_rte_2d_1.npz\", **to_flat_dict(solver.params))"
   ]
  }
 ],
 "metadata": {
  "interpreter": {
   "hash": "c3ecfbb2e518759e8150e3a4e02d9374d8d11351137435699613669ebcf0f527"
  },
  "kernelspec": {
   "display_name": "Python 3.9.7 64-bit",
   "name": "python3"
  },
  "language_info": {
   "codemirror_mode": {
    "name": "ipython",
    "version": 3
   },
   "file_extension": ".py",
   "mimetype": "text/x-python",
   "name": "python",
   "nbconvert_exporter": "python",
   "pygments_lexer": "ipython3",
   "version": "3.9.8"
  }
 },
 "nbformat": 4,
 "nbformat_minor": 5
}
